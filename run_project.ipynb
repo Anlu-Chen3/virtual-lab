{
 "cells": [
  {
   "cell_type": "code",
   "id": "initial_id",
   "metadata": {
    "collapsed": true,
    "ExecuteTime": {
     "end_time": "2024-07-09T15:39:50.305799Z",
     "start_time": "2024-07-09T15:39:49.499348Z"
    }
   },
   "source": [
    "from pathlib import Path\n",
    "\n",
    "from tqdm import trange\n",
    "\n",
    "from prompts import (\n",
    "    NAME_TO_AGENT,\n",
    "    LITERATURE_REVIEW_PROMPT,\n",
    "    PROJECT_SELECTION_PROMPT,\n",
    "    TARGET_SELECTION_PROMPT,\n",
    ")\n",
    "from run_scientific_meeting import run_scientific_meeting\n",
    "from utils import load_summaries"
   ],
   "outputs": [],
   "execution_count": 1
  },
  {
   "metadata": {
    "ExecuteTime": {
     "end_time": "2024-07-09T15:39:50.744890Z",
     "start_time": "2024-07-09T15:39:50.740903Z"
    }
   },
   "cell_type": "code",
   "source": [
    "# Set up the team\n",
    "team_lead = \"Principal Investigator\"\n",
    "team_members = tuple(NAME_TO_AGENT.keys())\n",
    "\n",
    "# Set up key parameters\n",
    "num_iterations = 3\n",
    "num_rounds = 3\n",
    "save_dir = Path(\"discussions\")\n",
    "model = \"gpt-4o\"\n",
    "discussion_paths = []"
   ],
   "id": "fa2170c27002a35f",
   "outputs": [],
   "execution_count": 2
  },
  {
   "metadata": {},
   "cell_type": "code",
   "outputs": [],
   "execution_count": null,
   "source": [
    "# Run project selection\n",
    "for iteration_num in trange(num_iterations, desc=\"Project Iterations\"):\n",
    "    run_scientific_meeting(\n",
    "        team_lead=team_lead,\n",
    "        team_members=team_members,\n",
    "        agenda=PROJECT_SELECTION_PROMPT,\n",
    "        save_dir=save_dir / \"project_selection\",\n",
    "        save_name=f\"discussion_{iteration_num + 1}\",\n",
    "        num_rounds=num_rounds,\n",
    "        model=model,\n",
    "    )"
   ],
   "id": "6f69960a07f1458c"
  },
  {
   "metadata": {
    "ExecuteTime": {
     "end_time": "2024-07-09T15:39:52.819284Z",
     "start_time": "2024-07-09T15:39:52.816121Z"
    }
   },
   "cell_type": "code",
   "source": [
    "# Select preferred project\n",
    "discussion_paths.append(save_dir / \"project_selection\" / \"discussion_1.json\")"
   ],
   "id": "bbc2d0e83d65fd12",
   "outputs": [],
   "execution_count": 3
  },
  {
   "metadata": {
    "ExecuteTime": {
     "end_time": "2024-07-09T15:39:52.979819Z",
     "start_time": "2024-07-09T15:39:52.975971Z"
    }
   },
   "cell_type": "code",
   "source": [
    "# Load summaries\n",
    "summaries = load_summaries(discussion_paths=discussion_paths)"
   ],
   "id": "91f3b3e953792385",
   "outputs": [],
   "execution_count": 4
  },
  {
   "metadata": {},
   "cell_type": "code",
   "outputs": [],
   "execution_count": null,
   "source": [
    "# Run target selection\n",
    "for iteration_num in trange(num_iterations, desc=\"Project Iterations\"):\n",
    "    run_scientific_meeting(\n",
    "        team_lead=team_lead,\n",
    "        team_members=team_members,\n",
    "        agenda=TARGET_SELECTION_PROMPT,\n",
    "        summaries=summaries,\n",
    "        save_dir=save_dir / \"target_selection\",\n",
    "        save_name=f\"discussion_{iteration_num + 1}\",\n",
    "        num_rounds=num_rounds,\n",
    "        model=model,\n",
    "    )"
   ],
   "id": "50fbd726b80d4d9"
  },
  {
   "metadata": {
    "ExecuteTime": {
     "end_time": "2024-07-09T15:39:54.328479Z",
     "start_time": "2024-07-09T15:39:54.325204Z"
    }
   },
   "cell_type": "code",
   "source": [
    "# Select preferred target\n",
    "discussion_paths.append(save_dir / \"target_selection\" / \"discussion_1.json\")"
   ],
   "id": "7ec0f1f608ad067c",
   "outputs": [],
   "execution_count": 5
  },
  {
   "metadata": {
    "ExecuteTime": {
     "end_time": "2024-07-09T15:39:54.449943Z",
     "start_time": "2024-07-09T15:39:54.444886Z"
    }
   },
   "cell_type": "code",
   "source": [
    "# Load summaries\n",
    "summaries = load_summaries(discussion_paths=discussion_paths)"
   ],
   "id": "47548287d4cbbee9",
   "outputs": [],
   "execution_count": 6
  },
  {
   "metadata": {
    "ExecuteTime": {
     "end_time": "2024-07-09T15:45:35.888174Z",
     "start_time": "2024-07-09T15:40:03.864656Z"
    }
   },
   "cell_type": "code",
   "source": [
    "# Run literature review\n",
    "for iteration_num in trange(num_iterations, desc=\"Project Iterations\"):\n",
    "    run_scientific_meeting(\n",
    "        team_lead=team_lead,\n",
    "        team_members=team_members,\n",
    "        agenda=LITERATURE_REVIEW_PROMPT,\n",
    "        summaries=summaries,\n",
    "        save_dir=save_dir / \"literature_review_2\",\n",
    "        save_name=f\"discussion_{iteration_num + 1}\",\n",
    "        num_rounds=1,\n",
    "        model=model,\n",
    "    )"
   ],
   "id": "984ac572e1eca58",
   "outputs": [
    {
     "name": "stderr",
     "output_type": "stream",
     "text": [
      "Project Iterations:   0%|          | 0/3 [00:00<?, ?it/s]\n",
      "Rounds (+ Summary Round):   0%|          | 0/2 [00:00<?, ?it/s]\u001B[A\n",
      "\n",
      "Team Members:   0%|          | 0/6 [00:00<?, ?it/s]\u001B[A\u001B[A\n",
      "\n",
      "Team Members:  17%|█▋        | 1/6 [00:14<01:11, 14.36s/it]\u001B[A\u001B[A\n",
      "\n",
      "Team Members:  33%|███▎      | 2/6 [00:23<00:45, 11.37s/it]\u001B[A\u001B[A\n",
      "\n",
      "Team Members:  50%|█████     | 3/6 [00:34<00:33, 11.24s/it]\u001B[A\u001B[A\n",
      "\n",
      "Team Members:  67%|██████▋   | 4/6 [00:45<00:22, 11.10s/it]\u001B[A\u001B[A\n",
      "\n",
      "Team Members:  83%|████████▎ | 5/6 [00:59<00:12, 12.27s/it]\u001B[A\u001B[A\n",
      "\n",
      "Team Members: 100%|██████████| 6/6 [01:13<00:00, 12.21s/it]\u001B[A\u001B[A\n",
      "\n",
      "Rounds (+ Summary Round):  50%|█████     | 1/2 [01:13<01:13, 73.28s/it]\u001B[A\n",
      "\n",
      "Team Members:   0%|          | 0/6 [00:26<?, ?it/s]\u001B[A\u001B[A\n",
      "\n",
      "Rounds (+ Summary Round): 100%|██████████| 2/2 [01:39<00:00, 49.72s/it]\u001B[A\n",
      "Project Iterations:  33%|███▎      | 1/3 [01:39<03:18, 99.45s/it]"
     ]
    },
    {
     "name": "stdout",
     "output_type": "stream",
     "text": [
      "Input token count: 22,673\n",
      "Output token count: 3,896\n",
      "Max token length: 5,717\n",
      "Cost: $0.17\n"
     ]
    },
    {
     "name": "stderr",
     "output_type": "stream",
     "text": [
      "\n",
      "Rounds (+ Summary Round):   0%|          | 0/2 [00:00<?, ?it/s]\u001B[A\n",
      "\n",
      "Team Members:   0%|          | 0/6 [00:00<?, ?it/s]\u001B[A\u001B[A\n",
      "\n",
      "Team Members:  17%|█▋        | 1/6 [00:09<00:46,  9.24s/it]\u001B[A\u001B[A\n",
      "\n",
      "Team Members:  33%|███▎      | 2/6 [00:19<00:39,  9.98s/it]\u001B[A\u001B[A\n",
      "\n",
      "Team Members:  50%|█████     | 3/6 [00:32<00:33, 11.13s/it]\u001B[A\u001B[A\n",
      "\n",
      "Team Members:  67%|██████▋   | 4/6 [00:47<00:25, 12.62s/it]\u001B[A\u001B[A\n",
      "\n",
      "Team Members:  83%|████████▎ | 5/6 [01:01<00:13, 13.20s/it]\u001B[A\u001B[A\n",
      "\n",
      "Team Members: 100%|██████████| 6/6 [01:17<00:00, 12.92s/it]\u001B[A\u001B[A\n",
      "\n",
      "Rounds (+ Summary Round):  50%|█████     | 1/2 [01:17<01:17, 77.55s/it]\u001B[A\n",
      "\n",
      "Team Members:   0%|          | 0/6 [00:19<?, ?it/s]\u001B[A\u001B[A\n",
      "\n",
      "Rounds (+ Summary Round): 100%|██████████| 2/2 [01:36<00:00, 48.33s/it]\u001B[A\n",
      "Project Iterations:  67%|██████▋   | 2/3 [03:16<01:37, 97.82s/it]"
     ]
    },
    {
     "name": "stdout",
     "output_type": "stream",
     "text": [
      "Input token count: 23,820\n",
      "Output token count: 4,424\n",
      "Max token length: 6,245\n",
      "Cost: $0.19\n"
     ]
    },
    {
     "name": "stderr",
     "output_type": "stream",
     "text": [
      "\n",
      "Rounds (+ Summary Round):   0%|          | 0/2 [00:00<?, ?it/s]\u001B[A\n",
      "\n",
      "Team Members:   0%|          | 0/6 [00:00<?, ?it/s]\u001B[A\u001B[A\n",
      "\n",
      "Team Members:  17%|█▋        | 1/6 [00:11<00:55, 11.18s/it]\u001B[A\u001B[A\n",
      "\n",
      "Team Members:  33%|███▎      | 2/6 [00:26<00:54, 13.52s/it]\u001B[A\u001B[A\n",
      "\n",
      "Team Members:  50%|█████     | 3/6 [00:46<00:49, 16.42s/it]\u001B[A\u001B[A\n",
      "\n",
      "Team Members:  67%|██████▋   | 4/6 [01:00<00:31, 15.68s/it]\u001B[A\u001B[A\n",
      "\n",
      "Team Members:  83%|████████▎ | 5/6 [01:16<00:15, 15.60s/it]\u001B[A\u001B[A\n",
      "\n",
      "Team Members: 100%|██████████| 6/6 [01:47<00:00, 17.89s/it]\u001B[A\u001B[A\n",
      "\n",
      "Rounds (+ Summary Round):  50%|█████     | 1/2 [01:47<01:47, 107.32s/it]\u001B[A\n",
      "\n",
      "Team Members:   0%|          | 0/6 [00:28<?, ?it/s]\u001B[A\u001B[A\n",
      "\n",
      "Rounds (+ Summary Round): 100%|██████████| 2/2 [02:15<00:00, 67.93s/it] \u001B[A\n",
      "Project Iterations: 100%|██████████| 3/3 [05:31<00:00, 110.67s/it]"
     ]
    },
    {
     "name": "stdout",
     "output_type": "stream",
     "text": [
      "Input token count: 23,448\n",
      "Output token count: 4,306\n",
      "Max token length: 6,127\n",
      "Cost: $0.18\n"
     ]
    },
    {
     "name": "stderr",
     "output_type": "stream",
     "text": [
      "\n"
     ]
    }
   ],
   "execution_count": 8
  },
  {
   "metadata": {
    "ExecuteTime": {
     "end_time": "2024-07-09T15:35:15.939397Z",
     "start_time": "2024-07-09T15:35:15.936060Z"
    }
   },
   "cell_type": "code",
   "source": [
    "# Select preferred literature review\n",
    "discussion_paths.append(save_dir / \"literature_review\" / \"discussion_1.json\")"
   ],
   "id": "c58c4dcdc0ede5f0",
   "outputs": [],
   "execution_count": 9
  },
  {
   "metadata": {
    "ExecuteTime": {
     "end_time": "2024-07-09T15:35:23.423373Z",
     "start_time": "2024-07-09T15:35:23.417148Z"
    }
   },
   "cell_type": "code",
   "source": [
    "# Load summaries\n",
    "summaries = load_summaries(discussion_paths=discussion_paths)"
   ],
   "id": "ddf51e271a2a3fcc",
   "outputs": [],
   "execution_count": 10
  },
  {
   "metadata": {},
   "cell_type": "code",
   "outputs": [],
   "execution_count": null,
   "source": "",
   "id": "24b9446ae6db890b"
  }
 ],
 "metadata": {
  "kernelspec": {
   "display_name": "Python 3",
   "language": "python",
   "name": "python3"
  },
  "language_info": {
   "codemirror_mode": {
    "name": "ipython",
    "version": 2
   },
   "file_extension": ".py",
   "mimetype": "text/x-python",
   "name": "python",
   "nbconvert_exporter": "python",
   "pygments_lexer": "ipython2",
   "version": "2.7.6"
  }
 },
 "nbformat": 4,
 "nbformat_minor": 5
}
