{
 "cells": [
  {
   "cell_type": "code",
   "id": "initial_id",
   "metadata": {
    "collapsed": true,
    "ExecuteTime": {
     "end_time": "2024-07-09T21:26:04.884513Z",
     "start_time": "2024-07-09T21:26:04.870919Z"
    }
   },
   "source": [
    "from pathlib import Path\n",
    "\n",
    "from tqdm import trange\n",
    "\n",
    "from prompts import (\n",
    "    DRUG_DISCOVERY_PROMPT,\n",
    "    NAME_TO_AGENT,\n",
    "    PROJECT_SELECTION_PROMPT,\n",
    "    TARGET_SELECTION_PROMPT,\n",
    ")\n",
    "from run_scientific_meeting import run_scientific_meeting\n",
    "from utils import load_summaries"
   ],
   "outputs": [],
   "execution_count": 13
  },
  {
   "metadata": {
    "ExecuteTime": {
     "end_time": "2024-07-09T21:26:05.947477Z",
     "start_time": "2024-07-09T21:26:05.942768Z"
    }
   },
   "cell_type": "code",
   "source": [
    "# Set up the team\n",
    "team_lead = \"Principal Investigator\"\n",
    "team_members = tuple(NAME_TO_AGENT.keys())\n",
    "\n",
    "# Set up key parameters\n",
    "num_iterations = 3\n",
    "num_rounds = 3\n",
    "save_dir = Path(\"discussions\")\n",
    "model = \"gpt-4o\"\n",
    "discussion_paths = []"
   ],
   "id": "fa2170c27002a35f",
   "outputs": [],
   "execution_count": 14
  },
  {
   "metadata": {},
   "cell_type": "code",
   "outputs": [],
   "execution_count": null,
   "source": [
    "# Run project selection\n",
    "for iteration_num in trange(num_iterations, desc=\"Project Iterations\"):\n",
    "    run_scientific_meeting(\n",
    "        team_lead=team_lead,\n",
    "        team_members=team_members,\n",
    "        agenda=PROJECT_SELECTION_PROMPT,\n",
    "        save_dir=save_dir / \"project_selection\",\n",
    "        save_name=f\"discussion_{iteration_num + 1}\",\n",
    "        num_rounds=num_rounds,\n",
    "        model=model,\n",
    "    )"
   ],
   "id": "6f69960a07f1458c"
  },
  {
   "metadata": {
    "ExecuteTime": {
     "end_time": "2024-07-09T21:26:08.385672Z",
     "start_time": "2024-07-09T21:26:08.382105Z"
    }
   },
   "cell_type": "code",
   "source": [
    "# Select preferred project\n",
    "discussion_paths.append(save_dir / \"project_selection\" / \"discussion_1.json\")"
   ],
   "id": "bbc2d0e83d65fd12",
   "outputs": [],
   "execution_count": 15
  },
  {
   "metadata": {
    "ExecuteTime": {
     "end_time": "2024-07-09T15:39:52.979819Z",
     "start_time": "2024-07-09T15:39:52.975971Z"
    }
   },
   "cell_type": "code",
   "source": [
    "# Load summaries\n",
    "summaries = load_summaries(discussion_paths=discussion_paths)"
   ],
   "id": "91f3b3e953792385",
   "outputs": [],
   "execution_count": 4
  },
  {
   "metadata": {},
   "cell_type": "code",
   "outputs": [],
   "execution_count": null,
   "source": [
    "# Run target selection\n",
    "for iteration_num in trange(num_iterations, desc=\"Project Iterations\"):\n",
    "    run_scientific_meeting(\n",
    "        team_lead=team_lead,\n",
    "        team_members=team_members,\n",
    "        agenda=TARGET_SELECTION_PROMPT,\n",
    "        summaries=summaries,\n",
    "        save_dir=save_dir / \"target_selection\",\n",
    "        save_name=f\"discussion_{iteration_num + 1}\",\n",
    "        num_rounds=num_rounds,\n",
    "        model=model,\n",
    "    )"
   ],
   "id": "50fbd726b80d4d9"
  },
  {
   "metadata": {
    "ExecuteTime": {
     "end_time": "2024-07-09T21:26:11.430735Z",
     "start_time": "2024-07-09T21:26:11.427475Z"
    }
   },
   "cell_type": "code",
   "source": [
    "# Select preferred target\n",
    "discussion_paths.append(save_dir / \"target_selection\" / \"discussion_1.json\")"
   ],
   "id": "7ec0f1f608ad067c",
   "outputs": [],
   "execution_count": 16
  },
  {
   "metadata": {
    "ExecuteTime": {
     "end_time": "2024-07-09T21:26:12.368351Z",
     "start_time": "2024-07-09T21:26:12.361039Z"
    }
   },
   "cell_type": "code",
   "source": [
    "# Load summaries\n",
    "summaries = load_summaries(discussion_paths=discussion_paths)"
   ],
   "id": "47548287d4cbbee9",
   "outputs": [],
   "execution_count": 17
  },
  {
   "metadata": {
    "ExecuteTime": {
     "end_time": "2024-07-09T21:38:14.403651Z",
     "start_time": "2024-07-09T21:26:22.054955Z"
    }
   },
   "cell_type": "code",
   "source": [
    "# Run drug discovery approach\n",
    "for iteration_num in trange(num_iterations, desc=\"Project Iterations\"):\n",
    "    run_scientific_meeting(\n",
    "        team_lead=team_lead,\n",
    "        team_members=team_members,\n",
    "        agenda=DRUG_DISCOVERY_PROMPT,\n",
    "        summaries=summaries,\n",
    "        save_dir=save_dir / \"drug_discovery\",\n",
    "        save_name=f\"discussion_{iteration_num + 1}\",\n",
    "        num_rounds=num_rounds,\n",
    "        model=model,\n",
    "    )"
   ],
   "id": "984ac572e1eca58",
   "outputs": [
    {
     "name": "stderr",
     "output_type": "stream",
     "text": [
      "Project Iterations:   0%|          | 0/3 [00:00<?, ?it/s]\n",
      "Rounds (+ Summary Round):   0%|          | 0/4 [00:00<?, ?it/s]\u001B[A\n",
      "\n",
      "Team Members:   0%|          | 0/6 [00:00<?, ?it/s]\u001B[A\u001B[A\n",
      "\n",
      "Team Members:  17%|█▋        | 1/6 [00:06<00:34,  6.86s/it]\u001B[A\u001B[A\n",
      "\n",
      "Team Members:  33%|███▎      | 2/6 [00:14<00:30,  7.59s/it]\u001B[A\u001B[A\n",
      "\n",
      "Team Members:  50%|█████     | 3/6 [00:24<00:24,  8.32s/it]\u001B[A\u001B[A\n",
      "\n",
      "Team Members:  67%|██████▋   | 4/6 [00:34<00:17,  8.96s/it]\u001B[A\u001B[A\n",
      "\n",
      "Team Members:  83%|████████▎ | 5/6 [00:45<00:09,  9.79s/it]\u001B[A\u001B[A\n",
      "\n",
      "Team Members: 100%|██████████| 6/6 [01:00<00:00, 10.02s/it]\u001B[A\u001B[A\n",
      "\n",
      "Rounds (+ Summary Round):  25%|██▌       | 1/4 [01:00<03:00, 60.11s/it]\u001B[A\n",
      "\n",
      "Team Members:   0%|          | 0/6 [00:00<?, ?it/s]\u001B[A\u001B[A\n",
      "\n",
      "Team Members:  17%|█▋        | 1/6 [00:12<01:00, 12.18s/it]\u001B[A\u001B[A\n",
      "\n",
      "Team Members:  33%|███▎      | 2/6 [00:24<00:48, 12.06s/it]\u001B[A\u001B[A\n",
      "\n",
      "Team Members:  50%|█████     | 3/6 [00:37<00:37, 12.48s/it]\u001B[A\u001B[A\n",
      "\n",
      "Team Members:  67%|██████▋   | 4/6 [00:56<00:30, 15.29s/it]\u001B[A\u001B[A\n",
      "\n",
      "Team Members:  83%|████████▎ | 5/6 [01:10<00:14, 14.76s/it]\u001B[A\u001B[A\n",
      "\n",
      "Team Members: 100%|██████████| 6/6 [01:24<00:00, 14.10s/it]\u001B[A\u001B[A\n",
      "\n",
      "Rounds (+ Summary Round):  50%|█████     | 2/4 [02:24<02:29, 74.51s/it]\u001B[A\n",
      "\n",
      "Team Members:   0%|          | 0/6 [00:00<?, ?it/s]\u001B[A\u001B[A\n",
      "\n",
      "Team Members:  17%|█▋        | 1/6 [00:12<01:00, 12.08s/it]\u001B[A\u001B[A\n",
      "\n",
      "Team Members:  33%|███▎      | 2/6 [00:24<00:49, 12.41s/it]\u001B[A\u001B[A\n",
      "\n",
      "Team Members:  50%|█████     | 3/6 [00:39<00:41, 13.69s/it]\u001B[A\u001B[A\n",
      "\n",
      "Team Members:  67%|██████▋   | 4/6 [00:56<00:29, 14.71s/it]\u001B[A\u001B[A\n",
      "\n",
      "Team Members:  83%|████████▎ | 5/6 [01:10<00:14, 14.65s/it]\u001B[A\u001B[A\n",
      "\n",
      "Team Members: 100%|██████████| 6/6 [01:30<00:00, 15.11s/it]\u001B[A\u001B[A\n",
      "\n",
      "Rounds (+ Summary Round):  75%|███████▌  | 3/4 [03:55<01:21, 81.89s/it]\u001B[A\n",
      "\n",
      "Team Members:   0%|          | 0/6 [00:19<?, ?it/s]\u001B[A\u001B[A\n",
      "\n",
      "Rounds (+ Summary Round): 100%|██████████| 4/4 [04:14<00:00, 63.64s/it]\u001B[A\n",
      "Project Iterations:  33%|███▎      | 1/3 [04:14<08:29, 254.55s/it]"
     ]
    },
    {
     "name": "stdout",
     "output_type": "stream",
     "text": [
      "Input token count: 220,455\n",
      "Output token count: 15,005\n",
      "Max token length: 20,106\n",
      "Cost: $1.33\n"
     ]
    },
    {
     "name": "stderr",
     "output_type": "stream",
     "text": [
      "\n",
      "Rounds (+ Summary Round):   0%|          | 0/4 [00:00<?, ?it/s]\u001B[A\n",
      "\n",
      "Team Members:   0%|          | 0/6 [00:00<?, ?it/s]\u001B[A\u001B[A\n",
      "\n",
      "Team Members:  17%|█▋        | 1/6 [00:07<00:36,  7.38s/it]\u001B[A\u001B[A\n",
      "\n",
      "Team Members:  33%|███▎      | 2/6 [00:13<00:27,  6.77s/it]\u001B[A\u001B[A\n",
      "\n",
      "Team Members:  50%|█████     | 3/6 [00:20<00:19,  6.60s/it]\u001B[A\u001B[A\n",
      "\n",
      "Team Members:  67%|██████▋   | 4/6 [00:27<00:13,  6.93s/it]\u001B[A\u001B[A\n",
      "\n",
      "Team Members:  83%|████████▎ | 5/6 [00:36<00:07,  7.53s/it]\u001B[A\u001B[A\n",
      "\n",
      "Team Members: 100%|██████████| 6/6 [00:47<00:00,  7.99s/it]\u001B[A\u001B[A\n",
      "\n",
      "Rounds (+ Summary Round):  25%|██▌       | 1/4 [00:47<02:23, 47.96s/it]\u001B[A\n",
      "\n",
      "Team Members:   0%|          | 0/6 [00:00<?, ?it/s]\u001B[A\u001B[A\n",
      "\n",
      "Team Members:  17%|█▋        | 1/6 [00:12<01:00, 12.05s/it]\u001B[A\u001B[A\n",
      "\n",
      "Team Members:  33%|███▎      | 2/6 [00:20<00:40, 10.13s/it]\u001B[A\u001B[A\n",
      "\n",
      "Team Members:  50%|█████     | 3/6 [00:32<00:32, 10.74s/it]\u001B[A\u001B[A\n",
      "\n",
      "Team Members:  67%|██████▋   | 4/6 [00:41<00:19,  9.98s/it]\u001B[A\u001B[A\n",
      "\n",
      "Team Members:  83%|████████▎ | 5/6 [00:53<00:10, 11.00s/it]\u001B[A\u001B[A\n",
      "\n",
      "Team Members: 100%|██████████| 6/6 [01:10<00:00, 11.72s/it]\u001B[A\u001B[A\n",
      "\n",
      "Rounds (+ Summary Round):  50%|█████     | 2/4 [01:58<02:02, 61.13s/it]\u001B[A\n",
      "\n",
      "Team Members:   0%|          | 0/6 [00:00<?, ?it/s]\u001B[A\u001B[A\n",
      "\n",
      "Team Members:  17%|█▋        | 1/6 [00:16<01:24, 16.87s/it]\u001B[A\u001B[A\n",
      "\n",
      "Team Members:  33%|███▎      | 2/6 [00:27<00:51, 12.96s/it]\u001B[A\u001B[A\n",
      "\n",
      "Team Members:  50%|█████     | 3/6 [00:41<00:40, 13.47s/it]\u001B[A\u001B[A\n",
      "\n",
      "Team Members:  67%|██████▋   | 4/6 [01:00<00:31, 15.77s/it]\u001B[A\u001B[A\n",
      "\n",
      "Team Members:  83%|████████▎ | 5/6 [01:22<00:18, 18.20s/it]\u001B[A\u001B[A\n",
      "\n",
      "Team Members: 100%|██████████| 6/6 [01:48<00:00, 18.13s/it]\u001B[A\u001B[A\n",
      "\n",
      "Rounds (+ Summary Round):  75%|███████▌  | 3/4 [03:47<01:22, 82.89s/it]\u001B[A\n",
      "\n",
      "Team Members:   0%|          | 0/6 [00:18<?, ?it/s]\u001B[A\u001B[A\n",
      "\n",
      "Rounds (+ Summary Round): 100%|██████████| 4/4 [04:05<00:00, 61.28s/it]\u001B[A\n",
      "Project Iterations:  67%|██████▋   | 2/3 [08:19<04:09, 249.00s/it]"
     ]
    },
    {
     "name": "stdout",
     "output_type": "stream",
     "text": [
      "Input token count: 196,954\n",
      "Output token count: 13,554\n",
      "Max token length: 18,655\n",
      "Cost: $1.19\n"
     ]
    },
    {
     "name": "stderr",
     "output_type": "stream",
     "text": [
      "\n",
      "Rounds (+ Summary Round):   0%|          | 0/4 [00:00<?, ?it/s]\u001B[A\n",
      "\n",
      "Team Members:   0%|          | 0/6 [00:00<?, ?it/s]\u001B[A\u001B[A\n",
      "\n",
      "Team Members:  17%|█▋        | 1/6 [00:07<00:38,  7.67s/it]\u001B[A\u001B[A\n",
      "\n",
      "Team Members:  33%|███▎      | 2/6 [00:16<00:34,  8.50s/it]\u001B[A\u001B[A\n",
      "\n",
      "Team Members:  50%|█████     | 3/6 [00:24<00:25,  8.34s/it]\u001B[A\u001B[A\n",
      "\n",
      "Team Members:  67%|██████▋   | 4/6 [00:36<00:19,  9.51s/it]\u001B[A\u001B[A\n",
      "\n",
      "Team Members:  83%|████████▎ | 5/6 [00:47<00:10, 10.15s/it]\u001B[A\u001B[A\n",
      "\n",
      "Team Members: 100%|██████████| 6/6 [00:59<00:00,  9.91s/it]\u001B[A\u001B[A\n",
      "\n",
      "Rounds (+ Summary Round):  25%|██▌       | 1/4 [00:59<02:58, 59.47s/it]\u001B[A\n",
      "\n",
      "Team Members:   0%|          | 0/6 [00:00<?, ?it/s]\u001B[A\u001B[A\n",
      "\n",
      "Team Members:  17%|█▋        | 1/6 [00:11<00:58, 11.70s/it]\u001B[A\u001B[A\n",
      "\n",
      "Team Members:  33%|███▎      | 2/6 [00:17<00:32,  8.06s/it]\u001B[A\u001B[A\n",
      "\n",
      "Team Members:  50%|█████     | 3/6 [00:23<00:22,  7.44s/it]\u001B[A\u001B[A\n",
      "\n",
      "Team Members:  67%|██████▋   | 4/6 [00:33<00:16,  8.31s/it]\u001B[A\u001B[A\n",
      "\n",
      "Team Members:  83%|████████▎ | 5/6 [00:46<00:10, 10.13s/it]\u001B[A\u001B[A\n",
      "\n",
      "Team Members: 100%|██████████| 6/6 [01:02<00:00, 10.35s/it]\u001B[A\u001B[A\n",
      "\n",
      "Rounds (+ Summary Round):  50%|█████     | 2/4 [02:01<02:02, 61.03s/it]\u001B[A\n",
      "\n",
      "Team Members:   0%|          | 0/6 [00:00<?, ?it/s]\u001B[A\u001B[A\n",
      "\n",
      "Team Members:  17%|█▋        | 1/6 [00:14<01:10, 14.12s/it]\u001B[A\u001B[A\n",
      "\n",
      "Team Members:  33%|███▎      | 2/6 [00:24<00:48, 12.04s/it]\u001B[A\u001B[A\n",
      "\n",
      "Team Members:  50%|█████     | 3/6 [00:33<00:31, 10.60s/it]\u001B[A\u001B[A\n",
      "\n",
      "Team Members:  67%|██████▋   | 4/6 [00:45<00:22, 11.02s/it]\u001B[A\u001B[A\n",
      "\n",
      "Team Members:  83%|████████▎ | 5/6 [01:00<00:12, 12.58s/it]\u001B[A\u001B[A\n",
      "\n",
      "Team Members: 100%|██████████| 6/6 [01:18<00:00, 13.04s/it]\u001B[A\u001B[A\n",
      "\n",
      "Rounds (+ Summary Round):  75%|███████▌  | 3/4 [03:19<01:08, 68.89s/it]\u001B[A\n",
      "\n",
      "Team Members:   0%|          | 0/6 [00:12<?, ?it/s]\u001B[A\u001B[A\n",
      "\n",
      "Rounds (+ Summary Round): 100%|██████████| 4/4 [03:32<00:00, 53.17s/it]\u001B[A\n",
      "Project Iterations: 100%|██████████| 3/3 [11:52<00:00, 237.45s/it]"
     ]
    },
    {
     "name": "stdout",
     "output_type": "stream",
     "text": [
      "Input token count: 197,074\n",
      "Output token count: 12,194\n",
      "Max token length: 17,295\n",
      "Cost: $1.17\n"
     ]
    },
    {
     "name": "stderr",
     "output_type": "stream",
     "text": [
      "\n"
     ]
    }
   ],
   "execution_count": 18
  },
  {
   "metadata": {
    "ExecuteTime": {
     "end_time": "2024-07-09T15:35:15.939397Z",
     "start_time": "2024-07-09T15:35:15.936060Z"
    }
   },
   "cell_type": "code",
   "source": [
    "# Select preferred drug discovery approach\n",
    "discussion_paths.append(save_dir / \"drug_discovery\" / \"discussion_1.json\")"
   ],
   "id": "c58c4dcdc0ede5f0",
   "outputs": [],
   "execution_count": 9
  },
  {
   "metadata": {
    "ExecuteTime": {
     "end_time": "2024-07-09T15:35:23.423373Z",
     "start_time": "2024-07-09T15:35:23.417148Z"
    }
   },
   "cell_type": "code",
   "source": [
    "# Load summaries\n",
    "summaries = load_summaries(discussion_paths=discussion_paths)"
   ],
   "id": "ddf51e271a2a3fcc",
   "outputs": [],
   "execution_count": 10
  },
  {
   "metadata": {},
   "cell_type": "code",
   "outputs": [],
   "execution_count": null,
   "source": "",
   "id": "24b9446ae6db890b"
  }
 ],
 "metadata": {
  "kernelspec": {
   "display_name": "Python 3",
   "language": "python",
   "name": "python3"
  },
  "language_info": {
   "codemirror_mode": {
    "name": "ipython",
    "version": 2
   },
   "file_extension": ".py",
   "mimetype": "text/x-python",
   "name": "python",
   "nbconvert_exporter": "python",
   "pygments_lexer": "ipython2",
   "version": "2.7.6"
  }
 },
 "nbformat": 4,
 "nbformat_minor": 5
}
