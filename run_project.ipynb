{
 "cells": [
  {
   "cell_type": "code",
   "id": "initial_id",
   "metadata": {
    "collapsed": true,
    "ExecuteTime": {
     "end_time": "2024-07-09T15:17:09.076308Z",
     "start_time": "2024-07-09T15:17:08.354022Z"
    }
   },
   "source": [
    "from pathlib import Path\n",
    "\n",
    "from tqdm import trange\n",
    "\n",
    "from prompts import (\n",
    "    NAME_TO_AGENT,\n",
    "    LITERATURE_REVIEW_PROMPT,\n",
    "    PROJECT_SELECTION_PROMPT,\n",
    "    TARGET_SELECTION_PROMPT,\n",
    ")\n",
    "from run_scientific_meeting import run_scientific_meeting\n",
    "from utils import load_summaries"
   ],
   "outputs": [],
   "execution_count": 1
  },
  {
   "metadata": {
    "ExecuteTime": {
     "end_time": "2024-07-09T15:17:11.037952Z",
     "start_time": "2024-07-09T15:17:11.033165Z"
    }
   },
   "cell_type": "code",
   "source": [
    "# Set up the team\n",
    "team_lead = \"Principal Investigator\"\n",
    "team_members = tuple(NAME_TO_AGENT.keys())\n",
    "\n",
    "# Set up key parameters\n",
    "num_iterations = 3\n",
    "num_rounds = 3\n",
    "save_dir = Path(\"discussions\")\n",
    "model = \"gpt-4o\"\n",
    "discussion_paths = []"
   ],
   "id": "fa2170c27002a35f",
   "outputs": [],
   "execution_count": 2
  },
  {
   "metadata": {},
   "cell_type": "code",
   "outputs": [],
   "execution_count": null,
   "source": [
    "# Run project selection\n",
    "for iteration_num in trange(num_iterations, desc=\"Project Iterations\"):\n",
    "    run_scientific_meeting(\n",
    "        team_lead=team_lead,\n",
    "        team_members=team_members,\n",
    "        agenda=PROJECT_SELECTION_PROMPT,\n",
    "        save_dir=save_dir / \"project_selection\",\n",
    "        save_name=f\"discussion_{iteration_num + 1}\",\n",
    "        num_rounds=num_rounds,\n",
    "        model=model,\n",
    "    )"
   ],
   "id": "6f69960a07f1458c"
  },
  {
   "metadata": {
    "ExecuteTime": {
     "end_time": "2024-07-09T15:17:14.639579Z",
     "start_time": "2024-07-09T15:17:14.636659Z"
    }
   },
   "cell_type": "code",
   "source": [
    "# Select preferred project\n",
    "discussion_paths.append(save_dir / \"project_selection\" / \"discussion_1.json\")"
   ],
   "id": "bbc2d0e83d65fd12",
   "outputs": [],
   "execution_count": 3
  },
  {
   "metadata": {},
   "cell_type": "code",
   "outputs": [],
   "execution_count": null,
   "source": [
    "# Load summaries\n",
    "summaries = load_summaries(discussion_paths=discussion_paths)"
   ],
   "id": "91f3b3e953792385"
  },
  {
   "metadata": {},
   "cell_type": "code",
   "outputs": [],
   "execution_count": null,
   "source": [
    "# Run target selection\n",
    "for iteration_num in trange(num_iterations, desc=\"Project Iterations\"):\n",
    "    run_scientific_meeting(\n",
    "        team_lead=team_lead,\n",
    "        team_members=team_members,\n",
    "        agenda=TARGET_SELECTION_PROMPT,\n",
    "        summaries=summaries,\n",
    "        save_dir=save_dir / \"target_selection\",\n",
    "        save_name=f\"discussion_{iteration_num + 1}\",\n",
    "        num_rounds=num_rounds,\n",
    "        model=model,\n",
    "    )"
   ],
   "id": "50fbd726b80d4d9"
  },
  {
   "metadata": {
    "ExecuteTime": {
     "end_time": "2024-07-09T15:17:16.351566Z",
     "start_time": "2024-07-09T15:17:16.348232Z"
    }
   },
   "cell_type": "code",
   "source": [
    "# Select preferred target\n",
    "discussion_paths.append(save_dir / \"target_selection\" / \"discussion_1.json\")"
   ],
   "id": "7ec0f1f608ad067c",
   "outputs": [],
   "execution_count": 4
  },
  {
   "metadata": {
    "ExecuteTime": {
     "end_time": "2024-07-09T15:17:16.874484Z",
     "start_time": "2024-07-09T15:17:16.869274Z"
    }
   },
   "cell_type": "code",
   "source": [
    "# Load summaries\n",
    "summaries = load_summaries(discussion_paths=discussion_paths)"
   ],
   "id": "47548287d4cbbee9",
   "outputs": [],
   "execution_count": 5
  },
  {
   "metadata": {
    "ExecuteTime": {
     "end_time": "2024-07-09T15:26:48.392765Z",
     "start_time": "2024-07-09T15:19:06.143756Z"
    }
   },
   "cell_type": "code",
   "source": [
    "# Run literature review\n",
    "for iteration_num in trange(num_iterations, desc=\"Project Iterations\"):\n",
    "    run_scientific_meeting(\n",
    "        team_lead=team_lead,\n",
    "        team_members=team_members,\n",
    "        agenda=LITERATURE_REVIEW_PROMPT,\n",
    "        summaries=summaries,\n",
    "        save_dir=save_dir / \"literature_review\",\n",
    "        save_name=f\"discussion_{iteration_num + 1}\",\n",
    "        num_rounds=1,\n",
    "        model=model,\n",
    "    )"
   ],
   "id": "984ac572e1eca58",
   "outputs": [
    {
     "name": "stderr",
     "output_type": "stream",
     "text": [
      "Project Iterations:   0%|          | 0/3 [00:00<?, ?it/s]\n",
      "Rounds (+ Summary Round):   0%|          | 0/2 [00:00<?, ?it/s]\u001B[A\n",
      "\n",
      "Team Members:   0%|          | 0/6 [00:00<?, ?it/s]\u001B[A\u001B[A\n",
      "\n",
      "Team Members:  17%|█▋        | 1/6 [00:14<01:11, 14.26s/it]\u001B[A\u001B[A\n",
      "\n",
      "Team Members:  33%|███▎      | 2/6 [00:30<01:02, 15.52s/it]\u001B[A\u001B[A\n",
      "\n",
      "Team Members:  50%|█████     | 3/6 [00:47<00:48, 16.20s/it]\u001B[A\u001B[A\n",
      "\n",
      "Team Members:  67%|██████▋   | 4/6 [01:03<00:32, 16.07s/it]\u001B[A\u001B[A\n",
      "\n",
      "Team Members:  83%|████████▎ | 5/6 [01:25<00:18, 18.30s/it]\u001B[A\u001B[A\n",
      "\n",
      "Team Members: 100%|██████████| 6/6 [01:52<00:00, 18.82s/it]\u001B[A\u001B[A\n",
      "\n",
      "Rounds (+ Summary Round):  50%|█████     | 1/2 [01:52<01:52, 112.94s/it]\u001B[A\n",
      "\n",
      "Team Members:   0%|          | 0/6 [00:18<?, ?it/s]\u001B[A\u001B[A\n",
      "\n",
      "Rounds (+ Summary Round): 100%|██████████| 2/2 [02:11<00:00, 65.84s/it] \u001B[A\n",
      "Project Iterations:  33%|███▎      | 1/3 [02:11<04:23, 131.69s/it]"
     ]
    },
    {
     "name": "stdout",
     "output_type": "stream",
     "text": [
      "Input token count: 24,335\n",
      "Output token count: 5,141\n",
      "Max token length: 6,916\n",
      "Cost: $0.20\n"
     ]
    },
    {
     "name": "stderr",
     "output_type": "stream",
     "text": [
      "\n",
      "Rounds (+ Summary Round):   0%|          | 0/2 [00:00<?, ?it/s]\u001B[A\n",
      "\n",
      "Team Members:   0%|          | 0/6 [00:00<?, ?it/s]\u001B[A\u001B[A\n",
      "\n",
      "Team Members:  17%|█▋        | 1/6 [00:08<00:42,  8.58s/it]\u001B[A\u001B[A\n",
      "\n",
      "Team Members:  33%|███▎      | 2/6 [00:23<00:48, 12.09s/it]\u001B[A\u001B[A\n",
      "\n",
      "Team Members:  50%|█████     | 3/6 [00:40<00:43, 14.42s/it]\u001B[A\u001B[A\n",
      "\n",
      "Team Members:  67%|██████▋   | 4/6 [01:02<00:35, 17.50s/it]\u001B[A\u001B[A\n",
      "\n",
      "Team Members:  83%|████████▎ | 5/6 [01:27<00:20, 20.20s/it]\u001B[A\u001B[A\n",
      "\n",
      "Team Members: 100%|██████████| 6/6 [01:47<00:00, 17.88s/it]\u001B[A\u001B[A\n",
      "\n",
      "Rounds (+ Summary Round):  50%|█████     | 1/2 [01:47<01:47, 107.31s/it]\u001B[A\n",
      "\n",
      "Team Members:   0%|          | 0/6 [00:45<?, ?it/s]\u001B[A\u001B[A\n",
      "\n",
      "Rounds (+ Summary Round): 100%|██████████| 2/2 [02:32<00:00, 76.23s/it] \u001B[A\n",
      "Project Iterations:  67%|██████▋   | 2/3 [04:44<02:23, 143.92s/it]"
     ]
    },
    {
     "name": "stdout",
     "output_type": "stream",
     "text": [
      "Input token count: 27,169\n",
      "Output token count: 6,430\n",
      "Max token length: 8,205\n",
      "Cost: $0.23\n"
     ]
    },
    {
     "name": "stderr",
     "output_type": "stream",
     "text": [
      "\n",
      "Rounds (+ Summary Round):   0%|          | 0/2 [00:00<?, ?it/s]\u001B[A\n",
      "\n",
      "Team Members:   0%|          | 0/6 [00:00<?, ?it/s]\u001B[A\u001B[A\n",
      "\n",
      "Team Members:  17%|█▋        | 1/6 [00:11<00:55, 11.18s/it]\u001B[A\u001B[A\n",
      "\n",
      "Team Members:  33%|███▎      | 2/6 [00:42<01:31, 22.96s/it]\u001B[A\u001B[A\n",
      "\n",
      "Team Members:  50%|█████     | 3/6 [00:59<01:00, 20.20s/it]\u001B[A\u001B[A\n",
      "\n",
      "Team Members:  67%|██████▋   | 4/6 [01:22<00:42, 21.47s/it]\u001B[A\u001B[A\n",
      "\n",
      "Team Members:  83%|████████▎ | 5/6 [01:55<00:25, 25.66s/it]\u001B[A\u001B[A\n",
      "\n",
      "Team Members: 100%|██████████| 6/6 [02:24<00:00, 24.12s/it]\u001B[A\u001B[A\n",
      "\n",
      "Rounds (+ Summary Round):  50%|█████     | 1/2 [02:24<02:24, 144.75s/it]\u001B[A\n",
      "\n",
      "Team Members:   0%|          | 0/6 [00:33<?, ?it/s]\u001B[A\u001B[A\n",
      "\n",
      "Rounds (+ Summary Round): 100%|██████████| 2/2 [02:58<00:00, 89.04s/it] \u001B[A\n",
      "Project Iterations: 100%|██████████| 3/3 [07:42<00:00, 154.08s/it]"
     ]
    },
    {
     "name": "stdout",
     "output_type": "stream",
     "text": [
      "Input token count: 26,614\n",
      "Output token count: 6,052\n",
      "Max token length: 7,827\n",
      "Cost: $0.22\n"
     ]
    },
    {
     "name": "stderr",
     "output_type": "stream",
     "text": [
      "\n"
     ]
    }
   ],
   "execution_count": 8
  },
  {
   "metadata": {
    "ExecuteTime": {
     "end_time": "2024-07-09T15:35:15.939397Z",
     "start_time": "2024-07-09T15:35:15.936060Z"
    }
   },
   "cell_type": "code",
   "source": [
    "# Select preferred literature review\n",
    "discussion_paths.append(save_dir / \"literature_review\" / \"discussion_1.json\")"
   ],
   "id": "c58c4dcdc0ede5f0",
   "outputs": [],
   "execution_count": 9
  },
  {
   "metadata": {
    "ExecuteTime": {
     "end_time": "2024-07-09T15:35:23.423373Z",
     "start_time": "2024-07-09T15:35:23.417148Z"
    }
   },
   "cell_type": "code",
   "source": [
    "# Load summaries\n",
    "summaries = load_summaries(discussion_paths=discussion_paths)"
   ],
   "id": "ddf51e271a2a3fcc",
   "outputs": [],
   "execution_count": 10
  },
  {
   "metadata": {},
   "cell_type": "code",
   "outputs": [],
   "execution_count": null,
   "source": "",
   "id": "3f37754a6965260b"
  }
 ],
 "metadata": {
  "kernelspec": {
   "display_name": "Python 3",
   "language": "python",
   "name": "python3"
  },
  "language_info": {
   "codemirror_mode": {
    "name": "ipython",
    "version": 2
   },
   "file_extension": ".py",
   "mimetype": "text/x-python",
   "name": "python",
   "nbconvert_exporter": "python",
   "pygments_lexer": "ipython2",
   "version": "2.7.6"
  }
 },
 "nbformat": 4,
 "nbformat_minor": 5
}
