{
 "cells": [
  {
   "cell_type": "code",
   "id": "initial_id",
   "metadata": {
    "collapsed": true,
    "ExecuteTime": {
     "end_time": "2024-07-09T15:10:23.395470Z",
     "start_time": "2024-07-09T15:10:22.505243Z"
    }
   },
   "source": [
    "from pathlib import Path\n",
    "\n",
    "from tqdm import trange\n",
    "\n",
    "from prompts import (\n",
    "    NAME_TO_AGENT,\n",
    "    PROJECT_SELECTION_PROMPT,\n",
    "    TARGET_SELECTION_PROMPT,\n",
    ")\n",
    "from run_scientific_meeting import run_scientific_meeting\n",
    "from utils import load_summaries"
   ],
   "outputs": [],
   "execution_count": 4
  },
  {
   "metadata": {
    "ExecuteTime": {
     "end_time": "2024-07-09T15:10:24.559701Z",
     "start_time": "2024-07-09T15:10:24.555572Z"
    }
   },
   "cell_type": "code",
   "source": [
    "# Set up the team\n",
    "team_lead = \"Principal Investigator\"\n",
    "team_members = tuple(NAME_TO_AGENT.keys())\n",
    "\n",
    "# Set up key parameters\n",
    "num_iterations = 3\n",
    "num_rounds = 3\n",
    "save_dir = Path(\"discussions\")\n",
    "model = \"gpt-4o\"\n",
    "discussion_paths = []"
   ],
   "id": "fa2170c27002a35f",
   "outputs": [],
   "execution_count": 5
  },
  {
   "metadata": {},
   "cell_type": "code",
   "outputs": [],
   "execution_count": null,
   "source": [
    "# Run project selection\n",
    "for iteration_num in trange(num_iterations, desc=\"Project Iterations\"):\n",
    "    run_scientific_meeting(\n",
    "        team_lead=team_lead,\n",
    "        team_members=team_members,\n",
    "        agenda=PROJECT_SELECTION_PROMPT,\n",
    "        save_dir=save_dir / \"project_selection\",\n",
    "        save_name=f\"discussion_{iteration_num + 1}\",\n",
    "        num_rounds=num_rounds,\n",
    "        model=model,\n",
    "    )"
   ],
   "id": "6f69960a07f1458c"
  },
  {
   "metadata": {
    "ExecuteTime": {
     "end_time": "2024-07-09T15:10:50.951708Z",
     "start_time": "2024-07-09T15:10:50.948164Z"
    }
   },
   "cell_type": "code",
   "source": [
    "# Select preferred project\n",
    "discussion_paths.append(save_dir / \"project_selection\" / \"discussion_1.json\")"
   ],
   "id": "bbc2d0e83d65fd12",
   "outputs": [],
   "execution_count": 6
  },
  {
   "metadata": {},
   "cell_type": "code",
   "outputs": [],
   "execution_count": null,
   "source": [
    "# Load summaries\n",
    "summaries = load_summaries(discussion_paths=discussion_paths)"
   ],
   "id": "91f3b3e953792385"
  },
  {
   "metadata": {},
   "cell_type": "code",
   "outputs": [],
   "execution_count": null,
   "source": [
    "# Run target selection\n",
    "for iteration_num in trange(num_iterations, desc=\"Project Iterations\"):\n",
    "    run_scientific_meeting(\n",
    "        team_lead=team_lead,\n",
    "        team_members=team_members,\n",
    "        agenda=TARGET_SELECTION_PROMPT,\n",
    "        summaries=summaries,\n",
    "        save_dir=save_dir / \"target_selection\",\n",
    "        save_name=f\"discussion_{iteration_num + 1}\",\n",
    "        num_rounds=num_rounds,\n",
    "        model=model,\n",
    "    )"
   ],
   "id": "50fbd726b80d4d9"
  },
  {
   "metadata": {
    "ExecuteTime": {
     "end_time": "2024-07-09T15:10:53.310231Z",
     "start_time": "2024-07-09T15:10:53.299524Z"
    }
   },
   "cell_type": "code",
   "source": [
    "# Select preferred target\n",
    "discussion_paths.append(save_dir / \"target_selection\" / \"discussion_1.json\")"
   ],
   "id": "7ec0f1f608ad067c",
   "outputs": [],
   "execution_count": 7
  },
  {
   "metadata": {
    "ExecuteTime": {
     "end_time": "2024-07-09T15:10:53.815545Z",
     "start_time": "2024-07-09T15:10:53.810575Z"
    }
   },
   "cell_type": "code",
   "source": [
    "# Load summaries\n",
    "summaries = load_summaries(discussion_paths=discussion_paths)"
   ],
   "id": "47548287d4cbbee9",
   "outputs": [],
   "execution_count": 8
  },
  {
   "metadata": {},
   "cell_type": "code",
   "outputs": [],
   "execution_count": null,
   "source": "",
   "id": "984ac572e1eca58"
  }
 ],
 "metadata": {
  "kernelspec": {
   "display_name": "Python 3",
   "language": "python",
   "name": "python3"
  },
  "language_info": {
   "codemirror_mode": {
    "name": "ipython",
    "version": 2
   },
   "file_extension": ".py",
   "mimetype": "text/x-python",
   "name": "python",
   "nbconvert_exporter": "python",
   "pygments_lexer": "ipython2",
   "version": "2.7.6"
  }
 },
 "nbformat": 4,
 "nbformat_minor": 5
}
