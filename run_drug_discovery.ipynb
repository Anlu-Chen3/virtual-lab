{
 "cells": [
  {
   "cell_type": "code",
   "id": "initial_id",
   "metadata": {
    "collapsed": true
   },
   "source": [
    "import concurrent.futures\n",
    "from pathlib import Path\n",
    "\n",
    "from agent import Agent\n",
    "from constants import CONSISTENT_TEMPERATURE, CREATIVE_TEMPERATURE\n",
    "from prompts import (\n",
    "    CODING_RULES,\n",
    "    DRUG_DISCOVERY_CONTEXTS,\n",
    "    PRINCIPAL_INVESTIGATOR,\n",
    "    SCIENTIFIC_CRITIC,\n",
    "    create_merge_prompt,\n",
    ")\n",
    "from run_meeting import run_meeting\n",
    "from utils import load_summaries"
   ],
   "outputs": [],
   "execution_count": null
  },
  {
   "metadata": {},
   "cell_type": "code",
   "source": [
    "# Set up key parameters\n",
    "num_iterations = 5\n",
    "num_rounds = 3\n",
    "save_dir = Path(\"drug_discovery/discussions\")\n",
    "model = \"gpt-4o-2024-08-06\"\n",
    "background_prompt = \"You are working on a research project to use machine learning for drug discovery. Your goals are the following: (1) the project must have high clinical value, meaning the research contributes to helping patients, (2) the project must include a scientifically impactful application of machine learning to drug discovery, and (3) the project must use Emerald Cloud Labs (ECL) for all experimental validation with a 3-month limit on experiments.\""
   ],
   "id": "fa2170c27002a35f",
   "outputs": [],
   "execution_count": null
  },
  {
   "metadata": {},
   "cell_type": "markdown",
   "source": "## Select team members",
   "id": "89365d1eb6b6b9d7"
  },
  {
   "metadata": {},
   "cell_type": "code",
   "source": [
    "# Select team members - prompts\n",
    "team_selection_dir = save_dir / \"team_selection\"\n",
    "\n",
    "team_selection_agenda = f\"\"\"{background_prompt} You need to select a team of three scientists to help you with this project. Please select the team members that you would like to invite to work on the project. Please list the team members in the following format, using the team member below as an example. You should not include yourself (Principal Investigator) in the list.\n",
    "\n",
    "Agent(\n",
    "    title=\"Principal Investigator\",\n",
    "    expertise=\"applying artificial intelligence to biomedical research\",\n",
    "    goal=\"perform research in your area of expertise that maximizes the scientific impact of the work\",\n",
    "    role=\"lead a team of experts to solve an important problem in artificial intelligence for biomedicine, make key decisions about the project direction based on team member input, and manage the project timeline and resources\",\n",
    ")\n",
    "\"\"\""
   ],
   "id": "15c609f27b405f5",
   "outputs": [],
   "execution_count": null
  },
  {
   "metadata": {},
   "cell_type": "code",
   "source": [
    "# Select team members - discussion\n",
    "with concurrent.futures.ThreadPoolExecutor() as executor:\n",
    "    concurrent.futures.wait([\n",
    "        executor.submit(\n",
    "            run_meeting,\n",
    "            meeting_type=\"individual\",\n",
    "            team_member=PRINCIPAL_INVESTIGATOR,\n",
    "            agenda=team_selection_agenda,\n",
    "            save_dir=team_selection_dir,\n",
    "            save_name=f\"discussion_{iteration_num + 1}\",\n",
    "            temperature=CREATIVE_TEMPERATURE,\n",
    "            model=model,\n",
    "        ) for iteration_num in range(num_iterations)\n",
    "    ])"
   ],
   "id": "4660be92fb90f463",
   "outputs": [],
   "execution_count": null
  },
  {
   "metadata": {},
   "cell_type": "code",
   "source": [
    "# Select team members - merge\n",
    "team_selection_summaries = load_summaries(discussion_paths=list(team_selection_dir.glob(\"discussion_*.json\")))\n",
    "print(f\"Number of summaries: {len(team_selection_summaries)}\")\n",
    "\n",
    "team_selection_merge_prompt = create_merge_prompt(agenda=team_selection_agenda)\n",
    "\n",
    "run_meeting(\n",
    "    meeting_type=\"individual\",\n",
    "    team_member=PRINCIPAL_INVESTIGATOR,\n",
    "    summaries=team_selection_summaries,\n",
    "    agenda=team_selection_merge_prompt,\n",
    "    save_dir=team_selection_dir,\n",
    "    save_name=\"merged\",\n",
    "    temperature=CONSISTENT_TEMPERATURE,\n",
    "    model=model,\n",
    ")"
   ],
   "id": "711163fc7b44b427",
   "outputs": [],
   "execution_count": null
  },
  {
   "metadata": {},
   "cell_type": "code",
   "source": [
    "# Add team members\n",
    "COMPUTATIONAL_BIOLOGIST = Agent(\n",
    "    title=\"Computational Biologist\",\n",
    "    expertise=\"machine learning algorithms for drug target identification and validation\",\n",
    "    goal=\"develop and implement machine learning models for identifying potential drug targets with high clinical relevance\",\n",
    "    role=\"design and optimize machine learning models, collaborate with domain experts to ensure clinical applicability, and interpret the results from a biological perspective\",\n",
    ")\n",
    "\n",
    "MEDICINAL_CHEMIST = Agent(\n",
    "    title=\"Medicinal Chemist\",\n",
    "    expertise=\"drug design and synthesis with experience in virtual screening and molecular docking\",\n",
    "    goal=\"translate computational predictions into testable compounds and design experiments to validate these compounds using ECL\",\n",
    "    role=\"provide insights into chemical feasibility of predicted compounds, help prioritize compounds for synthesis, and coordinate experimental validation through ECL\",\n",
    ")\n",
    "\n",
    "MACHINE_LEARNING_SPECIALIST = Agent(\n",
    "    title=\"Machine Learning Specialist\",\n",
    "    expertise=\"advanced machine learning algorithms and their application in biomedical data\",\n",
    "    goal=\"design and implement innovative machine learning approaches to enhance drug discovery pipelines\",\n",
    "    role=\"lead the development of machine learning models, ensure their scientific rigor, and optimize them for predicting clinically relevant drug candidates\",\n",
    ")\n",
    "\n",
    "team_members = (\n",
    "    COMPUTATIONAL_BIOLOGIST,\n",
    "    MEDICINAL_CHEMIST,\n",
    "    MACHINE_LEARNING_SPECIALIST,\n",
    "    SCIENTIFIC_CRITIC,\n",
    ")"
   ],
   "id": "2258b9339a4a4b7c",
   "outputs": [],
   "execution_count": null
  },
  {
   "metadata": {},
   "cell_type": "markdown",
   "source": "## Project Selection",
   "id": "216a2172e0579ff1"
  },
  {
   "metadata": {},
   "cell_type": "code",
   "source": [
    "# Project selection - prompts\n",
    "project_selection_dir = save_dir / \"project_selection\"\n",
    "\n",
    "project_selection_agenda = f\"{background_prompt} In this meeting, you need to select a specific drug discovery project. You must first choose a drug modality that is most appropriate given the goals of the project. Then, you must select five specific disease/target pairs that you could develop a therapy for using your choice of drug modality.\"\n",
    "\n",
    "project_selection_questions = (\n",
    "    \"What is the specific drug modality that you are proposing?\",\n",
    "    \"What specific disease/target pairs are you proposing to treat with your choice of drug modality (list five)?\",\n",
    "    \"Why are these diseases and targets appropriate for your choice of drug modality?\",\n",
    ")"
   ],
   "id": "e6292f80175aeb20",
   "outputs": [],
   "execution_count": null
  },
  {
   "metadata": {},
   "cell_type": "code",
   "source": [
    "# Project selection - discussion\n",
    "with concurrent.futures.ThreadPoolExecutor() as executor:\n",
    "    concurrent.futures.wait([\n",
    "        executor.submit(\n",
    "            run_meeting,\n",
    "            meeting_type=\"team\",\n",
    "            team_lead=PRINCIPAL_INVESTIGATOR,\n",
    "            team_members=team_members,\n",
    "            contexts=DRUG_DISCOVERY_CONTEXTS,\n",
    "            agenda=project_selection_agenda,\n",
    "            agenda_questions=project_selection_questions,\n",
    "            save_dir=project_selection_dir,\n",
    "            save_name=f\"discussion_{iteration_num + 1}\",\n",
    "            temperature=CREATIVE_TEMPERATURE,\n",
    "            model=model,\n",
    "            num_rounds=num_rounds,\n",
    "        ) for iteration_num in range(num_iterations)\n",
    "    ])"
   ],
   "id": "73bdd62da2c11e35",
   "outputs": [],
   "execution_count": null
  },
  {
   "metadata": {},
   "cell_type": "code",
   "source": [
    "# Project selection - merge\n",
    "project_selection_summaries = load_summaries(discussion_paths=list(project_selection_dir.glob(\"discussion_*.json\")))\n",
    "print(f\"Number of summaries: {len(project_selection_summaries)}\")\n",
    "\n",
    "project_selection_merge_prompt = create_merge_prompt(\n",
    "    agenda=project_selection_agenda,\n",
    "    agenda_questions=project_selection_questions,\n",
    ")\n",
    "\n",
    "run_meeting(\n",
    "    meeting_type=\"individual\",\n",
    "    team_member=PRINCIPAL_INVESTIGATOR,\n",
    "    contexts=DRUG_DISCOVERY_CONTEXTS,\n",
    "    summaries=project_selection_summaries,\n",
    "    agenda=project_selection_merge_prompt,\n",
    "    save_dir=project_selection_dir,\n",
    "    save_name=\"merged\",\n",
    "    temperature=CONSISTENT_TEMPERATURE,\n",
    "    model=model,\n",
    "    num_rounds=num_rounds,\n",
    ")"
   ],
   "id": "25343df4924684d6",
   "outputs": [],
   "execution_count": null
  },
  {
   "metadata": {},
   "cell_type": "code",
   "source": "project_prompt = \"Your team previously decided to pursue peptide-based therapeutics.\"",
   "id": "ad1d6ada5293160a",
   "outputs": [],
   "execution_count": null
  },
  {
   "metadata": {},
   "cell_type": "markdown",
   "source": "## Select tools",
   "id": "ebfcde8f16cb1bd4"
  },
  {
   "metadata": {},
   "cell_type": "code",
   "source": [
    "# Data curation - prompts\n",
    "tools_selection_dir = save_dir / \"tools_selection\"\n",
    "\n",
    "tools_selection_agenda = f\"{background_prompt} {project_prompt} Now you need to select machine learning tools to perform this drug discovery project. Please list several of the latest pre-trained generative machine learning models (~5) that could be used to design peptide-based therapeutics for the diseases/targets you previously selected.\"\n",
    "\n",
    "tools_selection_questions = (\n",
    "    \"What are some of the latest pre-trained generative machine learning models that could be used to design peptide-based therapeutics (list ~5)?\",\n",
    "    \"For each model, how could it be used to design peptide-based therapeutics for the diseases/targets you previously selected?\",\n",
    ")\n",
    "\n",
    "tools_selection_prior_summaries = load_summaries(discussion_paths=[project_selection_dir / \"merged.json\"])\n",
    "print(f\"Number of prior summaries: {len(tools_selection_prior_summaries)}\")"
   ],
   "id": "db1878c96cf870e1",
   "outputs": [],
   "execution_count": null
  },
  {
   "metadata": {},
   "cell_type": "code",
   "source": [
    "# Tools selection - discussion\n",
    "with concurrent.futures.ThreadPoolExecutor() as executor:\n",
    "    concurrent.futures.wait([\n",
    "        executor.submit(\n",
    "            run_meeting,\n",
    "            meeting_type=\"team\",\n",
    "            team_lead=PRINCIPAL_INVESTIGATOR,\n",
    "            team_members=team_members,\n",
    "            summaries=tools_selection_prior_summaries,\n",
    "            agenda=tools_selection_agenda,\n",
    "            agenda_questions=tools_selection_questions,\n",
    "            save_dir=tools_selection_dir,\n",
    "            save_name=f\"discussion_{iteration_num + 1}\",\n",
    "            temperature=CREATIVE_TEMPERATURE,\n",
    "            model=model,\n",
    "            num_rounds=num_rounds,\n",
    "        ) for iteration_num in range(num_iterations)\n",
    "    ])"
   ],
   "id": "2a95c803c58ccc3d",
   "outputs": [],
   "execution_count": null
  },
  {
   "metadata": {},
   "cell_type": "code",
   "source": [
    "# Tools selection - merge\n",
    "tools_selection_summaries = load_summaries(discussion_paths=list(tools_selection_dir.glob(\"discussion_*.json\")))\n",
    "print(f\"Number of summaries: {len(tools_selection_summaries)}\")\n",
    "\n",
    "tools_selection_merge_prompt = create_merge_prompt(\n",
    "    agenda=tools_selection_agenda,\n",
    "    agenda_questions=tools_selection_questions,\n",
    ")\n",
    "\n",
    "run_meeting(\n",
    "    meeting_type=\"individual\",\n",
    "    team_member=PRINCIPAL_INVESTIGATOR,\n",
    "    summaries=tools_selection_summaries,\n",
    "    agenda=tools_selection_merge_prompt,\n",
    "    save_dir=tools_selection_dir,\n",
    "    save_name=\"merged\",\n",
    "    temperature=CONSISTENT_TEMPERATURE,\n",
    "    model=model,\n",
    "    num_rounds=num_rounds,\n",
    ")"
   ],
   "id": "e676fc40551f5ba7",
   "outputs": [],
   "execution_count": null
  },
  {
   "metadata": {},
   "cell_type": "markdown",
   "source": "## Model design",
   "id": "69b7645ea3c74d2d"
  },
  {
   "metadata": {},
   "cell_type": "code",
   "source": [
    "# Model design - prompts\n",
    "model_design_dir = save_dir / \"model_design\"\n",
    "\n",
    "model_design_agenda = f\"{background_prompt} {drug_modality_prompt} {disease_target_prompt} Now you must design a machine learning model to predict peptide binding and stability. Please write a complete Python script that implements a machine learning model to predict peptide binding and stability from peptide sequence. Be sure to include all necessary data processing, training, and evaluation code.\""
   ],
   "id": "93281989eaf915d4",
   "outputs": [],
   "execution_count": null
  },
  {
   "metadata": {},
   "cell_type": "code",
   "source": [
    "# Model design - discussion\n",
    "with concurrent.futures.ThreadPoolExecutor() as executor:\n",
    "    concurrent.futures.wait([\n",
    "        executor.submit(\n",
    "            run_meeting,\n",
    "            meeting_type=\"individual\",\n",
    "            team_member=MACHINE_LEARNING_SPECIALIST,\n",
    "            agenda=model_design_agenda,\n",
    "            agenda_rules=CODING_RULES,\n",
    "            save_dir=model_design_dir,\n",
    "            save_name=f\"discussion_{iteration_num + 1}\",\n",
    "            temperature=CREATIVE_TEMPERATURE,\n",
    "            model=model,\n",
    "            num_rounds=num_rounds,\n",
    "        ) for iteration_num in range(num_iterations)\n",
    "    ])"
   ],
   "id": "e1fc7af61ff483b1",
   "outputs": [],
   "execution_count": null
  },
  {
   "metadata": {},
   "cell_type": "code",
   "source": [
    "# Model design - merge\n",
    "model_design_summaries = load_summaries(discussion_paths=list(model_design_dir.glob(\"discussion_*.json\")))\n",
    "print(f\"Number of summaries: {len(model_design_summaries)}\")\n",
    "\n",
    "model_design_merge_prompt = create_merge_prompt(\n",
    "    agenda=model_design_agenda,\n",
    "    agenda_rules=CODING_RULES,\n",
    ")\n",
    "\n",
    "run_meeting(\n",
    "    meeting_type=\"individual\",\n",
    "    team_member=MACHINE_LEARNING_SPECIALIST,\n",
    "    summaries=model_design_summaries,\n",
    "    agenda=model_design_merge_prompt,\n",
    "    save_dir=model_design_dir,\n",
    "    save_name=\"merged\",\n",
    "    temperature=CONSISTENT_TEMPERATURE,\n",
    "    model=model,\n",
    ")"
   ],
   "id": "ffcdb057a330106e",
   "outputs": [],
   "execution_count": null
  },
  {
   "metadata": {},
   "cell_type": "markdown",
   "source": "## Experiment design",
   "id": "9d0fe96118f4c46a"
  },
  {
   "metadata": {},
   "cell_type": "code",
   "source": [
    "# Experiment design - prompts\n",
    "experiment_design_dir = save_dir / \"experiment_design\"\n",
    "\n",
    "experiment_design_agenda = f\"{background_prompt} {drug_modality_prompt} {disease_target_prompt} Now you need to design an experimental protocol for evaluating modified GLP-1 analogs. Please write out a precise protocol for synthesizing and testing the modified GLP-1 analogs for binding and stability. You must exclusively use ECL for all experimental validation. In your protocol, name the specific ECL experiments that will be performed and the expected results for each experiment. Additionally, list all reagents that will be needed for each ECL experiment along with the required quantities. Make sure the protocol is as detailed as possible. Include controls and replicates where necessary.\""
   ],
   "id": "ab057440ba219dbc",
   "outputs": [],
   "execution_count": null
  },
  {
   "metadata": {},
   "cell_type": "code",
   "source": [
    "# Experiment design - discussion\n",
    "with concurrent.futures.ThreadPoolExecutor() as executor:\n",
    "    concurrent.futures.wait([\n",
    "        executor.submit(\n",
    "            run_meeting,\n",
    "            meeting_type=\"individual\",\n",
    "            team_member=MEDICINAL_CHEMIST,\n",
    "            contexts=DRUG_DISCOVERY_CONTEXTS,\n",
    "            agenda=experiment_design_agenda,\n",
    "            save_dir=experiment_design_dir,\n",
    "            save_name=f\"discussion_{iteration_num + 1}\",\n",
    "            temperature=CREATIVE_TEMPERATURE,\n",
    "            model=model,\n",
    "            num_rounds=num_rounds,\n",
    "        ) for iteration_num in range(num_iterations)\n",
    "    ])"
   ],
   "id": "de37e24ff72b9146",
   "outputs": [],
   "execution_count": null
  },
  {
   "metadata": {},
   "cell_type": "code",
   "source": [
    "# Experiment design - merge\n",
    "experiment_design_summaries = load_summaries(discussion_paths=list(experiment_design_dir.glob(\"discussion_*.json\")))\n",
    "print(f\"Number of summaries: {len(experiment_design_summaries)}\")\n",
    "\n",
    "experiment_design_merge_prompt = create_merge_prompt(agenda=experiment_design_agenda)\n",
    "\n",
    "run_meeting(\n",
    "    meeting_type=\"individual\",\n",
    "    team_member=MEDICINAL_CHEMIST,\n",
    "    contexts=DRUG_DISCOVERY_CONTEXTS,\n",
    "    summaries=experiment_design_summaries,\n",
    "    agenda=experiment_design_merge_prompt,\n",
    "    save_dir=experiment_design_dir,\n",
    "    save_name=\"merged\",\n",
    "    temperature=CONSISTENT_TEMPERATURE,\n",
    "    model=model,\n",
    ")"
   ],
   "id": "cc456576e6acb95f",
   "outputs": [],
   "execution_count": null
  },
  {
   "metadata": {},
   "cell_type": "code",
   "source": "",
   "id": "b53e62468e455277",
   "outputs": [],
   "execution_count": null
  }
 ],
 "metadata": {
  "kernelspec": {
   "display_name": "Python 3",
   "language": "python",
   "name": "python3"
  },
  "language_info": {
   "codemirror_mode": {
    "name": "ipython",
    "version": 2
   },
   "file_extension": ".py",
   "mimetype": "text/x-python",
   "name": "python",
   "nbconvert_exporter": "python",
   "pygments_lexer": "ipython2",
   "version": "2.7.6"
  }
 },
 "nbformat": 4,
 "nbformat_minor": 5
}
