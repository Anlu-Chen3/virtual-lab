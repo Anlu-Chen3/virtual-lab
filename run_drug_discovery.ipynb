{
 "cells": [
  {
   "cell_type": "code",
   "id": "initial_id",
   "metadata": {
    "collapsed": true
   },
   "source": [
    "import concurrent.futures\n",
    "from pathlib import Path\n",
    "\n",
    "from agent import Agent\n",
    "from constants import CONSISTENT_TEMPERATURE, CREATIVE_TEMPERATURE\n",
    "from prompts import (\n",
    "    CODING_RULES,\n",
    "    DRUG_DISCOVERY_CONTEXTS,\n",
    "    PRINCIPAL_INVESTIGATOR,\n",
    "    SCIENTIFIC_CRITIC,\n",
    "    create_merge_prompt,\n",
    ")\n",
    "from run_meeting import run_meeting\n",
    "from utils import load_summaries"
   ],
   "outputs": [],
   "execution_count": null
  },
  {
   "metadata": {},
   "cell_type": "code",
   "source": [
    "# Set up key parameters\n",
    "num_iterations = 5\n",
    "num_rounds = 3\n",
    "save_dir = Path(\"drug_discovery\")\n",
    "model = \"gpt-4o-2024-08-06\"\n",
    "background_prompt = \"You are working on a research project to use machine learning for drug discovery. Your goals are the following: (1) the project must have high clinical value, meaning the research contributes to helping patients, (2) the project must include a scientifically impactful application of machine learning to drug discovery, and (3) the project must use Emerald Cloud Labs (ECL) for all experimental validation with a 3-month limit on experiments.\""
   ],
   "id": "fa2170c27002a35f",
   "outputs": [],
   "execution_count": null
  },
  {
   "metadata": {},
   "cell_type": "markdown",
   "source": "## Select team members",
   "id": "89365d1eb6b6b9d7"
  },
  {
   "metadata": {},
   "cell_type": "code",
   "source": [
    "# Select team members - prompts\n",
    "team_selection_dir = save_dir / \"team_selection\"\n",
    "\n",
    "team_selection_agenda = f\"\"\"{background_prompt} You need to select a team of three scientists to help you with this project. Please select the team members that you would like to invite to work on the project. Please list the team members in the following format, using the team member below as an example. You should not include yourself (Principal Investigator) in the list.\n",
    "\n",
    "Agent(\n",
    "    title=\"Principal Investigator\",\n",
    "    expertise=\"applying artificial intelligence to biomedical research\",\n",
    "    goal=\"perform research in your area of expertise that maximizes the scientific impact of the work\",\n",
    "    role=\"lead a team of experts to solve an important problem in artificial intelligence for biomedicine, make key decisions about the project direction based on team member input, and manage the project timeline and resources\",\n",
    ")\n",
    "\"\"\""
   ],
   "id": "15c609f27b405f5",
   "outputs": [],
   "execution_count": null
  },
  {
   "metadata": {},
   "cell_type": "code",
   "source": [
    "# Select team members - discussion\n",
    "with concurrent.futures.ThreadPoolExecutor() as executor:\n",
    "    concurrent.futures.wait([\n",
    "        executor.submit(\n",
    "            run_meeting,\n",
    "            meeting_type=\"individual\",\n",
    "            team_member=PRINCIPAL_INVESTIGATOR,\n",
    "            agenda=team_selection_agenda,\n",
    "            save_dir=team_selection_dir,\n",
    "            save_name=f\"discussion_{iteration_num + 1}\",\n",
    "            temperature=CREATIVE_TEMPERATURE,\n",
    "            model=model,\n",
    "        ) for iteration_num in range(num_iterations)\n",
    "    ])"
   ],
   "id": "4660be92fb90f463",
   "outputs": [],
   "execution_count": null
  },
  {
   "metadata": {},
   "cell_type": "code",
   "source": [
    "# Select team members - merge\n",
    "team_selection_summaries = load_summaries(discussion_paths=list(team_selection_dir.glob(\"discussion_*.json\")))\n",
    "print(f\"Number of summaries: {len(team_selection_summaries)}\")\n",
    "\n",
    "team_selection_merge_prompt = create_merge_prompt(agenda=team_selection_agenda)\n",
    "\n",
    "run_meeting(\n",
    "    meeting_type=\"individual\",\n",
    "    team_member=PRINCIPAL_INVESTIGATOR,\n",
    "    summaries=team_selection_summaries,\n",
    "    agenda=team_selection_merge_prompt,\n",
    "    save_dir=team_selection_dir,\n",
    "    save_name=\"merged\",\n",
    "    temperature=CONSISTENT_TEMPERATURE,\n",
    "    model=model,\n",
    ")"
   ],
   "id": "711163fc7b44b427",
   "outputs": [],
   "execution_count": null
  },
  {
   "metadata": {},
   "cell_type": "code",
   "source": [
    "# Add team members\n",
    "COMPUTATIONAL_BIOLOGIST = Agent(\n",
    "    title=\"Computational Biologist\",\n",
    "    expertise=\"machine learning algorithms for drug target identification and validation\",\n",
    "    goal=\"develop and implement machine learning models for identifying potential drug targets with high clinical relevance\",\n",
    "    role=\"design and optimize machine learning models, collaborate with domain experts to ensure clinical applicability, and interpret the results from a biological perspective\",\n",
    ")\n",
    "\n",
    "MEDICINAL_CHEMIST = Agent(\n",
    "    title=\"Medicinal Chemist\",\n",
    "    expertise=\"drug design and synthesis with experience in virtual screening and molecular docking\",\n",
    "    goal=\"translate computational predictions into testable compounds and design experiments to validate these compounds using ECL\",\n",
    "    role=\"provide insights into chemical feasibility of predicted compounds, help prioritize compounds for synthesis, and coordinate experimental validation through ECL\",\n",
    ")\n",
    "\n",
    "MACHINE_LEARNING_SPECIALIST = Agent(\n",
    "    title=\"Machine Learning Specialist\",\n",
    "    expertise=\"advanced machine learning algorithms and their application in biomedical data\",\n",
    "    goal=\"design and implement innovative machine learning approaches to enhance drug discovery pipelines\",\n",
    "    role=\"lead the development of machine learning models, ensure their scientific rigor, and optimize them for predicting clinically relevant drug candidates\",\n",
    ")\n",
    "\n",
    "team_members = (\n",
    "    COMPUTATIONAL_BIOLOGIST,\n",
    "    MEDICINAL_CHEMIST,\n",
    "    MACHINE_LEARNING_SPECIALIST,\n",
    "    SCIENTIFIC_CRITIC,\n",
    ")"
   ],
   "id": "2258b9339a4a4b7c",
   "outputs": [],
   "execution_count": null
  },
  {
   "metadata": {},
   "cell_type": "markdown",
   "source": "## Drug modality",
   "id": "5d38d39ed0398d92"
  },
  {
   "metadata": {},
   "cell_type": "code",
   "source": [
    "# Drug modality - prompts\n",
    "drug_modality_dir = save_dir / \"drug_modality\"\n",
    "\n",
    "drug_modality_agenda = f\"{background_prompt} In this meeting, you need to select a specific drug modality to pursue. Without deciding on a specific disease or target yet, please determine what drug modality would be most appropriate given the goals of the project and how it will be developed.\"\n",
    "\n",
    "drug_modality_questions = (\n",
    "    \"What is the specific drug modality that you are proposing?\",\n",
    "    \"For that drug modality, will you design new drugs de novo or modify and improve existing drugs (choose only one)?\"\n",
    ")"
   ],
   "id": "aa6b83d286c2819",
   "outputs": [],
   "execution_count": null
  },
  {
   "metadata": {},
   "cell_type": "code",
   "source": [
    "# Project selection - discussion\n",
    "with concurrent.futures.ThreadPoolExecutor() as executor:\n",
    "    concurrent.futures.wait([\n",
    "        executor.submit(\n",
    "            run_meeting,\n",
    "            meeting_type=\"team\",\n",
    "            team_lead=PRINCIPAL_INVESTIGATOR,\n",
    "            team_members=team_members,\n",
    "            contexts=DRUG_DISCOVERY_CONTEXTS,\n",
    "            agenda=drug_modality_agenda,\n",
    "            agenda_questions=drug_modality_questions,\n",
    "            save_dir=drug_modality_dir,\n",
    "            save_name=f\"discussion_{iteration_num + 1}\",\n",
    "            temperature=CREATIVE_TEMPERATURE,\n",
    "            model=model,\n",
    "            num_rounds=num_rounds,\n",
    "        ) for iteration_num in range(num_iterations)\n",
    "    ])"
   ],
   "id": "6f69960a07f1458c",
   "outputs": [],
   "execution_count": null
  },
  {
   "metadata": {},
   "cell_type": "code",
   "source": [
    "# Project selection - merge\n",
    "drug_modality_summaries = load_summaries(discussion_paths=list(drug_modality_dir.glob(\"discussion_*.json\")))\n",
    "print(f\"Number of summaries: {len(drug_modality_summaries)}\")\n",
    "\n",
    "drug_modality_merge_prompt = create_merge_prompt(\n",
    "    agenda=drug_modality_agenda,\n",
    "    agenda_questions=drug_modality_questions,\n",
    ")\n",
    "\n",
    "run_meeting(\n",
    "    meeting_type=\"individual\",\n",
    "    team_member=PRINCIPAL_INVESTIGATOR,\n",
    "    contexts=DRUG_DISCOVERY_CONTEXTS,\n",
    "    summaries=drug_modality_summaries,\n",
    "    agenda=drug_modality_merge_prompt,\n",
    "    save_dir=drug_modality_dir,\n",
    "    save_name=\"merged\",\n",
    "    temperature=CONSISTENT_TEMPERATURE,\n",
    "    model=model,\n",
    "    num_rounds=num_rounds,\n",
    ")"
   ],
   "id": "bbc2d0e83d65fd12",
   "outputs": [],
   "execution_count": null
  },
  {
   "metadata": {},
   "cell_type": "code",
   "source": "drug_modality_prompt = \"Your team previously decided to develop peptide-based therapeutics by modifying and improving existing peptides.\"",
   "id": "1c4404491d9f8bd6",
   "outputs": [],
   "execution_count": null
  },
  {
   "metadata": {},
   "cell_type": "markdown",
   "source": "## Target Selection",
   "id": "216a2172e0579ff1"
  },
  {
   "metadata": {},
   "cell_type": "code",
   "source": [
    "# Target selection - prompts\n",
    "target_selection_dir = save_dir / \"target_selection\"\n",
    "\n",
    "target_selection_agenda = f\"{background_prompt} {drug_modality_prompt} Now you need to select a specific disease and a specific drug target for that disease. Please suggest five potential disease/target pairs that would be most appropriate for peptide-based therapeutics.\"\n",
    "\n",
    "target_selection_questions = (\n",
    "    \"What specific disease/target pairs are you proposing (list five)?\",\n",
    "    \"Why are these diseases and targets appropriate for peptide-based therapeutics?\",\n",
    "    \"For each disease/target pair, which specific peptide or peptides will be modified?\",\n",
    "    \"For each disease/target pair, in addition to efficacy (binding), which other peptide property or properties should be improved?\",\n",
    ")"
   ],
   "id": "e6292f80175aeb20",
   "outputs": [],
   "execution_count": null
  },
  {
   "metadata": {},
   "cell_type": "code",
   "source": [
    "# Target selection - discussion\n",
    "target_selection_prior_summaries = load_summaries(discussion_paths=[drug_modality_dir / \"merged.json\"])\n",
    "print(f\"Number of summaries: {len(target_selection_prior_summaries)}\")\n",
    "\n",
    "with concurrent.futures.ThreadPoolExecutor() as executor:\n",
    "    concurrent.futures.wait([\n",
    "        executor.submit(\n",
    "            run_meeting,\n",
    "            meeting_type=\"team\",\n",
    "            team_lead=PRINCIPAL_INVESTIGATOR,\n",
    "            team_members=team_members,\n",
    "            contexts=DRUG_DISCOVERY_CONTEXTS,\n",
    "            summaries=target_selection_prior_summaries,\n",
    "            agenda=target_selection_agenda,\n",
    "            agenda_questions=target_selection_questions,\n",
    "            save_dir=target_selection_dir,\n",
    "            save_name=f\"discussion_{iteration_num + 1}\",\n",
    "            temperature=CREATIVE_TEMPERATURE,\n",
    "            model=model,\n",
    "            num_rounds=num_rounds,\n",
    "        ) for iteration_num in range(num_iterations)\n",
    "    ])"
   ],
   "id": "73bdd62da2c11e35",
   "outputs": [],
   "execution_count": null
  },
  {
   "metadata": {},
   "cell_type": "code",
   "source": [
    "# Target selection - merge\n",
    "target_selection_summaries = load_summaries(discussion_paths=list(target_selection_dir.glob(\"discussion_*.json\")))\n",
    "print(f\"Number of summaries: {len(target_selection_summaries)}\")\n",
    "\n",
    "target_selection_merge_prompt = create_merge_prompt(\n",
    "    agenda=target_selection_agenda,\n",
    "    agenda_questions=target_selection_questions,\n",
    ")\n",
    "\n",
    "run_meeting(\n",
    "    meeting_type=\"individual\",\n",
    "    team_member=PRINCIPAL_INVESTIGATOR,\n",
    "    contexts=DRUG_DISCOVERY_CONTEXTS,\n",
    "    summaries=target_selection_summaries,\n",
    "    agenda=target_selection_merge_prompt,\n",
    "    save_dir=target_selection_dir,\n",
    "    save_name=\"merged\",\n",
    "    temperature=CONSISTENT_TEMPERATURE,\n",
    "    model=model,\n",
    "    num_rounds=num_rounds,\n",
    ")"
   ],
   "id": "25343df4924684d6",
   "outputs": [],
   "execution_count": null
  },
  {
   "metadata": {},
   "cell_type": "code",
   "source": "disease_target_prompt = \"Your team previously decided to pursue Type 2 Diabetes by improving existing GLP-1 analogs with the goal of improving target binding and stability.\"",
   "id": "ad1d6ada5293160a",
   "outputs": [],
   "execution_count": null
  },
  {
   "metadata": {},
   "cell_type": "markdown",
   "source": "## Data curation",
   "id": "ebfcde8f16cb1bd4"
  },
  {
   "metadata": {},
   "cell_type": "code",
   "source": [
    "# Data curation - prompts\n",
    "data_curation_dir = save_dir / \"data_curation\"\n",
    "\n",
    "data_curation_agenda = f\"{background_prompt} {drug_modality_prompt} {disease_target_prompt} Now you need to collect existing data for GLP-1. Please explain where to find existing GLP-1 analog data that include peptide sequences with experimentally determined binding and stability. Specify a few databases and how to identify and extract the relevant data from each database.\""
   ],
   "id": "db1878c96cf870e1",
   "outputs": [],
   "execution_count": null
  },
  {
   "metadata": {},
   "cell_type": "code",
   "source": [
    "# Data curation - discussion\n",
    "with concurrent.futures.ThreadPoolExecutor() as executor:\n",
    "    concurrent.futures.wait([\n",
    "        executor.submit(\n",
    "            run_meeting,\n",
    "            meeting_type=\"individual\",\n",
    "            team_member=COMPUTATIONAL_BIOLOGIST,\n",
    "            agenda=data_curation_agenda,\n",
    "            save_dir=data_curation_dir,\n",
    "            save_name=f\"discussion_{iteration_num + 1}\",\n",
    "            temperature=CREATIVE_TEMPERATURE,\n",
    "            model=model,\n",
    "            num_rounds=num_rounds,\n",
    "        ) for iteration_num in range(num_iterations)\n",
    "    ])"
   ],
   "id": "2a95c803c58ccc3d",
   "outputs": [],
   "execution_count": null
  },
  {
   "metadata": {},
   "cell_type": "code",
   "source": [
    "# Data curation - merge\n",
    "data_curation_summaries = load_summaries(discussion_paths=list(data_curation_dir.glob(\"discussion_*.json\")))\n",
    "print(f\"Number of summaries: {len(data_curation_summaries)}\")\n",
    "\n",
    "data_curation_merge_prompt = create_merge_prompt(agenda=data_curation_agenda)\n",
    "\n",
    "run_meeting(\n",
    "    meeting_type=\"individual\",\n",
    "    team_member=COMPUTATIONAL_BIOLOGIST,\n",
    "    summaries=data_curation_summaries,\n",
    "    agenda=data_curation_merge_prompt,\n",
    "    save_dir=data_curation_dir,\n",
    "    save_name=\"merged\",\n",
    "    temperature=CONSISTENT_TEMPERATURE,\n",
    "    model=model,\n",
    ")"
   ],
   "id": "e676fc40551f5ba7",
   "outputs": [],
   "execution_count": null
  },
  {
   "metadata": {},
   "cell_type": "markdown",
   "source": "## Model design",
   "id": "69b7645ea3c74d2d"
  },
  {
   "metadata": {},
   "cell_type": "code",
   "source": [
    "# Model design - prompts\n",
    "model_design_dir = save_dir / \"model_design\"\n",
    "\n",
    "model_design_agenda = f\"{background_prompt} {drug_modality_prompt} {disease_target_prompt} Now you must design a machine learning model to predict peptide binding and stability. Please write a complete Python script that implements a machine learning model to predict peptide binding and stability from peptide sequence. Be sure to include all necessary data processing, training, and evaluation code.\""
   ],
   "id": "93281989eaf915d4",
   "outputs": [],
   "execution_count": null
  },
  {
   "metadata": {},
   "cell_type": "code",
   "source": [
    "# Model design - discussion\n",
    "with concurrent.futures.ThreadPoolExecutor() as executor:\n",
    "    concurrent.futures.wait([\n",
    "        executor.submit(\n",
    "            run_meeting,\n",
    "            meeting_type=\"individual\",\n",
    "            team_member=MACHINE_LEARNING_SPECIALIST,\n",
    "            agenda=model_design_agenda,\n",
    "            agenda_rules=CODING_RULES,\n",
    "            save_dir=model_design_dir,\n",
    "            save_name=f\"discussion_{iteration_num + 1}\",\n",
    "            temperature=CREATIVE_TEMPERATURE,\n",
    "            model=model,\n",
    "            num_rounds=num_rounds,\n",
    "        ) for iteration_num in range(num_iterations)\n",
    "    ])"
   ],
   "id": "e1fc7af61ff483b1",
   "outputs": [],
   "execution_count": null
  },
  {
   "metadata": {},
   "cell_type": "code",
   "source": [
    "# Model design - merge\n",
    "model_design_summaries = load_summaries(discussion_paths=list(model_design_dir.glob(\"discussion_*.json\")))\n",
    "print(f\"Number of summaries: {len(model_design_summaries)}\")\n",
    "\n",
    "model_design_merge_prompt = create_merge_prompt(\n",
    "    agenda=model_design_agenda,\n",
    "    agenda_rules=CODING_RULES,\n",
    ")\n",
    "\n",
    "run_meeting(\n",
    "    meeting_type=\"individual\",\n",
    "    team_member=MACHINE_LEARNING_SPECIALIST,\n",
    "    summaries=model_design_summaries,\n",
    "    agenda=model_design_merge_prompt,\n",
    "    save_dir=model_design_dir,\n",
    "    save_name=\"merged\",\n",
    "    temperature=CONSISTENT_TEMPERATURE,\n",
    "    model=model,\n",
    ")"
   ],
   "id": "ffcdb057a330106e",
   "outputs": [],
   "execution_count": null
  },
  {
   "metadata": {},
   "cell_type": "markdown",
   "source": "## Experiment design",
   "id": "9d0fe96118f4c46a"
  },
  {
   "metadata": {},
   "cell_type": "code",
   "source": [
    "# Experiment design - prompts\n",
    "experiment_design_dir = save_dir / \"experiment_design\"\n",
    "\n",
    "experiment_design_agenda = f\"{background_prompt} {drug_modality_prompt} {disease_target_prompt} Now you need to design an experimental protocol for evaluating modified GLP-1 analogs. Please write out a precise protocol for synthesizing and testing the modified GLP-1 analogs for binding and stability. You must exclusively use ECL for all experimental validation. In your protocol, name the specific ECL experiments that will be performed and the expected results for each experiment. Additionally, list all reagents that will be needed for each ECL experiment along with the required quantities. Make sure the protocol is as detailed as possible. Include controls and replicates where necessary.\""
   ],
   "id": "ab057440ba219dbc",
   "outputs": [],
   "execution_count": null
  },
  {
   "metadata": {},
   "cell_type": "code",
   "source": [
    "# Experiment design - discussion\n",
    "with concurrent.futures.ThreadPoolExecutor() as executor:\n",
    "    concurrent.futures.wait([\n",
    "        executor.submit(\n",
    "            run_meeting,\n",
    "            meeting_type=\"individual\",\n",
    "            team_member=MEDICINAL_CHEMIST,\n",
    "            contexts=DRUG_DISCOVERY_CONTEXTS,\n",
    "            agenda=experiment_design_agenda,\n",
    "            save_dir=experiment_design_dir,\n",
    "            save_name=f\"discussion_{iteration_num + 1}\",\n",
    "            temperature=CREATIVE_TEMPERATURE,\n",
    "            model=model,\n",
    "            num_rounds=num_rounds,\n",
    "        ) for iteration_num in range(num_iterations)\n",
    "    ])"
   ],
   "id": "de37e24ff72b9146",
   "outputs": [],
   "execution_count": null
  },
  {
   "metadata": {},
   "cell_type": "code",
   "source": [
    "# Experiment design - merge\n",
    "experiment_design_summaries = load_summaries(discussion_paths=list(experiment_design_dir.glob(\"discussion_*.json\")))\n",
    "print(f\"Number of summaries: {len(experiment_design_summaries)}\")\n",
    "\n",
    "experiment_design_merge_prompt = create_merge_prompt(agenda=experiment_design_agenda)\n",
    "\n",
    "run_meeting(\n",
    "    meeting_type=\"individual\",\n",
    "    team_member=MEDICINAL_CHEMIST,\n",
    "    contexts=DRUG_DISCOVERY_CONTEXTS,\n",
    "    summaries=experiment_design_summaries,\n",
    "    agenda=experiment_design_merge_prompt,\n",
    "    save_dir=experiment_design_dir,\n",
    "    save_name=\"merged\",\n",
    "    temperature=CONSISTENT_TEMPERATURE,\n",
    "    model=model,\n",
    ")"
   ],
   "id": "cc456576e6acb95f",
   "outputs": [],
   "execution_count": null
  },
  {
   "metadata": {},
   "cell_type": "code",
   "source": "",
   "id": "b53e62468e455277",
   "outputs": [],
   "execution_count": null
  }
 ],
 "metadata": {
  "kernelspec": {
   "display_name": "Python 3",
   "language": "python",
   "name": "python3"
  },
  "language_info": {
   "codemirror_mode": {
    "name": "ipython",
    "version": 2
   },
   "file_extension": ".py",
   "mimetype": "text/x-python",
   "name": "python",
   "nbconvert_exporter": "python",
   "pygments_lexer": "ipython2",
   "version": "2.7.6"
  }
 },
 "nbformat": 4,
 "nbformat_minor": 5
}
