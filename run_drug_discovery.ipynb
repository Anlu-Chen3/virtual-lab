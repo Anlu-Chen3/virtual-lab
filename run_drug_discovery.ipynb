{
 "cells": [
  {
   "cell_type": "code",
   "id": "initial_id",
   "metadata": {
    "collapsed": true
   },
   "source": [
    "import concurrent.futures\n",
    "from pathlib import Path\n",
    "\n",
    "from constants import CONSISTENT_TEMPERATURE, CREATIVE_TEMPERATURE\n",
    "from prompts import (\n",
    "    BIOLOGIST,\n",
    "    COMPUTER_SCIENTIST,\n",
    "    DRUG_DISCOVERY_CONTEXTS,\n",
    "    DRUG_DISCOVERY_TEAM,\n",
    "    MERGE_PROMPT,\n",
    "    PRINCIPAL_INVESTIGATOR\n",
    ")\n",
    "from run_meeting import run_meeting\n",
    "from utils import load_summaries"
   ],
   "outputs": [],
   "execution_count": null
  },
  {
   "metadata": {},
   "cell_type": "code",
   "source": [
    "# Set up key parameters\n",
    "num_iterations = 5\n",
    "num_rounds = 3\n",
    "save_dir = Path(\"drug_discovery\")\n",
    "model = \"gpt-4o-2024-08-06\""
   ],
   "id": "fa2170c27002a35f",
   "outputs": [],
   "execution_count": null
  },
  {
   "metadata": {},
   "cell_type": "markdown",
   "source": "## Project Selection",
   "id": "5d38d39ed0398d92"
  },
  {
   "metadata": {},
   "cell_type": "code",
   "source": [
    "# Project selection - prompts\n",
    "project_selection_dir = save_dir / \"project_selection\"\n",
    "\n",
    "project_selection_prompt = \"You are starting on a research project that is aiming to apply artificial intelligence to drug discovery. In this meeting, you need to select a specific research direction for this project. The primary considerations are: (1) the project must have high clinical value, meaning the research contributes to helping patients, (2) the project must involve the development of an artificial intelligence model, and (3) the project must use Emerald Cloud Labs (ECL) to validate the artificial intelligence model’s output, which means that any required wet lab experiments must be within the capabilities of ECL’s scientific instrumentation. Please determine a research project that meets these criteria. Please be as specific as possible in terms of the precise goal of the project and the experiments that will be run.\"\n",
    "\n",
    "project_selection_questions = (\n",
    "    \"What is the specific research direction that you are proposing?\",\n",
    "    \"What is the clinical value of this research direction?\",\n",
    "    \"How will you develop an artificial intelligence model for this project?\",\n",
    "    \"How will you use Emerald Cloud Labs (ECL) to validate the artificial intelligence model’s output?\",\n",
    ")"
   ],
   "id": "aa6b83d286c2819",
   "outputs": [],
   "execution_count": null
  },
  {
   "metadata": {},
   "cell_type": "code",
   "source": [
    "# Project selection - discussion\n",
    "with concurrent.futures.ThreadPoolExecutor() as executor:\n",
    "    concurrent.futures.wait([\n",
    "        executor.submit(\n",
    "            run_meeting,\n",
    "            meeting_type=\"team\",\n",
    "            team_lead=PRINCIPAL_INVESTIGATOR,\n",
    "            team_members=DRUG_DISCOVERY_TEAM,\n",
    "            agenda=project_selection_prompt,\n",
    "            agenda_questions=project_selection_questions,\n",
    "            save_dir=project_selection_dir,\n",
    "            save_name=f\"discussion_{iteration_num + 1}\",\n",
    "            num_rounds=num_rounds,\n",
    "            contexts=DRUG_DISCOVERY_CONTEXTS,\n",
    "            temperature=CREATIVE_TEMPERATURE,\n",
    "            model=model,\n",
    "        ) for iteration_num in range(num_iterations)\n",
    "    ])"
   ],
   "id": "6f69960a07f1458c",
   "outputs": [],
   "execution_count": null
  },
  {
   "metadata": {},
   "cell_type": "code",
   "source": [
    "# Project selection - merge\n",
    "project_selection_summaries = load_summaries(discussion_paths=list(project_selection_dir.glob(\"discussion_*.json\")))\n",
    "print(f\"Number of summaries: {len(project_selection_summaries)}\")\n",
    "\n",
    "run_meeting(\n",
    "    meeting_type=\"individual\",\n",
    "    team_member=PRINCIPAL_INVESTIGATOR,\n",
    "    agenda=MERGE_PROMPT,\n",
    "    save_dir=project_selection_dir,\n",
    "    save_name=\"merged\",\n",
    "    summaries=project_selection_summaries,\n",
    "    contexts=DRUG_DISCOVERY_CONTEXTS,\n",
    "    temperature=CONSISTENT_TEMPERATURE,\n",
    "    model=model,\n",
    ")"
   ],
   "id": "bbc2d0e83d65fd12",
   "outputs": [],
   "execution_count": null
  },
  {
   "metadata": {},
   "cell_type": "markdown",
   "source": "## Target Selection",
   "id": "216a2172e0579ff1"
  },
  {
   "metadata": {},
   "cell_type": "code",
   "source": [
    "# Target selection - prompts\n",
    "target_selection_dir = save_dir / \"target_selection\"\n",
    "\n",
    "target_selection_prompt = \"In the previous meeting, you settled on a general project direction (see summary). Now, you need to make that project more precisely defined. Please select one specific disease target and one specific drug modality for this target related to your prior discussion. Remember that you are constrained by the capabilities of Emerald Cloud Labs (ECL).\"\n",
    "\n",
    "target_selection_questions = (\n",
    "    \"What is the specific disease target that you are proposing?\",\n",
    "    \"What is the specific drug modality that you are proposing?\",\n",
    ")"
   ],
   "id": "e6292f80175aeb20",
   "outputs": [],
   "execution_count": null
  },
  {
   "metadata": {},
   "cell_type": "code",
   "source": [
    "# Target selection - discussion\n",
    "target_selection_prior_summaries = load_summaries(discussion_paths=[project_selection_dir / \"merged.json\"])\n",
    "print(f\"Number of summaries: {len(target_selection_prior_summaries)}\")\n",
    "\n",
    "with concurrent.futures.ThreadPoolExecutor() as executor:\n",
    "    concurrent.futures.wait([\n",
    "        executor.submit(\n",
    "            run_meeting,\n",
    "            meeting_type=\"team\",\n",
    "            team_lead=PRINCIPAL_INVESTIGATOR,\n",
    "            team_members=DRUG_DISCOVERY_TEAM,\n",
    "            agenda=target_selection_prompt,\n",
    "            agenda_questions=target_selection_questions,\n",
    "            save_dir=target_selection_dir,\n",
    "            save_name=f\"discussion_{iteration_num + 1}\",\n",
    "            num_rounds=num_rounds,\n",
    "            summaries=target_selection_prior_summaries,\n",
    "            contexts=DRUG_DISCOVERY_CONTEXTS,\n",
    "            temperature=CREATIVE_TEMPERATURE,\n",
    "            model=model,\n",
    "        ) for iteration_num in range(num_iterations)\n",
    "    ])"
   ],
   "id": "73bdd62da2c11e35",
   "outputs": [],
   "execution_count": null
  },
  {
   "metadata": {},
   "cell_type": "code",
   "source": [
    "# Target selection - merge\n",
    "target_selection_summaries = load_summaries(discussion_paths=list(target_selection_dir.glob(\"discussion_*.json\")))\n",
    "print(f\"Number of summaries: {len(target_selection_summaries)}\")\n",
    "\n",
    "run_meeting(\n",
    "    meeting_type=\"individual\",\n",
    "    team_member=PRINCIPAL_INVESTIGATOR,\n",
    "    agenda=MERGE_PROMPT,\n",
    "    save_dir=target_selection_dir,\n",
    "    save_name=\"merged\",\n",
    "    summaries=target_selection_summaries,\n",
    "    contexts=DRUG_DISCOVERY_CONTEXTS,\n",
    "    temperature=CONSISTENT_TEMPERATURE,\n",
    "    model=model,\n",
    ")"
   ],
   "id": "25343df4924684d6",
   "outputs": [],
   "execution_count": null
  },
  {
   "metadata": {},
   "cell_type": "markdown",
   "source": "## Drug Discovery Approach",
   "id": "d500e1ce7a66df3c"
  },
  {
   "metadata": {},
   "cell_type": "code",
   "source": [
    "# Drug discovery approach - prompts\n",
    "drug_discovery_approach_dir = save_dir / \"drug_discovery_approach\"\n",
    "\n",
    "drug_discovery_approach_prompt = \"In the previous meeting, you chose a specific disease target and drug modality (see summary). Now, you need to be more specific about the drug discovery process. Please design a specific drug discovery approach for this target and drug modality. Specify whether to design a new drug de novo or whether to modify and improve an existing but imperfect drug candidate. In either case, decide which exact properties you will optimize for in the drug that you design. Furthermore, please specify exactly what type of machine learning model you will use to accomplish this task. Decide on a specific dataset to train the model, and describe in detail how that model will be used to design new or improved drugs. If improving an existing drug, please specify which drug. Please note: an important constraint is that you only have three months and relatively limited experimental throughput. Remember that you are also constrained by the capabilities of Emerald Cloud Labs (ECL).\"\n",
    "\n",
    "drug_discovery_approach_questions = (\n",
    "    \"What is the specific drug discovery approach that you are proposing?\",\n",
    "    \"What properties will you optimize for in the drug that you design?\",\n",
    "    \"What type of machine learning model will you use for this task?\",\n",
    "    \"What dataset will you use to train the model?\",\n",
    "    \"How will the model be used to design new or improved drugs?\",\n",
    "    \"If improving an existing drug, which drug will you improve?\",\n",
    ")"
   ],
   "id": "639241dcc23c3964",
   "outputs": [],
   "execution_count": null
  },
  {
   "metadata": {},
   "cell_type": "code",
   "source": [
    "# Drug discovery approach - discussion\n",
    "drug_discovery_approach_prior_summaries = load_summaries(\n",
    "    discussion_paths=[project_selection_dir / \"merged.json\", target_selection_dir / \"merged.json\"])\n",
    "print(f\"Number of summaries: {len(drug_discovery_approach_prior_summaries)}\")\n",
    "\n",
    "with concurrent.futures.ThreadPoolExecutor() as executor:\n",
    "    concurrent.futures.wait([\n",
    "        executor.submit(\n",
    "            run_meeting,\n",
    "            meeting_type=\"team\",\n",
    "            team_lead=PRINCIPAL_INVESTIGATOR,\n",
    "            team_members=DRUG_DISCOVERY_TEAM,\n",
    "            agenda=drug_discovery_approach_prompt,\n",
    "            agenda_questions=drug_discovery_approach_questions,\n",
    "            save_dir=drug_discovery_approach_dir,\n",
    "            save_name=f\"discussion_{iteration_num + 1}\",\n",
    "            num_rounds=num_rounds,\n",
    "            summaries=drug_discovery_approach_prior_summaries,\n",
    "            contexts=DRUG_DISCOVERY_CONTEXTS,\n",
    "            temperature=CREATIVE_TEMPERATURE,\n",
    "            model=model,\n",
    "        ) for iteration_num in range(num_iterations)\n",
    "    ])"
   ],
   "id": "984ac572e1eca58",
   "outputs": [],
   "execution_count": null
  },
  {
   "metadata": {},
   "cell_type": "code",
   "source": [
    "# Drug discovery approach selection - merge\n",
    "drug_discovery_approach_summaries = load_summaries(\n",
    "    discussion_paths=list(drug_discovery_approach_dir.glob(\"discussion_*.json\")))\n",
    "print(f\"Number of summaries: {len(drug_discovery_approach_summaries)}\")\n",
    "\n",
    "run_meeting(\n",
    "    meeting_type=\"individual\",\n",
    "    team_member=PRINCIPAL_INVESTIGATOR,\n",
    "    agenda=MERGE_PROMPT,\n",
    "    save_dir=drug_discovery_approach_dir,\n",
    "    save_name=\"merged\",\n",
    "    summaries=drug_discovery_approach_summaries,\n",
    "    contexts=DRUG_DISCOVERY_CONTEXTS,\n",
    "    temperature=CONSISTENT_TEMPERATURE,\n",
    "    model=model,\n",
    ")"
   ],
   "id": "c58c4dcdc0ede5f0",
   "outputs": [],
   "execution_count": null
  },
  {
   "metadata": {},
   "cell_type": "markdown",
   "source": "## Model Architecture",
   "id": "7a8e4114b9d144c0"
  },
  {
   "metadata": {},
   "cell_type": "code",
   "source": [
    "# Model architecture - prompts\n",
    "model_architecture_dir = save_dir / \"model_architecture\"\n",
    "\n",
    "model_architecture_prompt = f\"In the previous meeting, you and your team chose a specific drug discovery approach (see summary). Now, you need to design a specific machine learning model architecture that implements the the general architecture described in the previous meetings. Please specify the exact architecture of the machine learning model that you will use, including the required training data, the exact input/output data format, the neural architecture of the model, the loss function, and any other relevant details. Please be as specific as possible so that the {BIOLOGIST.title} can curate an appropriate dataset for this model and so that you can later implement the model precisely in code (but do not implement it now).\""
   ],
   "id": "4328a3bd2aa322f8",
   "outputs": [],
   "execution_count": null
  },
  {
   "metadata": {},
   "cell_type": "code",
   "source": [
    "# Model architecture - discussion\n",
    "model_architecture_prior_summaries = load_summaries(discussion_paths=[\n",
    "    project_selection_dir / \"merged.json\",\n",
    "    target_selection_dir / \"merged.json\",\n",
    "    drug_discovery_approach_dir / \"merged.json\",\n",
    "])\n",
    "print(f\"Number of summaries: {len(model_architecture_prior_summaries)}\")\n",
    "\n",
    "with concurrent.futures.ThreadPoolExecutor() as executor:\n",
    "    concurrent.futures.wait([\n",
    "        executor.submit(\n",
    "            run_meeting,\n",
    "            meeting_type=\"individual\",\n",
    "            team_member=COMPUTER_SCIENTIST,\n",
    "            agenda=model_architecture_prompt,\n",
    "            save_dir=model_architecture_dir,\n",
    "            save_name=f\"discussion_{iteration_num + 1}\",\n",
    "            temperature=CREATIVE_TEMPERATURE,\n",
    "            num_rounds=num_rounds,\n",
    "            summaries=model_architecture_prior_summaries,\n",
    "            model=model,\n",
    "        ) for iteration_num in range(num_iterations)\n",
    "    ])"
   ],
   "id": "6578375e41a39aa3",
   "outputs": [],
   "execution_count": null
  },
  {
   "metadata": {},
   "cell_type": "code",
   "source": [
    "# Model architecture - merge\n",
    "model_architecture_summaries = load_summaries(discussion_paths=list(model_architecture_dir.glob(\"discussion_*.json\")))\n",
    "print(f\"Number of summaries: {len(model_architecture_summaries)}\")\n",
    "\n",
    "run_meeting(\n",
    "    meeting_type=\"individual\",\n",
    "    team_member=COMPUTER_SCIENTIST,\n",
    "    agenda=MERGE_PROMPT,\n",
    "    save_dir=model_architecture_dir,\n",
    "    save_name=\"merged\",\n",
    "    summaries=model_architecture_summaries,\n",
    "    temperature=CONSISTENT_TEMPERATURE,\n",
    "    model=model,\n",
    ")"
   ],
   "id": "320265c74f193667",
   "outputs": [],
   "execution_count": null
  },
  {
   "metadata": {},
   "cell_type": "markdown",
   "source": "## Data Curation",
   "id": "8d87ab1f4f6bf1ab"
  },
  {
   "metadata": {},
   "cell_type": "code",
   "source": [
    "# Data curation - prompts\n",
    "data_curation_dir = save_dir / \"data_curation\"\n",
    "\n",
    "data_curation_prompt = f\"In the previous meetings, you and your team chose a specific drug discovery approach and designed a machine learning model architecture (see summary). Now, you need to curate the dataset that the {COMPUTER_SCIENTIST.title} will use to train their machine learning model. The dataset you curate must be specifically designed for this machine learning model, with relevant data in the appropriate form for the model and without any extraneous data. Please specify the exact data source or sources that you will use, the precise steps needed to curate this dataset, and what the dataset will look like once it is curated. Please explain how this dataset is appropriate for training the machine learning model that your team has chosen.\""
   ],
   "id": "c9aca96c873162d9",
   "outputs": [],
   "execution_count": null
  },
  {
   "metadata": {},
   "cell_type": "code",
   "source": [
    "# Data curation - discussion\n",
    "data_curation_prior_summaries = load_summaries(discussion_paths=[\n",
    "    project_selection_dir / \"merged.json\",\n",
    "    target_selection_dir / \"merged.json\",\n",
    "    drug_discovery_approach_dir / \"merged.json\",\n",
    "    model_architecture_dir / \"merged.json\",\n",
    "])\n",
    "print(f\"Number of summaries: {len(data_curation_prior_summaries)}\")\n",
    "\n",
    "with concurrent.futures.ThreadPoolExecutor() as executor:\n",
    "    concurrent.futures.wait([\n",
    "        executor.submit(\n",
    "            run_meeting,\n",
    "            meeting_type=\"individual\",\n",
    "            team_member=BIOLOGIST,\n",
    "            agenda=data_curation_prompt,\n",
    "            save_dir=data_curation_dir,\n",
    "            save_name=f\"discussion_{iteration_num + 1}\",\n",
    "            temperature=CREATIVE_TEMPERATURE,\n",
    "            num_rounds=num_rounds,\n",
    "            summaries=data_curation_prior_summaries,\n",
    "            model=model,\n",
    "        ) for iteration_num in range(num_iterations)\n",
    "    ])"
   ],
   "id": "6a25915be6c2075d",
   "outputs": [],
   "execution_count": null
  },
  {
   "metadata": {},
   "cell_type": "code",
   "source": [
    "# Data curation - merge\n",
    "data_curation_summaries = load_summaries(discussion_paths=list(data_curation_dir.glob(\"discussion_*.json\")))\n",
    "print(f\"Number of summaries: {len(data_curation_summaries)}\")\n",
    "\n",
    "run_meeting(\n",
    "    meeting_type=\"individual\",\n",
    "    team_member=BIOLOGIST,\n",
    "    agenda=MERGE_PROMPT,\n",
    "    save_dir=data_curation_dir,\n",
    "    save_name=\"merged\",\n",
    "    summaries=data_curation_summaries,\n",
    "    temperature=CONSISTENT_TEMPERATURE,\n",
    "    model=model,\n",
    ")"
   ],
   "id": "810de3478136e154",
   "outputs": [],
   "execution_count": null
  },
  {
   "metadata": {},
   "cell_type": "markdown",
   "source": "## Model Implementation",
   "id": "2af21f4a969c83ee"
  },
  {
   "metadata": {},
   "cell_type": "code",
   "source": [
    "# Model implementation - prompts\n",
    "model_implementation_dir = save_dir / \"model_implementation\"\n",
    "\n",
    "model_implementation_prompt = f\"In the previous meeting, you designed a machine learning model architecture and the {BIOLOGIST.title} curated a dataset for training the model. Now, please implement the model precisely in code. Your implementation must be complete and self-sufficient (besides relevant imports). You must implement the model architecture as well as any code required to train, evaluate, and run the model.\""
   ],
   "id": "ff733e71fcd0d53b",
   "outputs": [],
   "execution_count": null
  },
  {
   "metadata": {},
   "cell_type": "code",
   "source": [
    "# Model implementation - discussion\n",
    "model_implementation_prior_summaries = load_summaries(discussion_paths=[\n",
    "    project_selection_dir / \"merged.json\",\n",
    "    target_selection_dir / \"merged.json\",\n",
    "    drug_discovery_approach_dir / \"merged.json\",\n",
    "    model_architecture_dir / \"merged.json\",\n",
    "    data_curation_dir / \"merged.json\",\n",
    "])\n",
    "print(f\"Number of summaries: {len(model_implementation_prior_summaries)}\")\n",
    "\n",
    "with concurrent.futures.ThreadPoolExecutor() as executor:\n",
    "    concurrent.futures.wait([\n",
    "        executor.submit(\n",
    "            run_meeting,\n",
    "            meeting_type=\"individual\",\n",
    "            team_member=COMPUTER_SCIENTIST,\n",
    "            agenda=model_implementation_prompt,\n",
    "            save_dir=model_implementation_dir,\n",
    "            save_name=f\"discussion_{iteration_num + 1}\",\n",
    "            temperature=CREATIVE_TEMPERATURE,\n",
    "            num_rounds=num_rounds,\n",
    "            summaries=model_implementation_prior_summaries,\n",
    "            model=model,\n",
    "        ) for iteration_num in range(num_iterations)\n",
    "    ])"
   ],
   "id": "9e9edc272a24554e",
   "outputs": [],
   "execution_count": null
  },
  {
   "metadata": {},
   "cell_type": "code",
   "source": [
    "# Model implementation - merge\n",
    "model_implementation_summaries = load_summaries(discussion_paths=list(model_implementation_dir.glob(\"discussion_*.json\")))\n",
    "print(f\"Number of summaries: {len(model_implementation_summaries)}\")\n",
    "\n",
    "run_meeting(\n",
    "    meeting_type=\"individual\",\n",
    "    team_member=COMPUTER_SCIENTIST,\n",
    "    agenda=MERGE_PROMPT,\n",
    "    save_dir=model_implementation_dir,\n",
    "    save_name=\"merged\",\n",
    "    summaries=model_implementation_summaries,\n",
    "    temperature=CONSISTENT_TEMPERATURE,\n",
    "    model=model,\n",
    ")"
   ],
   "id": "ad4485a32083af69",
   "outputs": [],
   "execution_count": null
  },
  {
   "metadata": {},
   "cell_type": "code",
   "source": "",
   "id": "c3820d402f0df3cf",
   "outputs": [],
   "execution_count": null
  }
 ],
 "metadata": {
  "kernelspec": {
   "display_name": "Python 3",
   "language": "python",
   "name": "python3"
  },
  "language_info": {
   "codemirror_mode": {
    "name": "ipython",
    "version": 2
   },
   "file_extension": ".py",
   "mimetype": "text/x-python",
   "name": "python",
   "nbconvert_exporter": "python",
   "pygments_lexer": "ipython2",
   "version": "2.7.6"
  }
 },
 "nbformat": 4,
 "nbformat_minor": 5
}
