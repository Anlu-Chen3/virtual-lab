{
 "cells": [
  {
   "cell_type": "code",
   "id": "initial_id",
   "metadata": {
    "collapsed": true
   },
   "source": [
    "import concurrent.futures\n",
    "from pathlib import Path\n",
    "\n",
    "from agent import Agent\n",
    "from constants import CONSISTENT_TEMPERATURE, CREATIVE_TEMPERATURE\n",
    "from prompts import (\n",
    "    CODING_RULES,\n",
    "    DRUG_DISCOVERY_CONTEXTS,\n",
    "    PRINCIPAL_INVESTIGATOR,\n",
    "    SCIENTIFIC_CRITIC,\n",
    "    create_merge_prompt,\n",
    ")\n",
    "from run_meeting import run_meeting\n",
    "from utils import load_summaries"
   ],
   "outputs": [],
   "execution_count": null
  },
  {
   "metadata": {},
   "cell_type": "code",
   "source": [
    "# Set up key parameters\n",
    "num_iterations = 5\n",
    "num_rounds = 3\n",
    "save_dir = Path(\"drug_discovery\")\n",
    "model = \"gpt-4o-2024-08-06\"\n",
    "background_prompt = \"You are working on a research project to use machine learning for drug discovery. Your goals are the following: (1) the project must have high clinical value, meaning the research contributes to helping patients, (2) the project must include a scientifically impactful application of machine learning to drug discovery, and (3) the project must use Emerald Cloud Labs (ECL) for all experimental validation.\""
   ],
   "id": "fa2170c27002a35f",
   "outputs": [],
   "execution_count": null
  },
  {
   "metadata": {},
   "cell_type": "markdown",
   "source": "## Select team members",
   "id": "89365d1eb6b6b9d7"
  },
  {
   "metadata": {},
   "cell_type": "code",
   "source": [
    "# Select team members - prompts\n",
    "team_selection_dir = save_dir / \"team_selection\"\n",
    "\n",
    "team_selection_agenda = f\"\"\"{background_prompt} You need to select a team of three scientists to help you with this project. Please select the team members that you would like to invite to work on the project. Please list the team members in the following format, using the team member below as an example. You should not include yourself (Principal Investigator) in the list.\n",
    "\n",
    "Agent(\n",
    "    title=\"Principal Investigator\",\n",
    "    expertise=\"applying artificial intelligence to biomedical research\",\n",
    "    goal=\"perform research in your area of expertise that maximizes the scientific impact of the work\",\n",
    "    role=\"lead a team of experts to solve an important problem in artificial intelligence for biomedicine, make key decisions about the project direction based on team member input, and manage the project timeline and resources\",\n",
    ")\n",
    "\"\"\""
   ],
   "id": "15c609f27b405f5",
   "outputs": [],
   "execution_count": null
  },
  {
   "metadata": {},
   "cell_type": "code",
   "source": [
    "# Select team members - discussion\n",
    "with concurrent.futures.ThreadPoolExecutor() as executor:\n",
    "    concurrent.futures.wait([\n",
    "        executor.submit(\n",
    "            run_meeting,\n",
    "            meeting_type=\"individual\",\n",
    "            team_member=PRINCIPAL_INVESTIGATOR,\n",
    "            agenda=team_selection_agenda,\n",
    "            save_dir=team_selection_dir,\n",
    "            save_name=f\"discussion_{iteration_num + 1}\",\n",
    "            temperature=CREATIVE_TEMPERATURE,\n",
    "            model=model,\n",
    "        ) for iteration_num in range(num_iterations)\n",
    "    ])"
   ],
   "id": "4660be92fb90f463",
   "outputs": [],
   "execution_count": null
  },
  {
   "metadata": {},
   "cell_type": "code",
   "source": [
    "# Select team members - merge\n",
    "team_selection_summaries = load_summaries(discussion_paths=list(team_selection_dir.glob(\"discussion_*.json\")))\n",
    "print(f\"Number of summaries: {len(team_selection_summaries)}\")\n",
    "\n",
    "team_selection_merge_prompt = create_merge_prompt(agenda=team_selection_agenda)\n",
    "\n",
    "run_meeting(\n",
    "    meeting_type=\"individual\",\n",
    "    team_member=PRINCIPAL_INVESTIGATOR,\n",
    "    summaries=team_selection_summaries,\n",
    "    agenda=team_selection_merge_prompt,\n",
    "    save_dir=team_selection_dir,\n",
    "    save_name=\"merged\",\n",
    "    temperature=CONSISTENT_TEMPERATURE,\n",
    "    model=model,\n",
    ")"
   ],
   "id": "711163fc7b44b427",
   "outputs": [],
   "execution_count": null
  },
  {
   "metadata": {},
   "cell_type": "code",
   "source": [
    "# Add team members\n",
    "COMPUTATIONAL_CHEMIST = Agent(\n",
    "    title=\"Computational Chemist\",\n",
    "    expertise=\"molecular modeling, cheminformatics, and machine learning applications in drug design\",\n",
    "    goal=\"develop and optimize computational models to predict molecular interactions and optimize drug candidate structures\",\n",
    "    role=\"design and implement molecular simulations and predictive algorithms to identify potential drug candidates, ensuring integration with machine learning models\"\n",
    ")\n",
    "\n",
    "MACHINE_LEARNING_SCIENTIST = Agent(\n",
    "    title=\"Machine Learning Scientist\",\n",
    "    expertise=\"deep learning, neural networks, and data-driven model development\",\n",
    "    goal=\"create robust machine learning models that can efficiently predict drug efficacy and safety profiles\",\n",
    "    role=\"develop novel machine learning models tailored for drug discovery, collaborate on integrating biological and chemical data, and optimize models for predictive accuracy and performance\"\n",
    ")\n",
    "\n",
    "EXPERIMENTAL_PHARMACOLOGIST = Agent(\n",
    "    title=\"Experimental Pharmacologist\",\n",
    "    expertise=\"in vitro and in vivo pharmacology, assay development, and high-throughput screening\",\n",
    "    goal=\"design and oversee the experimental validation of machine learning predictions using the Emerald Cloud Labs platform\",\n",
    "    role=\"coordinate and conduct experimental assays that validate the predictions of machine learning models, ensuring robust and reproducible results that align with clinical objectives\"\n",
    ")\n",
    "\n",
    "team_members = (\n",
    "    COMPUTATIONAL_CHEMIST,\n",
    "    MACHINE_LEARNING_SCIENTIST,\n",
    "    EXPERIMENTAL_PHARMACOLOGIST,\n",
    "    SCIENTIFIC_CRITIC,\n",
    ")"
   ],
   "id": "2258b9339a4a4b7c",
   "outputs": [],
   "execution_count": null
  },
  {
   "metadata": {},
   "cell_type": "markdown",
   "source": "## Drug modality",
   "id": "5d38d39ed0398d92"
  },
  {
   "metadata": {},
   "cell_type": "code",
   "source": [
    "# Drug modality - prompts\n",
    "drug_modality_dir = save_dir / \"drug_modality\"\n",
    "\n",
    "drug_modality_agenda = f\"{background_prompt} In this meeting, you need to select a specific drug modality to pursue. Without deciding on a specific disease or target yet, please determine what drug modality would be most appropriate given the following considerations. (1) The project must have high clinical impact. (2)  the goal of high clinical impact, the use of machine learning, and the capabilities of Emerald Cloud Labs (ECL). Please be as specific as possible in terms of the type of drug modality and the rationale for choosing it.\"\n",
    "\n",
    "drug_modality_questions = (\n",
    "    \"What is the specific drug modality that you are proposing?\",\n",
    ")"
   ],
   "id": "aa6b83d286c2819",
   "outputs": [],
   "execution_count": null
  },
  {
   "metadata": {},
   "cell_type": "code",
   "source": [
    "# Project selection - discussion\n",
    "with concurrent.futures.ThreadPoolExecutor() as executor:\n",
    "    concurrent.futures.wait([\n",
    "        executor.submit(\n",
    "            run_meeting,\n",
    "            meeting_type=\"team\",\n",
    "            team_lead=PRINCIPAL_INVESTIGATOR,\n",
    "            team_members=team_members,\n",
    "            contexts=DRUG_DISCOVERY_CONTEXTS,\n",
    "            agenda=drug_modality_agenda,\n",
    "            agenda_questions=drug_modality_questions,\n",
    "            save_dir=drug_modality_dir,\n",
    "            save_name=f\"discussion_{iteration_num + 1}\",\n",
    "            temperature=CREATIVE_TEMPERATURE,\n",
    "            model=model,\n",
    "            num_rounds=num_rounds,\n",
    "        ) for iteration_num in range(num_iterations)\n",
    "    ])"
   ],
   "id": "6f69960a07f1458c",
   "outputs": [],
   "execution_count": null
  },
  {
   "metadata": {},
   "cell_type": "code",
   "source": [
    "# Project selection - merge\n",
    "drug_modality_summaries = load_summaries(discussion_paths=list(drug_modality_dir.glob(\"discussion_*.json\")))\n",
    "print(f\"Number of summaries: {len(drug_modality_summaries)}\")\n",
    "\n",
    "drug_modality_merge_prompt = create_merge_prompt(\n",
    "    agenda=drug_modality_agenda,\n",
    "    agenda_questions=drug_modality_questions,\n",
    ")\n",
    "\n",
    "run_meeting(\n",
    "    meeting_type=\"individual\",\n",
    "    team_member=PRINCIPAL_INVESTIGATOR,\n",
    "    contexts=DRUG_DISCOVERY_CONTEXTS,\n",
    "    summaries=drug_modality_summaries,\n",
    "    agenda=drug_modality_merge_prompt,\n",
    "    save_dir=drug_modality_dir,\n",
    "    save_name=\"merged\",\n",
    "    temperature=CONSISTENT_TEMPERATURE,\n",
    "    model=model,\n",
    "    num_rounds=num_rounds,\n",
    ")"
   ],
   "id": "bbc2d0e83d65fd12",
   "outputs": [],
   "execution_count": null
  },
  {
   "metadata": {},
   "cell_type": "code",
   "source": "drug_modality_prompt = \"Your team previously decided to develop peptide-based therapeutics.\"",
   "id": "1c4404491d9f8bd6",
   "outputs": [],
   "execution_count": null
  },
  {
   "metadata": {},
   "cell_type": "markdown",
   "source": "## Target Selection",
   "id": "216a2172e0579ff1"
  },
  {
   "metadata": {},
   "cell_type": "code",
   "source": [
    "# Target selection - prompts\n",
    "target_selection_dir = save_dir / \"target_selection\"\n",
    "\n",
    "target_selection_agenda = f\"{background_prompt} {drug_modality_prompt} Now you need to select a specific disease and a specific drug target for that disease. Please suggest three potential disease/target pairs would be most appropriate for peptide-based therapeutics.\"\n",
    "\n",
    "target_selection_questions = (\n",
    "    \"What specific disease/target pairs are you proposing (list three)?\",\n",
    "    \"Why are these diseases and targets appropriate for peptide-based therapeutics?\",\n",
    "    \"For each disease/target pair, is there an existing peptide drug that can be improved or will you design a new peptide de novo?\",\n",
    ")"
   ],
   "id": "e6292f80175aeb20",
   "outputs": [],
   "execution_count": null
  },
  {
   "metadata": {},
   "cell_type": "code",
   "source": [
    "# Target selection - discussion\n",
    "target_selection_prior_summaries = load_summaries(discussion_paths=[drug_modality_dir / \"merged.json\"])\n",
    "print(f\"Number of summaries: {len(target_selection_prior_summaries)}\")\n",
    "\n",
    "with concurrent.futures.ThreadPoolExecutor() as executor:\n",
    "    concurrent.futures.wait([\n",
    "        executor.submit(\n",
    "            run_meeting,\n",
    "            meeting_type=\"team\",\n",
    "            team_lead=PRINCIPAL_INVESTIGATOR,\n",
    "            team_members=team_members,\n",
    "            contexts=DRUG_DISCOVERY_CONTEXTS,\n",
    "            summaries=target_selection_prior_summaries,\n",
    "            agenda=target_selection_agenda,\n",
    "            agenda_questions=target_selection_questions,\n",
    "            save_dir=target_selection_dir,\n",
    "            save_name=f\"discussion_{iteration_num + 1}\",\n",
    "            temperature=CREATIVE_TEMPERATURE,\n",
    "            model=model,\n",
    "            num_rounds=num_rounds,\n",
    "        ) for iteration_num in range(num_iterations)\n",
    "    ])"
   ],
   "id": "73bdd62da2c11e35",
   "outputs": [],
   "execution_count": null
  },
  {
   "metadata": {},
   "cell_type": "code",
   "source": [
    "# Target selection - merge\n",
    "target_selection_summaries = load_summaries(discussion_paths=list(target_selection_dir.glob(\"discussion_*.json\")))\n",
    "print(f\"Number of summaries: {len(target_selection_summaries)}\")\n",
    "\n",
    "target_selection_merge_prompt = create_merge_prompt(\n",
    "    agenda=target_selection_agenda,\n",
    "    agenda_questions=target_selection_questions,\n",
    ")\n",
    "\n",
    "run_meeting(\n",
    "    meeting_type=\"individual\",\n",
    "    team_member=PRINCIPAL_INVESTIGATOR,\n",
    "    contexts=DRUG_DISCOVERY_CONTEXTS,\n",
    "    summaries=target_selection_summaries,\n",
    "    agenda=target_selection_merge_prompt,\n",
    "    save_dir=target_selection_dir,\n",
    "    save_name=\"merged\",\n",
    "    temperature=CONSISTENT_TEMPERATURE,\n",
    "    model=model,\n",
    "    num_rounds=num_rounds,\n",
    ")"
   ],
   "id": "25343df4924684d6",
   "outputs": [],
   "execution_count": null
  },
  {
   "metadata": {},
   "cell_type": "code",
   "source": "disease_target_prompt = \"Your team previously decided to pursue Type 2 Diabetes by improving existing GLP-1 analogs with dual-agonist properties to enhance efficacy and stability\"",
   "id": "ad1d6ada5293160a",
   "outputs": [],
   "execution_count": null
  },
  {
   "metadata": {},
   "cell_type": "markdown",
   "source": "## Data curation",
   "id": "ebfcde8f16cb1bd4"
  },
  {
   "metadata": {},
   "cell_type": "code",
   "source": [
    "# Data curation - prompts\n",
    "data_curation_dir = save_dir / \"data_curation\"\n",
    "\n",
    "data_curation_agenda = f\"{background_prompt} {drug_modality_prompt} {disease_target_prompt} Now you need to collect existing data for GLP-1. Please explain where to find existing GLP-1 analog data that include peptide sequences with experimentally determined efficacy and stability. Specify 2-4 databases and how to identify and extract the relevant data from each database.\""
   ],
   "id": "db1878c96cf870e1",
   "outputs": [],
   "execution_count": null
  },
  {
   "metadata": {},
   "cell_type": "code",
   "source": [
    "# Data curation - discussion\n",
    "with concurrent.futures.ThreadPoolExecutor() as executor:\n",
    "    concurrent.futures.wait([\n",
    "        executor.submit(\n",
    "            run_meeting,\n",
    "            meeting_type=\"individual\",\n",
    "            team_member=EXPERIMENTAL_PHARMACOLOGIST,\n",
    "            agenda=data_curation_agenda,\n",
    "            save_dir=data_curation_dir,\n",
    "            save_name=f\"discussion_{iteration_num + 1}\",\n",
    "            temperature=CREATIVE_TEMPERATURE,\n",
    "            model=model,\n",
    "            num_rounds=num_rounds,\n",
    "        ) for iteration_num in range(num_iterations)\n",
    "    ])"
   ],
   "id": "2a95c803c58ccc3d",
   "outputs": [],
   "execution_count": null
  },
  {
   "metadata": {},
   "cell_type": "code",
   "source": [
    "# Data curation - merge\n",
    "data_curation_summaries = load_summaries(discussion_paths=list(data_curation_dir.glob(\"discussion_*.json\")))\n",
    "print(f\"Number of summaries: {len(data_curation_summaries)}\")\n",
    "\n",
    "data_curation_merge_prompt = create_merge_prompt(agenda=data_curation_agenda)\n",
    "\n",
    "run_meeting(\n",
    "    meeting_type=\"individual\",\n",
    "    team_member=EXPERIMENTAL_PHARMACOLOGIST,\n",
    "    summaries=data_curation_summaries,\n",
    "    agenda=data_curation_merge_prompt,\n",
    "    save_dir=data_curation_dir,\n",
    "    save_name=\"merged\",\n",
    "    temperature=CONSISTENT_TEMPERATURE,\n",
    "    model=model,\n",
    ")"
   ],
   "id": "e676fc40551f5ba7",
   "outputs": [],
   "execution_count": null
  },
  {
   "metadata": {},
   "cell_type": "markdown",
   "source": "## Model design",
   "id": "69b7645ea3c74d2d"
  },
  {
   "metadata": {},
   "cell_type": "code",
   "source": "",
   "id": "93281989eaf915d4",
   "outputs": [],
   "execution_count": null
  }
 ],
 "metadata": {
  "kernelspec": {
   "display_name": "Python 3",
   "language": "python",
   "name": "python3"
  },
  "language_info": {
   "codemirror_mode": {
    "name": "ipython",
    "version": 2
   },
   "file_extension": ".py",
   "mimetype": "text/x-python",
   "name": "python",
   "nbconvert_exporter": "python",
   "pygments_lexer": "ipython2",
   "version": "2.7.6"
  }
 },
 "nbformat": 4,
 "nbformat_minor": 5
}
