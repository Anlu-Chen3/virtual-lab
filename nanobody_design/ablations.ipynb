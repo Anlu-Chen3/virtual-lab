{
 "cells": [
  {
   "cell_type": "code",
   "execution_count": 1,
   "metadata": {},
   "outputs": [],
   "source": [
    "import concurrent.futures\n",
    "\n",
    "from virtual_lab.constants import CONSISTENT_TEMPERATURE, CREATIVE_TEMPERATURE\n",
    "from virtual_lab.prompts import CODING_RULES, create_merge_prompt\n",
    "from virtual_lab.run_meeting import run_meeting\n",
    "from virtual_lab.utils import load_summaries\n",
    "\n",
    "from nanobody_constants import (\n",
    "    background_prompt,\n",
    "    nanobody_prompt,\n",
    "    discussions_dir,\n",
    "    discussions_phase_to_dir,\n",
    "    generic_agent,\n",
    "    principal_investigator,\n",
    "    immunologist,\n",
    "    immunologist_ft,\n",
    "    team_members,\n",
    "    num_rounds,\n",
    "    num_iterations,\n",
    ")"
   ]
  },
  {
   "cell_type": "markdown",
   "metadata": {},
   "source": [
    "## Setup"
   ]
  },
  {
   "cell_type": "code",
   "execution_count": 2,
   "metadata": {},
   "outputs": [],
   "source": [
    "ablations_dir = discussions_dir / \"ablations\"\n",
    "ablations_dir.mkdir(parents=True, exist_ok=True)"
   ]
  },
  {
   "cell_type": "markdown",
   "metadata": {},
   "source": [
    "## Generic agent vs specialized agent vs finetuned agent (knowledge)"
   ]
  },
  {
   "cell_type": "markdown",
   "metadata": {},
   "source": [
    "Below compares the knowledge of a generic agent, a specialized agent (Immunologist), and a finetuned agent (Immunologist-FT)."
   ]
  },
  {
   "cell_type": "code",
   "execution_count": null,
   "metadata": {},
   "outputs": [],
   "source": [
    "# Run meetings with base and specialized agents\n",
    "agenda = \"What are some of the RBD mutations of the KP.3 and JN.1 variants of the SARS-CoV-2 spike protein that do not appear in previous variants?\"\n",
    "\n",
    "agents_names = [\n",
    "    (generic_agent, \"generic\"),\n",
    "    (immunologist, \"immunologist\"),\n",
    "    (immunologist_ft, \"immunologist_ft\"),\n",
    "]\n",
    "\n",
    "for agent, agent_name in agents_names:\n",
    "    run_meeting(\n",
    "        meeting_type=\"individual\", \n",
    "        team_member=agent,\n",
    "        agenda=agenda,\n",
    "        save_dir=ablations_dir,\n",
    "        save_name=f\"knowledge_{agent_name}\",\n",
    "        temperature=CONSISTENT_TEMPERATURE,\n",
    "    )"
   ]
  },
  {
   "cell_type": "markdown",
   "metadata": {},
   "source": [
    "## Generic agent vs specialized agent vs multi-agent (coding)"
   ]
  },
  {
   "cell_type": "markdown",
   "metadata": {},
   "source": [
    "Below runs a generic agent on the AlphaFold-Multimer coding task. For the specialized agent and multi-agent comparison, see `discussions/alphafold/discussion_4.md`. The first round answer is the product of just the specialized agent (Computational Biologist) while the final round answer is the product of the multi-agent team (Computational Biologist and Scientific Critic)."
   ]
  },
  {
   "cell_type": "code",
   "execution_count": null,
   "metadata": {},
   "outputs": [],
   "source": [
    "agenda = f\"{background_prompt} {nanobody_prompt} Now you must use AlphaFold-Multimer to predict the structure of a nanobody-antigen complex and evaluate its binding. I will run AlphaFold-Multimer on several nanobody-antigen complexes and you need to process the outputs. Please write a complete Python script that takes as input a directory containing PDB files where each PDB file contains one nanobody-antigen complex predicted by AlphaFold-Multimer and outputs a CSV file containing the AlphaFold-Multimer confidence of each nanobody-antigen complex in terms of the interface pLDDT.\"\n",
    "\n",
    "run_meeting(\n",
    "    meeting_type=\"individual\", \n",
    "    team_member=generic_agent,\n",
    "    agenda=agenda,\n",
    "    agenda_rules=CODING_RULES,\n",
    "    save_dir=ablations_dir,\n",
    "    save_name=\"alphafold_generic\",\n",
    "    temperature=CREATIVE_TEMPERATURE,\n",
    ")"
   ]
  },
  {
   "cell_type": "markdown",
   "metadata": {},
   "source": [
    "## Prompt engineering"
   ]
  },
  {
   "cell_type": "markdown",
   "metadata": {},
   "source": [
    "Illustrate the effect of prompt engineering on tool selection. For the answer using the original agenda and agenda questions, see `discussions/tools_selection/merged.md`."
   ]
  },
  {
   "cell_type": "code",
   "execution_count": null,
   "metadata": {},
   "outputs": [],
   "source": [
    "# Tools selection - setup\n",
    "tools_selection_prior_summaries = load_summaries(\n",
    "    discussion_paths=[discussions_phase_to_dir[\"project_specification\"] / \"merged.json\"])\n",
    "print(f\"Number of prior summaries: {len(tools_selection_prior_summaries)}\")\n",
    "\n",
    "tools_selection_dir = ablations_dir / \"tools_selection\""
   ]
  },
  {
   "cell_type": "code",
   "execution_count": 4,
   "metadata": {},
   "outputs": [],
   "source": [
    "# Tools selection - agendas and questions\n",
    "tools_selection_agendas = [\n",
    "    f\"{background_prompt} {nanobody_prompt} Now you need to select machine learning and/or computational tools to implement this nanobody design approach. Please list several tools (5-10) that would be relevant to this nanobody design approach and how they could be used in the context of this project.\",\n",
    "    f\"{background_prompt} {nanobody_prompt} Now you need to select tools to implement this nanobody design approach. Please list several tools (5-10) that would be relevant to this nanobody design approach and how they could be used in the context of this project.\",\n",
    "    f\"{background_prompt} {nanobody_prompt} Now you need to select tools to implement this nanobody design approach. Please list several tools that would be relevant to this nanobody design approach and how they could be used in the context of this project.\",\n",
    "    f\"{background_prompt} {nanobody_prompt} Now you need to select tools to implement this nanobody design approach. Please list several tools that would be relevant to this nanobody design approach.\",\n",
    "]\n",
    "\n",
    "tools_selection_questions = [\n",
    "    (\n",
    "        \"What machine learning and/or computational tools could be used for this nanobody design approach (list 5-10)?\",\n",
    "        \"For each tool, how could it be used for designing modified nanobodies?\",\n",
    "    ),\n",
    "    (\n",
    "        \"What tools could be used for this nanobody design approach (list 5-10)?\",\n",
    "        \"For each tool, how could it be used for designing modified nanobodies?\",\n",
    "    ),\n",
    "    (\n",
    "        \"What tools could be used for this nanobody design approach?\",\n",
    "        \"For each tool, how could it be used for designing modified nanobodies?\",\n",
    "    ),\n",
    "    (\n",
    "        \"What tools could be used for this nanobody design approach?\",\n",
    "    ),\n",
    "]"
   ]
  },
  {
   "cell_type": "code",
   "execution_count": null,
   "metadata": {},
   "outputs": [],
   "source": [
    "# Tools selection – ablations\n",
    "for i, (agenda, agenda_questions) in enumerate(zip(tools_selection_agendas, tools_selection_questions)):\n",
    "    if i != 3:\n",
    "        continue\n",
    "\n",
    "    # Create save directory\n",
    "    save_dir = tools_selection_dir / f\"prompt_{i + 1}\"\n",
    "    save_dir.mkdir(parents=True, exist_ok=True)\n",
    "\n",
    "    # Run meetings\n",
    "    with concurrent.futures.ThreadPoolExecutor() as executor:\n",
    "        concurrent.futures.wait([\n",
    "            executor.submit(\n",
    "                run_meeting,\n",
    "                meeting_type=\"team\",\n",
    "                team_lead=principal_investigator,\n",
    "                team_members=team_members,\n",
    "                summaries=tools_selection_prior_summaries,\n",
    "                agenda=agenda,\n",
    "                agenda_questions=agenda_questions,\n",
    "                save_dir=save_dir,\n",
    "                save_name=f\"discussion_{iteration_num + 1}\",\n",
    "                temperature=CREATIVE_TEMPERATURE,\n",
    "                num_rounds=num_rounds,\n",
    "            ) for iteration_num in range(num_iterations)\n",
    "        ])\n",
    "\n",
    "    # Load summaries\n",
    "    summaries = load_summaries(discussion_paths=list(save_dir.glob(\"discussion_*.json\")))\n",
    "    print(f\"Number of summaries: {len(summaries)}\")\n",
    "\n",
    "    # Create merge prompt\n",
    "    merge_prompt = create_merge_prompt(agenda=agenda, agenda_questions=agenda_questions)\n",
    "\n",
    "    # Run merge meeting\n",
    "    run_meeting(\n",
    "        meeting_type=\"individual\",\n",
    "        team_member=principal_investigator,\n",
    "        summaries=summaries,\n",
    "        agenda=merge_prompt,\n",
    "        save_dir=save_dir,\n",
    "        save_name=\"merged\",\n",
    "        temperature=CONSISTENT_TEMPERATURE,\n",
    "        num_rounds=num_rounds,\n",
    "    )"
   ]
  },
  {
   "cell_type": "markdown",
   "metadata": {},
   "source": [
    "## Parallel meetings"
   ]
  },
  {
   "cell_type": "markdown",
   "metadata": {},
   "source": [
    "To see the effect of parallel meetings, simply compare the individual discussions (e.g., `discussion_1.md` through `discussion_5.md`) with the result of the parallel meeting (e.g., `merged.md`) for any of the discussions."
   ]
  }
 ],
 "metadata": {
  "kernelspec": {
   "display_name": "virtual_lab",
   "language": "python",
   "name": "python3"
  },
  "language_info": {
   "codemirror_mode": {
    "name": "ipython",
    "version": 3
   },
   "file_extension": ".py",
   "mimetype": "text/x-python",
   "name": "python",
   "nbconvert_exporter": "python",
   "pygments_lexer": "ipython3",
   "version": "3.12.8"
  }
 },
 "nbformat": 4,
 "nbformat_minor": 2
}
