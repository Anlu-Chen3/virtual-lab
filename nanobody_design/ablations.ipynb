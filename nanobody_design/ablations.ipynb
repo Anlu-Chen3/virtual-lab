{
 "cells": [
  {
   "cell_type": "code",
   "execution_count": 13,
   "metadata": {},
   "outputs": [],
   "source": [
    "from virtual_lab.agent import Agent\n",
    "from virtual_lab.constants import CONSISTENT_TEMPERATURE, CREATIVE_TEMPERATURE\n",
    "from virtual_lab.prompts import CODING_RULES\n",
    "from virtual_lab.run_meeting import run_meeting\n",
    "\n",
    "from nanobody_constants import (\n",
    "    background_prompt,\n",
    "    nanobody_prompt,\n",
    "    discussions_dir,\n",
    "    model,\n",
    "    num_rounds,\n",
    "    principal_investigator,\n",
    "    scientific_critic,\n",
    "    immunologist,\n",
    "    machine_learning_specialist,\n",
    "    computational_biologist,\n",
    ")"
   ]
  },
  {
   "cell_type": "code",
   "execution_count": 3,
   "metadata": {},
   "outputs": [],
   "source": [
    "# Setup up topic to model mapping\n",
    "topic_to_model = {\n",
    "    \"AlphaFold-Multimer\": \"ft:gpt-4o-mini-2024-07-18:personal:alphafold-multimer:ArGNLO1a\",\n",
    "    \"ESM\": \"ft:gpt-4o-mini-2024-07-18:personal:esm:ArFrZ4tt\",\n",
    "    \"Rosetta\": \"ft:gpt-4o-mini-2024-07-18:personal:rosetta:ArFx2nis\",\n",
    "    \"SARS-CoV-2 spike protein\": \"ft:gpt-4o-mini-2024-07-18:personal:sars-cov-2-spike-protein:ArG9fZwz\",\n",
    "    \"SARS-CoV-2 variants KP.3 and JN.1\": \"ft:gpt-4o-mini-2024-07-18:personal:sars-cov-2-variants-kp-3-and-jn-1:ArGVyHfW\",\n",
    "    \"nanobodies\": \"ft:gpt-4o-mini-2024-07-18:personal:nanobodies:ArGjRZ9R\",\n",
    "}"
   ]
  },
  {
   "cell_type": "code",
   "execution_count": 4,
   "metadata": {},
   "outputs": [],
   "source": [
    "# Setup up topic to agent mapping\n",
    "topic_to_agent = {\n",
    "    \"AlphaFold-Multimer\": computational_biologist,\n",
    "    \"ESM\": machine_learning_specialist,\n",
    "    \"Rosetta\": computational_biologist,\n",
    "    \"SARS-CoV-2 spike protein\": immunologist,\n",
    "    \"SARS-CoV-2 variants KP.3 and JN.1\": immunologist,\n",
    "    \"nanobodies\": immunologist,\n",
    "}"
   ]
  },
  {
   "cell_type": "code",
   "execution_count": 5,
   "metadata": {},
   "outputs": [],
   "source": [
    "# Create specialized agents for each topic\n",
    "specialized_agents = {}\n",
    "for topic, base_agent in topic_to_agent.items():\n",
    "    specialized_agent = Agent(\n",
    "        title=f\"{topic} {base_agent.title}\",\n",
    "        expertise=base_agent.expertise,\n",
    "        goal=base_agent.goal,\n",
    "        role=base_agent.role,\n",
    "        model=topic_to_model[topic],\n",
    "    )\n",
    "    specialized_agents[topic] = specialized_agent"
   ]
  },
  {
   "cell_type": "code",
   "execution_count": 6,
   "metadata": {},
   "outputs": [],
   "source": [
    "ablations_dir = discussions_dir / \"ablations\"\n",
    "ablations_dir.mkdir(parents=True, exist_ok=True)"
   ]
  },
  {
   "cell_type": "code",
   "execution_count": 7,
   "metadata": {},
   "outputs": [
    {
     "name": "stderr",
     "output_type": "stream",
     "text": [
      "Team:   0%|          | 0/2 [00:32<?, ?it/s]1 [00:00<?, ?it/s]\n",
      "Rounds (+ Final Round): 100%|██████████| 1/1 [00:32<00:00, 32.06s/it]\n"
     ]
    },
    {
     "name": "stdout",
     "output_type": "stream",
     "text": [
      "Input token count: 74\n",
      "Output token count: 491\n",
      "Tool token count: 0\n",
      "Max token length: 565\n",
      "Cost: $0.01\n",
      "Time: 0:33\n"
     ]
    },
    {
     "name": "stderr",
     "output_type": "stream",
     "text": [
      "Team:   0%|          | 0/2 [00:11<?, ?it/s]1 [00:00<?, ?it/s]\n",
      "Rounds (+ Final Round): 100%|██████████| 1/1 [00:11<00:00, 11.66s/it]\n"
     ]
    },
    {
     "name": "stdout",
     "output_type": "stream",
     "text": [
      "Input token count: 103\n",
      "Output token count: 456\n",
      "Tool token count: 0\n",
      "Max token length: 559\n",
      "Warning: Cost of model \"ft:gpt-4o-mini-2024-07-18:personal:sars-cov-2-variants-kp-3-and-jn-1:ArGVyHfW\" not known\n",
      "Time: 0:13\n"
     ]
    }
   ],
   "source": [
    "# Run meetings with base and specialized agents\n",
    "agenda = \"What are some of the RBD mutations of the KP.3 and JN.1 variants of the SARS-CoV-2 spike protein that do not appear in previous variants?\"\n",
    "\n",
    "agents = [\n",
    "    (immunologist, \"base_immunologist\"),\n",
    "    (specialized_agents[\"SARS-CoV-2 variants KP.3 and JN.1\"], \"specialized_immunologist\")\n",
    "]\n",
    "\n",
    "for agent, save_name in agents:\n",
    "    run_meeting(\n",
    "        meeting_type=\"individual\", \n",
    "        team_member=agent,\n",
    "        agenda=agenda,\n",
    "        save_dir=ablations_dir,\n",
    "        save_name=save_name,\n",
    "        temperature=CONSISTENT_TEMPERATURE,\n",
    "    )"
   ]
  },
  {
   "cell_type": "code",
   "execution_count": 8,
   "metadata": {},
   "outputs": [
    {
     "name": "stderr",
     "output_type": "stream",
     "text": [
      "Team: 100%|██████████| 5/5 [01:05<00:00, 13.01s/it]<?, ?it/s]\n",
      "Team: 100%|██████████| 5/5 [01:13<00:00, 14.63s/it]<03:15, 65.08s/it]\n",
      "Team: 100%|██████████| 5/5 [01:04<00:00, 12.83s/it]<02:19, 69.82s/it]\n",
      "Team:   0%|          | 0/5 [00:21<?, ?it/s]4 [03:22<01:07, 67.23s/it]\n",
      "Rounds (+ Final Round): 100%|██████████| 4/4 [03:43<00:00, 55.90s/it]\n"
     ]
    },
    {
     "name": "stdout",
     "output_type": "stream",
     "text": [
      "Input token count: 64,293\n",
      "Output token count: 7,437\n",
      "Tool token count: 0\n",
      "Max token length: 9,030\n",
      "Cost: $0.24\n",
      "Time: 3:46\n"
     ]
    },
    {
     "name": "stderr",
     "output_type": "stream",
     "text": [
      "Team: 100%|██████████| 5/5 [01:00<00:00, 12.18s/it]<?, ?it/s]\n",
      "Team: 100%|██████████| 5/5 [01:04<00:00, 12.86s/it]<03:02, 60.88s/it]\n",
      "Team: 100%|██████████| 5/5 [00:55<00:00, 11.19s/it]<02:05, 62.89s/it]\n",
      "Team:   0%|          | 0/5 [00:27<?, ?it/s]4 [03:01<00:59, 59.72s/it]\n",
      "Rounds (+ Final Round): 100%|██████████| 4/4 [03:28<00:00, 52.15s/it]\n"
     ]
    },
    {
     "name": "stdout",
     "output_type": "stream",
     "text": [
      "Input token count: 57,779\n",
      "Output token count: 6,160\n",
      "Tool token count: 0\n",
      "Max token length: 7,740\n",
      "Cost: $0.21\n",
      "Time: 3:30\n"
     ]
    },
    {
     "name": "stderr",
     "output_type": "stream",
     "text": [
      "Team: 100%|██████████| 2/2 [00:29<00:00, 14.82s/it]<?, ?it/s]\n",
      "Team: 100%|██████████| 2/2 [00:27<00:00, 13.76s/it]<01:28, 29.64s/it]\n",
      "Team: 100%|██████████| 2/2 [00:25<00:00, 12.86s/it]<00:56, 28.39s/it]\n",
      "Team:   0%|          | 0/2 [00:21<?, ?it/s]4 [01:22<00:27, 27.18s/it]\n",
      "Rounds (+ Final Round): 100%|██████████| 4/4 [01:44<00:00, 26.02s/it]\n"
     ]
    },
    {
     "name": "stdout",
     "output_type": "stream",
     "text": [
      "Input token count: 11,349\n",
      "Output token count: 2,937\n",
      "Tool token count: 0\n",
      "Max token length: 3,974\n",
      "Cost: $0.06\n",
      "Time: 1:45\n"
     ]
    }
   ],
   "source": [
    "agenda = \"You need to select machine learning and/or computational tools to design nanobody binders for recent variants of SARS-CoV-2. Please list several tools (5-10) that would be relevant to this nanobody design approach and how they could be used in the context of this project. If selecting machine learning tools, please prioritize pre-trained models (e.g., pre-trained protein language models or protein structure prediction models) for simplicity.\"\n",
    "\n",
    "agenda_questions = (\n",
    "    \"What machine learning and/or computational tools could be used for this nanobody design approach (list 5-10)?\",\n",
    "    \"For each tool, how could it be used for designing modified nanobodies?\",\n",
    ")\n",
    "\n",
    "generic_lead = Agent(\n",
    "    title=\"Lead Assistant\",\n",
    "    expertise=\"helping people with their problems\",\n",
    "    goal=\"help people with their problems\",\n",
    "    role=\"help people with their problems\",\n",
    "    model=model,\n",
    ")\n",
    "\n",
    "generic_team = [Agent(\n",
    "    title=f\"Assistant {i + 1}\",\n",
    "    expertise=\"helping people with their problems\",\n",
    "    goal=\"help people with their problems\",\n",
    "    role=\"help people with their problems\",\n",
    "    model=model,\n",
    ") for i in range(4)]\n",
    "\n",
    "teams = [\n",
    "    (principal_investigator, [immunologist, machine_learning_specialist, computational_biologist, scientific_critic], \"base_team\"),\n",
    "    (generic_lead, generic_team, \"generic_team\"),\n",
    "    (generic_lead, generic_team[:1], \"generic_team_short\"),\n",
    "]\n",
    "\n",
    "for team_lead, team_members, save_name in teams:\n",
    "    run_meeting(\n",
    "        meeting_type=\"team\", \n",
    "        team_lead=team_lead,\n",
    "        team_members=team_members,\n",
    "        agenda=agenda,\n",
    "        agenda_questions=agenda_questions,\n",
    "        save_dir=ablations_dir,\n",
    "        save_name=save_name,\n",
    "        temperature=CONSISTENT_TEMPERATURE,\n",
    "        num_rounds=num_rounds,\n",
    "    )"
   ]
  },
  {
   "cell_type": "code",
   "execution_count": 14,
   "metadata": {},
   "outputs": [
    {
     "name": "stderr",
     "output_type": "stream",
     "text": [
      "Team:   0%|          | 0/2 [00:09<?, ?it/s]1 [00:00<?, ?it/s]\n",
      "Rounds (+ Final Round): 100%|██████████| 1/1 [00:09<00:00,  9.12s/it]\n"
     ]
    },
    {
     "name": "stdout",
     "output_type": "stream",
     "text": [
      "Input token count: 360\n",
      "Output token count: 808\n",
      "Tool token count: 0\n",
      "Max token length: 1,168\n",
      "Cost: $0.01\n",
      "Time: 0:10\n"
     ]
    }
   ],
   "source": [
    "agenda = f\"{background_prompt} {nanobody_prompt} Now you must use AlphaFold-Multimer to predict the structure of a nanobody-antigen complex and evaluate its binding. I will run AlphaFold-Multimer on several nanobody-antigen complexes and you need to process the outputs. Please write a complete Python script that takes as input a directory containing PDB files where each PDB file contains one nanobody-antigen complex predicted by AlphaFold-Multimer and outputs a CSV file containing the AlphaFold-Multimer confidence of each nanobody-antigen complex in terms of the interface pLDDT.\"\n",
    "\n",
    "run_meeting(\n",
    "    meeting_type=\"individual\", \n",
    "    team_member=generic_team[0],\n",
    "    agenda=agenda,\n",
    "    agenda_rules=CODING_RULES,\n",
    "    save_dir=ablations_dir,\n",
    "    save_name=\"generic_individual\",\n",
    "    temperature=CREATIVE_TEMPERATURE,\n",
    ")"
   ]
  },
  {
   "cell_type": "code",
   "execution_count": null,
   "metadata": {},
   "outputs": [],
   "source": []
  }
 ],
 "metadata": {
  "kernelspec": {
   "display_name": "virtual_lab",
   "language": "python",
   "name": "python3"
  },
  "language_info": {
   "codemirror_mode": {
    "name": "ipython",
    "version": 3
   },
   "file_extension": ".py",
   "mimetype": "text/x-python",
   "name": "python",
   "nbconvert_exporter": "python",
   "pygments_lexer": "ipython3",
   "version": "3.12.8"
  }
 },
 "nbformat": 4,
 "nbformat_minor": 2
}
