{
 "cells": [
  {
   "cell_type": "code",
   "execution_count": 8,
   "metadata": {},
   "outputs": [],
   "source": [
    "import concurrent.futures\n",
    "from pathlib import Path\n",
    "\n",
    "from virtual_lab.agent import Agent\n",
    "from virtual_lab.constants import CONSISTENT_TEMPERATURE, CREATIVE_TEMPERATURE\n",
    "from virtual_lab.prompts import create_merge_prompt\n",
    "from virtual_lab.run_meeting import run_meeting\n",
    "\n",
    "from nanobody_constants import (\n",
    "    background_prompt,\n",
    "    discussions_dir,\n",
    "    model,\n",
    "    num_iterations,\n",
    "    num_rounds,\n",
    "    principal_investigator,\n",
    "    scientific_critic,\n",
    "    immunologist,\n",
    "    machine_learning_specialist,\n",
    "    computational_biologist,\n",
    ")"
   ]
  },
  {
   "cell_type": "code",
   "execution_count": 2,
   "metadata": {},
   "outputs": [],
   "source": [
    "# Setup up topic to model mapping\n",
    "topic_to_model = {\n",
    "    \"AlphaFold-Multimer\": \"ft:gpt-4o-mini-2024-07-18:personal:alphafold-multimer:ArGNLO1a\",\n",
    "    \"ESM\": \"ft:gpt-4o-mini-2024-07-18:personal:esm:ArFrZ4tt\",\n",
    "    \"Rosetta\": \"ft:gpt-4o-mini-2024-07-18:personal:rosetta:ArFx2nis\",\n",
    "    \"SARS-CoV-2 spike protein\": \"ft:gpt-4o-mini-2024-07-18:personal:sars-cov-2-spike-protein:ArG9fZwz\",\n",
    "    \"SARS-CoV-2 variants KP.3 and JN.1\": \"ft:gpt-4o-mini-2024-07-18:personal:sars-cov-2-variants-kp-3-and-jn-1:ArGVyHfW\",\n",
    "    \"nanobodies\": \"ft:gpt-4o-mini-2024-07-18:personal:nanobodies:ArGjRZ9R\",\n",
    "}"
   ]
  },
  {
   "cell_type": "code",
   "execution_count": 3,
   "metadata": {},
   "outputs": [],
   "source": [
    "# Setup up topic to agent mapping\n",
    "topic_to_agent = {\n",
    "    \"AlphaFold-Multimer\": computational_biologist,\n",
    "    \"ESM\": machine_learning_specialist,\n",
    "    \"Rosetta\": computational_biologist,\n",
    "    \"SARS-CoV-2 spike protein\": immunologist,\n",
    "    \"SARS-CoV-2 variants KP.3 and JN.1\": immunologist,\n",
    "    \"nanobodies\": immunologist,\n",
    "}"
   ]
  },
  {
   "cell_type": "code",
   "execution_count": 4,
   "metadata": {},
   "outputs": [],
   "source": [
    "# Create specialized agents for each topic\n",
    "specialized_agents = {}\n",
    "for topic, base_agent in topic_to_agent.items():\n",
    "    specialized_agent = Agent(\n",
    "        title=f\"{topic} {base_agent.title}\",\n",
    "        expertise=base_agent.expertise,\n",
    "        goal=base_agent.goal,\n",
    "        role=base_agent.role,\n",
    "        model=topic_to_model[topic],\n",
    "    )\n",
    "    specialized_agents[topic] = specialized_agent"
   ]
  },
  {
   "cell_type": "code",
   "execution_count": 5,
   "metadata": {},
   "outputs": [],
   "source": [
    "ablations_dir = discussions_dir / \"ablations\"\n",
    "ablations_dir.mkdir(parents=True, exist_ok=True)"
   ]
  },
  {
   "cell_type": "code",
   "execution_count": 6,
   "metadata": {},
   "outputs": [
    {
     "name": "stderr",
     "output_type": "stream",
     "text": [
      "Team:   0%|          | 0/2 [01:17<?, ?it/s]1 [00:00<?, ?it/s]\n",
      "Rounds (+ Final Round): 100%|██████████| 1/1 [01:17<00:00, 77.41s/it]\n"
     ]
    },
    {
     "name": "stdout",
     "output_type": "stream",
     "text": [
      "Input token count: 73\n",
      "Output token count: 561\n",
      "Tool token count: 0\n",
      "Max token length: 634\n",
      "Cost: $0.01\n",
      "Time: 1:19\n"
     ]
    },
    {
     "name": "stderr",
     "output_type": "stream",
     "text": [
      "Team:   0%|          | 0/2 [00:23<?, ?it/s]1 [00:00<?, ?it/s]\n",
      "Rounds (+ Final Round): 100%|██████████| 1/1 [00:23<00:00, 23.21s/it]\n"
     ]
    },
    {
     "name": "stdout",
     "output_type": "stream",
     "text": [
      "Input token count: 102\n",
      "Output token count: 565\n",
      "Tool token count: 0\n",
      "Max token length: 667\n",
      "Warning: Cost of model \"ft:gpt-4o-mini-2024-07-18:personal:sars-cov-2-variants-kp-3-and-jn-1:ArGVyHfW\" not known\n",
      "Time: 0:28\n"
     ]
    }
   ],
   "source": [
    "# Run meetings with base and specialized agents\n",
    "agenda = \"What are some of the mutations of the KP.3 and JN.1 variants of the SARS-CoV-2 spike protein and how might they affect nanobody binding?\"\n",
    "\n",
    "agents = [\n",
    "    (immunologist, \"base_immunologist\"),\n",
    "    (specialized_agents[\"SARS-CoV-2 variants KP.3 and JN.1\"], \"specialized_immunologist\")\n",
    "]\n",
    "\n",
    "for agent, save_name in agents:\n",
    "    run_meeting(\n",
    "        meeting_type=\"individual\", \n",
    "        team_member=agent,\n",
    "        agenda=agenda,\n",
    "        save_dir=ablations_dir,\n",
    "        save_name=save_name,\n",
    "        temperature=CONSISTENT_TEMPERATURE,\n",
    "    )"
   ]
  },
  {
   "cell_type": "code",
   "execution_count": 11,
   "metadata": {},
   "outputs": [
    {
     "name": "stderr",
     "output_type": "stream",
     "text": [
      "Team: 100%|██████████| 5/5 [02:21<00:00, 28.37s/it]<?, ?it/s]\n",
      "Team: 100%|██████████| 5/5 [00:51<00:00, 10.31s/it]<07:05, 141.86s/it]\n",
      "Team: 100%|██████████| 5/5 [00:44<00:00,  8.86s/it]<02:57, 88.75s/it] \n",
      "Team:   0%|          | 0/5 [01:21<?, ?it/s]4 [03:57<01:08, 68.46s/it]\n",
      "Rounds (+ Final Round): 100%|██████████| 4/4 [05:18<00:00, 79.71s/it]\n"
     ]
    },
    {
     "name": "stdout",
     "output_type": "stream",
     "text": [
      "Input token count: 51,118\n",
      "Output token count: 5,028\n",
      "Tool token count: 0\n",
      "Max token length: 6,854\n",
      "Cost: $0.18\n",
      "Time: 5:21\n"
     ]
    }
   ],
   "source": [
    "agenda = f\"{background_prompt} Please create an antibody/nanobody design approach to solve this problem. Decide whether you will design antibodies or nanobodies. For your choice, decide whether you will design the antibodies/nanobodies de novo or whether you will modify existing antibodies/nanobodies. If modifying existing antibodies/nanobodies, please specify which antibodies/nanobodies to start with as good candidates for targeting the newest variant of the SARS-CoV-2 spike protein. If designing antibodies/nanobodies de novo, please describe how you will propose antibody/nanobody candidates.\"\n",
    "\n",
    "agenda_questions = (\n",
    "    \"Will you design standard antibodies or nanobodies?\",\n",
    "    \"Will you design antibodies/nanobodies de novo or will you modify existing antibodies/nanobodies (choose only one)?\",\n",
    "    \"If modifying existing antibodies/nanobodies, which precise antibodies/nanobodies will you modify (please list 3-4)?\",\n",
    "    \"If designing antibodies/nanobodies de novo, how exactly will you propose antibody/nanobody candidates?\",\n",
    ")\n",
    "\n",
    "generic_lead = Agent(\n",
    "    title=\"Lead Assistant\",\n",
    "    expertise=\"helping people with their problems\",\n",
    "    goal=\"help people with their problems\",\n",
    "    role=\"help people with their problems\",\n",
    "    model=model,\n",
    ")\n",
    "\n",
    "generic_team = [Agent(\n",
    "    title=f\"Assistant {i + 1}\",\n",
    "    expertise=\"helping people with their problems\",\n",
    "    goal=\"help people with their problems\",\n",
    "    role=\"help people with their problems\",\n",
    "    model=model,\n",
    ") for i in range(4)]\n",
    "\n",
    "teams = [\n",
    "    (principal_investigator, [immunologist, machine_learning_specialist, computational_biologist, scientific_critic], \"base_team\"),\n",
    "    (generic_lead, generic_team, \"generic_team\")\n",
    "]\n",
    "\n",
    "for team_lead, team_members, save_name in teams:\n",
    "    run_meeting(\n",
    "        meeting_type=\"team\", \n",
    "        team_lead=team_lead,\n",
    "        team_members=team_members,\n",
    "        agenda=agenda,\n",
    "        agenda_questions=agenda_questions,\n",
    "        save_dir=ablations_dir,\n",
    "        save_name=save_name,\n",
    "        temperature=CONSISTENT_TEMPERATURE,\n",
    "        num_rounds=num_rounds,\n",
    "    )"
   ]
  },
  {
   "cell_type": "code",
   "execution_count": null,
   "metadata": {},
   "outputs": [],
   "source": []
  }
 ],
 "metadata": {
  "kernelspec": {
   "display_name": "virtual_lab",
   "language": "python",
   "name": "python3"
  },
  "language_info": {
   "codemirror_mode": {
    "name": "ipython",
    "version": 3
   },
   "file_extension": ".py",
   "mimetype": "text/x-python",
   "name": "python",
   "nbconvert_exporter": "python",
   "pygments_lexer": "ipython3",
   "version": "3.12.8"
  }
 },
 "nbformat": 4,
 "nbformat_minor": 2
}
