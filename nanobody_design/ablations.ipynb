{
 "cells": [
  {
   "cell_type": "code",
   "execution_count": 8,
   "metadata": {},
   "outputs": [],
   "source": [
    "import concurrent.futures\n",
    "\n",
    "import matplotlib.pyplot as plt\n",
    "import pandas as pd\n",
    "import seaborn as sns\n",
    "\n",
    "from virtual_lab.agent import Agent\n",
    "from virtual_lab.constants import CONSISTENT_TEMPERATURE, CREATIVE_TEMPERATURE\n",
    "from virtual_lab.prompts import create_merge_prompt\n",
    "from virtual_lab.run_meeting import run_meeting\n",
    "from virtual_lab.utils import load_summaries\n",
    "\n",
    "from nanobody_constants import (\n",
    "    background_prompt,\n",
    "    nanobody_prompt,\n",
    "    discussions_phase_to_dir,\n",
    "    generic_team_lead,\n",
    "    generic_team,\n",
    "    principal_investigator,\n",
    "    immunologist,\n",
    "    team_members,\n",
    "    num_rounds,\n",
    "    num_iterations,\n",
    ")"
   ]
  },
  {
   "cell_type": "markdown",
   "metadata": {},
   "source": [
    "## Setup"
   ]
  },
  {
   "cell_type": "code",
   "execution_count": 2,
   "metadata": {},
   "outputs": [],
   "source": [
    "ablations_dir = discussions_phase_to_dir[\"ablations\"]\n",
    "ablations_dir.mkdir(parents=True, exist_ok=True)"
   ]
  },
  {
   "cell_type": "markdown",
   "metadata": {},
   "source": [
    "## Generic vs specialized agent"
   ]
  },
  {
   "cell_type": "markdown",
   "metadata": {},
   "source": [
    "Compare a team of generic agents to a team of specialized agents. For the generic team discussions, see below. For the specialized team discussions, see `discussions/project_specification`."
   ]
  },
  {
   "cell_type": "code",
   "execution_count": 7,
   "metadata": {},
   "outputs": [],
   "source": [
    "# Project specification - prompts\n",
    "project_specification_agenda = f\"{background_prompt} Please create an antibody/nanobody design approach to solve this problem. Decide whether you will design antibodies or nanobodies. For your choice, decide whether you will design the antibodies/nanobodies de novo or whether you will modify existing antibodies/nanobodies. If modifying existing antibodies/nanobodies, please specify which antibodies/nanobodies to start with as good candidates for targeting the newest variant of the SARS-CoV-2 spike protein. If designing antibodies/nanobodies de novo, please describe how you will propose antibody/nanobody candidates.\"\n",
    "\n",
    "project_specification_questions = (\n",
    "    \"Will you design standard antibodies or nanobodies?\",\n",
    "    \"Will you design antibodies/nanobodies de novo or will you modify existing antibodies/nanobodies (choose only one)?\",\n",
    "    \"If modifying existing antibodies/nanobodies, which precise antibodies/nanobodies will you modify (please list 3-4)?\",\n",
    "    \"If designing antibodies/nanobodies de novo, how exactly will you propose antibody/nanobody candidates?\",\n",
    ")\n",
    "\n",
    "project_specification_dir = ablations_dir / \"project_specification\"\n",
    "project_specification_dir.mkdir(parents=True, exist_ok=True)"
   ]
  },
  {
   "cell_type": "code",
   "execution_count": null,
   "metadata": {},
   "outputs": [],
   "source": [
    "# Project specification - discussion\n",
    "with concurrent.futures.ThreadPoolExecutor() as executor:\n",
    "    concurrent.futures.wait([\n",
    "        executor.submit(\n",
    "            run_meeting,\n",
    "            meeting_type=\"team\",\n",
    "            team_lead=generic_team_lead,\n",
    "            team_members=generic_team,\n",
    "            agenda=project_specification_agenda,\n",
    "            agenda_questions=project_specification_questions,\n",
    "            save_dir=project_specification_dir,\n",
    "            save_name=f\"discussion_{iteration_num + 1}\",\n",
    "            temperature=CREATIVE_TEMPERATURE,\n",
    "            num_rounds=num_rounds,\n",
    "        ) for iteration_num in range(num_iterations)\n",
    "    ])"
   ]
  },
  {
   "cell_type": "code",
   "execution_count": null,
   "metadata": {},
   "outputs": [],
   "source": [
    "# Project specification - merge\n",
    "project_specification_summaries = load_summaries(\n",
    "    discussion_paths=list(project_specification_dir.glob(\"discussion_*.json\")))\n",
    "print(f\"Number of summaries: {len(project_specification_summaries)}\")\n",
    "\n",
    "project_specification_merge_prompt = create_merge_prompt(\n",
    "    agenda=project_specification_agenda,\n",
    "    agenda_questions=project_specification_questions,\n",
    ")\n",
    "\n",
    "run_meeting(\n",
    "    meeting_type=\"individual\",\n",
    "    team_member=generic_team_lead,\n",
    "    summaries=project_specification_summaries,\n",
    "    agenda=project_specification_merge_prompt,\n",
    "    save_dir=project_specification_dir,\n",
    "    save_name=\"merged\",\n",
    "    temperature=CONSISTENT_TEMPERATURE,\n",
    "    num_rounds=num_rounds,\n",
    ")"
   ]
  },
  {
   "cell_type": "markdown",
   "metadata": {},
   "source": [
    "## Specialized vs finetuned agent"
   ]
  },
  {
   "cell_type": "markdown",
   "metadata": {},
   "source": [
    "### Question and Answer"
   ]
  },
  {
   "cell_type": "markdown",
   "metadata": {},
   "source": [
    "See `finetune_agents.ipynb` for the question and answer pairs and evaluation."
   ]
  },
  {
   "cell_type": "markdown",
   "metadata": {},
   "source": [
    "### Knowledge"
   ]
  },
  {
   "cell_type": "markdown",
   "metadata": {},
   "source": [
    "Compare the knowledge of a specialized agent (Immunologist) and a finetuned agent (Immunologist-FT)."
   ]
  },
  {
   "cell_type": "code",
   "execution_count": 3,
   "metadata": {},
   "outputs": [],
   "source": [
    "immunologist_ft = Agent(\n",
    "    title=immunologist.title,\n",
    "    expertise=immunologist.expertise,\n",
    "    goal=immunologist.goal,\n",
    "    role=immunologist.role,\n",
    "    model=\"ft:gpt-4o-mini-2024-07-18:personal:sars-cov-2-variants-kp-3-and-jn-1:AzeSvPAe\",\n",
    ")"
   ]
  },
  {
   "cell_type": "code",
   "execution_count": null,
   "metadata": {},
   "outputs": [],
   "source": [
    "agenda = \"What are some of the RBD mutations of the KP.3 and JN.1 variants of the SARS-CoV-2 spike protein?\"\n",
    "\n",
    "agents_names = [\n",
    "    (immunologist, \"immunologist\"),\n",
    "    (immunologist_ft, \"immunologist_ft\"),\n",
    "]\n",
    "\n",
    "for agent, agent_name in agents_names:\n",
    "    run_meeting(\n",
    "        meeting_type=\"individual\", \n",
    "        team_member=agent,\n",
    "        agenda=agenda,\n",
    "        save_dir=ablations_dir,\n",
    "        save_name=f\"knowledge_{agent_name}\",\n",
    "        temperature=CONSISTENT_TEMPERATURE,\n",
    "    )"
   ]
  },
  {
   "cell_type": "markdown",
   "metadata": {},
   "source": [
    "## Single vs multi agent"
   ]
  },
  {
   "cell_type": "markdown",
   "metadata": {},
   "source": [
    "Look at `discussions/alphafold/discussion_4.md` to compare the effect of a single agent vs a multi-agent interaction. The first round answer is the product of just a single specialized agent (Computational Biologist) while the final round answer is the product of the multi-agent interaction (Computational Biologist and Scientific Critic).\n",
    "\n",
    "Also, see below for a human analysis of the effects of single agent vs multi-agent interactions for coding."
   ]
  },
  {
   "cell_type": "code",
   "execution_count": 7,
   "metadata": {},
   "outputs": [],
   "source": [
    "coding_eval = pd.read_csv(ablations_dir / \"coding_eval.csv\")"
   ]
  },
  {
   "cell_type": "code",
   "execution_count": 18,
   "metadata": {},
   "outputs": [
    {
     "data": {
      "image/png": "[encoded data removed]",
      "text/plain": [
       "<Figure size 1000x600 with 1 Axes>"
      ]
     },
     "metadata": {},
     "output_type": "display_data"
    }
   ],
   "source": [
    "fontsize = 18\n",
    "plt.figure(figsize=(10, 6))\n",
    "plt.axhline(y=0, color='black', linestyle='-', linewidth=2)\n",
    "sns.swarmplot(data=coding_eval, x='Topic', y='# Enhancements', size=18)\n",
    "plt.xlabel(\"\")\n",
    "plt.xticks(fontsize=fontsize)\n",
    "plt.yticks(fontsize=fontsize)\n",
    "plt.ylabel(\"# Enhancements\", fontsize=fontsize)\n",
    "plt.savefig(ablations_dir / \"coding_eval.pdf\", bbox_inches='tight')"
   ]
  },
  {
   "cell_type": "markdown",
   "metadata": {},
   "source": [
    "## Single vs parallel meetings"
   ]
  },
  {
   "cell_type": "markdown",
   "metadata": {},
   "source": [
    "To see the effect of parallel meetings, compare the individual discussions (e.g., `discussion_1.md` through `discussion_5.md`) with the result of the parallel meeting (e.g., `merged.md`) for any of the discussions in the `discussions` directory."
   ]
  },
  {
   "cell_type": "markdown",
   "metadata": {},
   "source": [
    "## Prompt engineering"
   ]
  },
  {
   "cell_type": "markdown",
   "metadata": {},
   "source": [
    "Illustrate the effect of prompt engineering on tool selection. For the answer using the original agenda and agenda questions, see `discussions/tools_selection/merged.md`."
   ]
  },
  {
   "cell_type": "code",
   "execution_count": null,
   "metadata": {},
   "outputs": [],
   "source": [
    "# Tools selection - setup\n",
    "tools_selection_prior_summaries = load_summaries(\n",
    "    discussion_paths=[discussions_phase_to_dir[\"project_specification\"] / \"merged.json\"])\n",
    "print(f\"Number of prior summaries: {len(tools_selection_prior_summaries)}\")\n",
    "\n",
    "tools_selection_dir = ablations_dir / \"tools_selection\""
   ]
  },
  {
   "cell_type": "code",
   "execution_count": 4,
   "metadata": {},
   "outputs": [],
   "source": [
    "# Tools selection - agendas and questions\n",
    "tools_selection_agendas = [\n",
    "    f\"{background_prompt} {nanobody_prompt} Now you need to select machine learning and/or computational tools to implement this nanobody design approach. Please list several tools (5-10) that would be relevant to this nanobody design approach and how they could be used in the context of this project.\",\n",
    "    f\"{background_prompt} {nanobody_prompt} Now you need to select tools to implement this nanobody design approach. Please list several tools (5-10) that would be relevant to this nanobody design approach and how they could be used in the context of this project.\",\n",
    "    f\"{background_prompt} {nanobody_prompt} Now you need to select tools to implement this nanobody design approach. Please list several tools that would be relevant to this nanobody design approach and how they could be used in the context of this project.\",\n",
    "    f\"{background_prompt} {nanobody_prompt} Now you need to select tools to implement this nanobody design approach. Please list several tools that would be relevant to this nanobody design approach.\",\n",
    "]\n",
    "\n",
    "tools_selection_questions = [\n",
    "    (\n",
    "        \"What machine learning and/or computational tools could be used for this nanobody design approach (list 5-10)?\",\n",
    "        \"For each tool, how could it be used for designing modified nanobodies?\",\n",
    "    ),\n",
    "    (\n",
    "        \"What tools could be used for this nanobody design approach (list 5-10)?\",\n",
    "        \"For each tool, how could it be used for designing modified nanobodies?\",\n",
    "    ),\n",
    "    (\n",
    "        \"What tools could be used for this nanobody design approach?\",\n",
    "        \"For each tool, how could it be used for designing modified nanobodies?\",\n",
    "    ),\n",
    "    (\n",
    "        \"What tools could be used for this nanobody design approach?\",\n",
    "    ),\n",
    "]"
   ]
  },
  {
   "cell_type": "code",
   "execution_count": null,
   "metadata": {},
   "outputs": [],
   "source": [
    "# Tools selection – ablations\n",
    "for i, (agenda, agenda_questions) in enumerate(zip(tools_selection_agendas, tools_selection_questions)):\n",
    "    if i != 3:\n",
    "        continue\n",
    "\n",
    "    # Create save directory\n",
    "    save_dir = tools_selection_dir / f\"prompt_{i + 1}\"\n",
    "    save_dir.mkdir(parents=True, exist_ok=True)\n",
    "\n",
    "    # Run meetings\n",
    "    with concurrent.futures.ThreadPoolExecutor() as executor:\n",
    "        concurrent.futures.wait([\n",
    "            executor.submit(\n",
    "                run_meeting,\n",
    "                meeting_type=\"team\",\n",
    "                team_lead=principal_investigator,\n",
    "                team_members=team_members,\n",
    "                summaries=tools_selection_prior_summaries,\n",
    "                agenda=agenda,\n",
    "                agenda_questions=agenda_questions,\n",
    "                save_dir=save_dir,\n",
    "                save_name=f\"discussion_{iteration_num + 1}\",\n",
    "                temperature=CREATIVE_TEMPERATURE,\n",
    "                num_rounds=num_rounds,\n",
    "            ) for iteration_num in range(num_iterations)\n",
    "        ])\n",
    "\n",
    "    # Load summaries\n",
    "    summaries = load_summaries(discussion_paths=list(save_dir.glob(\"discussion_*.json\")))\n",
    "    print(f\"Number of summaries: {len(summaries)}\")\n",
    "\n",
    "    # Create merge prompt\n",
    "    merge_prompt = create_merge_prompt(agenda=agenda, agenda_questions=agenda_questions)\n",
    "\n",
    "    # Run merge meeting\n",
    "    run_meeting(\n",
    "        meeting_type=\"individual\",\n",
    "        team_member=principal_investigator,\n",
    "        summaries=summaries,\n",
    "        agenda=merge_prompt,\n",
    "        save_dir=save_dir,\n",
    "        save_name=\"merged\",\n",
    "        temperature=CONSISTENT_TEMPERATURE,\n",
    "        num_rounds=num_rounds,\n",
    "    )"
   ]
  }
 ],
 "metadata": {
  "kernelspec": {
   "display_name": "virtual_lab",
   "language": "python",
   "name": "python3"
  },
  "language_info": {
   "codemirror_mode": {
    "name": "ipython",
    "version": 3
   },
   "file_extension": ".py",
   "mimetype": "text/x-python",
   "name": "python",
   "nbconvert_exporter": "python",
   "pygments_lexer": "ipython3",
   "version": "3.12.8"
  }
 },
 "nbformat": 4,
 "nbformat_minor": 2
}
