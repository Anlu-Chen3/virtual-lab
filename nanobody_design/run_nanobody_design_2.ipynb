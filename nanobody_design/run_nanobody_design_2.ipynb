{
 "cells": [
  {
   "cell_type": "code",
   "execution_count": null,
   "id": "initial_id",
   "metadata": {},
   "outputs": [],
   "source": [
    "import concurrent.futures\n",
    "\n",
    "from virtual_lab.constants import CONSISTENT_TEMPERATURE, CREATIVE_TEMPERATURE\n",
    "from virtual_lab.prompts import (\n",
    "    REWRITE_PROMPT,\n",
    "    create_merge_prompt,\n",
    ")\n",
    "from virtual_lab.run_meeting import run_meeting\n",
    "from virtual_lab.utils import load_summaries\n",
    "\n",
    "from nanobody_constants import (\n",
    "    background_prompt,\n",
    "    nanobody_prompt,\n",
    "    experimental_results_prompt,\n",
    "    num_iterations,\n",
    "    num_rounds,\n",
    "    discussions_phase_to_dir,\n",
    "    principal_investigator,\n",
    "    team_members,\n",
    "    machine_learning_specialist,\n",
    "    computational_biologist,\n",
    ")"
   ]
  },
  {
   "cell_type": "markdown",
   "id": "e0fe689c393aa94d",
   "metadata": {},
   "source": [
    "## Nanobody Improvement"
   ]
  },
  {
   "cell_type": "code",
   "execution_count": null,
   "id": "7802ef1937c2552b",
   "metadata": {},
   "outputs": [],
   "source": [
    "# Nanobody improvement - prompts\n",
    "nanobody_improvement_agenda = f\"\"\"{background_prompt} {nanobody_prompt} {experimental_results_prompt}\n",
    "\n",
    "Based on these results, you must decide how to proceed to design further improved nanobodies for recent variants of SARS-CoV-2. You may either continue to pursue identifying binders to the KP.3 RBD or you may decide to target a different strain or strains of the SARS-CoV-2 spike RBD. Your team should select another 92 mutant nanobodies to test experimentally. This time, you do not have to test an equal number of mutants for each wild-type nanobody, and you may even entirely leave out some wild-type nanobodies. You can either start again from the wild-type nanobodies and introduce mutations or begin with one of the previously designed nanobodies. You may use ESM, AlphaFold-Multimer, and Rosetta in similar ways as your previous design process, or you can change the design workflow. As a reminder, ESM is antigen-agnostic and improves general nanobody quality while AlphaFold-Multimer and Rosetta are antigen-specific and focus on binding to the selected antigen. You should aim to design nanobodies that bind specifically to the RBD of recent variants of SARS-CoV-2 and do not bind non-specifically to BSA. You should provide a rationale for all of your decisions.\"\"\"\n",
    "\n",
    "nanobody_improvement_questions = (\n",
    "    \"Will you continue to target the KP.3 RBD or will you target a different strain or strains of the SARS-CoV-2 spike RBD?\",\n",
    "    \"Which wild-type nanobody or nanobodies will you select for further improvement?\",\n",
    "    \"How many mutant nanobodies will you design for each of those wild-type nanobodies (92 total)?\",\n",
    "    \"Will you begin with the wild-type nanobody itself and introduce mutations, or will you begin with one of the previously designed mutant nanobodies?\",\n",
    "    \"If you are beginning with previously designed mutant nanobodies, which one or ones will you start with?\",\n",
    "    \"Will you continue to use the same general ESM, AlphaFold-Multimer, and Rosetta design pipeline you previously used, or will you design a new computational pipeline?\",\n",
    ")\n",
    "\n",
    "nanobody_improvement_prior_summaries = load_summaries(\n",
    "    discussion_paths=[discussions_phase_to_dir[\"workflow_design\"] / \"merged.json\"])\n",
    "print(f\"Number of prior summaries: {len(nanobody_improvement_prior_summaries)}\")"
   ]
  },
  {
   "cell_type": "code",
   "execution_count": null,
   "id": "784c5f53610c1cbc",
   "metadata": {},
   "outputs": [],
   "source": [
    "# Nanobody improvement - discussion\n",
    "with concurrent.futures.ThreadPoolExecutor() as executor:\n",
    "    concurrent.futures.wait([\n",
    "        executor.submit(\n",
    "            run_meeting,\n",
    "            meeting_type=\"team\",\n",
    "            team_lead=principal_investigator,\n",
    "            team_members=team_members,\n",
    "            summaries=nanobody_improvement_prior_summaries,\n",
    "            agenda=nanobody_improvement_agenda,\n",
    "            agenda_questions=nanobody_improvement_questions,\n",
    "            save_dir=discussions_phase_to_dir[\"nanobody_improvement\"],\n",
    "            save_name=f\"discussion_{iteration_num + 1}\",\n",
    "            temperature=CREATIVE_TEMPERATURE,\n",
    "            num_rounds=num_rounds,\n",
    "        ) for iteration_num in range(num_iterations)\n",
    "    ])"
   ]
  },
  {
   "cell_type": "code",
   "execution_count": null,
   "id": "54b15b15f8057122",
   "metadata": {},
   "outputs": [],
   "source": [
    "# Nanobody improvement - merge\n",
    "nanobody_improvement_summaries = load_summaries(\n",
    "    discussion_paths=list(discussions_phase_to_dir[\"nanobody_improvement\"].glob(\"discussion_*.json\")))\n",
    "print(f\"Number of summaries: {len(nanobody_improvement_summaries)}\")\n",
    "\n",
    "nanobody_improvement_merge_prompt = create_merge_prompt(\n",
    "    agenda=nanobody_improvement_agenda,\n",
    "    agenda_questions=nanobody_improvement_questions,\n",
    ")\n",
    "\n",
    "run_meeting(\n",
    "    meeting_type=\"individual\",\n",
    "    team_member=principal_investigator,\n",
    "    summaries=nanobody_improvement_summaries,\n",
    "    agenda=nanobody_improvement_merge_prompt,\n",
    "    save_dir=discussions_phase_to_dir[\"nanobody_improvement\"],\n",
    "    save_name=\"merged\",\n",
    "    temperature=CONSISTENT_TEMPERATURE,\n",
    "    num_rounds=num_rounds,\n",
    ")"
   ]
  },
  {
   "cell_type": "markdown",
   "id": "e9ebc9991e4104ac",
   "metadata": {},
   "source": [
    "## Updated Workflow"
   ]
  },
  {
   "cell_type": "code",
   "execution_count": null,
   "id": "af2aeef39965c96",
   "metadata": {},
   "outputs": [],
   "source": [
    "# Updated workflow - prompts\n",
    "updated_workflow_agenda = f\"\"\"{background_prompt} {nanobody_prompt} {experimental_results_prompt}\n",
    "\n",
    "Your team has decided to design further improved nanobodies for recent variants of SARS-CoV-2 as described in the summary using the same general ESM, AlphaFold-Multimer, and Rosetta computational design pipeline. ESM will again be used to evaluate the overall quality of mutated nanobodies while AlphaFold-Multimer and Rosetta will be used to determine their specific binding to your selected SARS-CoV-2 variants. Now, you need to specify more details for this updated design workflow.\"\"\"\n",
    "\n",
    "updated_workflow_questions = (\n",
    "    \"When using ESM to evaluate all single point mutations to an input nanobody sequence, how many of the top ranked mutations by ESM LLR will you keep for analysis by AlphaFold-Multimer and Rosetta out of the ~2,000 possible mutations?\",\n",
    "    \"If this number differs from your previous design process, what is the rationale for the change?\",\n",
    "    \"After evaluating those mutated nanobodies with ESM, AlphaFold-Multimer, and Rosetta, what formula will you use to compute a weighted score (WS) for each mutated nanobody, and how will this factor in binding to both the JN.1 and KP.3 RBDs for the AlphaFold-Multimer and Rosetta portions of the score?\",\n",
    "    \"If this WS formula differs from your previous design process, what is the rationale for the change?\",\n",
    "    \"After computing the WS for each mutated nanobody, how many of the top ranked mutated nanobodies will you select for the next round of mutation?\",\n",
    "    \"If this number differs from your previous design process, what is the rationale for the change?\",\n",
    "    \"How many rounds of mutation will you run in total starting with the Nb21 and Ty1 mutants?\",\n",
    "    \"If this number differs from your previous design process, what is the rationale for the change?\",\n",
    ")\n",
    "\n",
    "updated_workflow_prior_summaries = load_summaries(\n",
    "    discussion_paths=[discussions_phase_to_dir[\"workflow_design\"] / \"merged.json\",\n",
    "                      discussions_phase_to_dir[\"nanobody_improvement\"] / \"merged.json\"])\n",
    "print(f\"Number of prior summaries: {len(updated_workflow_prior_summaries)}\")"
   ]
  },
  {
   "cell_type": "code",
   "execution_count": null,
   "id": "77716528cd51472a",
   "metadata": {},
   "outputs": [],
   "source": [
    "# Updated workflow - discussion\n",
    "with concurrent.futures.ThreadPoolExecutor() as executor:\n",
    "    concurrent.futures.wait([\n",
    "        executor.submit(\n",
    "            run_meeting,\n",
    "            meeting_type=\"individual\",\n",
    "            team_member=principal_investigator,\n",
    "            summaries=updated_workflow_prior_summaries,\n",
    "            agenda=updated_workflow_agenda,\n",
    "            agenda_questions=updated_workflow_questions,\n",
    "            save_dir=discussions_phase_to_dir[\"updated_workflow\"],\n",
    "            save_name=f\"discussion_{iteration_num + 1}\",\n",
    "            temperature=CREATIVE_TEMPERATURE,\n",
    "        ) for iteration_num in range(num_iterations)\n",
    "    ])"
   ]
  },
  {
   "cell_type": "code",
   "execution_count": null,
   "id": "b7d153994b7f39b3",
   "metadata": {},
   "outputs": [],
   "source": [
    "# Updated workflow - merge\n",
    "updated_workflow_summaries = load_summaries(\n",
    "    discussion_paths=list(discussions_phase_to_dir[\"updated_workflow\"].glob(\"discussion_*.json\")))\n",
    "print(f\"Number of summaries: {len(updated_workflow_summaries)}\")\n",
    "\n",
    "updated_workflow_merge_prompt = create_merge_prompt(\n",
    "    agenda=updated_workflow_agenda,\n",
    "    agenda_questions=updated_workflow_questions,\n",
    ")\n",
    "\n",
    "run_meeting(\n",
    "    meeting_type=\"individual\",\n",
    "    team_member=principal_investigator,\n",
    "    summaries=updated_workflow_summaries,\n",
    "    agenda=updated_workflow_merge_prompt,\n",
    "    save_dir=discussions_phase_to_dir[\"updated_workflow\"],\n",
    "    save_name=\"merged\",\n",
    "    temperature=CONSISTENT_TEMPERATURE,\n",
    ")"
   ]
  },
  {
   "cell_type": "markdown",
   "id": "20d6779a8c09b7f2",
   "metadata": {},
   "source": [
    "## Workflow Questions"
   ]
  },
  {
   "cell_type": "code",
   "execution_count": null,
   "id": "b6a73097002714c9",
   "metadata": {},
   "outputs": [],
   "source": [
    "# Workflow questions - prompts\n",
    "workflow_questions_agenda = f\"\"\"{background_prompt} {nanobody_prompt} You created a nanobody design workflow that employs ESM, AlphaFold-Multimer, and Rosetta to evaluate mutated nanobody candidates for binding to recent variants of the SARS-CoV-2 spike protein receptor binding domain (RBD). In particular, AlphaFold-Multimer is run with the mutated nanobody sequence and RBD sequence to predict the structure of the nanobody-RBD complex. By default, AlphaFold-Multimer generates five structural models and ranks them by confidence. Your workflow takes the highest confidence model as the predicted structure and computes the interface pLDDT (ipLDDT) of that structure. Then, Rosetta is applied to relax that best predicted complex structure and compute a binding interface energy (dG_separated) using the REF2015 scoring function.\n",
    "\n",
    "It turns out that AlphaFold-Multimer and Rosetta are not deterministic. When given the same nanobody and RBD sequences twice, AlphaFold-Multimer (run using LocalColabFold) computes the same MSA but generates a different set of five structures each time. This can result in dramatically different ipLDDT computations from the top ranked complex structures of two different runs (e.g., ipLDDT = 86.1 vs ipLDDT = 72.6). Similarly, when Rosetta is given the same nanobody-RBD complex structure twice, it computes two different binding energies (e.g., dG_separated = -32.2 vs dG_separated = -31.8). This variability can lead to different rankings of mutated nanobody candidates and different decisions on which candidates to select for experimental validation.\n",
    "\n",
    "First, please explain why AlphaFold-Multimer and Rosetta are not deterministic and how this non-determinism affects the ipLDDT and dG_separated scores. Second, propose a strategy to address this non-determinism in your nanobody design workflow. Your strategy should aim to reduce the variability in the ipLDDT and dG_separated scores and improve the consistency of the rankings of mutated nanobody candidates without increasing the computational cost.\"\"\"\n",
    "\n",
    "workflow_questions_questions = (\n",
    "    \"Why is AlphaFold-Multimer non-deterministic in this workflow, and how does this non-determinism affect the ipLDDT score?\",\n",
    "    \"Why is Rosetta non-deterministic in this workflow, and how does this non-determinism affect the dG_separated score?\",\n",
    "    \"How will you change the AlphaFold-Multimer component of the workflow (if at all) to improve ipLDDT score consistency while still only using one AlphaFold-Multimer run (five models)?\",\n",
    "    \"In your new workflow, what AlphaFold-Multimer complex structure will you use as input to Rosetta?\",\n",
    "    \"How will you change the Rosetta component of the workflow (if at all) to improve dG_separated score consistency while still only using one Rosetta run on one complex structure?\",\n",
    ")\n",
    "\n",
    "workflow_questions_prior_summaries = load_summaries(\n",
    "    discussion_paths=[discussions_phase_to_dir[\"workflow_design\"] / \"merged.json\",\n",
    "                      discussions_phase_to_dir[\"nanobody_improvement\"] / \"merged.json\",\n",
    "                      discussions_phase_to_dir[\"updated_workflow\"] / \"merged.json\"])\n",
    "print(f\"Number of prior summaries: {len(workflow_questions_prior_summaries)}\")"
   ]
  },
  {
   "cell_type": "code",
   "execution_count": null,
   "id": "bdbae884f6c11ad7",
   "metadata": {},
   "outputs": [],
   "source": [
    "# Workflow questions - discussion\n",
    "with concurrent.futures.ThreadPoolExecutor() as executor:\n",
    "    concurrent.futures.wait([\n",
    "        executor.submit(\n",
    "            run_meeting,\n",
    "            meeting_type=\"individual\",\n",
    "            team_member=machine_learning_specialist,\n",
    "            summaries=workflow_questions_prior_summaries,\n",
    "            agenda=workflow_questions_agenda,\n",
    "            agenda_questions=workflow_questions_questions,\n",
    "            save_dir=discussions_phase_to_dir[\"workflow_questions\"],\n",
    "            save_name=f\"discussion_{iteration_num + 1}\",\n",
    "            temperature=CREATIVE_TEMPERATURE,\n",
    "        ) for iteration_num in range(num_iterations)\n",
    "    ])"
   ]
  },
  {
   "cell_type": "code",
   "execution_count": null,
   "id": "f5473923db1fb85d",
   "metadata": {},
   "outputs": [],
   "source": [
    "# Workflow questions - merge\n",
    "workflow_questions_summaries = load_summaries(\n",
    "    discussion_paths=list(discussions_phase_to_dir[\"workflow_questions\"].glob(\"discussion_*.json\")))\n",
    "print(f\"Number of summaries: {len(workflow_questions_summaries)}\")\n",
    "\n",
    "workflow_questions_merge_prompt = create_merge_prompt(\n",
    "    agenda=workflow_questions_agenda,\n",
    "    agenda_questions=workflow_questions_questions,\n",
    ")\n",
    "\n",
    "run_meeting(\n",
    "    meeting_type=\"individual\",\n",
    "    team_member=machine_learning_specialist,\n",
    "    summaries=workflow_questions_summaries,\n",
    "    agenda=workflow_questions_merge_prompt,\n",
    "    save_dir=discussions_phase_to_dir[\"workflow_questions\"],\n",
    "    save_name=\"merged\",\n",
    "    temperature=CONSISTENT_TEMPERATURE,\n",
    ")"
   ]
  },
  {
   "cell_type": "markdown",
   "id": "9b1b217a91b24d66",
   "metadata": {},
   "source": [
    "## Modify AlphaFold-Multimer"
   ]
  },
  {
   "cell_type": "code",
   "execution_count": null,
   "id": "ff9f8ce1ff68ef55",
   "metadata": {},
   "outputs": [],
   "source": [
    "# Modify AlphaFold-Multimer - prompts\n",
    "modify_alphafold_agenda = f\"\"\"You previously wrote a Python script that processes the outputs of AlphaFold-Multimer to calculate the confidence of nanobody-antigen complexes (see summary). {REWRITE_PROMPT}\n",
    "\n",
    "1. For each subdirectory of the \"directory\" variable, instead of just loading the one file that matches the pattern *unrelaxed_rank_001*.pdb, load all PDB files in that directory (there should be five). Then, compute the average ipLDDT, residue count, and atom count across those PDB files and save those average values to a CSV.\n",
    "2. For each of those subdirectories, identify the PDB file with the median ipLDDT within that directory. Create an absolute symlink with the name \"median_iplddt.pdb\" within that subdirectory linking to that median ipLDDT PDB file.\"\"\""
   ]
  },
  {
   "cell_type": "code",
   "execution_count": null,
   "id": "c363649bce91db25",
   "metadata": {},
   "outputs": [],
   "source": [
    "# Modify AlphaFold-Multimer - discussion\n",
    "modify_alphafold_summaries = load_summaries(discussion_paths=[discussions_phase_to_dir[\"alphafold\"] / \"improved.json\"])\n",
    "print(f\"Number of summaries: {len(modify_alphafold_summaries)}\")\n",
    "\n",
    "run_meeting(\n",
    "    meeting_type=\"individual\",\n",
    "    team_member=computational_biologist,\n",
    "    summaries=modify_alphafold_summaries,\n",
    "    agenda=modify_alphafold_agenda,\n",
    "    save_dir=discussions_phase_to_dir[\"alphafold_modified\"],\n",
    "    save_name=\"modified\",\n",
    "    temperature=CONSISTENT_TEMPERATURE,\n",
    ")"
   ]
  },
  {
   "cell_type": "markdown",
   "id": "c9a6752e89a0c52e",
   "metadata": {},
   "source": [
    "## Modify Rosetta"
   ]
  },
  {
   "cell_type": "code",
   "execution_count": null,
   "id": "78119cef2b35aa64",
   "metadata": {},
   "outputs": [],
   "source": [
    "# Modify Rosetta - prompts\n",
    "modify_rosetta_agenda = f\"\"\"You previously wrote a RosettaScripts XML file to calculate the binding affinity of a nanobody-antigen complex and a Python script to aggregate multiple Rosetta binding energy score files into one CSV file (see summary). {REWRITE_PROMPT}\n",
    "\n",
    "1. Correct the RosettaScripts XML file so that the nanobody is labeled as chain \"A\" and the antigen is labeled as chain \"B\".\n",
    "2. Modify the Python script so that for each subdirectory of the \"input_dir\" variable, it loads all score files under that subdirectory by globbing for **/*.sc (there should be five). Then, compute the average dG_separated across those files and save those average values to a CSV.\"\"\""
   ]
  },
  {
   "cell_type": "code",
   "execution_count": null,
   "id": "3d7db24088647596",
   "metadata": {},
   "outputs": [],
   "source": [
    "# Modify Rosetta - discussion\n",
    "modify_rosetta_summaries = load_summaries(\n",
    "    discussion_paths=[discussions_phase_to_dir[\"rosetta\"] / \"improved_xml.json\",\n",
    "                      discussions_phase_to_dir[\"rosetta\"] / \"improved_python.json\"])\n",
    "print(f\"Number of summaries: {len(modify_rosetta_summaries)}\")\n",
    "\n",
    "run_meeting(\n",
    "    meeting_type=\"individual\",\n",
    "    team_member=computational_biologist,\n",
    "    summaries=modify_rosetta_summaries,\n",
    "    agenda=modify_rosetta_agenda,\n",
    "    save_dir=discussions_phase_to_dir[\"rosetta_modified\"],\n",
    "    save_name=\"modified\",\n",
    "    temperature=CONSISTENT_TEMPERATURE,\n",
    ")"
   ]
  }
 ],
 "metadata": {
  "kernelspec": {
   "display_name": "Python 3 (ipykernel)",
   "language": "python",
   "name": "python3"
  },
  "language_info": {
   "codemirror_mode": {
    "name": "ipython",
    "version": 3
   },
   "file_extension": ".py",
   "mimetype": "text/x-python",
   "name": "python",
   "nbconvert_exporter": "python",
   "pygments_lexer": "ipython3",
   "version": "3.12.8"
  }
 },
 "nbformat": 4,
 "nbformat_minor": 5
}
