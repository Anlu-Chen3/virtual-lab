{
 "cells": [
  {
   "cell_type": "code",
   "execution_count": 1,
   "id": "88dafcf2f902906f",
   "metadata": {
    "ExecuteTime": {
     "end_time": "2025-01-13T05:36:40.906602Z",
     "start_time": "2025-01-13T05:36:40.903301Z"
    }
   },
   "outputs": [],
   "source": [
    "from pathlib import Path\n",
    "\n",
    "import matplotlib\n",
    "import matplotlib.pyplot as plt\n",
    "import numpy as np\n",
    "import pandas as pd\n",
    "import seaborn as sns\n",
    "\n",
    "matplotlib.rcParams.update({'font.size': 18})\n"
   ]
  },
  {
   "cell_type": "code",
   "execution_count": 2,
   "id": "379609bd4030dcd2",
   "metadata": {
    "ExecuteTime": {
     "end_time": "2025-01-13T05:36:41.052481Z",
     "start_time": "2025-01-13T05:36:41.047933Z"
    }
   },
   "outputs": [],
   "source": [
    "scores_dir = Path(\"designed/workflow_2/scores\")\n",
    "combined_dir = Path(\"designed/workflow_2/combined\")\n",
    "max_round = 4\n",
    "spikes = [\"KP.3\", \"JN.1\"]\n",
    "nanobodies = [\"Nb21\", \"Ty1\"]\n",
    "score_types = [\"log_likelihood_ratio\", \"Interface_pLDDT\", \"Interface_Residue_Count\", \"Interface_Atom_Count\", \"dG_separated\", \"weighted_score\"]\n",
    "\n",
    "sns.set_style(\"white\")\n",
    "\n",
    "figure_dir = Path(\"figures/nanobody_analysis_workflow_2\")\n",
    "figure_dir.mkdir(parents=True, exist_ok=True)\n",
    "\n",
    "linewidth = 4\n",
    "s = 250"
   ]
  },
  {
   "cell_type": "code",
   "execution_count": null,
   "id": "d3597a0918ceb03d",
   "metadata": {
    "ExecuteTime": {
     "end_time": "2025-01-13T05:36:42.440014Z",
     "start_time": "2025-01-13T05:36:41.237969Z"
    }
   },
   "outputs": [],
   "source": [
    "# Plot ESM scores across rounds (all top 50 designs per input nanobody sequence)\n",
    "for nanobody in nanobodies:\n",
    "    fig, ax = plt.subplots(1, 1, figsize=(8, 6))\n",
    "    ax.axvline(0, color=\"black\", linestyle=\"--\", label=\"Input Sequence\", linewidth=linewidth)\n",
    "    for round_num in range(1, max_round + 1):\n",
    "        scores_path = scores_dir / f\"round_{round_num}_scores\" / f\"{nanobody}_all.csv\"\n",
    "        scores = pd.read_csv(scores_path)\n",
    "        sns.kdeplot(data=scores, x=\"log_likelihood_ratio\", label=f\"Round {round_num}\", ax=ax, linewidth=linewidth)\n",
    "    ax.set_title(f\"{nanobody}: ESM LLR\")\n",
    "    ax.set_xlabel(\"ESM Log-Likelihood Ratio (LLR)\")\n",
    "    plt.legend()\n",
    "    plt.savefig(figure_dir / f\"{nanobody}_rounds_esm_llr.pdf\", bbox_inches=\"tight\")"
   ]
  },
  {
   "cell_type": "code",
   "execution_count": null,
   "id": "1be6bc2368e55ae8",
   "metadata": {
    "ExecuteTime": {
     "end_time": "2025-01-13T05:36:44.796082Z",
     "start_time": "2025-01-13T05:36:42.452644Z"
    }
   },
   "outputs": [],
   "source": [
    "# Plot AlphaFold-Multimer ipLDDT vs Rosetta dG_separated scores across rounds (top 10 from each round)\n",
    "for spike in spikes:\n",
    "    for nanobody in nanobodies:\n",
    "        fig, ax = plt.subplots(1, 1, figsize=(8, 6))\n",
    "        for round_num in range(max_round + 1):\n",
    "            scores_path = scores_dir / f\"round_{round_num}_scores\" / f\"{nanobody}.csv\"\n",
    "            scores = pd.read_csv(scores_path)\n",
    "            kwargs = {\"label\": f\"Round {round_num}\"} if round_num > 0 else {\"label\": \"Original\", \"color\": \"black\", \"marker\": \"P\", \"zorder\": 10}\n",
    "            sns.scatterplot(data=scores, x=f\"Average_Interface_pLDDT_{spike}\", y=f\"Average dG_separated_{spike}\", ax=ax, s=s, **kwargs)\n",
    "        ax.invert_yaxis()\n",
    "        ax.set_title(f\"{nanobody}: RS dG {spike} vs AF ipLDDT {spike}\")\n",
    "        ax.set_xlabel(f\"AlphaFold-Multimer average interface pLDDT {spike} (AF ipLDDT {spike})\")\n",
    "        ax.set_ylabel(f\"Rosetta average dG-separated {spike} (RS dG {spike})\")\n",
    "        plt.legend()\n",
    "        plt.savefig(figure_dir / f\"{nanobody}_rounds_rs_dg_vs_af_iplddt_{spike}.pdf\", bbox_inches=\"tight\")"
   ]
  },
  {
   "cell_type": "code",
   "execution_count": null,
   "id": "67567d4a220d24f4",
   "metadata": {
    "ExecuteTime": {
     "end_time": "2025-01-13T05:36:45.770895Z",
     "start_time": "2025-01-13T05:36:44.839756Z"
    }
   },
   "outputs": [],
   "source": [
    "# Plot weighted scores of best designs across rounds\n",
    "for nanobody in nanobodies:\n",
    "    fig, ax = plt.subplots(1, 1, figsize=(8, 6))\n",
    "    for round_num in range(1, max_round + 1):\n",
    "        scores_path = scores_dir / f\"round_{round_num}_scores\" / f\"{nanobody}.csv\"\n",
    "        scores = pd.read_csv(scores_path)\n",
    "        sns.kdeplot(data=scores, x=\"weighted_score\", label=f\"Round {round_num}\", ax=ax, linewidth=linewidth)\n",
    "    ax.set_title(f\"{nanobody}: WS\")\n",
    "    ax.set_xlabel(\"Weighted Score (WS)\")\n",
    "    plt.legend()\n",
    "    plt.savefig(figure_dir / f\"{nanobody}_weighted_score.pdf\", bbox_inches=\"tight\")"
   ]
  },
  {
   "cell_type": "code",
   "execution_count": null,
   "id": "e77cccfabb9076db",
   "metadata": {
    "ExecuteTime": {
     "end_time": "2025-01-13T05:36:48.954138Z",
     "start_time": "2025-01-13T05:36:45.779163Z"
    }
   },
   "outputs": [],
   "source": [
    "# Plot best designs for each nanobody\n",
    "bins = np.linspace(0, 16, 17)\n",
    "rounds = list(range(1, max_round + 1))\n",
    "for nanobody in nanobodies:\n",
    "    scores = pd.read_csv(combined_dir / f\"{nanobody}.csv\")\n",
    "\n",
    "    # Plot ESM scores\n",
    "    fig, ax = plt.subplots(1, 1, figsize=(8, 6))\n",
    "    for round_num in rounds:\n",
    "        if round_num in scores[\"round_num\"].values:\n",
    "            plt.bar(0, 0, color=sns.color_palette(\"tab10\")[round_num - 1], label=f\"Round {round_num}\")  # Dummy bar for legend\n",
    "    sns.histplot(data=scores, x=\"log_likelihood_ratio_vs_original\", bins=bins, multiple=\"stack\", hue=\"round_num\", hue_order=rounds, palette=\"tab10\", ax=ax)\n",
    "    ax.axvline(0, color=\"black\", linestyle=\"--\", label=\"Original\", linewidth=linewidth)\n",
    "    ax.set_title(f\"{nanobody}: \" + r\"ESM LLR$^{\\text{WT}}$\")\n",
    "    ax.set_xlabel(r\"ESM Log-Likelihood Ratio vs Original (ESM LLR$^{\\text{WT}}$)\")\n",
    "    plt.legend()\n",
    "    plt.savefig(figure_dir / f\"{nanobody}_final_esm_llr.pdf\", bbox_inches=\"tight\")\n",
    "\n",
    "    # Plot AlphaFold-Multimer ipLDDT vs Rosetta dG_separated scores\n",
    "    for spike in spikes:\n",
    "        fig, ax = plt.subplots(1, 1, figsize=(8, 6))\n",
    "        original = pd.read_csv(scores_dir / \"round_0_scores\" / f\"{nanobody}.csv\")\n",
    "        sns.scatterplot(data=original, x=f\"Average_Interface_pLDDT_{spike}\", y=f\"Average dG_separated_{spike}\", label=\"Original\", color=\"black\", marker=\"P\", s=s, zorder=10)\n",
    "        for round_num in range(1, max_round + 1):\n",
    "            round_scores = scores[scores[\"round_num\"] == round_num]\n",
    "            sns.scatterplot(data=round_scores, x=f\"Average_Interface_pLDDT_{spike}\", y=f\"Average dG_separated_{spike}\", label=f\"Round {round_num}\", s=s, ax=ax)\n",
    "        ax.invert_yaxis()\n",
    "        ax.set_title(f\"{nanobody}: RS dG vs AF ipLDDT {spike}\")\n",
    "        ax.set_xlabel(f\"AlphaFold-Multimer average interface pLDDT {spike} (AF ipLDDT {spike})\")\n",
    "        ax.set_ylabel(f\"Rosetta average dG-separated {spike} (RS dG {spike})\")\n",
    "        plt.legend()\n",
    "        plt.savefig(figure_dir / f\"{nanobody}_final_rs_dg_vs_af_iplddt_{spike}.pdf\", bbox_inches=\"tight\")"
   ]
  },
  {
   "cell_type": "code",
   "execution_count": null,
   "id": "582334dc3ff88e1b",
   "metadata": {},
   "outputs": [],
   "source": []
  }
 ],
 "metadata": {
  "kernelspec": {
   "display_name": "Python 3 (ipykernel)",
   "language": "python",
   "name": "python3"
  },
  "language_info": {
   "codemirror_mode": {
    "name": "ipython",
    "version": 3
   },
   "file_extension": ".py",
   "mimetype": "text/x-python",
   "name": "python",
   "nbconvert_exporter": "python",
   "pygments_lexer": "ipython3",
   "version": "3.12.8"
  }
 },
 "nbformat": 5,
 "nbformat_minor": 9
}
