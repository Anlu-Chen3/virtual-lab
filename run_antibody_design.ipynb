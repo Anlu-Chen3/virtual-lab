{
 "cells": [
  {
   "cell_type": "code",
   "id": "initial_id",
   "metadata": {
    "ExecuteTime": {
     "end_time": "2024-08-26T05:43:22.218853Z",
     "start_time": "2024-08-26T05:43:21.617955Z"
    }
   },
   "source": [
    "import concurrent.futures\n",
    "from pathlib import Path\n",
    "\n",
    "from agent import Agent\n",
    "from constants import CONSISTENT_TEMPERATURE, CREATIVE_TEMPERATURE\n",
    "from prompts import (\n",
    "    PRINCIPAL_INVESTIGATOR,\n",
    "    SCIENTIFIC_CRITIC,\n",
    "    create_merge_prompt,\n",
    ")\n",
    "from run_individual_meeting import run_individual_meeting\n",
    "from run_scientific_meeting import run_scientific_meeting\n",
    "from utils import load_summaries"
   ],
   "outputs": [],
   "execution_count": 1
  },
  {
   "cell_type": "code",
   "id": "cc186057c8dcc3a8",
   "metadata": {
    "ExecuteTime": {
     "end_time": "2024-08-26T05:43:22.223890Z",
     "start_time": "2024-08-26T05:43:22.220861Z"
    }
   },
   "source": [
    "# Set up key parameters\n",
    "num_iterations = 5\n",
    "num_rounds = 3\n",
    "num_critiques = 3\n",
    "save_dir = Path(\"antibody_design\")\n",
    "model = \"gpt-4o\"\n",
    "background_prompt = \"You are working on a research project to use machine learning to develop antibodies for the newest variant of the SARS-CoV-2 spike protein that also, ideally, have activity against other circulating minor variants and past variants.\""
   ],
   "outputs": [],
   "execution_count": 2
  },
  {
   "metadata": {},
   "cell_type": "markdown",
   "source": "## Select team members",
   "id": "a9259ddc2710488f"
  },
  {
   "cell_type": "code",
   "id": "c55d79aa92e377b5",
   "metadata": {
    "ExecuteTime": {
     "end_time": "2024-08-15T04:19:56.599298Z",
     "start_time": "2024-08-15T04:19:56.596049Z"
    }
   },
   "source": [
    "# Select team members - prompts\n",
    "team_selection_dir = save_dir / \"team_selection\"\n",
    "\n",
    "team_selection_agenda = f\"\"\"{background_prompt} You need to select a team of three scientists to help you with this project. Please select the team members that you would like to invite to a discussion to create the antibody design approach. Please list the team members in the following format, using the team member below as an example. You should not include yourself (Principal Investigator) in the list.\n",
    "\n",
    "Agent(\n",
    "    title=\"Principal Investigator\",\n",
    "    expertise=\"applying artificial intelligence to biomedical research\",\n",
    "    goal=\"perform research in your area of expertise that maximizes the scientific impact of the work\",\n",
    "    role=\"lead a team of experts to solve an important problem in artificial intelligence for biomedicine, make key decisions about the project direction based on team member input, and manage the project timeline and resources\",\n",
    ")\n",
    "\"\"\""
   ],
   "outputs": [],
   "execution_count": 3
  },
  {
   "cell_type": "code",
   "id": "50722e4dadc135d8",
   "metadata": {},
   "source": [
    "# Select team members - discussion\n",
    "with concurrent.futures.ThreadPoolExecutor() as executor:\n",
    "    concurrent.futures.wait([\n",
    "        executor.submit(\n",
    "            run_individual_meeting,\n",
    "            team_member=PRINCIPAL_INVESTIGATOR,\n",
    "            agenda=team_selection_agenda,\n",
    "            save_dir=team_selection_dir,\n",
    "            save_name=f\"discussion_{iteration_num + 1}\",\n",
    "            temperature=CREATIVE_TEMPERATURE,\n",
    "            model=model,\n",
    "        ) for iteration_num in range(num_iterations)\n",
    "    ])"
   ],
   "outputs": [],
   "execution_count": null
  },
  {
   "cell_type": "code",
   "id": "f1c023cebeaaf883",
   "metadata": {},
   "source": [
    "# Select team members - merge\n",
    "team_selection_summaries = load_summaries(discussion_paths=list(team_selection_dir.glob(\"discussion_*.json\")))\n",
    "print(f\"Number of summaries: {len(team_selection_summaries)}\")\n",
    "\n",
    "team_selection_merge_prompt = create_merge_prompt(agenda=team_selection_agenda)\n",
    "\n",
    "run_individual_meeting(\n",
    "    team_member=PRINCIPAL_INVESTIGATOR,\n",
    "    agenda=team_selection_merge_prompt,\n",
    "    save_dir=team_selection_dir,\n",
    "    save_name=\"merged\",\n",
    "    summaries=team_selection_summaries,\n",
    "    temperature=CONSISTENT_TEMPERATURE,\n",
    "    model=model,\n",
    ")"
   ],
   "outputs": [],
   "execution_count": null
  },
  {
   "cell_type": "code",
   "id": "3d9186ce198c1b0b",
   "metadata": {
    "ExecuteTime": {
     "end_time": "2024-08-25T19:26:09.231420Z",
     "start_time": "2024-08-25T19:26:09.227275Z"
    }
   },
   "source": [
    "# Add team members\n",
    "IMMUNOLOGIST = Agent(\n",
    "    title=\"Immunologist\",\n",
    "    expertise=\"antibody development, immune response mechanisms, and viral pathogenesis\",\n",
    "    goal=\"identify key epitopes on the spike protein that are likely to elicit a strong immune response and assess the potential cross-reactivity with other variants\",\n",
    "    role=\"guide the selection of target epitopes for antibody design, ensuring that they are likely to be broadly neutralizing across multiple variants, and validate the effectiveness of antibody candidates\",\n",
    ")\n",
    "\n",
    "COMPUTATIONAL_BIOLOGIST = Agent(\n",
    "    title=\"Computational Biologist\",\n",
    "    expertise=\"protein structure prediction, molecular dynamics simulations, and structural bioinformatics\",\n",
    "    goal=\"model the 3D structure of the new SARS-CoV-2 spike protein variant and simulate its interactions with potential antibody candidates\",\n",
    "    role=\"provide structural insights into the spike protein, predict how mutations might affect antibody binding, and guide the computational design of antibody candidates\",\n",
    ")\n",
    "\n",
    "DATA_SCIENTIST = Agent(\n",
    "    title=\"Machine Learning Specialist\",\n",
    "    expertise=\"deep learning, predictive modeling, and biological data analysis\",\n",
    "    goal=\"develop and implement machine learning models to predict antibody efficacy and optimize antibody sequences\",\n",
    "    role=\"create and refine algorithms to predict antibody binding affinity and cross-reactivity with various SARS-CoV-2 variants, and optimize antibody sequences for broad neutralizing activity\",\n",
    ")\n",
    "\n",
    "team_members = (\n",
    "    IMMUNOLOGIST,\n",
    "    COMPUTATIONAL_BIOLOGIST,\n",
    "    DATA_SCIENTIST,\n",
    "    SCIENTIFIC_CRITIC,\n",
    ")"
   ],
   "outputs": [],
   "execution_count": 3
  },
  {
   "metadata": {},
   "cell_type": "markdown",
   "source": "## Select project",
   "id": "3804141d0b26537"
  },
  {
   "cell_type": "code",
   "id": "9df84a9e45d31bbe",
   "metadata": {
    "ExecuteTime": {
     "end_time": "2024-08-15T04:20:03.973340Z",
     "start_time": "2024-08-15T04:20:03.968523Z"
    }
   },
   "source": [
    "# Select antibodies project - prompts\n",
    "project_selection_dir = save_dir / \"project_selection\"\n",
    "\n",
    "project_selection_agenda = f\"{background_prompt} Please create an antibody design approach for this target that uses ESM amino acid likelihoods to identify promising antibody sequences and RosettaAntibody to rank those proposed antibodies by binding affinity. Decide whether you will design antibodies de novo or modify existing antibodies. Explain in detail how you will apply ESM and RosettaAntibody to design antibodies.\"\n",
    "\n",
    "project_selection_questions = (\n",
    "    \"Will you design antibodies de novo or will you modify existing antibodies (choose only one)?\",\n",
    "    \"If modifying existing antibodies, which precise antibody or antibodies will you modify?\",\n",
    "    \"If modifying existing antibodies, how exactly will you propose modifications to the antibodies?\",\n",
    "    \"If designing antibodies de novo, how exactly will you propose antibody candidates?\",\n",
    "    \"How will you use ESM and RosettaAntibody (step-by-step, in detail, without any additional tools) to design antibodies?\",\n",
    "    \"What specific role will ESM play in the antibody design process?\",\n",
    "    \"What specific role will RosettaAntibody play in the antibody design process?\",\n",
    ")\n",
    "\n",
    "project_selection_rules = (\n",
    "    \"You must not use any computational tools at any point in your antibody design approach except for ESM and RosettaAntibody.\",\n",
    "    \"You must only consider the computational aspects of antibody design and ignore experimental validation.\",\n",
    ")"
   ],
   "outputs": [],
   "execution_count": 4
  },
  {
   "cell_type": "code",
   "id": "9ff509ba8824b8ac",
   "metadata": {},
   "source": [
    "# Select antibodies project - discussion\n",
    "with concurrent.futures.ThreadPoolExecutor() as executor:\n",
    "    concurrent.futures.wait([\n",
    "        executor.submit(\n",
    "            run_scientific_meeting,\n",
    "            team_lead=PRINCIPAL_INVESTIGATOR,\n",
    "            team_members=team_members,\n",
    "            agenda=project_selection_agenda,\n",
    "            agenda_questions=project_selection_questions,\n",
    "            agenda_rules=project_selection_rules,\n",
    "            save_dir=project_selection_dir,\n",
    "            save_name=f\"discussion_{iteration_num + 1}\",\n",
    "            num_rounds=num_rounds,\n",
    "            temperature=CREATIVE_TEMPERATURE,\n",
    "            model=model,\n",
    "        ) for iteration_num in range(num_iterations)\n",
    "    ])"
   ],
   "outputs": [],
   "execution_count": null
  },
  {
   "cell_type": "code",
   "id": "e66e0cfa85f2176d",
   "metadata": {},
   "source": [
    "# Select antibodies project - merge\n",
    "project_selection_summaries = load_summaries(discussion_paths=list(project_selection_dir.glob(\"discussion_*.json\")))\n",
    "print(f\"Number of summaries: {len(project_selection_summaries)}\")\n",
    "\n",
    "project_selection_merge_prompt = create_merge_prompt(\n",
    "    agenda=project_selection_agenda,\n",
    "    agenda_questions=project_selection_questions,\n",
    "    agenda_rules=project_selection_rules\n",
    ")\n",
    "\n",
    "run_individual_meeting(\n",
    "    team_member=PRINCIPAL_INVESTIGATOR,\n",
    "    agenda=project_selection_merge_prompt,\n",
    "    save_dir=project_selection_dir,\n",
    "    save_name=\"merged\",\n",
    "    summaries=project_selection_summaries,\n",
    "    num_critiques=num_critiques,\n",
    "    temperature=CONSISTENT_TEMPERATURE,\n",
    "    model=model,\n",
    ")"
   ],
   "outputs": [],
   "execution_count": null
  },
  {
   "metadata": {},
   "cell_type": "markdown",
   "source": "## Select antibodies",
   "id": "b482eea084f31949"
  },
  {
   "metadata": {
    "ExecuteTime": {
     "end_time": "2024-08-20T21:44:42.916463Z",
     "start_time": "2024-08-20T21:44:42.903174Z"
    }
   },
   "cell_type": "code",
   "source": [
    "# Select antibodies - prompts\n",
    "select_antibodies_dir = save_dir / \"select_antibodies\"\n",
    "\n",
    "select_antibodies_agenda = f\"{background_prompt} Your team has decided to modify existing antibodies to improve their activity against the latest variant. Please describe the method you would use to determine which antibodies are most appropriate for this purpose. Then, list the specific antibodies that you would select for modification.\""
   ],
   "id": "3fd681773940bd52",
   "outputs": [],
   "execution_count": 9
  },
  {
   "metadata": {},
   "cell_type": "code",
   "source": [
    "# Select antibodies - discussion\n",
    "with concurrent.futures.ThreadPoolExecutor() as executor:\n",
    "    concurrent.futures.wait([\n",
    "        executor.submit(\n",
    "            run_individual_meeting,\n",
    "            team_member=IMMUNOLOGIST,\n",
    "            agenda=select_antibodies_agenda,\n",
    "            save_dir=select_antibodies_dir,\n",
    "            save_name=f\"discussion_{iteration_num + 1}\",\n",
    "            temperature=CREATIVE_TEMPERATURE,\n",
    "            num_critiques=num_critiques,\n",
    "            model=model,\n",
    "        ) for iteration_num in range(num_iterations)\n",
    "    ])"
   ],
   "id": "213e9b081c0cede",
   "outputs": [],
   "execution_count": null
  },
  {
   "metadata": {},
   "cell_type": "code",
   "source": [
    "# Select antibodies - merge\n",
    "select_antibodies_summaries = load_summaries(discussion_paths=list(select_antibodies_dir.glob(\"discussion_*.json\")))\n",
    "print(f\"Number of summaries: {len(select_antibodies_summaries)}\")\n",
    "\n",
    "antibodies_merge_prompt = create_merge_prompt(agenda=select_antibodies_agenda)\n",
    "\n",
    "run_individual_meeting(\n",
    "    team_member=IMMUNOLOGIST,\n",
    "    agenda=antibodies_merge_prompt,\n",
    "    save_dir=select_antibodies_dir,\n",
    "    save_name=\"merged\",\n",
    "    summaries=select_antibodies_summaries,\n",
    "    temperature=CONSISTENT_TEMPERATURE,\n",
    "    model=model,\n",
    ")"
   ],
   "id": "3592d6ea3669013b",
   "outputs": [],
   "execution_count": null
  },
  {
   "metadata": {},
   "cell_type": "markdown",
   "source": "## Get antibodies",
   "id": "3c6b4516c7953599"
  },
  {
   "metadata": {},
   "cell_type": "code",
   "source": [
    "# Get antibodies - prompts\n",
    "antibodies_dir = save_dir / \"antibodies\"\n",
    "\n",
    "antibodies_agenda = f\"{background_prompt} Your team previously decided on an antibody design approach using ESM and RosettaAntibody to modify existing antibodies. First, write out the list of existing antibodies that were selected in the previous meeting. Then, write step-by-step instructions for obtaining the sequences of each of these antibodies.\"\n",
    "\n",
    "antibodies_prior_summaries = load_summaries(discussion_paths=[project_selection_dir / \"merged.json\"])\n",
    "print(f\"Number of prior summaries: {len(antibodies_prior_summaries)}\")"
   ],
   "id": "e85201254da5236c",
   "outputs": [],
   "execution_count": null
  },
  {
   "metadata": {},
   "cell_type": "code",
   "source": [
    "# Get antibodies - discussion\n",
    "with concurrent.futures.ThreadPoolExecutor() as executor:\n",
    "    concurrent.futures.wait([\n",
    "        executor.submit(\n",
    "            run_individual_meeting,\n",
    "            team_member=IMMUNOLOGIST,\n",
    "            agenda=antibodies_agenda,\n",
    "            save_dir=antibodies_dir,\n",
    "            save_name=f\"discussion_{iteration_num + 1}\",\n",
    "            temperature=CREATIVE_TEMPERATURE,\n",
    "            num_critiques=num_critiques,\n",
    "            summaries=antibodies_prior_summaries,\n",
    "            model=model,\n",
    "        ) for iteration_num in range(num_iterations)\n",
    "    ])"
   ],
   "id": "af7a14529102b1d1",
   "outputs": [],
   "execution_count": null
  },
  {
   "metadata": {},
   "cell_type": "code",
   "source": [
    "# Get antibodies - merge\n",
    "antibodies_summaries = load_summaries(discussion_paths=list(antibodies_dir.glob(\"discussion_*.json\")))\n",
    "print(f\"Number of summaries: {len(antibodies_summaries)}\")\n",
    "\n",
    "antibodies_merge_prompt = create_merge_prompt(agenda=antibodies_agenda)\n",
    "\n",
    "run_individual_meeting(\n",
    "    team_member=IMMUNOLOGIST,\n",
    "    agenda=antibodies_merge_prompt,\n",
    "    save_dir=antibodies_dir,\n",
    "    save_name=\"merged\",\n",
    "    summaries=antibodies_summaries,\n",
    "    temperature=CONSISTENT_TEMPERATURE,\n",
    "    model=model,\n",
    ")"
   ],
   "id": "e65c5554cb957de1",
   "outputs": [],
   "execution_count": null
  },
  {
   "metadata": {},
   "cell_type": "markdown",
   "source": "## Coding rules",
   "id": "e8865ef614a243d5"
  },
  {
   "metadata": {
    "ExecuteTime": {
     "end_time": "2024-08-15T04:20:14.600375Z",
     "start_time": "2024-08-15T04:20:14.597189Z"
    }
   },
   "cell_type": "code",
   "source": [
    "coding_rules = (\n",
    "    \"Your code must be self-contained (with appropriate imports) and complete.\",\n",
    "    \"Your code may not include any undefined or unimplemented variables or functions.\",\n",
    "    \"Your code may not include any pseudocode; it must be fully functioning code.\",\n",
    "    \"Your code may not include any hard-coded examples.\",\n",
    "    \"If your code needs user-provided values, write code to parse those values from the command line.\",\n",
    "    \"Your code must be high quality, well-engineered, efficient, and well-documented (including docstrings, comments, and Python type hints if using Python).\",\n",
    ")"
   ],
   "id": "50181e6c54d6f38",
   "outputs": [],
   "execution_count": 7
  },
  {
   "metadata": {},
   "cell_type": "markdown",
   "source": "## Run ESM",
   "id": "c4c6926e46e1b1da"
  },
  {
   "metadata": {},
   "cell_type": "code",
   "source": [
    "# Run ESM - prompts\n",
    "esm_dir = save_dir / \"esm\"\n",
    "\n",
    "esm_agenda = f\"{background_prompt} Your team previously decided on an antibody design approach using ESM and RosettaAntibody to modify existing antibodies. Now, you must implement the ESM portion of the approach. Please write a complete Python script that takes an antibody sequence as input and uses ESM amino acid likelihoods to identify the most promising mutant sequences.\"\n",
    "\n",
    "esm_prior_summaries = load_summaries(discussion_paths=[project_selection_dir / \"merged.json\"])\n",
    "print(f\"Number of prior summaries: {len(esm_prior_summaries)}\")"
   ],
   "id": "1b2b6e3a180a548e",
   "outputs": [],
   "execution_count": null
  },
  {
   "metadata": {},
   "cell_type": "code",
   "source": [
    "# Run ESM - discussion\n",
    "with concurrent.futures.ThreadPoolExecutor() as executor:\n",
    "    concurrent.futures.wait([\n",
    "        executor.submit(\n",
    "            run_individual_meeting,\n",
    "            team_member=DATA_SCIENTIST,\n",
    "            agenda=esm_agenda,\n",
    "            agenda_rules=coding_rules,\n",
    "            save_dir=esm_dir,\n",
    "            save_name=f\"discussion_{iteration_num + 1}\",\n",
    "            temperature=CREATIVE_TEMPERATURE,\n",
    "            num_critiques=num_critiques,\n",
    "            summaries=esm_prior_summaries,\n",
    "            model=model,\n",
    "        ) for iteration_num in range(num_iterations)\n",
    "    ])"
   ],
   "id": "e0affb5cd00bec96",
   "outputs": [],
   "execution_count": null
  },
  {
   "metadata": {},
   "cell_type": "code",
   "source": [
    "# Run ESM - merge\n",
    "esm_summaries = load_summaries(discussion_paths=list(esm_dir.glob(\"discussion_*.json\")))\n",
    "print(f\"Number of summaries: {len(esm_summaries)}\")\n",
    "\n",
    "esm_merge_prompt = create_merge_prompt(agenda=esm_agenda)\n",
    "\n",
    "run_individual_meeting(\n",
    "    team_member=DATA_SCIENTIST,\n",
    "    agenda=esm_merge_prompt,\n",
    "    save_dir=esm_dir,\n",
    "    save_name=\"merged\",\n",
    "    summaries=esm_summaries,\n",
    "    temperature=CONSISTENT_TEMPERATURE,\n",
    "    model=model,\n",
    ")"
   ],
   "id": "6b0936e225dcc32f",
   "outputs": [],
   "execution_count": null
  },
  {
   "metadata": {},
   "cell_type": "markdown",
   "source": "## Improve ESM",
   "id": "e428cb163ae1029e"
  },
  {
   "metadata": {},
   "cell_type": "code",
   "source": [
    "# Improve ESM - prompts\n",
    "improve_esm_dir = save_dir / \"improve_esm\"\n",
    "\n",
    "improve_esm_agenda = \"\"\"You previously implemented a Python script that uses ESM likelihoods to identify promising mutant antibody sequence (see summary). Now, you must rewrite the script to address the following issues.\n",
    "\n",
    "1. The code `from esm import pretrained; pretrained.Alphabet` causes an error for fair-esm version 2.0.0. Please fix all instances of `pretrained.Alphabet` by instead using the import `from esm import Alphabet`.\n",
    "2. The code `model.alphabet.all_toks` causes an error for fair-esm version 2.0.0. Please fix this by instead directly using the loaded alphabet and its `alphabet.all_toks`.\n",
    "3. The code does not verify that proposed high likelihood amino acids are in fact mutations (i.e., different from the input wildtype sequence). Please add a check to ensure that the proposed amino acids are different from the wildtype sequence.\n",
    "4. Please check that the proposed mutations are standard amino acids (i.e., not 'X' or other non-standard amino acids).\n",
    "5. The code computes mutant amino acid likelihoods but does not check whether the mutant amino acid has a higher likelihood than the wildtype amino acid. Please modify the code to only select mutants with higher likelihoods than the wildtype.\n",
    "6. Please modify the code to save the top N mutant sequences with the highest ratio between the mutant likelihood and the wildtype likelihood, where N is a user-defined parameter.\"\"\"\n",
    "\n",
    "improve_esm_prior_summaries = load_summaries(discussion_paths=[project_selection_dir / \"merged.json\", esm_dir / \"merged.json\"])\n",
    "print(f\"Number of prior summaries: {len(improve_esm_prior_summaries)}\")"
   ],
   "id": "d19487fa27fcdf8c",
   "outputs": [],
   "execution_count": null
  },
  {
   "metadata": {},
   "cell_type": "code",
   "source": [
    "# Improve ESM - discussion\n",
    "run_individual_meeting(\n",
    "    team_member=DATA_SCIENTIST,\n",
    "    agenda=improve_esm_agenda,\n",
    "    agenda_rules=coding_rules,\n",
    "    save_dir=improve_esm_dir,\n",
    "    save_name=\"discussion\",\n",
    "    temperature=CONSISTENT_TEMPERATURE,\n",
    "    num_critiques=num_critiques,\n",
    "    summaries=improve_esm_prior_summaries,\n",
    "    model=model,\n",
    ")"
   ],
   "id": "dae5c744c7bc4ee9",
   "outputs": [],
   "execution_count": null
  },
  {
   "metadata": {},
   "cell_type": "markdown",
   "source": "## Run RosettaAntibody",
   "id": "7ba34f13b0ec3889"
  },
  {
   "metadata": {},
   "cell_type": "code",
   "source": [
    "# Run RosettaAntibody - prompts\n",
    "rosetta_dir = save_dir / \"rosetta\"\n",
    "\n",
    "rosetta_agenda = f\"{background_prompt} Your team previously decided on an antibody design approach using ESM and RosettaAntibody to modify existing antibodies. Now, you must implement the RosettaAntibody portion of the approach. Please write a complete Python script that takes a list of antibody sequences and an antigen structure as input and uses RosettaAntibody to rank the antibody sequences based on their binding affinity and structural stability. If needed, write a complete Rosetta XML protocol file that specifies the antibody design process.\"\n",
    "\n",
    "rosetta_prior_summaries = load_summaries(discussion_paths=[project_selection_dir / \"merged.json\"])\n",
    "print(f\"Number of prior summaries: {len(rosetta_prior_summaries)}\")"
   ],
   "id": "38b7c084b07dd169",
   "outputs": [],
   "execution_count": null
  },
  {
   "metadata": {},
   "cell_type": "code",
   "source": [
    "# Run RosettaAntibody - discussion\n",
    "with concurrent.futures.ThreadPoolExecutor() as executor:\n",
    "    concurrent.futures.wait([\n",
    "        executor.submit(\n",
    "            run_individual_meeting,\n",
    "            team_member=COMPUTATIONAL_BIOLOGIST,\n",
    "            agenda=rosetta_agenda,\n",
    "            agenda_rules=coding_rules,\n",
    "            save_dir=rosetta_dir,\n",
    "            save_name=f\"discussion_{iteration_num + 1}\",\n",
    "            temperature=CREATIVE_TEMPERATURE,\n",
    "            num_critiques=num_critiques,\n",
    "            summaries=rosetta_prior_summaries,\n",
    "            model=model,\n",
    "        ) for iteration_num in range(num_iterations)\n",
    "    ])"
   ],
   "id": "3433242b9472cd28",
   "outputs": [],
   "execution_count": null
  },
  {
   "metadata": {},
   "cell_type": "code",
   "source": [
    "# Run RosettaAntibody - merge\n",
    "rosetta_summaries = load_summaries(discussion_paths=list(rosetta_dir.glob(\"discussion_*.json\")))\n",
    "print(f\"Number of summaries: {len(rosetta_summaries)}\")\n",
    "\n",
    "rosetta_merge_prompt = create_merge_prompt(agenda=rosetta_agenda)\n",
    "\n",
    "run_individual_meeting(\n",
    "    team_member=COMPUTATIONAL_BIOLOGIST,\n",
    "    agenda=rosetta_merge_prompt,\n",
    "    save_dir=rosetta_dir,\n",
    "    save_name=\"merged\",\n",
    "    summaries=rosetta_summaries,\n",
    "    temperature=CONSISTENT_TEMPERATURE,\n",
    "    model=model,\n",
    ")"
   ],
   "id": "4563b6d0b6116f2a",
   "outputs": [],
   "execution_count": null
  },
  {
   "metadata": {},
   "cell_type": "markdown",
   "source": "## PubMed search",
   "id": "e0b5a1eb18147189"
  },
  {
   "metadata": {
    "ExecuteTime": {
     "end_time": "2024-08-26T05:43:25.920688Z",
     "start_time": "2024-08-26T05:43:25.917743Z"
    }
   },
   "cell_type": "code",
   "source": [
    "# PubMed search - prompts\n",
    "pubmed_dir = save_dir / \"pubmed\"\n",
    "\n",
    "pubmed_agenda = \"Please query PubMed to determine the most relevant paper on ESM for antibody design.\""
   ],
   "id": "ca1d1cf9d4d17a4f",
   "outputs": [],
   "execution_count": 3
  },
  {
   "metadata": {},
   "cell_type": "code",
   "source": [
    "run_individual_meeting(\n",
    "    team_member=PRINCIPAL_INVESTIGATOR,\n",
    "    agenda=pubmed_agenda,\n",
    "    save_dir=pubmed_dir,\n",
    "    save_name=\"discussion\",\n",
    "    # num_critiques=num_critiques,\n",
    "    temperature=CONSISTENT_TEMPERATURE,\n",
    "    model=model,\n",
    ")"
   ],
   "id": "5188a5b25a1365c7",
   "outputs": [],
   "execution_count": null
  },
  {
   "metadata": {},
   "cell_type": "code",
   "source": [
    "run_scientific_meeting(\n",
    "    team_lead=PRINCIPAL_INVESTIGATOR,\n",
    "    team_members=team_members,\n",
    "    agenda=pubmed_agenda,\n",
    "    save_dir=pubmed_dir,\n",
    "    save_name=\"discussion\",\n",
    "    num_rounds=num_rounds,\n",
    "    temperature=CREATIVE_TEMPERATURE,\n",
    "    model=model,\n",
    ")"
   ],
   "id": "7f7a4ec3ce416c19",
   "outputs": [],
   "execution_count": null
  },
  {
   "metadata": {},
   "cell_type": "code",
   "outputs": [],
   "execution_count": null,
   "source": "",
   "id": "b979e2bbf77f0dd3"
  }
 ],
 "metadata": {
  "kernelspec": {
   "display_name": "Python 3 (ipykernel)",
   "language": "python",
   "name": "python3"
  },
  "language_info": {
   "codemirror_mode": {
    "name": "ipython",
    "version": 3
   },
   "file_extension": ".py",
   "mimetype": "text/x-python",
   "name": "python",
   "nbconvert_exporter": "python",
   "pygments_lexer": "ipython3",
   "version": "3.12.4"
  }
 },
 "nbformat": 4,
 "nbformat_minor": 5
}
