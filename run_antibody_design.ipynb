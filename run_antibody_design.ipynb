{
 "cells": [
  {
   "cell_type": "code",
   "id": "initial_id",
   "metadata": {
    "collapsed": true,
    "ExecuteTime": {
     "end_time": "2024-07-17T13:15:31.793758Z",
     "start_time": "2024-07-17T13:15:30.940359Z"
    }
   },
   "source": [
    "from pathlib import Path\n",
    "\n",
    "from tqdm import trange\n",
    "\n",
    "from agent import Agent\n",
    "from prompts import ANTIBODIES_CONTEXT_PROMPT, PRINCIPAL_INVESTIGATOR\n",
    "from run_individual_meeting import run_individual_meeting\n",
    "from run_scientific_meeting import run_scientific_meeting\n",
    "from utils import load_summaries"
   ],
   "outputs": [],
   "execution_count": 1
  },
  {
   "metadata": {
    "ExecuteTime": {
     "end_time": "2024-07-17T13:15:32.665372Z",
     "start_time": "2024-07-17T13:15:32.661542Z"
    }
   },
   "cell_type": "code",
   "source": [
    "# Set up key parameters\n",
    "team_lead = PRINCIPAL_INVESTIGATOR\n",
    "num_iterations = 3\n",
    "num_rounds = 3\n",
    "save_dir = Path(\"antibody_design\")\n",
    "model = \"gpt-4o\"\n",
    "discussion_paths = []\n",
    "contexts = (ANTIBODIES_CONTEXT_PROMPT,)"
   ],
   "id": "cc186057c8dcc3a8",
   "outputs": [],
   "execution_count": 2
  },
  {
   "metadata": {
    "ExecuteTime": {
     "end_time": "2024-07-17T13:15:33.733201Z",
     "start_time": "2024-07-17T13:15:33.729708Z"
    }
   },
   "cell_type": "code",
   "source": [
    "# Ask PI to select team members\n",
    "ANTIBODIES_TEAM_PROMPT = \"You are working on a project to develop antibodies for the SARS-CoV-2 spike protein, ideally for the newest variant of the virus and with broad spectrum activity across variants. You need to select a team of scientists to help you with this project. Please select the team members you would like to invite to a discussion to design the antibody discovery approach. For each team member, please specify the following: 1. Title, 2. Expertise, 3. Goal, and 4. Role. Please use your own description as an example.\""
   ],
   "id": "c55d79aa92e377b5",
   "outputs": [],
   "execution_count": 3
  },
  {
   "metadata": {
    "ExecuteTime": {
     "end_time": "2024-07-17T12:56:37.486274Z",
     "start_time": "2024-07-17T12:55:56.257319Z"
    }
   },
   "cell_type": "code",
   "source": [
    "# Select team members\n",
    "for iteration_num in trange(num_iterations, desc=\"Project Iterations\"):\n",
    "    run_individual_meeting(\n",
    "        team_member=team_lead,\n",
    "        agenda=ANTIBODIES_TEAM_PROMPT,\n",
    "        save_dir=save_dir / \"team_selection\",\n",
    "        save_name=f\"discussion_{iteration_num + 1}\",\n",
    "        contexts=contexts,\n",
    "        model=model,\n",
    "    )"
   ],
   "id": "50722e4dadc135d8",
   "outputs": [
    {
     "name": "stderr",
     "output_type": "stream",
     "text": [
      "Project Iterations:  33%|███▎      | 1/3 [00:16<00:32, 16.43s/it]"
     ]
    },
    {
     "name": "stdout",
     "output_type": "stream",
     "text": [
      "Input token count: 194\n",
      "Output token count: 704\n",
      "Max token length: 898\n",
      "Cost: $0.01\n",
      "Time: 0:16\n"
     ]
    },
    {
     "name": "stderr",
     "output_type": "stream",
     "text": [
      "Project Iterations:  67%|██████▋   | 2/3 [00:29<00:14, 14.23s/it]"
     ]
    },
    {
     "name": "stdout",
     "output_type": "stream",
     "text": [
      "Input token count: 194\n",
      "Output token count: 623\n",
      "Max token length: 817\n",
      "Cost: $0.01\n",
      "Time: 0:12\n"
     ]
    },
    {
     "name": "stderr",
     "output_type": "stream",
     "text": [
      "Project Iterations: 100%|██████████| 3/3 [00:41<00:00, 13.73s/it]"
     ]
    },
    {
     "name": "stdout",
     "output_type": "stream",
     "text": [
      "Input token count: 194\n",
      "Output token count: 622\n",
      "Max token length: 816\n",
      "Cost: $0.01\n",
      "Time: 0:12\n"
     ]
    },
    {
     "name": "stderr",
     "output_type": "stream",
     "text": [
      "\n"
     ]
    }
   ],
   "execution_count": 4
  },
  {
   "metadata": {
    "ExecuteTime": {
     "end_time": "2024-07-17T13:15:39.096370Z",
     "start_time": "2024-07-17T13:15:39.091441Z"
    }
   },
   "cell_type": "code",
   "source": [
    "# Add team members based on discussion 2\n",
    "team_members = (\n",
    "    Agent(\n",
    "        title=\"Computational Biologist\",\n",
    "        expertise=\"bioinformatics, protein structure prediction, and molecular dynamics simulations\",\n",
    "        goal=\"to identify potential antibody candidates using computational methods and predict their binding affinity to the SARS-CoV-2 spike protein\",\n",
    "        role=\"to run in silico screenings of antibody libraries, modeling antibody-spike protein interactions, and providing a shortlist of promising candidates for experimental validation\",\n",
    "    ),\n",
    "    Agent(\n",
    "        title=\"Immunologist\",\n",
    "        expertise=\"immune response mechanisms, antibody generation, and characterization\",\n",
    "        goal=\"to guide the selection of antibody candidates based on immunological principles and ensure the candidates have the potential for broad-spectrum activity\",\n",
    "        role=\"to provide insights into the immune response to SARS-CoV-2, help design the antibody generation strategy, and interpret the results from binding and neutralization assays\",\n",
    "    ),\n",
    "    Agent(\n",
    "        title=\"Structural Biologist\",\n",
    "        expertise=\"X-ray crystallography, cryo-electron microscopy (cryo-EM), and protein structure determination\",\n",
    "        goal=\"to determine the high-resolution structures of antibody-spike protein complexes to understand the binding mechanisms and improve antibody design\",\n",
    "        role=\"to solve the structures of selected antibody-spike protein complexes and providing structural insights to refine antibody candidates\",\n",
    "    ),\n",
    "    Agent(\n",
    "        title=\"Virologist\",\n",
    "        expertise=\"SARS-CoV-2 biology, viral entry mechanisms, and neutralization assays\",\n",
    "        goal=\"to validate the neutralizing activity of antibody candidates against SARS-CoV-2 and its variants\",\n",
    "        role=\"to oversee the design and execution of neutralization assays, interpret the results, and ensure that the selected antibodies are effective against multiple variants of the virus\",\n",
    "    ),\n",
    "    Agent(\n",
    "        title=\"Data Scientist\",\n",
    "        expertise=\"machine learning, data analysis, and predictive modeling\",\n",
    "        goal=\"to develop and apply machine learning models to predict the efficacy and broad-spectrum activity of antibody candidates\",\n",
    "        role=\"to analyze experimental data, develop predictive models, and integrate data from various sources to guide the selection and optimization of antibody candidates\",\n",
    "    ),\n",
    "    Agent(\n",
    "        title=\"Experimental Biologist\",\n",
    "        expertise=\"antibody engineering, protein expression, and purification\",\n",
    "        goal=\"to produce and characterize the antibody candidates identified through computational and immunological methods\",\n",
    "        role=\"to express, purify, and initially characterize antibody candidates, as well as to prepare samples for binding and neutralization assays\",\n",
    "    ),\n",
    ")"
   ],
   "id": "7d4459b1b85b1579",
   "outputs": [],
   "execution_count": 4
  },
  {
   "metadata": {
    "ExecuteTime": {
     "end_time": "2024-07-17T13:15:40.704239Z",
     "start_time": "2024-07-17T13:15:40.700522Z"
    }
   },
   "cell_type": "code",
   "source": "ANTIBODIES_PROMPT = \"You are working on a project to develop antibodies for the SARS-CoV-2 spike protein, ideally for the newest variant of the virus and with broad spectrum activity across variants. Please design a specific antibody discovery approach for this target that uses machine learning to design antibody candidates. Decide what specific machine learning model to use and precisely how it will be used. If the model needs to be trained, please decide on a specific dataset for training. If the model is pre-trained, please explain exactly how it will be used for identifying or designing antibody candidates.\"",
   "id": "2bde03a12d5c9332",
   "outputs": [],
   "execution_count": 5
  },
  {
   "metadata": {
    "ExecuteTime": {
     "end_time": "2024-07-17T13:15:41.013703Z",
     "start_time": "2024-07-17T13:15:41.010413Z"
    }
   },
   "cell_type": "code",
   "source": [
    "ANTIBODIES_QUESTIONS = (\n",
    "    \"Will you design the antibodies de novo or will you modify existing antibodies?\",\n",
    "    \"Will you train a model from scratch or use a pre-trained model?\",\n",
    "    \"What specific model architecture will you use?\",\n",
    "    \"If training a model, what dataset will you use for training?\",\n",
    "    \"How exactly will you use your model to design antibodies?\"\n",
    ")"
   ],
   "id": "5bfe77612c2faab5",
   "outputs": [],
   "execution_count": 6
  },
  {
   "metadata": {
    "ExecuteTime": {
     "end_time": "2024-07-17T13:16:00.094621Z",
     "start_time": "2024-07-17T13:15:45.391573Z"
    }
   },
   "cell_type": "code",
   "source": [
    "# Run antibodies project design\n",
    "for iteration_num in trange(num_iterations, desc=\"Project Iterations\"):\n",
    "    run_scientific_meeting(\n",
    "        team_lead=team_lead,\n",
    "        team_members=team_members,\n",
    "        agenda=ANTIBODIES_PROMPT,\n",
    "        agenda_questions=ANTIBODIES_QUESTIONS,\n",
    "        contexts=contexts,\n",
    "        save_dir=save_dir / \"project_design\",\n",
    "        save_name=f\"discussion_{iteration_num + 1}\",\n",
    "        num_rounds=num_rounds,\n",
    "        model=model,\n",
    "    )"
   ],
   "id": "9c4078420bdee0c7",
   "outputs": [
    {
     "name": "stderr",
     "output_type": "stream",
     "text": [
      "Project Iterations:   0%|          | 0/3 [00:00<?, ?it/s]\n",
      "Rounds (+ Summary Round):   0%|          | 0/4 [00:00<?, ?it/s]\u001B[A\n",
      "\n",
      "Team:   0%|          | 0/7 [00:14<?, ?it/s]\u001B[A\u001B[A\n",
      "Rounds (+ Summary Round):   0%|          | 0/4 [00:14<?, ?it/s]\n",
      "Project Iterations:   0%|          | 0/3 [00:14<?, ?it/s]\n"
     ]
    },
    {
     "ename": "KeyboardInterrupt",
     "evalue": "",
     "output_type": "error",
     "traceback": [
      "\u001B[0;31m---------------------------------------------------------------------------\u001B[0m",
      "\u001B[0;31mKeyboardInterrupt\u001B[0m                         Traceback (most recent call last)",
      "Cell \u001B[0;32mIn[7], line 3\u001B[0m\n\u001B[1;32m      1\u001B[0m \u001B[38;5;66;03m# Run antibodies project design\u001B[39;00m\n\u001B[1;32m      2\u001B[0m \u001B[38;5;28;01mfor\u001B[39;00m iteration_num \u001B[38;5;129;01min\u001B[39;00m trange(num_iterations, desc\u001B[38;5;241m=\u001B[39m\u001B[38;5;124m\"\u001B[39m\u001B[38;5;124mProject Iterations\u001B[39m\u001B[38;5;124m\"\u001B[39m):\n\u001B[0;32m----> 3\u001B[0m     \u001B[43mrun_scientific_meeting\u001B[49m\u001B[43m(\u001B[49m\n\u001B[1;32m      4\u001B[0m \u001B[43m        \u001B[49m\u001B[43mteam_lead\u001B[49m\u001B[38;5;241;43m=\u001B[39;49m\u001B[43mteam_lead\u001B[49m\u001B[43m,\u001B[49m\n\u001B[1;32m      5\u001B[0m \u001B[43m        \u001B[49m\u001B[43mteam_members\u001B[49m\u001B[38;5;241;43m=\u001B[39;49m\u001B[43mteam_members\u001B[49m\u001B[43m,\u001B[49m\n\u001B[1;32m      6\u001B[0m \u001B[43m        \u001B[49m\u001B[43magenda\u001B[49m\u001B[38;5;241;43m=\u001B[39;49m\u001B[43mANTIBODIES_PROMPT\u001B[49m\u001B[43m,\u001B[49m\n\u001B[1;32m      7\u001B[0m \u001B[43m        \u001B[49m\u001B[43magenda_questions\u001B[49m\u001B[38;5;241;43m=\u001B[39;49m\u001B[43mANTIBODIES_QUESTIONS\u001B[49m\u001B[43m,\u001B[49m\n\u001B[1;32m      8\u001B[0m \u001B[43m        \u001B[49m\u001B[43mcontexts\u001B[49m\u001B[38;5;241;43m=\u001B[39;49m\u001B[43mcontexts\u001B[49m\u001B[43m,\u001B[49m\n\u001B[1;32m      9\u001B[0m \u001B[43m        \u001B[49m\u001B[43msave_dir\u001B[49m\u001B[38;5;241;43m=\u001B[39;49m\u001B[43msave_dir\u001B[49m\u001B[43m \u001B[49m\u001B[38;5;241;43m/\u001B[39;49m\u001B[43m \u001B[49m\u001B[38;5;124;43m\"\u001B[39;49m\u001B[38;5;124;43mproject_design\u001B[39;49m\u001B[38;5;124;43m\"\u001B[39;49m\u001B[43m,\u001B[49m\n\u001B[1;32m     10\u001B[0m \u001B[43m        \u001B[49m\u001B[43msave_name\u001B[49m\u001B[38;5;241;43m=\u001B[39;49m\u001B[38;5;124;43mf\u001B[39;49m\u001B[38;5;124;43m\"\u001B[39;49m\u001B[38;5;124;43mdiscussion_\u001B[39;49m\u001B[38;5;132;43;01m{\u001B[39;49;00m\u001B[43miteration_num\u001B[49m\u001B[38;5;250;43m \u001B[39;49m\u001B[38;5;241;43m+\u001B[39;49m\u001B[38;5;250;43m \u001B[39;49m\u001B[38;5;241;43m1\u001B[39;49m\u001B[38;5;132;43;01m}\u001B[39;49;00m\u001B[38;5;124;43m\"\u001B[39;49m\u001B[43m,\u001B[49m\n\u001B[1;32m     11\u001B[0m \u001B[43m        \u001B[49m\u001B[43mnum_rounds\u001B[49m\u001B[38;5;241;43m=\u001B[39;49m\u001B[43mnum_rounds\u001B[49m\u001B[43m,\u001B[49m\n\u001B[1;32m     12\u001B[0m \u001B[43m        \u001B[49m\u001B[43mmodel\u001B[49m\u001B[38;5;241;43m=\u001B[39;49m\u001B[43mmodel\u001B[49m\u001B[43m,\u001B[49m\n\u001B[1;32m     13\u001B[0m \u001B[43m    \u001B[49m\u001B[43m)\u001B[49m\n",
      "File \u001B[0;32m~/Stanford/virtual_lab/run_scientific_meeting.py:140\u001B[0m, in \u001B[0;36mrun_scientific_meeting\u001B[0;34m(team_lead, team_members, agenda, agenda_questions, save_dir, save_name, summaries, contexts, num_rounds, max_tokens, temperature, model)\u001B[0m\n\u001B[1;32m    129\u001B[0m discussion\u001B[38;5;241m.\u001B[39mappend(\n\u001B[1;32m    130\u001B[0m     {\n\u001B[1;32m    131\u001B[0m         \u001B[38;5;124m\"\u001B[39m\u001B[38;5;124magent\u001B[39m\u001B[38;5;124m\"\u001B[39m: \u001B[38;5;124m\"\u001B[39m\u001B[38;5;124mUser\u001B[39m\u001B[38;5;124m\"\u001B[39m,\n\u001B[0;32m   (...)\u001B[0m\n\u001B[1;32m    136\u001B[0m     }\n\u001B[1;32m    137\u001B[0m )\n\u001B[1;32m    139\u001B[0m \u001B[38;5;66;03m# Get the response\u001B[39;00m\n\u001B[0;32m--> 140\u001B[0m chat_completion \u001B[38;5;241m=\u001B[39m \u001B[43mclient\u001B[49m\u001B[38;5;241;43m.\u001B[39;49m\u001B[43mchat\u001B[49m\u001B[38;5;241;43m.\u001B[39;49m\u001B[43mcompletions\u001B[49m\u001B[38;5;241;43m.\u001B[39;49m\u001B[43mcreate\u001B[49m\u001B[43m(\u001B[49m\n\u001B[1;32m    141\u001B[0m \u001B[43m    \u001B[49m\u001B[43mmessages\u001B[49m\u001B[38;5;241;43m=\u001B[39;49m\u001B[43m[\u001B[49m\u001B[43magent\u001B[49m\u001B[38;5;241;43m.\u001B[39;49m\u001B[43mmessage\u001B[49m\u001B[43m]\u001B[49m\n\u001B[1;32m    142\u001B[0m \u001B[43m    \u001B[49m\u001B[38;5;241;43m+\u001B[39;49m\u001B[43m \u001B[49m\u001B[43m[\u001B[49m\u001B[43mturn\u001B[49m\u001B[43m[\u001B[49m\u001B[38;5;124;43m\"\u001B[39;49m\u001B[38;5;124;43mmessage\u001B[39;49m\u001B[38;5;124;43m\"\u001B[39;49m\u001B[43m]\u001B[49m\u001B[43m \u001B[49m\u001B[38;5;28;43;01mfor\u001B[39;49;00m\u001B[43m \u001B[49m\u001B[43mturn\u001B[49m\u001B[43m \u001B[49m\u001B[38;5;129;43;01min\u001B[39;49;00m\u001B[43m \u001B[49m\u001B[43mdiscussion\u001B[49m\u001B[43m]\u001B[49m\u001B[43m,\u001B[49m\n\u001B[1;32m    143\u001B[0m \u001B[43m    \u001B[49m\u001B[43mmodel\u001B[49m\u001B[38;5;241;43m=\u001B[39;49m\u001B[43mmodel\u001B[49m\u001B[43m,\u001B[49m\n\u001B[1;32m    144\u001B[0m \u001B[43m    \u001B[49m\u001B[43mstream\u001B[49m\u001B[38;5;241;43m=\u001B[39;49m\u001B[38;5;28;43;01mFalse\u001B[39;49;00m\u001B[43m,\u001B[49m\n\u001B[1;32m    145\u001B[0m \u001B[43m    \u001B[49m\u001B[43mtemperature\u001B[49m\u001B[38;5;241;43m=\u001B[39;49m\u001B[43mtemperature\u001B[49m\u001B[43m,\u001B[49m\n\u001B[1;32m    146\u001B[0m \u001B[43m    \u001B[49m\u001B[43mmax_tokens\u001B[49m\u001B[38;5;241;43m=\u001B[39;49m\u001B[43mmax_tokens\u001B[49m\u001B[43m,\u001B[49m\n\u001B[1;32m    147\u001B[0m \u001B[43m\u001B[49m\u001B[43m)\u001B[49m\n\u001B[1;32m    148\u001B[0m response \u001B[38;5;241m=\u001B[39m chat_completion\u001B[38;5;241m.\u001B[39mchoices[\u001B[38;5;241m0\u001B[39m]\u001B[38;5;241m.\u001B[39mmessage\u001B[38;5;241m.\u001B[39mcontent\n\u001B[1;32m    150\u001B[0m \u001B[38;5;66;03m# Update token counts\u001B[39;00m\n",
      "File \u001B[0;32m~/anaconda3/envs/virtual_lab/lib/python3.12/site-packages/openai/_utils/_utils.py:277\u001B[0m, in \u001B[0;36mrequired_args.<locals>.inner.<locals>.wrapper\u001B[0;34m(*args, **kwargs)\u001B[0m\n\u001B[1;32m    275\u001B[0m             msg \u001B[38;5;241m=\u001B[39m \u001B[38;5;124mf\u001B[39m\u001B[38;5;124m\"\u001B[39m\u001B[38;5;124mMissing required argument: \u001B[39m\u001B[38;5;132;01m{\u001B[39;00mquote(missing[\u001B[38;5;241m0\u001B[39m])\u001B[38;5;132;01m}\u001B[39;00m\u001B[38;5;124m\"\u001B[39m\n\u001B[1;32m    276\u001B[0m     \u001B[38;5;28;01mraise\u001B[39;00m \u001B[38;5;167;01mTypeError\u001B[39;00m(msg)\n\u001B[0;32m--> 277\u001B[0m \u001B[38;5;28;01mreturn\u001B[39;00m \u001B[43mfunc\u001B[49m\u001B[43m(\u001B[49m\u001B[38;5;241;43m*\u001B[39;49m\u001B[43margs\u001B[49m\u001B[43m,\u001B[49m\u001B[43m \u001B[49m\u001B[38;5;241;43m*\u001B[39;49m\u001B[38;5;241;43m*\u001B[39;49m\u001B[43mkwargs\u001B[49m\u001B[43m)\u001B[49m\n",
      "File \u001B[0;32m~/anaconda3/envs/virtual_lab/lib/python3.12/site-packages/openai/resources/chat/completions.py:643\u001B[0m, in \u001B[0;36mCompletions.create\u001B[0;34m(self, messages, model, frequency_penalty, function_call, functions, logit_bias, logprobs, max_tokens, n, parallel_tool_calls, presence_penalty, response_format, seed, service_tier, stop, stream, stream_options, temperature, tool_choice, tools, top_logprobs, top_p, user, extra_headers, extra_query, extra_body, timeout)\u001B[0m\n\u001B[1;32m    609\u001B[0m \u001B[38;5;129m@required_args\u001B[39m([\u001B[38;5;124m\"\u001B[39m\u001B[38;5;124mmessages\u001B[39m\u001B[38;5;124m\"\u001B[39m, \u001B[38;5;124m\"\u001B[39m\u001B[38;5;124mmodel\u001B[39m\u001B[38;5;124m\"\u001B[39m], [\u001B[38;5;124m\"\u001B[39m\u001B[38;5;124mmessages\u001B[39m\u001B[38;5;124m\"\u001B[39m, \u001B[38;5;124m\"\u001B[39m\u001B[38;5;124mmodel\u001B[39m\u001B[38;5;124m\"\u001B[39m, \u001B[38;5;124m\"\u001B[39m\u001B[38;5;124mstream\u001B[39m\u001B[38;5;124m\"\u001B[39m])\n\u001B[1;32m    610\u001B[0m \u001B[38;5;28;01mdef\u001B[39;00m \u001B[38;5;21mcreate\u001B[39m(\n\u001B[1;32m    611\u001B[0m     \u001B[38;5;28mself\u001B[39m,\n\u001B[0;32m   (...)\u001B[0m\n\u001B[1;32m    641\u001B[0m     timeout: \u001B[38;5;28mfloat\u001B[39m \u001B[38;5;241m|\u001B[39m httpx\u001B[38;5;241m.\u001B[39mTimeout \u001B[38;5;241m|\u001B[39m \u001B[38;5;28;01mNone\u001B[39;00m \u001B[38;5;241m|\u001B[39m NotGiven \u001B[38;5;241m=\u001B[39m NOT_GIVEN,\n\u001B[1;32m    642\u001B[0m ) \u001B[38;5;241m-\u001B[39m\u001B[38;5;241m>\u001B[39m ChatCompletion \u001B[38;5;241m|\u001B[39m Stream[ChatCompletionChunk]:\n\u001B[0;32m--> 643\u001B[0m     \u001B[38;5;28;01mreturn\u001B[39;00m \u001B[38;5;28;43mself\u001B[39;49m\u001B[38;5;241;43m.\u001B[39;49m\u001B[43m_post\u001B[49m\u001B[43m(\u001B[49m\n\u001B[1;32m    644\u001B[0m \u001B[43m        \u001B[49m\u001B[38;5;124;43m\"\u001B[39;49m\u001B[38;5;124;43m/chat/completions\u001B[39;49m\u001B[38;5;124;43m\"\u001B[39;49m\u001B[43m,\u001B[49m\n\u001B[1;32m    645\u001B[0m \u001B[43m        \u001B[49m\u001B[43mbody\u001B[49m\u001B[38;5;241;43m=\u001B[39;49m\u001B[43mmaybe_transform\u001B[49m\u001B[43m(\u001B[49m\n\u001B[1;32m    646\u001B[0m \u001B[43m            \u001B[49m\u001B[43m{\u001B[49m\n\u001B[1;32m    647\u001B[0m \u001B[43m                \u001B[49m\u001B[38;5;124;43m\"\u001B[39;49m\u001B[38;5;124;43mmessages\u001B[39;49m\u001B[38;5;124;43m\"\u001B[39;49m\u001B[43m:\u001B[49m\u001B[43m \u001B[49m\u001B[43mmessages\u001B[49m\u001B[43m,\u001B[49m\n\u001B[1;32m    648\u001B[0m \u001B[43m                \u001B[49m\u001B[38;5;124;43m\"\u001B[39;49m\u001B[38;5;124;43mmodel\u001B[39;49m\u001B[38;5;124;43m\"\u001B[39;49m\u001B[43m:\u001B[49m\u001B[43m \u001B[49m\u001B[43mmodel\u001B[49m\u001B[43m,\u001B[49m\n\u001B[1;32m    649\u001B[0m \u001B[43m                \u001B[49m\u001B[38;5;124;43m\"\u001B[39;49m\u001B[38;5;124;43mfrequency_penalty\u001B[39;49m\u001B[38;5;124;43m\"\u001B[39;49m\u001B[43m:\u001B[49m\u001B[43m \u001B[49m\u001B[43mfrequency_penalty\u001B[49m\u001B[43m,\u001B[49m\n\u001B[1;32m    650\u001B[0m \u001B[43m                \u001B[49m\u001B[38;5;124;43m\"\u001B[39;49m\u001B[38;5;124;43mfunction_call\u001B[39;49m\u001B[38;5;124;43m\"\u001B[39;49m\u001B[43m:\u001B[49m\u001B[43m \u001B[49m\u001B[43mfunction_call\u001B[49m\u001B[43m,\u001B[49m\n\u001B[1;32m    651\u001B[0m \u001B[43m                \u001B[49m\u001B[38;5;124;43m\"\u001B[39;49m\u001B[38;5;124;43mfunctions\u001B[39;49m\u001B[38;5;124;43m\"\u001B[39;49m\u001B[43m:\u001B[49m\u001B[43m \u001B[49m\u001B[43mfunctions\u001B[49m\u001B[43m,\u001B[49m\n\u001B[1;32m    652\u001B[0m \u001B[43m                \u001B[49m\u001B[38;5;124;43m\"\u001B[39;49m\u001B[38;5;124;43mlogit_bias\u001B[39;49m\u001B[38;5;124;43m\"\u001B[39;49m\u001B[43m:\u001B[49m\u001B[43m \u001B[49m\u001B[43mlogit_bias\u001B[49m\u001B[43m,\u001B[49m\n\u001B[1;32m    653\u001B[0m \u001B[43m                \u001B[49m\u001B[38;5;124;43m\"\u001B[39;49m\u001B[38;5;124;43mlogprobs\u001B[39;49m\u001B[38;5;124;43m\"\u001B[39;49m\u001B[43m:\u001B[49m\u001B[43m \u001B[49m\u001B[43mlogprobs\u001B[49m\u001B[43m,\u001B[49m\n\u001B[1;32m    654\u001B[0m \u001B[43m                \u001B[49m\u001B[38;5;124;43m\"\u001B[39;49m\u001B[38;5;124;43mmax_tokens\u001B[39;49m\u001B[38;5;124;43m\"\u001B[39;49m\u001B[43m:\u001B[49m\u001B[43m \u001B[49m\u001B[43mmax_tokens\u001B[49m\u001B[43m,\u001B[49m\n\u001B[1;32m    655\u001B[0m \u001B[43m                \u001B[49m\u001B[38;5;124;43m\"\u001B[39;49m\u001B[38;5;124;43mn\u001B[39;49m\u001B[38;5;124;43m\"\u001B[39;49m\u001B[43m:\u001B[49m\u001B[43m \u001B[49m\u001B[43mn\u001B[49m\u001B[43m,\u001B[49m\n\u001B[1;32m    656\u001B[0m \u001B[43m                \u001B[49m\u001B[38;5;124;43m\"\u001B[39;49m\u001B[38;5;124;43mparallel_tool_calls\u001B[39;49m\u001B[38;5;124;43m\"\u001B[39;49m\u001B[43m:\u001B[49m\u001B[43m \u001B[49m\u001B[43mparallel_tool_calls\u001B[49m\u001B[43m,\u001B[49m\n\u001B[1;32m    657\u001B[0m \u001B[43m                \u001B[49m\u001B[38;5;124;43m\"\u001B[39;49m\u001B[38;5;124;43mpresence_penalty\u001B[39;49m\u001B[38;5;124;43m\"\u001B[39;49m\u001B[43m:\u001B[49m\u001B[43m \u001B[49m\u001B[43mpresence_penalty\u001B[49m\u001B[43m,\u001B[49m\n\u001B[1;32m    658\u001B[0m \u001B[43m                \u001B[49m\u001B[38;5;124;43m\"\u001B[39;49m\u001B[38;5;124;43mresponse_format\u001B[39;49m\u001B[38;5;124;43m\"\u001B[39;49m\u001B[43m:\u001B[49m\u001B[43m \u001B[49m\u001B[43mresponse_format\u001B[49m\u001B[43m,\u001B[49m\n\u001B[1;32m    659\u001B[0m \u001B[43m                \u001B[49m\u001B[38;5;124;43m\"\u001B[39;49m\u001B[38;5;124;43mseed\u001B[39;49m\u001B[38;5;124;43m\"\u001B[39;49m\u001B[43m:\u001B[49m\u001B[43m \u001B[49m\u001B[43mseed\u001B[49m\u001B[43m,\u001B[49m\n\u001B[1;32m    660\u001B[0m \u001B[43m                \u001B[49m\u001B[38;5;124;43m\"\u001B[39;49m\u001B[38;5;124;43mservice_tier\u001B[39;49m\u001B[38;5;124;43m\"\u001B[39;49m\u001B[43m:\u001B[49m\u001B[43m \u001B[49m\u001B[43mservice_tier\u001B[49m\u001B[43m,\u001B[49m\n\u001B[1;32m    661\u001B[0m \u001B[43m                \u001B[49m\u001B[38;5;124;43m\"\u001B[39;49m\u001B[38;5;124;43mstop\u001B[39;49m\u001B[38;5;124;43m\"\u001B[39;49m\u001B[43m:\u001B[49m\u001B[43m \u001B[49m\u001B[43mstop\u001B[49m\u001B[43m,\u001B[49m\n\u001B[1;32m    662\u001B[0m \u001B[43m                \u001B[49m\u001B[38;5;124;43m\"\u001B[39;49m\u001B[38;5;124;43mstream\u001B[39;49m\u001B[38;5;124;43m\"\u001B[39;49m\u001B[43m:\u001B[49m\u001B[43m \u001B[49m\u001B[43mstream\u001B[49m\u001B[43m,\u001B[49m\n\u001B[1;32m    663\u001B[0m \u001B[43m                \u001B[49m\u001B[38;5;124;43m\"\u001B[39;49m\u001B[38;5;124;43mstream_options\u001B[39;49m\u001B[38;5;124;43m\"\u001B[39;49m\u001B[43m:\u001B[49m\u001B[43m \u001B[49m\u001B[43mstream_options\u001B[49m\u001B[43m,\u001B[49m\n\u001B[1;32m    664\u001B[0m \u001B[43m                \u001B[49m\u001B[38;5;124;43m\"\u001B[39;49m\u001B[38;5;124;43mtemperature\u001B[39;49m\u001B[38;5;124;43m\"\u001B[39;49m\u001B[43m:\u001B[49m\u001B[43m \u001B[49m\u001B[43mtemperature\u001B[49m\u001B[43m,\u001B[49m\n\u001B[1;32m    665\u001B[0m \u001B[43m                \u001B[49m\u001B[38;5;124;43m\"\u001B[39;49m\u001B[38;5;124;43mtool_choice\u001B[39;49m\u001B[38;5;124;43m\"\u001B[39;49m\u001B[43m:\u001B[49m\u001B[43m \u001B[49m\u001B[43mtool_choice\u001B[49m\u001B[43m,\u001B[49m\n\u001B[1;32m    666\u001B[0m \u001B[43m                \u001B[49m\u001B[38;5;124;43m\"\u001B[39;49m\u001B[38;5;124;43mtools\u001B[39;49m\u001B[38;5;124;43m\"\u001B[39;49m\u001B[43m:\u001B[49m\u001B[43m \u001B[49m\u001B[43mtools\u001B[49m\u001B[43m,\u001B[49m\n\u001B[1;32m    667\u001B[0m \u001B[43m                \u001B[49m\u001B[38;5;124;43m\"\u001B[39;49m\u001B[38;5;124;43mtop_logprobs\u001B[39;49m\u001B[38;5;124;43m\"\u001B[39;49m\u001B[43m:\u001B[49m\u001B[43m \u001B[49m\u001B[43mtop_logprobs\u001B[49m\u001B[43m,\u001B[49m\n\u001B[1;32m    668\u001B[0m \u001B[43m                \u001B[49m\u001B[38;5;124;43m\"\u001B[39;49m\u001B[38;5;124;43mtop_p\u001B[39;49m\u001B[38;5;124;43m\"\u001B[39;49m\u001B[43m:\u001B[49m\u001B[43m \u001B[49m\u001B[43mtop_p\u001B[49m\u001B[43m,\u001B[49m\n\u001B[1;32m    669\u001B[0m \u001B[43m                \u001B[49m\u001B[38;5;124;43m\"\u001B[39;49m\u001B[38;5;124;43muser\u001B[39;49m\u001B[38;5;124;43m\"\u001B[39;49m\u001B[43m:\u001B[49m\u001B[43m \u001B[49m\u001B[43muser\u001B[49m\u001B[43m,\u001B[49m\n\u001B[1;32m    670\u001B[0m \u001B[43m            \u001B[49m\u001B[43m}\u001B[49m\u001B[43m,\u001B[49m\n\u001B[1;32m    671\u001B[0m \u001B[43m            \u001B[49m\u001B[43mcompletion_create_params\u001B[49m\u001B[38;5;241;43m.\u001B[39;49m\u001B[43mCompletionCreateParams\u001B[49m\u001B[43m,\u001B[49m\n\u001B[1;32m    672\u001B[0m \u001B[43m        \u001B[49m\u001B[43m)\u001B[49m\u001B[43m,\u001B[49m\n\u001B[1;32m    673\u001B[0m \u001B[43m        \u001B[49m\u001B[43moptions\u001B[49m\u001B[38;5;241;43m=\u001B[39;49m\u001B[43mmake_request_options\u001B[49m\u001B[43m(\u001B[49m\n\u001B[1;32m    674\u001B[0m \u001B[43m            \u001B[49m\u001B[43mextra_headers\u001B[49m\u001B[38;5;241;43m=\u001B[39;49m\u001B[43mextra_headers\u001B[49m\u001B[43m,\u001B[49m\u001B[43m \u001B[49m\u001B[43mextra_query\u001B[49m\u001B[38;5;241;43m=\u001B[39;49m\u001B[43mextra_query\u001B[49m\u001B[43m,\u001B[49m\u001B[43m \u001B[49m\u001B[43mextra_body\u001B[49m\u001B[38;5;241;43m=\u001B[39;49m\u001B[43mextra_body\u001B[49m\u001B[43m,\u001B[49m\u001B[43m \u001B[49m\u001B[43mtimeout\u001B[49m\u001B[38;5;241;43m=\u001B[39;49m\u001B[43mtimeout\u001B[49m\n\u001B[1;32m    675\u001B[0m \u001B[43m        \u001B[49m\u001B[43m)\u001B[49m\u001B[43m,\u001B[49m\n\u001B[1;32m    676\u001B[0m \u001B[43m        \u001B[49m\u001B[43mcast_to\u001B[49m\u001B[38;5;241;43m=\u001B[39;49m\u001B[43mChatCompletion\u001B[49m\u001B[43m,\u001B[49m\n\u001B[1;32m    677\u001B[0m \u001B[43m        \u001B[49m\u001B[43mstream\u001B[49m\u001B[38;5;241;43m=\u001B[39;49m\u001B[43mstream\u001B[49m\u001B[43m \u001B[49m\u001B[38;5;129;43;01mor\u001B[39;49;00m\u001B[43m \u001B[49m\u001B[38;5;28;43;01mFalse\u001B[39;49;00m\u001B[43m,\u001B[49m\n\u001B[1;32m    678\u001B[0m \u001B[43m        \u001B[49m\u001B[43mstream_cls\u001B[49m\u001B[38;5;241;43m=\u001B[39;49m\u001B[43mStream\u001B[49m\u001B[43m[\u001B[49m\u001B[43mChatCompletionChunk\u001B[49m\u001B[43m]\u001B[49m\u001B[43m,\u001B[49m\n\u001B[1;32m    679\u001B[0m \u001B[43m    \u001B[49m\u001B[43m)\u001B[49m\n",
      "File \u001B[0;32m~/anaconda3/envs/virtual_lab/lib/python3.12/site-packages/openai/_base_client.py:1261\u001B[0m, in \u001B[0;36mSyncAPIClient.post\u001B[0;34m(self, path, cast_to, body, options, files, stream, stream_cls)\u001B[0m\n\u001B[1;32m   1247\u001B[0m \u001B[38;5;28;01mdef\u001B[39;00m \u001B[38;5;21mpost\u001B[39m(\n\u001B[1;32m   1248\u001B[0m     \u001B[38;5;28mself\u001B[39m,\n\u001B[1;32m   1249\u001B[0m     path: \u001B[38;5;28mstr\u001B[39m,\n\u001B[0;32m   (...)\u001B[0m\n\u001B[1;32m   1256\u001B[0m     stream_cls: \u001B[38;5;28mtype\u001B[39m[_StreamT] \u001B[38;5;241m|\u001B[39m \u001B[38;5;28;01mNone\u001B[39;00m \u001B[38;5;241m=\u001B[39m \u001B[38;5;28;01mNone\u001B[39;00m,\n\u001B[1;32m   1257\u001B[0m ) \u001B[38;5;241m-\u001B[39m\u001B[38;5;241m>\u001B[39m ResponseT \u001B[38;5;241m|\u001B[39m _StreamT:\n\u001B[1;32m   1258\u001B[0m     opts \u001B[38;5;241m=\u001B[39m FinalRequestOptions\u001B[38;5;241m.\u001B[39mconstruct(\n\u001B[1;32m   1259\u001B[0m         method\u001B[38;5;241m=\u001B[39m\u001B[38;5;124m\"\u001B[39m\u001B[38;5;124mpost\u001B[39m\u001B[38;5;124m\"\u001B[39m, url\u001B[38;5;241m=\u001B[39mpath, json_data\u001B[38;5;241m=\u001B[39mbody, files\u001B[38;5;241m=\u001B[39mto_httpx_files(files), \u001B[38;5;241m*\u001B[39m\u001B[38;5;241m*\u001B[39moptions\n\u001B[1;32m   1260\u001B[0m     )\n\u001B[0;32m-> 1261\u001B[0m     \u001B[38;5;28;01mreturn\u001B[39;00m cast(ResponseT, \u001B[38;5;28;43mself\u001B[39;49m\u001B[38;5;241;43m.\u001B[39;49m\u001B[43mrequest\u001B[49m\u001B[43m(\u001B[49m\u001B[43mcast_to\u001B[49m\u001B[43m,\u001B[49m\u001B[43m \u001B[49m\u001B[43mopts\u001B[49m\u001B[43m,\u001B[49m\u001B[43m \u001B[49m\u001B[43mstream\u001B[49m\u001B[38;5;241;43m=\u001B[39;49m\u001B[43mstream\u001B[49m\u001B[43m,\u001B[49m\u001B[43m \u001B[49m\u001B[43mstream_cls\u001B[49m\u001B[38;5;241;43m=\u001B[39;49m\u001B[43mstream_cls\u001B[49m\u001B[43m)\u001B[49m)\n",
      "File \u001B[0;32m~/anaconda3/envs/virtual_lab/lib/python3.12/site-packages/openai/_base_client.py:942\u001B[0m, in \u001B[0;36mSyncAPIClient.request\u001B[0;34m(self, cast_to, options, remaining_retries, stream, stream_cls)\u001B[0m\n\u001B[1;32m    933\u001B[0m \u001B[38;5;28;01mdef\u001B[39;00m \u001B[38;5;21mrequest\u001B[39m(\n\u001B[1;32m    934\u001B[0m     \u001B[38;5;28mself\u001B[39m,\n\u001B[1;32m    935\u001B[0m     cast_to: Type[ResponseT],\n\u001B[0;32m   (...)\u001B[0m\n\u001B[1;32m    940\u001B[0m     stream_cls: \u001B[38;5;28mtype\u001B[39m[_StreamT] \u001B[38;5;241m|\u001B[39m \u001B[38;5;28;01mNone\u001B[39;00m \u001B[38;5;241m=\u001B[39m \u001B[38;5;28;01mNone\u001B[39;00m,\n\u001B[1;32m    941\u001B[0m ) \u001B[38;5;241m-\u001B[39m\u001B[38;5;241m>\u001B[39m ResponseT \u001B[38;5;241m|\u001B[39m _StreamT:\n\u001B[0;32m--> 942\u001B[0m     \u001B[38;5;28;01mreturn\u001B[39;00m \u001B[38;5;28;43mself\u001B[39;49m\u001B[38;5;241;43m.\u001B[39;49m\u001B[43m_request\u001B[49m\u001B[43m(\u001B[49m\n\u001B[1;32m    943\u001B[0m \u001B[43m        \u001B[49m\u001B[43mcast_to\u001B[49m\u001B[38;5;241;43m=\u001B[39;49m\u001B[43mcast_to\u001B[49m\u001B[43m,\u001B[49m\n\u001B[1;32m    944\u001B[0m \u001B[43m        \u001B[49m\u001B[43moptions\u001B[49m\u001B[38;5;241;43m=\u001B[39;49m\u001B[43moptions\u001B[49m\u001B[43m,\u001B[49m\n\u001B[1;32m    945\u001B[0m \u001B[43m        \u001B[49m\u001B[43mstream\u001B[49m\u001B[38;5;241;43m=\u001B[39;49m\u001B[43mstream\u001B[49m\u001B[43m,\u001B[49m\n\u001B[1;32m    946\u001B[0m \u001B[43m        \u001B[49m\u001B[43mstream_cls\u001B[49m\u001B[38;5;241;43m=\u001B[39;49m\u001B[43mstream_cls\u001B[49m\u001B[43m,\u001B[49m\n\u001B[1;32m    947\u001B[0m \u001B[43m        \u001B[49m\u001B[43mremaining_retries\u001B[49m\u001B[38;5;241;43m=\u001B[39;49m\u001B[43mremaining_retries\u001B[49m\u001B[43m,\u001B[49m\n\u001B[1;32m    948\u001B[0m \u001B[43m    \u001B[49m\u001B[43m)\u001B[49m\n",
      "File \u001B[0;32m~/anaconda3/envs/virtual_lab/lib/python3.12/site-packages/openai/_base_client.py:973\u001B[0m, in \u001B[0;36mSyncAPIClient._request\u001B[0;34m(self, cast_to, options, remaining_retries, stream, stream_cls)\u001B[0m\n\u001B[1;32m    970\u001B[0m log\u001B[38;5;241m.\u001B[39mdebug(\u001B[38;5;124m\"\u001B[39m\u001B[38;5;124mSending HTTP Request: \u001B[39m\u001B[38;5;132;01m%s\u001B[39;00m\u001B[38;5;124m \u001B[39m\u001B[38;5;132;01m%s\u001B[39;00m\u001B[38;5;124m\"\u001B[39m, request\u001B[38;5;241m.\u001B[39mmethod, request\u001B[38;5;241m.\u001B[39murl)\n\u001B[1;32m    972\u001B[0m \u001B[38;5;28;01mtry\u001B[39;00m:\n\u001B[0;32m--> 973\u001B[0m     response \u001B[38;5;241m=\u001B[39m \u001B[38;5;28;43mself\u001B[39;49m\u001B[38;5;241;43m.\u001B[39;49m\u001B[43m_client\u001B[49m\u001B[38;5;241;43m.\u001B[39;49m\u001B[43msend\u001B[49m\u001B[43m(\u001B[49m\n\u001B[1;32m    974\u001B[0m \u001B[43m        \u001B[49m\u001B[43mrequest\u001B[49m\u001B[43m,\u001B[49m\n\u001B[1;32m    975\u001B[0m \u001B[43m        \u001B[49m\u001B[43mstream\u001B[49m\u001B[38;5;241;43m=\u001B[39;49m\u001B[43mstream\u001B[49m\u001B[43m \u001B[49m\u001B[38;5;129;43;01mor\u001B[39;49;00m\u001B[43m \u001B[49m\u001B[38;5;28;43mself\u001B[39;49m\u001B[38;5;241;43m.\u001B[39;49m\u001B[43m_should_stream_response_body\u001B[49m\u001B[43m(\u001B[49m\u001B[43mrequest\u001B[49m\u001B[38;5;241;43m=\u001B[39;49m\u001B[43mrequest\u001B[49m\u001B[43m)\u001B[49m\u001B[43m,\u001B[49m\n\u001B[1;32m    976\u001B[0m \u001B[43m        \u001B[49m\u001B[38;5;241;43m*\u001B[39;49m\u001B[38;5;241;43m*\u001B[39;49m\u001B[43mkwargs\u001B[49m\u001B[43m,\u001B[49m\n\u001B[1;32m    977\u001B[0m \u001B[43m    \u001B[49m\u001B[43m)\u001B[49m\n\u001B[1;32m    978\u001B[0m \u001B[38;5;28;01mexcept\u001B[39;00m httpx\u001B[38;5;241m.\u001B[39mTimeoutException \u001B[38;5;28;01mas\u001B[39;00m err:\n\u001B[1;32m    979\u001B[0m     log\u001B[38;5;241m.\u001B[39mdebug(\u001B[38;5;124m\"\u001B[39m\u001B[38;5;124mEncountered httpx.TimeoutException\u001B[39m\u001B[38;5;124m\"\u001B[39m, exc_info\u001B[38;5;241m=\u001B[39m\u001B[38;5;28;01mTrue\u001B[39;00m)\n",
      "File \u001B[0;32m~/anaconda3/envs/virtual_lab/lib/python3.12/site-packages/httpx/_client.py:914\u001B[0m, in \u001B[0;36mClient.send\u001B[0;34m(self, request, stream, auth, follow_redirects)\u001B[0m\n\u001B[1;32m    906\u001B[0m follow_redirects \u001B[38;5;241m=\u001B[39m (\n\u001B[1;32m    907\u001B[0m     \u001B[38;5;28mself\u001B[39m\u001B[38;5;241m.\u001B[39mfollow_redirects\n\u001B[1;32m    908\u001B[0m     \u001B[38;5;28;01mif\u001B[39;00m \u001B[38;5;28misinstance\u001B[39m(follow_redirects, UseClientDefault)\n\u001B[1;32m    909\u001B[0m     \u001B[38;5;28;01melse\u001B[39;00m follow_redirects\n\u001B[1;32m    910\u001B[0m )\n\u001B[1;32m    912\u001B[0m auth \u001B[38;5;241m=\u001B[39m \u001B[38;5;28mself\u001B[39m\u001B[38;5;241m.\u001B[39m_build_request_auth(request, auth)\n\u001B[0;32m--> 914\u001B[0m response \u001B[38;5;241m=\u001B[39m \u001B[38;5;28;43mself\u001B[39;49m\u001B[38;5;241;43m.\u001B[39;49m\u001B[43m_send_handling_auth\u001B[49m\u001B[43m(\u001B[49m\n\u001B[1;32m    915\u001B[0m \u001B[43m    \u001B[49m\u001B[43mrequest\u001B[49m\u001B[43m,\u001B[49m\n\u001B[1;32m    916\u001B[0m \u001B[43m    \u001B[49m\u001B[43mauth\u001B[49m\u001B[38;5;241;43m=\u001B[39;49m\u001B[43mauth\u001B[49m\u001B[43m,\u001B[49m\n\u001B[1;32m    917\u001B[0m \u001B[43m    \u001B[49m\u001B[43mfollow_redirects\u001B[49m\u001B[38;5;241;43m=\u001B[39;49m\u001B[43mfollow_redirects\u001B[49m\u001B[43m,\u001B[49m\n\u001B[1;32m    918\u001B[0m \u001B[43m    \u001B[49m\u001B[43mhistory\u001B[49m\u001B[38;5;241;43m=\u001B[39;49m\u001B[43m[\u001B[49m\u001B[43m]\u001B[49m\u001B[43m,\u001B[49m\n\u001B[1;32m    919\u001B[0m \u001B[43m\u001B[49m\u001B[43m)\u001B[49m\n\u001B[1;32m    920\u001B[0m \u001B[38;5;28;01mtry\u001B[39;00m:\n\u001B[1;32m    921\u001B[0m     \u001B[38;5;28;01mif\u001B[39;00m \u001B[38;5;129;01mnot\u001B[39;00m stream:\n",
      "File \u001B[0;32m~/anaconda3/envs/virtual_lab/lib/python3.12/site-packages/httpx/_client.py:942\u001B[0m, in \u001B[0;36mClient._send_handling_auth\u001B[0;34m(self, request, auth, follow_redirects, history)\u001B[0m\n\u001B[1;32m    939\u001B[0m request \u001B[38;5;241m=\u001B[39m \u001B[38;5;28mnext\u001B[39m(auth_flow)\n\u001B[1;32m    941\u001B[0m \u001B[38;5;28;01mwhile\u001B[39;00m \u001B[38;5;28;01mTrue\u001B[39;00m:\n\u001B[0;32m--> 942\u001B[0m     response \u001B[38;5;241m=\u001B[39m \u001B[38;5;28;43mself\u001B[39;49m\u001B[38;5;241;43m.\u001B[39;49m\u001B[43m_send_handling_redirects\u001B[49m\u001B[43m(\u001B[49m\n\u001B[1;32m    943\u001B[0m \u001B[43m        \u001B[49m\u001B[43mrequest\u001B[49m\u001B[43m,\u001B[49m\n\u001B[1;32m    944\u001B[0m \u001B[43m        \u001B[49m\u001B[43mfollow_redirects\u001B[49m\u001B[38;5;241;43m=\u001B[39;49m\u001B[43mfollow_redirects\u001B[49m\u001B[43m,\u001B[49m\n\u001B[1;32m    945\u001B[0m \u001B[43m        \u001B[49m\u001B[43mhistory\u001B[49m\u001B[38;5;241;43m=\u001B[39;49m\u001B[43mhistory\u001B[49m\u001B[43m,\u001B[49m\n\u001B[1;32m    946\u001B[0m \u001B[43m    \u001B[49m\u001B[43m)\u001B[49m\n\u001B[1;32m    947\u001B[0m     \u001B[38;5;28;01mtry\u001B[39;00m:\n\u001B[1;32m    948\u001B[0m         \u001B[38;5;28;01mtry\u001B[39;00m:\n",
      "File \u001B[0;32m~/anaconda3/envs/virtual_lab/lib/python3.12/site-packages/httpx/_client.py:979\u001B[0m, in \u001B[0;36mClient._send_handling_redirects\u001B[0;34m(self, request, follow_redirects, history)\u001B[0m\n\u001B[1;32m    976\u001B[0m \u001B[38;5;28;01mfor\u001B[39;00m hook \u001B[38;5;129;01min\u001B[39;00m \u001B[38;5;28mself\u001B[39m\u001B[38;5;241m.\u001B[39m_event_hooks[\u001B[38;5;124m\"\u001B[39m\u001B[38;5;124mrequest\u001B[39m\u001B[38;5;124m\"\u001B[39m]:\n\u001B[1;32m    977\u001B[0m     hook(request)\n\u001B[0;32m--> 979\u001B[0m response \u001B[38;5;241m=\u001B[39m \u001B[38;5;28;43mself\u001B[39;49m\u001B[38;5;241;43m.\u001B[39;49m\u001B[43m_send_single_request\u001B[49m\u001B[43m(\u001B[49m\u001B[43mrequest\u001B[49m\u001B[43m)\u001B[49m\n\u001B[1;32m    980\u001B[0m \u001B[38;5;28;01mtry\u001B[39;00m:\n\u001B[1;32m    981\u001B[0m     \u001B[38;5;28;01mfor\u001B[39;00m hook \u001B[38;5;129;01min\u001B[39;00m \u001B[38;5;28mself\u001B[39m\u001B[38;5;241m.\u001B[39m_event_hooks[\u001B[38;5;124m\"\u001B[39m\u001B[38;5;124mresponse\u001B[39m\u001B[38;5;124m\"\u001B[39m]:\n",
      "File \u001B[0;32m~/anaconda3/envs/virtual_lab/lib/python3.12/site-packages/httpx/_client.py:1015\u001B[0m, in \u001B[0;36mClient._send_single_request\u001B[0;34m(self, request)\u001B[0m\n\u001B[1;32m   1010\u001B[0m     \u001B[38;5;28;01mraise\u001B[39;00m \u001B[38;5;167;01mRuntimeError\u001B[39;00m(\n\u001B[1;32m   1011\u001B[0m         \u001B[38;5;124m\"\u001B[39m\u001B[38;5;124mAttempted to send an async request with a sync Client instance.\u001B[39m\u001B[38;5;124m\"\u001B[39m\n\u001B[1;32m   1012\u001B[0m     )\n\u001B[1;32m   1014\u001B[0m \u001B[38;5;28;01mwith\u001B[39;00m request_context(request\u001B[38;5;241m=\u001B[39mrequest):\n\u001B[0;32m-> 1015\u001B[0m     response \u001B[38;5;241m=\u001B[39m \u001B[43mtransport\u001B[49m\u001B[38;5;241;43m.\u001B[39;49m\u001B[43mhandle_request\u001B[49m\u001B[43m(\u001B[49m\u001B[43mrequest\u001B[49m\u001B[43m)\u001B[49m\n\u001B[1;32m   1017\u001B[0m \u001B[38;5;28;01massert\u001B[39;00m \u001B[38;5;28misinstance\u001B[39m(response\u001B[38;5;241m.\u001B[39mstream, SyncByteStream)\n\u001B[1;32m   1019\u001B[0m response\u001B[38;5;241m.\u001B[39mrequest \u001B[38;5;241m=\u001B[39m request\n",
      "File \u001B[0;32m~/anaconda3/envs/virtual_lab/lib/python3.12/site-packages/httpx/_transports/default.py:233\u001B[0m, in \u001B[0;36mHTTPTransport.handle_request\u001B[0;34m(self, request)\u001B[0m\n\u001B[1;32m    220\u001B[0m req \u001B[38;5;241m=\u001B[39m httpcore\u001B[38;5;241m.\u001B[39mRequest(\n\u001B[1;32m    221\u001B[0m     method\u001B[38;5;241m=\u001B[39mrequest\u001B[38;5;241m.\u001B[39mmethod,\n\u001B[1;32m    222\u001B[0m     url\u001B[38;5;241m=\u001B[39mhttpcore\u001B[38;5;241m.\u001B[39mURL(\n\u001B[0;32m   (...)\u001B[0m\n\u001B[1;32m    230\u001B[0m     extensions\u001B[38;5;241m=\u001B[39mrequest\u001B[38;5;241m.\u001B[39mextensions,\n\u001B[1;32m    231\u001B[0m )\n\u001B[1;32m    232\u001B[0m \u001B[38;5;28;01mwith\u001B[39;00m map_httpcore_exceptions():\n\u001B[0;32m--> 233\u001B[0m     resp \u001B[38;5;241m=\u001B[39m \u001B[38;5;28;43mself\u001B[39;49m\u001B[38;5;241;43m.\u001B[39;49m\u001B[43m_pool\u001B[49m\u001B[38;5;241;43m.\u001B[39;49m\u001B[43mhandle_request\u001B[49m\u001B[43m(\u001B[49m\u001B[43mreq\u001B[49m\u001B[43m)\u001B[49m\n\u001B[1;32m    235\u001B[0m \u001B[38;5;28;01massert\u001B[39;00m \u001B[38;5;28misinstance\u001B[39m(resp\u001B[38;5;241m.\u001B[39mstream, typing\u001B[38;5;241m.\u001B[39mIterable)\n\u001B[1;32m    237\u001B[0m \u001B[38;5;28;01mreturn\u001B[39;00m Response(\n\u001B[1;32m    238\u001B[0m     status_code\u001B[38;5;241m=\u001B[39mresp\u001B[38;5;241m.\u001B[39mstatus,\n\u001B[1;32m    239\u001B[0m     headers\u001B[38;5;241m=\u001B[39mresp\u001B[38;5;241m.\u001B[39mheaders,\n\u001B[1;32m    240\u001B[0m     stream\u001B[38;5;241m=\u001B[39mResponseStream(resp\u001B[38;5;241m.\u001B[39mstream),\n\u001B[1;32m    241\u001B[0m     extensions\u001B[38;5;241m=\u001B[39mresp\u001B[38;5;241m.\u001B[39mextensions,\n\u001B[1;32m    242\u001B[0m )\n",
      "File \u001B[0;32m~/anaconda3/envs/virtual_lab/lib/python3.12/site-packages/httpcore/_sync/connection_pool.py:216\u001B[0m, in \u001B[0;36mConnectionPool.handle_request\u001B[0;34m(self, request)\u001B[0m\n\u001B[1;32m    213\u001B[0m         closing \u001B[38;5;241m=\u001B[39m \u001B[38;5;28mself\u001B[39m\u001B[38;5;241m.\u001B[39m_assign_requests_to_connections()\n\u001B[1;32m    215\u001B[0m     \u001B[38;5;28mself\u001B[39m\u001B[38;5;241m.\u001B[39m_close_connections(closing)\n\u001B[0;32m--> 216\u001B[0m     \u001B[38;5;28;01mraise\u001B[39;00m exc \u001B[38;5;28;01mfrom\u001B[39;00m \u001B[38;5;28;01mNone\u001B[39;00m\n\u001B[1;32m    218\u001B[0m \u001B[38;5;66;03m# Return the response. Note that in this case we still have to manage\u001B[39;00m\n\u001B[1;32m    219\u001B[0m \u001B[38;5;66;03m# the point at which the response is closed.\u001B[39;00m\n\u001B[1;32m    220\u001B[0m \u001B[38;5;28;01massert\u001B[39;00m \u001B[38;5;28misinstance\u001B[39m(response\u001B[38;5;241m.\u001B[39mstream, Iterable)\n",
      "File \u001B[0;32m~/anaconda3/envs/virtual_lab/lib/python3.12/site-packages/httpcore/_sync/connection_pool.py:196\u001B[0m, in \u001B[0;36mConnectionPool.handle_request\u001B[0;34m(self, request)\u001B[0m\n\u001B[1;32m    192\u001B[0m connection \u001B[38;5;241m=\u001B[39m pool_request\u001B[38;5;241m.\u001B[39mwait_for_connection(timeout\u001B[38;5;241m=\u001B[39mtimeout)\n\u001B[1;32m    194\u001B[0m \u001B[38;5;28;01mtry\u001B[39;00m:\n\u001B[1;32m    195\u001B[0m     \u001B[38;5;66;03m# Send the request on the assigned connection.\u001B[39;00m\n\u001B[0;32m--> 196\u001B[0m     response \u001B[38;5;241m=\u001B[39m \u001B[43mconnection\u001B[49m\u001B[38;5;241;43m.\u001B[39;49m\u001B[43mhandle_request\u001B[49m\u001B[43m(\u001B[49m\n\u001B[1;32m    197\u001B[0m \u001B[43m        \u001B[49m\u001B[43mpool_request\u001B[49m\u001B[38;5;241;43m.\u001B[39;49m\u001B[43mrequest\u001B[49m\n\u001B[1;32m    198\u001B[0m \u001B[43m    \u001B[49m\u001B[43m)\u001B[49m\n\u001B[1;32m    199\u001B[0m \u001B[38;5;28;01mexcept\u001B[39;00m ConnectionNotAvailable:\n\u001B[1;32m    200\u001B[0m     \u001B[38;5;66;03m# In some cases a connection may initially be available to\u001B[39;00m\n\u001B[1;32m    201\u001B[0m     \u001B[38;5;66;03m# handle a request, but then become unavailable.\u001B[39;00m\n\u001B[1;32m    202\u001B[0m     \u001B[38;5;66;03m#\u001B[39;00m\n\u001B[1;32m    203\u001B[0m     \u001B[38;5;66;03m# In this case we clear the connection and try again.\u001B[39;00m\n\u001B[1;32m    204\u001B[0m     pool_request\u001B[38;5;241m.\u001B[39mclear_connection()\n",
      "File \u001B[0;32m~/anaconda3/envs/virtual_lab/lib/python3.12/site-packages/httpcore/_sync/connection.py:101\u001B[0m, in \u001B[0;36mHTTPConnection.handle_request\u001B[0;34m(self, request)\u001B[0m\n\u001B[1;32m     98\u001B[0m     \u001B[38;5;28mself\u001B[39m\u001B[38;5;241m.\u001B[39m_connect_failed \u001B[38;5;241m=\u001B[39m \u001B[38;5;28;01mTrue\u001B[39;00m\n\u001B[1;32m     99\u001B[0m     \u001B[38;5;28;01mraise\u001B[39;00m exc\n\u001B[0;32m--> 101\u001B[0m \u001B[38;5;28;01mreturn\u001B[39;00m \u001B[38;5;28;43mself\u001B[39;49m\u001B[38;5;241;43m.\u001B[39;49m\u001B[43m_connection\u001B[49m\u001B[38;5;241;43m.\u001B[39;49m\u001B[43mhandle_request\u001B[49m\u001B[43m(\u001B[49m\u001B[43mrequest\u001B[49m\u001B[43m)\u001B[49m\n",
      "File \u001B[0;32m~/anaconda3/envs/virtual_lab/lib/python3.12/site-packages/httpcore/_sync/http11.py:143\u001B[0m, in \u001B[0;36mHTTP11Connection.handle_request\u001B[0;34m(self, request)\u001B[0m\n\u001B[1;32m    141\u001B[0m     \u001B[38;5;28;01mwith\u001B[39;00m Trace(\u001B[38;5;124m\"\u001B[39m\u001B[38;5;124mresponse_closed\u001B[39m\u001B[38;5;124m\"\u001B[39m, logger, request) \u001B[38;5;28;01mas\u001B[39;00m trace:\n\u001B[1;32m    142\u001B[0m         \u001B[38;5;28mself\u001B[39m\u001B[38;5;241m.\u001B[39m_response_closed()\n\u001B[0;32m--> 143\u001B[0m \u001B[38;5;28;01mraise\u001B[39;00m exc\n",
      "File \u001B[0;32m~/anaconda3/envs/virtual_lab/lib/python3.12/site-packages/httpcore/_sync/http11.py:113\u001B[0m, in \u001B[0;36mHTTP11Connection.handle_request\u001B[0;34m(self, request)\u001B[0m\n\u001B[1;32m    102\u001B[0m     \u001B[38;5;28;01mpass\u001B[39;00m\n\u001B[1;32m    104\u001B[0m \u001B[38;5;28;01mwith\u001B[39;00m Trace(\n\u001B[1;32m    105\u001B[0m     \u001B[38;5;124m\"\u001B[39m\u001B[38;5;124mreceive_response_headers\u001B[39m\u001B[38;5;124m\"\u001B[39m, logger, request, kwargs\n\u001B[1;32m    106\u001B[0m ) \u001B[38;5;28;01mas\u001B[39;00m trace:\n\u001B[1;32m    107\u001B[0m     (\n\u001B[1;32m    108\u001B[0m         http_version,\n\u001B[1;32m    109\u001B[0m         status,\n\u001B[1;32m    110\u001B[0m         reason_phrase,\n\u001B[1;32m    111\u001B[0m         headers,\n\u001B[1;32m    112\u001B[0m         trailing_data,\n\u001B[0;32m--> 113\u001B[0m     ) \u001B[38;5;241m=\u001B[39m \u001B[38;5;28;43mself\u001B[39;49m\u001B[38;5;241;43m.\u001B[39;49m\u001B[43m_receive_response_headers\u001B[49m\u001B[43m(\u001B[49m\u001B[38;5;241;43m*\u001B[39;49m\u001B[38;5;241;43m*\u001B[39;49m\u001B[43mkwargs\u001B[49m\u001B[43m)\u001B[49m\n\u001B[1;32m    114\u001B[0m     trace\u001B[38;5;241m.\u001B[39mreturn_value \u001B[38;5;241m=\u001B[39m (\n\u001B[1;32m    115\u001B[0m         http_version,\n\u001B[1;32m    116\u001B[0m         status,\n\u001B[1;32m    117\u001B[0m         reason_phrase,\n\u001B[1;32m    118\u001B[0m         headers,\n\u001B[1;32m    119\u001B[0m     )\n\u001B[1;32m    121\u001B[0m network_stream \u001B[38;5;241m=\u001B[39m \u001B[38;5;28mself\u001B[39m\u001B[38;5;241m.\u001B[39m_network_stream\n",
      "File \u001B[0;32m~/anaconda3/envs/virtual_lab/lib/python3.12/site-packages/httpcore/_sync/http11.py:186\u001B[0m, in \u001B[0;36mHTTP11Connection._receive_response_headers\u001B[0;34m(self, request)\u001B[0m\n\u001B[1;32m    183\u001B[0m timeout \u001B[38;5;241m=\u001B[39m timeouts\u001B[38;5;241m.\u001B[39mget(\u001B[38;5;124m\"\u001B[39m\u001B[38;5;124mread\u001B[39m\u001B[38;5;124m\"\u001B[39m, \u001B[38;5;28;01mNone\u001B[39;00m)\n\u001B[1;32m    185\u001B[0m \u001B[38;5;28;01mwhile\u001B[39;00m \u001B[38;5;28;01mTrue\u001B[39;00m:\n\u001B[0;32m--> 186\u001B[0m     event \u001B[38;5;241m=\u001B[39m \u001B[38;5;28;43mself\u001B[39;49m\u001B[38;5;241;43m.\u001B[39;49m\u001B[43m_receive_event\u001B[49m\u001B[43m(\u001B[49m\u001B[43mtimeout\u001B[49m\u001B[38;5;241;43m=\u001B[39;49m\u001B[43mtimeout\u001B[49m\u001B[43m)\u001B[49m\n\u001B[1;32m    187\u001B[0m     \u001B[38;5;28;01mif\u001B[39;00m \u001B[38;5;28misinstance\u001B[39m(event, h11\u001B[38;5;241m.\u001B[39mResponse):\n\u001B[1;32m    188\u001B[0m         \u001B[38;5;28;01mbreak\u001B[39;00m\n",
      "File \u001B[0;32m~/anaconda3/envs/virtual_lab/lib/python3.12/site-packages/httpcore/_sync/http11.py:224\u001B[0m, in \u001B[0;36mHTTP11Connection._receive_event\u001B[0;34m(self, timeout)\u001B[0m\n\u001B[1;32m    221\u001B[0m     event \u001B[38;5;241m=\u001B[39m \u001B[38;5;28mself\u001B[39m\u001B[38;5;241m.\u001B[39m_h11_state\u001B[38;5;241m.\u001B[39mnext_event()\n\u001B[1;32m    223\u001B[0m \u001B[38;5;28;01mif\u001B[39;00m event \u001B[38;5;129;01mis\u001B[39;00m h11\u001B[38;5;241m.\u001B[39mNEED_DATA:\n\u001B[0;32m--> 224\u001B[0m     data \u001B[38;5;241m=\u001B[39m \u001B[38;5;28;43mself\u001B[39;49m\u001B[38;5;241;43m.\u001B[39;49m\u001B[43m_network_stream\u001B[49m\u001B[38;5;241;43m.\u001B[39;49m\u001B[43mread\u001B[49m\u001B[43m(\u001B[49m\n\u001B[1;32m    225\u001B[0m \u001B[43m        \u001B[49m\u001B[38;5;28;43mself\u001B[39;49m\u001B[38;5;241;43m.\u001B[39;49m\u001B[43mREAD_NUM_BYTES\u001B[49m\u001B[43m,\u001B[49m\u001B[43m \u001B[49m\u001B[43mtimeout\u001B[49m\u001B[38;5;241;43m=\u001B[39;49m\u001B[43mtimeout\u001B[49m\n\u001B[1;32m    226\u001B[0m \u001B[43m    \u001B[49m\u001B[43m)\u001B[49m\n\u001B[1;32m    228\u001B[0m     \u001B[38;5;66;03m# If we feed this case through h11 we'll raise an exception like:\u001B[39;00m\n\u001B[1;32m    229\u001B[0m     \u001B[38;5;66;03m#\u001B[39;00m\n\u001B[1;32m    230\u001B[0m     \u001B[38;5;66;03m#     httpcore.RemoteProtocolError: can't handle event type\u001B[39;00m\n\u001B[0;32m   (...)\u001B[0m\n\u001B[1;32m    234\u001B[0m     \u001B[38;5;66;03m# perspective. Instead we handle this case distinctly and treat\u001B[39;00m\n\u001B[1;32m    235\u001B[0m     \u001B[38;5;66;03m# it as a ConnectError.\u001B[39;00m\n\u001B[1;32m    236\u001B[0m     \u001B[38;5;28;01mif\u001B[39;00m data \u001B[38;5;241m==\u001B[39m \u001B[38;5;124mb\u001B[39m\u001B[38;5;124m\"\u001B[39m\u001B[38;5;124m\"\u001B[39m \u001B[38;5;129;01mand\u001B[39;00m \u001B[38;5;28mself\u001B[39m\u001B[38;5;241m.\u001B[39m_h11_state\u001B[38;5;241m.\u001B[39mtheir_state \u001B[38;5;241m==\u001B[39m h11\u001B[38;5;241m.\u001B[39mSEND_RESPONSE:\n",
      "File \u001B[0;32m~/anaconda3/envs/virtual_lab/lib/python3.12/site-packages/httpcore/_backends/sync.py:126\u001B[0m, in \u001B[0;36mSyncStream.read\u001B[0;34m(self, max_bytes, timeout)\u001B[0m\n\u001B[1;32m    124\u001B[0m \u001B[38;5;28;01mwith\u001B[39;00m map_exceptions(exc_map):\n\u001B[1;32m    125\u001B[0m     \u001B[38;5;28mself\u001B[39m\u001B[38;5;241m.\u001B[39m_sock\u001B[38;5;241m.\u001B[39msettimeout(timeout)\n\u001B[0;32m--> 126\u001B[0m     \u001B[38;5;28;01mreturn\u001B[39;00m \u001B[38;5;28;43mself\u001B[39;49m\u001B[38;5;241;43m.\u001B[39;49m\u001B[43m_sock\u001B[49m\u001B[38;5;241;43m.\u001B[39;49m\u001B[43mrecv\u001B[49m\u001B[43m(\u001B[49m\u001B[43mmax_bytes\u001B[49m\u001B[43m)\u001B[49m\n",
      "File \u001B[0;32m~/anaconda3/envs/virtual_lab/lib/python3.12/ssl.py:1233\u001B[0m, in \u001B[0;36mSSLSocket.recv\u001B[0;34m(self, buflen, flags)\u001B[0m\n\u001B[1;32m   1229\u001B[0m     \u001B[38;5;28;01mif\u001B[39;00m flags \u001B[38;5;241m!=\u001B[39m \u001B[38;5;241m0\u001B[39m:\n\u001B[1;32m   1230\u001B[0m         \u001B[38;5;28;01mraise\u001B[39;00m \u001B[38;5;167;01mValueError\u001B[39;00m(\n\u001B[1;32m   1231\u001B[0m             \u001B[38;5;124m\"\u001B[39m\u001B[38;5;124mnon-zero flags not allowed in calls to recv() on \u001B[39m\u001B[38;5;132;01m%s\u001B[39;00m\u001B[38;5;124m\"\u001B[39m \u001B[38;5;241m%\u001B[39m\n\u001B[1;32m   1232\u001B[0m             \u001B[38;5;28mself\u001B[39m\u001B[38;5;241m.\u001B[39m\u001B[38;5;18m__class__\u001B[39m)\n\u001B[0;32m-> 1233\u001B[0m     \u001B[38;5;28;01mreturn\u001B[39;00m \u001B[38;5;28;43mself\u001B[39;49m\u001B[38;5;241;43m.\u001B[39;49m\u001B[43mread\u001B[49m\u001B[43m(\u001B[49m\u001B[43mbuflen\u001B[49m\u001B[43m)\u001B[49m\n\u001B[1;32m   1234\u001B[0m \u001B[38;5;28;01melse\u001B[39;00m:\n\u001B[1;32m   1235\u001B[0m     \u001B[38;5;28;01mreturn\u001B[39;00m \u001B[38;5;28msuper\u001B[39m()\u001B[38;5;241m.\u001B[39mrecv(buflen, flags)\n",
      "File \u001B[0;32m~/anaconda3/envs/virtual_lab/lib/python3.12/ssl.py:1106\u001B[0m, in \u001B[0;36mSSLSocket.read\u001B[0;34m(self, len, buffer)\u001B[0m\n\u001B[1;32m   1104\u001B[0m         \u001B[38;5;28;01mreturn\u001B[39;00m \u001B[38;5;28mself\u001B[39m\u001B[38;5;241m.\u001B[39m_sslobj\u001B[38;5;241m.\u001B[39mread(\u001B[38;5;28mlen\u001B[39m, buffer)\n\u001B[1;32m   1105\u001B[0m     \u001B[38;5;28;01melse\u001B[39;00m:\n\u001B[0;32m-> 1106\u001B[0m         \u001B[38;5;28;01mreturn\u001B[39;00m \u001B[38;5;28;43mself\u001B[39;49m\u001B[38;5;241;43m.\u001B[39;49m\u001B[43m_sslobj\u001B[49m\u001B[38;5;241;43m.\u001B[39;49m\u001B[43mread\u001B[49m\u001B[43m(\u001B[49m\u001B[38;5;28;43mlen\u001B[39;49m\u001B[43m)\u001B[49m\n\u001B[1;32m   1107\u001B[0m \u001B[38;5;28;01mexcept\u001B[39;00m SSLError \u001B[38;5;28;01mas\u001B[39;00m x:\n\u001B[1;32m   1108\u001B[0m     \u001B[38;5;28;01mif\u001B[39;00m x\u001B[38;5;241m.\u001B[39margs[\u001B[38;5;241m0\u001B[39m] \u001B[38;5;241m==\u001B[39m SSL_ERROR_EOF \u001B[38;5;129;01mand\u001B[39;00m \u001B[38;5;28mself\u001B[39m\u001B[38;5;241m.\u001B[39msuppress_ragged_eofs:\n",
      "\u001B[0;31mKeyboardInterrupt\u001B[0m: "
     ]
    }
   ],
   "execution_count": 7
  },
  {
   "metadata": {
    "ExecuteTime": {
     "end_time": "2024-07-11T09:57:53.107749Z",
     "start_time": "2024-07-11T09:57:53.103116Z"
    }
   },
   "cell_type": "code",
   "source": "ESM_PROMPT = \"You are working on a project to develop antibodies for the SARS-CoV-2 spike protein, ideally for the newest variant of the virus and with broad spectrum activity across variants. You will use the ESM family of models for antibody design. Please design a method for applying ESM to this antibody design problem. Specify the exact model you will use and how you will use it to design antibodies.\"",
   "id": "ad28638c7d65ead5",
   "outputs": [],
   "execution_count": 6
  },
  {
   "metadata": {
    "ExecuteTime": {
     "end_time": "2024-07-11T09:57:53.479094Z",
     "start_time": "2024-07-11T09:57:53.475838Z"
    }
   },
   "cell_type": "code",
   "source": [
    "ESM_QUESTIONS = (\n",
    "    \"Which ESM model will you use?\"\n",
    "    \"Will you design the antibodies de novo or will you modify existing antibodies?\",\n",
    "    \"How exactly will you use your model to design antibodies?\",\n",
    "    \"What is the precise process for designing antibodies and selecting candidates for experimental validation?\",\n",
    "    \"How will you computationally evaluate the quality of the design antibodies?\",\n",
    "    \"What objectives will you optimize for in the design process?\"\n",
    ")"
   ],
   "id": "7d9b0df5e582cd48",
   "outputs": [],
   "execution_count": 7
  },
  {
   "metadata": {
    "ExecuteTime": {
     "end_time": "2024-07-11T10:11:55.350146Z",
     "start_time": "2024-07-11T09:57:56.714010Z"
    }
   },
   "cell_type": "code",
   "source": [
    "# Run ESM project design\n",
    "for iteration_num in trange(num_iterations, desc=\"Project Iterations\"):\n",
    "    run_scientific_meeting(\n",
    "        team_lead=team_lead,\n",
    "        team_members=team_members,\n",
    "        agenda=ESM_PROMPT,\n",
    "        agenda_questions=ESM_QUESTIONS,\n",
    "        contexts=contexts,\n",
    "        save_dir=save_dir / \"esm\",\n",
    "        save_name=f\"discussion_{iteration_num + 1}\",\n",
    "        num_rounds=num_rounds,\n",
    "        model=model,\n",
    "    )"
   ],
   "id": "18a3763ae6b8f0ac",
   "outputs": [
    {
     "name": "stderr",
     "output_type": "stream",
     "text": [
      "Project Iterations:   0%|          | 0/3 [00:00<?, ?it/s]\n",
      "Rounds (+ Summary Round):   0%|          | 0/4 [00:00<?, ?it/s]\u001B[A\n",
      "\n",
      "Team Members:   0%|          | 0/6 [00:00<?, ?it/s]\u001B[A\u001B[A\n",
      "\n",
      "Team Members:  17%|█▋        | 1/6 [00:07<00:37,  7.43s/it]\u001B[A\u001B[A\n",
      "\n",
      "Team Members:  33%|███▎      | 2/6 [00:15<00:31,  7.90s/it]\u001B[A\u001B[A\n",
      "\n",
      "Team Members:  50%|█████     | 3/6 [00:26<00:27,  9.06s/it]\u001B[A\u001B[A\n",
      "\n",
      "Team Members:  67%|██████▋   | 4/6 [00:39<00:21, 10.58s/it]\u001B[A\u001B[A\n",
      "\n",
      "Team Members:  83%|████████▎ | 5/6 [00:51<00:11, 11.20s/it]\u001B[A\u001B[A\n",
      "\n",
      "Team Members: 100%|██████████| 6/6 [01:02<00:00, 10.48s/it]\u001B[A\u001B[A\n",
      "\n",
      "Rounds (+ Summary Round):  25%|██▌       | 1/4 [01:02<03:08, 62.90s/it]\u001B[A\n",
      "\n",
      "Team Members:   0%|          | 0/6 [00:00<?, ?it/s]\u001B[A\u001B[A\n",
      "\n",
      "Team Members:  17%|█▋        | 1/6 [00:09<00:46,  9.39s/it]\u001B[A\u001B[A\n",
      "\n",
      "Team Members:  33%|███▎      | 2/6 [00:28<01:00, 15.12s/it]\u001B[A\u001B[A\n",
      "\n",
      "Team Members:  50%|█████     | 3/6 [00:41<00:41, 13.93s/it]\u001B[A\u001B[A\n",
      "\n",
      "Team Members:  67%|██████▋   | 4/6 [00:51<00:25, 12.63s/it]\u001B[A\u001B[A\n",
      "\n",
      "Team Members:  83%|████████▎ | 5/6 [01:03<00:12, 12.33s/it]\u001B[A\u001B[A\n",
      "\n",
      "Team Members: 100%|██████████| 6/6 [01:22<00:00, 13.79s/it]\u001B[A\u001B[A\n",
      "\n",
      "Rounds (+ Summary Round):  50%|█████     | 2/4 [02:25<02:29, 74.56s/it]\u001B[A\n",
      "\n",
      "Team Members:   0%|          | 0/6 [00:00<?, ?it/s]\u001B[A\u001B[A\n",
      "\n",
      "Team Members:  17%|█▋        | 1/6 [00:19<01:36, 19.24s/it]\u001B[A\u001B[A\n",
      "\n",
      "Team Members:  33%|███▎      | 2/6 [00:29<00:56, 14.06s/it]\u001B[A\u001B[A\n",
      "\n",
      "Team Members:  50%|█████     | 3/6 [00:43<00:42, 14.10s/it]\u001B[A\u001B[A\n",
      "\n",
      "Team Members:  67%|██████▋   | 4/6 [00:58<00:28, 14.27s/it]\u001B[A\u001B[A\n",
      "\n",
      "Team Members:  83%|████████▎ | 5/6 [01:14<00:14, 14.81s/it]\u001B[A\u001B[A\n",
      "\n",
      "Team Members: 100%|██████████| 6/6 [01:35<00:00, 15.94s/it]\u001B[A\u001B[A\n",
      "\n",
      "Rounds (+ Summary Round):  75%|███████▌  | 3/4 [04:01<01:24, 84.19s/it]\u001B[A\n",
      "\n",
      "Team Members:   0%|          | 0/6 [00:18<?, ?it/s]\u001B[A\u001B[A\n",
      "\n",
      "Rounds (+ Summary Round): 100%|██████████| 4/4 [04:19<00:00, 64.85s/it]\u001B[A\n",
      "Project Iterations:  33%|███▎      | 1/3 [04:19<08:38, 259.39s/it]"
     ]
    },
    {
     "name": "stdout",
     "output_type": "stream",
     "text": [
      "Input token count: 116,197\n",
      "Output token count: 12,655\n",
      "Max token length: 13,796\n",
      "Cost: $0.77\n"
     ]
    },
    {
     "name": "stderr",
     "output_type": "stream",
     "text": [
      "\n",
      "Rounds (+ Summary Round):   0%|          | 0/4 [00:00<?, ?it/s]\u001B[A\n",
      "\n",
      "Team Members:   0%|          | 0/6 [00:00<?, ?it/s]\u001B[A\u001B[A\n",
      "\n",
      "Team Members:  17%|█▋        | 1/6 [00:15<01:19, 15.86s/it]\u001B[A\u001B[A\n",
      "\n",
      "Team Members:  33%|███▎      | 2/6 [00:26<00:51, 12.79s/it]\u001B[A\u001B[A\n",
      "\n",
      "Team Members:  50%|█████     | 3/6 [00:36<00:34, 11.58s/it]\u001B[A\u001B[A\n",
      "\n",
      "Team Members:  67%|██████▋   | 4/6 [00:47<00:22, 11.46s/it]\u001B[A\u001B[A\n",
      "\n",
      "Team Members:  83%|████████▎ | 5/6 [01:13<00:16, 16.37s/it]\u001B[A\u001B[A\n",
      "\n",
      "Team Members: 100%|██████████| 6/6 [01:23<00:00, 13.98s/it]\u001B[A\u001B[A\n",
      "\n",
      "Rounds (+ Summary Round):  25%|██▌       | 1/4 [01:23<04:11, 83.85s/it]\u001B[A\n",
      "\n",
      "Team Members:   0%|          | 0/6 [00:00<?, ?it/s]\u001B[A\u001B[A\n",
      "\n",
      "Team Members:  17%|█▋        | 1/6 [00:23<01:58, 23.66s/it]\u001B[A\u001B[A\n",
      "\n",
      "Team Members:  33%|███▎      | 2/6 [00:31<00:56, 14.13s/it]\u001B[A\u001B[A\n",
      "\n",
      "Team Members:  50%|█████     | 3/6 [00:40<00:35, 11.99s/it]\u001B[A\u001B[A\n",
      "\n",
      "Team Members:  67%|██████▋   | 4/6 [00:52<00:23, 11.90s/it]\u001B[A\u001B[A\n",
      "\n",
      "Team Members:  83%|████████▎ | 5/6 [01:04<00:12, 12.12s/it]\u001B[A\u001B[A\n",
      "\n",
      "Team Members: 100%|██████████| 6/6 [01:21<00:00, 13.57s/it]\u001B[A\u001B[A\n",
      "\n",
      "Rounds (+ Summary Round):  50%|█████     | 2/4 [02:45<02:44, 82.42s/it]\u001B[A\n",
      "\n",
      "Team Members:   0%|          | 0/6 [00:00<?, ?it/s]\u001B[A\u001B[A\n",
      "\n",
      "Team Members:  17%|█▋        | 1/6 [00:20<01:42, 20.58s/it]\u001B[A\u001B[A\n",
      "\n",
      "Team Members:  33%|███▎      | 2/6 [00:27<00:50, 12.63s/it]\u001B[A\u001B[A\n",
      "\n",
      "Team Members:  50%|█████     | 3/6 [00:36<00:33, 11.01s/it]\u001B[A\u001B[A\n",
      "\n",
      "Team Members:  67%|██████▋   | 4/6 [00:48<00:22, 11.39s/it]\u001B[A\u001B[A\n",
      "\n",
      "Team Members:  83%|████████▎ | 5/6 [01:00<00:11, 11.58s/it]\u001B[A\u001B[A\n",
      "\n",
      "Team Members: 100%|██████████| 6/6 [01:18<00:00, 13.15s/it]\u001B[A\u001B[A\n",
      "\n",
      "Rounds (+ Summary Round):  75%|███████▌  | 3/4 [04:04<01:20, 80.81s/it]\u001B[A\n",
      "\n",
      "Team Members:   0%|          | 0/6 [00:18<?, ?it/s]\u001B[A\u001B[A\n",
      "\n",
      "Rounds (+ Summary Round): 100%|██████████| 4/4 [04:22<00:00, 65.64s/it]\u001B[A\n",
      "Project Iterations:  67%|██████▋   | 2/3 [08:41<04:21, 261.27s/it]"
     ]
    },
    {
     "name": "stdout",
     "output_type": "stream",
     "text": [
      "Input token count: 117,639\n",
      "Output token count: 12,087\n",
      "Max token length: 13,228\n",
      "Cost: $0.77\n"
     ]
    },
    {
     "name": "stderr",
     "output_type": "stream",
     "text": [
      "\n",
      "Rounds (+ Summary Round):   0%|          | 0/4 [00:00<?, ?it/s]\u001B[A\n",
      "\n",
      "Team Members:   0%|          | 0/6 [00:00<?, ?it/s]\u001B[A\u001B[A\n",
      "\n",
      "Team Members:  17%|█▋        | 1/6 [00:08<00:43,  8.60s/it]\u001B[A\u001B[A\n",
      "\n",
      "Team Members:  33%|███▎      | 2/6 [00:20<00:41, 10.32s/it]\u001B[A\u001B[A\n",
      "\n",
      "Team Members:  50%|█████     | 3/6 [00:30<00:30, 10.33s/it]\u001B[A\u001B[A\n",
      "\n",
      "Team Members:  67%|██████▋   | 4/6 [01:00<00:36, 18.26s/it]\u001B[A\u001B[A\n",
      "\n",
      "Team Members:  83%|████████▎ | 5/6 [01:12<00:15, 15.87s/it]\u001B[A\u001B[A\n",
      "\n",
      "Team Members: 100%|██████████| 6/6 [01:26<00:00, 14.36s/it]\u001B[A\u001B[A\n",
      "\n",
      "Rounds (+ Summary Round):  25%|██▌       | 1/4 [01:26<04:18, 86.19s/it]\u001B[A\n",
      "\n",
      "Team Members:   0%|          | 0/6 [00:00<?, ?it/s]\u001B[A\u001B[A\n",
      "\n",
      "Team Members:  17%|█▋        | 1/6 [00:14<01:11, 14.33s/it]\u001B[A\u001B[A\n",
      "\n",
      "Team Members:  33%|███▎      | 2/6 [00:22<00:42, 10.66s/it]\u001B[A\u001B[A\n",
      "\n",
      "Team Members:  50%|█████     | 3/6 [00:33<00:32, 10.94s/it]\u001B[A\u001B[A\n",
      "\n",
      "Team Members:  67%|██████▋   | 4/6 [00:41<00:19,  9.84s/it]\u001B[A\u001B[A\n",
      "\n",
      "Team Members:  83%|████████▎ | 5/6 [00:52<00:10, 10.15s/it]\u001B[A\u001B[A\n",
      "\n",
      "Team Members: 100%|██████████| 6/6 [01:04<00:00, 10.69s/it]\u001B[A\u001B[A\n",
      "\n",
      "Rounds (+ Summary Round):  50%|█████     | 2/4 [02:30<02:26, 73.23s/it]\u001B[A\n",
      "\n",
      "Team Members:   0%|          | 0/6 [00:00<?, ?it/s]\u001B[A\u001B[A\n",
      "\n",
      "Team Members:  17%|█▋        | 1/6 [00:17<01:27, 17.55s/it]\u001B[A\u001B[A\n",
      "\n",
      "Team Members:  33%|███▎      | 2/6 [00:35<01:11, 17.79s/it]\u001B[A\u001B[A\n",
      "\n",
      "Team Members:  50%|█████     | 3/6 [00:49<00:48, 16.10s/it]\u001B[A\u001B[A\n",
      "\n",
      "Team Members:  67%|██████▋   | 4/6 [01:04<00:31, 15.77s/it]\u001B[A\u001B[A\n",
      "\n",
      "Team Members:  83%|████████▎ | 5/6 [01:48<00:25, 25.94s/it]\u001B[A\u001B[A\n",
      "\n",
      "Team Members: 100%|██████████| 6/6 [02:28<00:00, 24.76s/it]\u001B[A\u001B[A\n",
      "\n",
      "Rounds (+ Summary Round):  75%|███████▌  | 3/4 [04:58<01:47, 107.62s/it]\u001B[A\n",
      "\n",
      "Team Members:   0%|          | 0/6 [00:17<?, ?it/s]\u001B[A\u001B[A\n",
      "\n",
      "Rounds (+ Summary Round): 100%|██████████| 4/4 [05:16<00:00, 79.16s/it] \u001B[A\n",
      "Project Iterations: 100%|██████████| 3/3 [13:58<00:00, 279.54s/it]"
     ]
    },
    {
     "name": "stdout",
     "output_type": "stream",
     "text": [
      "Input token count: 113,878\n",
      "Output token count: 12,845\n",
      "Max token length: 13,986\n",
      "Cost: $0.76\n"
     ]
    },
    {
     "name": "stderr",
     "output_type": "stream",
     "text": [
      "\n"
     ]
    }
   ],
   "execution_count": 8
  },
  {
   "metadata": {
    "ExecuteTime": {
     "end_time": "2024-07-11T11:19:44.925438Z",
     "start_time": "2024-07-11T11:19:44.921857Z"
    }
   },
   "cell_type": "code",
   "source": [
    "# Select preferred summary\n",
    "discussion_paths.append(save_dir / \"esm\" / \"discussion_3.json\")"
   ],
   "id": "84e9c0a3e0b77b5b",
   "outputs": [],
   "execution_count": 11
  },
  {
   "metadata": {
    "ExecuteTime": {
     "end_time": "2024-07-11T11:19:45.859526Z",
     "start_time": "2024-07-11T11:19:45.854401Z"
    }
   },
   "cell_type": "code",
   "source": [
    "# Load summaries\n",
    "summaries = load_summaries(discussion_paths=discussion_paths)"
   ],
   "id": "15cf2d47dca247c",
   "outputs": [],
   "execution_count": 12
  },
  {
   "metadata": {
    "ExecuteTime": {
     "end_time": "2024-07-11T11:21:07.846905Z",
     "start_time": "2024-07-11T11:21:07.843240Z"
    }
   },
   "cell_type": "code",
   "source": "ESM_IMPLEMENT_PROMPT = \"You now need to implement an ESM-based approach for antibody design. Please write code to implement the method you designed in the previous discussion. You should include the following components: 1. Loading the ESM model, 2. Designing antibodies using the ESM model, 3. Evaluating the designed antibodies computationally, 4. Selecting the best candidates for experimental validation. Please provide a detailed description of each component and the code to implement it.\"",
   "id": "7a0e957eac7b6279",
   "outputs": [],
   "execution_count": 13
  },
  {
   "metadata": {
    "ExecuteTime": {
     "end_time": "2024-07-11T11:21:08.053601Z",
     "start_time": "2024-07-11T11:21:08.050134Z"
    }
   },
   "cell_type": "code",
   "source": [
    "ESM_IMPLEMENT_QUESTIONS = (\n",
    "    \"How will you load the ESM model?\",\n",
    "    \"How will you design antibodies using the ESM model?\",\n",
    "    \"How will you evaluate the designed antibodies computationally?\",\n",
    "    \"How will you select the best candidates for experimental validation?\"\n",
    ")"
   ],
   "id": "83eac5486a31b9ab",
   "outputs": [],
   "execution_count": 14
  },
  {
   "metadata": {
    "ExecuteTime": {
     "end_time": "2024-07-11T11:36:57.602878Z",
     "start_time": "2024-07-11T11:21:19.059408Z"
    }
   },
   "cell_type": "code",
   "source": [
    "# Run ESM implement\n",
    "for iteration_num in trange(num_iterations, desc=\"Project Iterations\"):\n",
    "    run_scientific_meeting(\n",
    "        team_lead=team_lead,\n",
    "        team_members=team_members,\n",
    "        agenda=ESM_IMPLEMENT_PROMPT,\n",
    "        agenda_questions=ESM_IMPLEMENT_QUESTIONS,\n",
    "        summaries=summaries,\n",
    "        contexts=contexts,\n",
    "        save_dir=save_dir / \"esm_implement\",\n",
    "        save_name=f\"discussion_{iteration_num + 1}\",\n",
    "        num_rounds=num_rounds,\n",
    "        model=model,\n",
    "    )"
   ],
   "id": "6c9751f2733fdf73",
   "outputs": [
    {
     "name": "stderr",
     "output_type": "stream",
     "text": [
      "Project Iterations:   0%|          | 0/3 [00:00<?, ?it/s]\n",
      "Rounds (+ Summary Round):   0%|          | 0/4 [00:00<?, ?it/s]\u001B[A\n",
      "\n",
      "Team Members:   0%|          | 0/6 [00:00<?, ?it/s]\u001B[A\u001B[A\n",
      "\n",
      "Team Members:  17%|█▋        | 1/6 [00:29<02:27, 29.51s/it]\u001B[A\u001B[A\n",
      "\n",
      "Team Members:  33%|███▎      | 2/6 [00:41<01:15, 18.99s/it]\u001B[A\u001B[A\n",
      "\n",
      "Team Members:  50%|█████     | 3/6 [00:50<00:44, 14.81s/it]\u001B[A\u001B[A\n",
      "\n",
      "Team Members:  67%|██████▋   | 4/6 [01:04<00:28, 14.25s/it]\u001B[A\u001B[A\n",
      "\n",
      "Team Members:  83%|████████▎ | 5/6 [01:14<00:12, 12.94s/it]\u001B[A\u001B[A\n",
      "\n",
      "Team Members: 100%|██████████| 6/6 [01:27<00:00, 14.66s/it]\u001B[A\u001B[A\n",
      "\n",
      "Rounds (+ Summary Round):  25%|██▌       | 1/4 [01:27<04:23, 87.94s/it]\u001B[A\n",
      "\n",
      "Team Members:   0%|          | 0/6 [00:00<?, ?it/s]\u001B[A\u001B[A\n",
      "\n",
      "Team Members:  17%|█▋        | 1/6 [01:00<05:02, 60.50s/it]\u001B[A\u001B[A\n",
      "\n",
      "Team Members:  33%|███▎      | 2/6 [01:08<01:59, 29.79s/it]\u001B[A\u001B[A\n",
      "\n",
      "Team Members:  50%|█████     | 3/6 [01:18<01:02, 20.69s/it]\u001B[A\u001B[A\n",
      "\n",
      "Team Members:  67%|██████▋   | 4/6 [01:30<00:34, 17.05s/it]\u001B[A\u001B[A\n",
      "\n",
      "Team Members:  83%|████████▎ | 5/6 [01:44<00:16, 16.07s/it]\u001B[A\u001B[A\n",
      "\n",
      "Team Members: 100%|██████████| 6/6 [02:01<00:00, 20.33s/it]\u001B[A\u001B[A\n",
      "\n",
      "Rounds (+ Summary Round):  50%|█████     | 2/4 [03:29<03:35, 107.95s/it]\u001B[A\n",
      "\n",
      "Team Members:   0%|          | 0/6 [00:00<?, ?it/s]\u001B[A\u001B[A\n",
      "\n",
      "Team Members:  17%|█▋        | 1/6 [00:26<02:13, 26.62s/it]\u001B[A\u001B[A\n",
      "\n",
      "Team Members:  33%|███▎      | 2/6 [00:40<01:15, 18.93s/it]\u001B[A\u001B[A\n",
      "\n",
      "Team Members:  50%|█████     | 3/6 [00:51<00:46, 15.52s/it]\u001B[A\u001B[A\n",
      "\n",
      "Team Members:  67%|██████▋   | 4/6 [01:02<00:27, 13.59s/it]\u001B[A\u001B[A\n",
      "\n",
      "Team Members:  83%|████████▎ | 5/6 [01:15<00:13, 13.34s/it]\u001B[A\u001B[A\n",
      "\n",
      "Team Members: 100%|██████████| 6/6 [01:32<00:00, 15.34s/it]\u001B[A\u001B[A\n",
      "\n",
      "Rounds (+ Summary Round):  75%|███████▌  | 3/4 [05:01<01:40, 100.69s/it]\u001B[A\n",
      "\n",
      "Team Members:   0%|          | 0/6 [00:24<?, ?it/s]\u001B[A\u001B[A\n",
      "\n",
      "Rounds (+ Summary Round): 100%|██████████| 4/4 [05:26<00:00, 81.56s/it] \u001B[A\n",
      "Project Iterations:  33%|███▎      | 1/3 [05:26<10:52, 326.24s/it]"
     ]
    },
    {
     "name": "stdout",
     "output_type": "stream",
     "text": [
      "Input token count: 203,258\n",
      "Output token count: 17,910\n",
      "Max token length: 20,067\n",
      "Cost: $1.28\n"
     ]
    },
    {
     "name": "stderr",
     "output_type": "stream",
     "text": [
      "\n",
      "Rounds (+ Summary Round):   0%|          | 0/4 [00:00<?, ?it/s]\u001B[A\n",
      "\n",
      "Team Members:   0%|          | 0/6 [00:00<?, ?it/s]\u001B[A\u001B[A\n",
      "\n",
      "Team Members:  17%|█▋        | 1/6 [00:04<00:23,  4.68s/it]\u001B[A\u001B[A\n",
      "\n",
      "Team Members:  33%|███▎      | 2/6 [00:12<00:26,  6.63s/it]\u001B[A\u001B[A\n",
      "\n",
      "Team Members:  50%|█████     | 3/6 [00:25<00:27,  9.30s/it]\u001B[A\u001B[A\n",
      "\n",
      "Team Members:  67%|██████▋   | 4/6 [00:33<00:18,  9.11s/it]\u001B[A\u001B[A\n",
      "\n",
      "Team Members:  83%|████████▎ | 5/6 [00:42<00:08,  8.87s/it]\u001B[A\u001B[A\n",
      "\n",
      "Team Members: 100%|██████████| 6/6 [00:51<00:00,  8.63s/it]\u001B[A\u001B[A\n",
      "\n",
      "Rounds (+ Summary Round):  25%|██▌       | 1/4 [00:51<02:35, 51.78s/it]\u001B[A\n",
      "\n",
      "Team Members:   0%|          | 0/6 [00:00<?, ?it/s]\u001B[A\u001B[A\n",
      "\n",
      "Team Members:  17%|█▋        | 1/6 [00:12<01:00, 12.05s/it]\u001B[A\u001B[A\n",
      "\n",
      "Team Members:  33%|███▎      | 2/6 [00:21<00:42, 10.53s/it]\u001B[A\u001B[A\n",
      "\n",
      "Team Members:  50%|█████     | 3/6 [00:32<00:31, 10.63s/it]\u001B[A\u001B[A\n",
      "\n",
      "Team Members:  67%|██████▋   | 4/6 [00:49<00:26, 13.27s/it]\u001B[A\u001B[A\n",
      "\n",
      "Team Members:  83%|████████▎ | 5/6 [01:11<00:16, 16.28s/it]\u001B[A\u001B[A\n",
      "\n",
      "Team Members: 100%|██████████| 6/6 [01:20<00:00, 13.49s/it]\u001B[A\u001B[A\n",
      "\n",
      "Rounds (+ Summary Round):  50%|█████     | 2/4 [02:12<02:17, 68.92s/it]\u001B[A\n",
      "\n",
      "Team Members:   0%|          | 0/6 [00:00<?, ?it/s]\u001B[A\u001B[A\n",
      "\n",
      "Team Members:  17%|█▋        | 1/6 [00:23<01:59, 23.93s/it]\u001B[A\u001B[A\n",
      "\n",
      "Team Members:  33%|███▎      | 2/6 [00:38<01:12, 18.24s/it]\u001B[A\u001B[A\n",
      "\n",
      "Team Members:  50%|█████     | 3/6 [00:56<00:54, 18.25s/it]\u001B[A\u001B[A\n",
      "\n",
      "Team Members:  67%|██████▋   | 4/6 [01:12<00:35, 17.56s/it]\u001B[A\u001B[A\n",
      "\n",
      "Team Members:  83%|████████▎ | 5/6 [02:17<00:34, 34.48s/it]\u001B[A\u001B[A\n",
      "\n",
      "Team Members: 100%|██████████| 6/6 [02:30<00:00, 25.11s/it]\u001B[A\u001B[A\n",
      "\n",
      "Rounds (+ Summary Round):  75%|███████▌  | 3/4 [04:43<01:46, 106.23s/it]\u001B[A\n",
      "\n",
      "Team Members:   0%|          | 0/6 [00:20<?, ?it/s]\u001B[A\u001B[A\n",
      "\n",
      "Rounds (+ Summary Round): 100%|██████████| 4/4 [05:03<00:00, 75.84s/it] \u001B[A\n",
      "Project Iterations:  67%|██████▋   | 2/3 [10:29<05:12, 312.78s/it]"
     ]
    },
    {
     "name": "stdout",
     "output_type": "stream",
     "text": [
      "Input token count: 144,603\n",
      "Output token count: 15,113\n",
      "Max token length: 17,270\n",
      "Cost: $0.95\n"
     ]
    },
    {
     "name": "stderr",
     "output_type": "stream",
     "text": [
      "\n",
      "Rounds (+ Summary Round):   0%|          | 0/4 [00:00<?, ?it/s]\u001B[A\n",
      "\n",
      "Team Members:   0%|          | 0/6 [00:00<?, ?it/s]\u001B[A\u001B[A\n",
      "\n",
      "Team Members:  17%|█▋        | 1/6 [00:39<03:18, 39.68s/it]\u001B[A\u001B[A\n",
      "\n",
      "Team Members:  33%|███▎      | 2/6 [00:50<01:31, 22.96s/it]\u001B[A\u001B[A\n",
      "\n",
      "Team Members:  50%|█████     | 3/6 [01:00<00:49, 16.66s/it]\u001B[A\u001B[A\n",
      "\n",
      "Team Members:  67%|██████▋   | 4/6 [01:07<00:26, 13.02s/it]\u001B[A\u001B[A\n",
      "\n",
      "Team Members:  83%|████████▎ | 5/6 [01:17<00:11, 11.85s/it]\u001B[A\u001B[A\n",
      "\n",
      "Team Members: 100%|██████████| 6/6 [01:41<00:00, 16.84s/it]\u001B[A\u001B[A\n",
      "\n",
      "Rounds (+ Summary Round):  25%|██▌       | 1/4 [01:41<05:03, 101.02s/it]\u001B[A\n",
      "\n",
      "Team Members:   0%|          | 0/6 [00:00<?, ?it/s]\u001B[A\u001B[A\n",
      "\n",
      "Team Members:  17%|█▋        | 1/6 [00:14<01:11, 14.28s/it]\u001B[A\u001B[A\n",
      "\n",
      "Team Members:  33%|███▎      | 2/6 [00:20<00:37,  9.46s/it]\u001B[A\u001B[A\n",
      "\n",
      "Team Members:  50%|█████     | 3/6 [00:30<00:29,  9.86s/it]\u001B[A\u001B[A\n",
      "\n",
      "Team Members:  67%|██████▋   | 4/6 [00:43<00:22, 11.14s/it]\u001B[A\u001B[A\n",
      "\n",
      "Team Members:  83%|████████▎ | 5/6 [00:56<00:11, 11.63s/it]\u001B[A\u001B[A\n",
      "\n",
      "Team Members: 100%|██████████| 6/6 [01:13<00:00, 12.32s/it]\u001B[A\u001B[A\n",
      "\n",
      "Rounds (+ Summary Round):  50%|█████     | 2/4 [02:54<02:50, 85.08s/it] \u001B[A\n",
      "\n",
      "Team Members:   0%|          | 0/6 [00:00<?, ?it/s]\u001B[A\u001B[A\n",
      "\n",
      "Team Members:  17%|█▋        | 1/6 [00:20<01:40, 20.07s/it]\u001B[A\u001B[A\n",
      "\n",
      "Team Members:  33%|███▎      | 2/6 [00:41<01:23, 20.85s/it]\u001B[A\u001B[A\n",
      "\n",
      "Team Members:  50%|█████     | 3/6 [01:00<01:00, 20.17s/it]\u001B[A\u001B[A\n",
      "\n",
      "Team Members:  67%|██████▋   | 4/6 [01:17<00:37, 18.84s/it]\u001B[A\u001B[A\n",
      "\n",
      "Team Members:  83%|████████▎ | 5/6 [01:31<00:17, 17.22s/it]\u001B[A\u001B[A\n",
      "\n",
      "Team Members: 100%|██████████| 6/6 [01:53<00:00, 18.87s/it]\u001B[A\u001B[A\n",
      "\n",
      "Rounds (+ Summary Round):  75%|███████▌  | 3/4 [04:48<01:37, 97.92s/it]\u001B[A\n",
      "\n",
      "Team Members:   0%|          | 0/6 [00:20<?, ?it/s]\u001B[A\u001B[A\n",
      "\n",
      "Rounds (+ Summary Round): 100%|██████████| 4/4 [05:08<00:00, 77.23s/it]\u001B[A\n",
      "Project Iterations: 100%|██████████| 3/3 [15:38<00:00, 312.85s/it]"
     ]
    },
    {
     "name": "stdout",
     "output_type": "stream",
     "text": [
      "Input token count: 136,860\n",
      "Output token count: 13,587\n",
      "Max token length: 15,744\n",
      "Cost: $0.89\n"
     ]
    },
    {
     "name": "stderr",
     "output_type": "stream",
     "text": [
      "\n"
     ]
    }
   ],
   "execution_count": 15
  },
  {
   "metadata": {},
   "cell_type": "code",
   "outputs": [],
   "execution_count": null,
   "source": "",
   "id": "577e75fd8fc3c7ad"
  }
 ],
 "metadata": {
  "kernelspec": {
   "display_name": "Python 3",
   "language": "python",
   "name": "python3"
  },
  "language_info": {
   "codemirror_mode": {
    "name": "ipython",
    "version": 2
   },
   "file_extension": ".py",
   "mimetype": "text/x-python",
   "name": "python",
   "nbconvert_exporter": "python",
   "pygments_lexer": "ipython2",
   "version": "2.7.6"
  }
 },
 "nbformat": 4,
 "nbformat_minor": 5
}
