{
 "cells": [
  {
   "cell_type": "code",
   "id": "initial_id",
   "metadata": {
    "collapsed": true,
    "ExecuteTime": {
     "end_time": "2024-07-11T09:08:39.376589Z",
     "start_time": "2024-07-11T09:08:38.215198Z"
    }
   },
   "source": [
    "from pathlib import Path\n",
    "\n",
    "from tqdm import trange\n",
    "\n",
    "from prompts import ANTIBODIES_CONTEXT_PROMPT, NAME_TO_AGENT\n",
    "from run_scientific_meeting import run_scientific_meeting"
   ],
   "outputs": [],
   "execution_count": 1
  },
  {
   "metadata": {
    "ExecuteTime": {
     "end_time": "2024-07-11T09:08:41.853092Z",
     "start_time": "2024-07-11T09:08:41.848833Z"
    }
   },
   "cell_type": "code",
   "source": [
    "# Set up the team\n",
    "team_lead = \"Principal Investigator\"\n",
    "team_members = tuple(NAME_TO_AGENT.keys())\n",
    "\n",
    "# Set up key parameters\n",
    "num_iterations = 3\n",
    "num_rounds = 3\n",
    "save_dir = Path(\"antibody_design\")\n",
    "model = \"gpt-4o\"\n",
    "contexts = (ANTIBODIES_CONTEXT_PROMPT,)"
   ],
   "id": "cc186057c8dcc3a8",
   "outputs": [],
   "execution_count": 2
  },
  {
   "metadata": {
    "ExecuteTime": {
     "end_time": "2024-07-11T09:08:43.641168Z",
     "start_time": "2024-07-11T09:08:43.637625Z"
    }
   },
   "cell_type": "code",
   "source": "ANTIBODIES_PROMPT = \"You are working on a project to develop antibodies for the SARS-CoV-2 spike protein, ideally for the newest variant of the virus and with broad spectrum activity across variants. Please design a specific antibody discovery approach for this target that uses machine learning to design antibody candidates. Decide what specific machine learning model to use and precisely how it will be used. If the model needs to be trained, please decide on a specific dataset for training. If the model is pre-trained, please explain exactly how it will be used for identifying or designing antibody candidates.\"",
   "id": "2bde03a12d5c9332",
   "outputs": [],
   "execution_count": 3
  },
  {
   "metadata": {
    "ExecuteTime": {
     "end_time": "2024-07-11T09:08:44.357916Z",
     "start_time": "2024-07-11T09:08:44.354610Z"
    }
   },
   "cell_type": "code",
   "source": [
    "ANTIBODIES_QUESTIONS = (\n",
    "    \"Will you design the antibodies de novo or will you modify existing antibodies?\",\n",
    "    \"Will you train a model from scratch or use a pre-trained model?\",\n",
    "    \"What specific model architecture will you use?\",\n",
    "    \"If training a model from scratch, what dataset will you use for training?\",\n",
    "    \"How exactly will you use your model to design antibodies?\"\n",
    ")"
   ],
   "id": "5bfe77612c2faab5",
   "outputs": [],
   "execution_count": 4
  },
  {
   "metadata": {
    "ExecuteTime": {
     "end_time": "2024-07-11T09:24:51.022363Z",
     "start_time": "2024-07-11T09:08:50.632717Z"
    }
   },
   "cell_type": "code",
   "source": [
    "# Run antibodies project design\n",
    "for iteration_num in trange(num_iterations, desc=\"Project Iterations\"):\n",
    "    run_scientific_meeting(\n",
    "        team_lead=team_lead,\n",
    "        team_members=team_members,\n",
    "        agenda=ANTIBODIES_PROMPT,\n",
    "        agenda_questions=ANTIBODIES_QUESTIONS,\n",
    "        contexts=contexts,\n",
    "        save_dir=save_dir / \"project_design\",\n",
    "        save_name=f\"discussion_{iteration_num + 1}\",\n",
    "        num_rounds=num_rounds,\n",
    "        model=model,\n",
    "    )"
   ],
   "id": "9c4078420bdee0c7",
   "outputs": [
    {
     "name": "stderr",
     "output_type": "stream",
     "text": [
      "Project Iterations:   0%|          | 0/3 [00:00<?, ?it/s]\n",
      "Rounds (+ Summary Round):   0%|          | 0/4 [00:00<?, ?it/s]\u001B[A\n",
      "\n",
      "Team Members:   0%|          | 0/6 [00:00<?, ?it/s]\u001B[A\u001B[A\n",
      "\n",
      "Team Members:  17%|█▋        | 1/6 [00:08<00:40,  8.14s/it]\u001B[A\u001B[A\n",
      "\n",
      "Team Members:  33%|███▎      | 2/6 [00:13<00:26,  6.74s/it]\u001B[A\u001B[A\n",
      "\n",
      "Team Members:  50%|█████     | 3/6 [00:22<00:22,  7.36s/it]\u001B[A\u001B[A\n",
      "\n",
      "Team Members:  67%|██████▋   | 4/6 [00:31<00:16,  8.34s/it]\u001B[A\u001B[A\n",
      "\n",
      "Team Members:  83%|████████▎ | 5/6 [00:40<00:08,  8.37s/it]\u001B[A\u001B[A\n",
      "\n",
      "Team Members: 100%|██████████| 6/6 [00:57<00:00,  9.52s/it]\u001B[A\u001B[A\n",
      "\n",
      "Rounds (+ Summary Round):  25%|██▌       | 1/4 [00:57<02:51, 57.09s/it]\u001B[A\n",
      "\n",
      "Team Members:   0%|          | 0/6 [00:00<?, ?it/s]\u001B[A\u001B[A\n",
      "\n",
      "Team Members:  17%|█▋        | 1/6 [00:15<01:16, 15.20s/it]\u001B[A\u001B[A\n",
      "\n",
      "Team Members:  33%|███▎      | 2/6 [00:24<00:47, 11.77s/it]\u001B[A\u001B[A\n",
      "\n",
      "Team Members:  50%|█████     | 3/6 [00:41<00:41, 13.95s/it]\u001B[A\u001B[A\n",
      "\n",
      "Team Members:  67%|██████▋   | 4/6 [00:56<00:29, 14.71s/it]\u001B[A\u001B[A\n",
      "\n",
      "Team Members:  83%|████████▎ | 5/6 [01:12<00:15, 15.03s/it]\u001B[A\u001B[A\n",
      "\n",
      "Team Members: 100%|██████████| 6/6 [01:28<00:00, 14.74s/it]\u001B[A\u001B[A\n",
      "\n",
      "Rounds (+ Summary Round):  50%|█████     | 2/4 [02:25<02:31, 75.53s/it]\u001B[A\n",
      "\n",
      "Team Members:   0%|          | 0/6 [00:00<?, ?it/s]\u001B[A\u001B[A\n",
      "\n",
      "Team Members:  17%|█▋        | 1/6 [00:17<01:25, 17.09s/it]\u001B[A\u001B[A\n",
      "\n",
      "Team Members:  33%|███▎      | 2/6 [00:41<01:24, 21.23s/it]\u001B[A\u001B[A\n",
      "\n",
      "Team Members:  50%|█████     | 3/6 [00:56<00:56, 18.73s/it]\u001B[A\u001B[A\n",
      "\n",
      "Team Members:  67%|██████▋   | 4/6 [01:17<00:38, 19.33s/it]\u001B[A\u001B[A\n",
      "\n",
      "Team Members:  83%|████████▎ | 5/6 [01:35<00:19, 19.03s/it]\u001B[A\u001B[A\n",
      "\n",
      "Team Members: 100%|██████████| 6/6 [02:03<00:00, 20.53s/it]\u001B[A\u001B[A\n",
      "\n",
      "Rounds (+ Summary Round):  75%|███████▌  | 3/4 [04:28<01:37, 97.29s/it]\u001B[A\n",
      "\n",
      "Team Members:   0%|          | 0/6 [00:30<?, ?it/s]\u001B[A\u001B[A\n",
      "\n",
      "Rounds (+ Summary Round): 100%|██████████| 4/4 [04:59<00:00, 74.91s/it]\u001B[A\n",
      "Project Iterations:  33%|███▎      | 1/3 [04:59<09:59, 299.67s/it]"
     ]
    },
    {
     "name": "stdout",
     "output_type": "stream",
     "text": [
      "Input token count: 122,485\n",
      "Output token count: 14,284\n",
      "Max token length: 15,465\n",
      "Cost: $0.83\n"
     ]
    },
    {
     "name": "stderr",
     "output_type": "stream",
     "text": [
      "\n",
      "Rounds (+ Summary Round):   0%|          | 0/4 [00:00<?, ?it/s]\u001B[A\n",
      "\n",
      "Team Members:   0%|          | 0/6 [00:00<?, ?it/s]\u001B[A\u001B[A\n",
      "\n",
      "Team Members:  17%|█▋        | 1/6 [00:20<01:42, 20.59s/it]\u001B[A\u001B[A\n",
      "\n",
      "Team Members:  33%|███▎      | 2/6 [00:31<01:00, 15.04s/it]\u001B[A\u001B[A\n",
      "\n",
      "Team Members:  50%|█████     | 3/6 [00:41<00:38, 12.85s/it]\u001B[A\u001B[A\n",
      "\n",
      "Team Members:  67%|██████▋   | 4/6 [00:52<00:23, 11.99s/it]\u001B[A\u001B[A\n",
      "\n",
      "Team Members:  83%|████████▎ | 5/6 [01:09<00:13, 13.92s/it]\u001B[A\u001B[A\n",
      "\n",
      "Team Members: 100%|██████████| 6/6 [01:27<00:00, 14.54s/it]\u001B[A\u001B[A\n",
      "\n",
      "Rounds (+ Summary Round):  25%|██▌       | 1/4 [01:27<04:21, 87.26s/it]\u001B[A\n",
      "\n",
      "Team Members:   0%|          | 0/6 [00:00<?, ?it/s]\u001B[A\u001B[A\n",
      "\n",
      "Team Members:  17%|█▋        | 1/6 [00:18<01:33, 18.71s/it]\u001B[A\u001B[A\n",
      "\n",
      "Team Members:  33%|███▎      | 2/6 [00:33<01:04, 16.11s/it]\u001B[A\u001B[A\n",
      "\n",
      "Team Members:  50%|█████     | 3/6 [00:47<00:45, 15.19s/it]\u001B[A\u001B[A\n",
      "\n",
      "Team Members:  67%|██████▋   | 4/6 [01:05<00:32, 16.37s/it]\u001B[A\u001B[A\n",
      "\n",
      "Team Members:  83%|████████▎ | 5/6 [01:29<00:19, 19.13s/it]\u001B[A\u001B[A\n",
      "\n",
      "Team Members: 100%|██████████| 6/6 [01:47<00:00, 17.88s/it]\u001B[A\u001B[A\n",
      "\n",
      "Rounds (+ Summary Round):  50%|█████     | 2/4 [03:14<03:18, 99.03s/it]\u001B[A\n",
      "\n",
      "Team Members:   0%|          | 0/6 [00:00<?, ?it/s]\u001B[A\u001B[A\n",
      "\n",
      "Team Members:  17%|█▋        | 1/6 [00:19<01:36, 19.27s/it]\u001B[A\u001B[A\n",
      "\n",
      "Team Members:  33%|███▎      | 2/6 [00:34<01:08, 17.02s/it]\u001B[A\u001B[A\n",
      "\n",
      "Team Members:  50%|█████     | 3/6 [00:55<00:56, 18.74s/it]\u001B[A\u001B[A\n",
      "\n",
      "Team Members:  67%|██████▋   | 4/6 [01:23<00:44, 22.39s/it]\u001B[A\u001B[A\n",
      "\n",
      "Team Members:  83%|████████▎ | 5/6 [01:43<00:21, 21.50s/it]\u001B[A\u001B[A\n",
      "\n",
      "Team Members: 100%|██████████| 6/6 [02:02<00:00, 20.38s/it]\u001B[A\u001B[A\n",
      "\n",
      "Rounds (+ Summary Round):  75%|███████▌  | 3/4 [05:16<01:49, 109.66s/it]\u001B[A\n",
      "\n",
      "Team Members:   0%|          | 0/6 [00:41<?, ?it/s]\u001B[A\u001B[A\n",
      "\n",
      "Rounds (+ Summary Round): 100%|██████████| 4/4 [05:58<00:00, 89.69s/it] \u001B[A\n",
      "Project Iterations:  67%|██████▋   | 2/3 [10:58<05:34, 334.43s/it]"
     ]
    },
    {
     "name": "stdout",
     "output_type": "stream",
     "text": [
      "Input token count: 132,083\n",
      "Output token count: 15,052\n",
      "Max token length: 16,233\n",
      "Cost: $0.89\n"
     ]
    },
    {
     "name": "stderr",
     "output_type": "stream",
     "text": [
      "\n",
      "Rounds (+ Summary Round):   0%|          | 0/4 [00:00<?, ?it/s]\u001B[A\n",
      "\n",
      "Team Members:   0%|          | 0/6 [00:00<?, ?it/s]\u001B[A\u001B[A\n",
      "\n",
      "Team Members:  17%|█▋        | 1/6 [00:09<00:47,  9.53s/it]\u001B[A\u001B[A\n",
      "\n",
      "Team Members:  33%|███▎      | 2/6 [00:18<00:37,  9.34s/it]\u001B[A\u001B[A\n",
      "\n",
      "Team Members:  50%|█████     | 3/6 [00:32<00:33, 11.29s/it]\u001B[A\u001B[A\n",
      "\n",
      "Team Members:  67%|██████▋   | 4/6 [00:44<00:23, 11.77s/it]\u001B[A\u001B[A\n",
      "\n",
      "Team Members:  83%|████████▎ | 5/6 [00:58<00:12, 12.57s/it]\u001B[A\u001B[A\n",
      "\n",
      "Team Members: 100%|██████████| 6/6 [01:09<00:00, 11.51s/it]\u001B[A\u001B[A\n",
      "\n",
      "Rounds (+ Summary Round):  25%|██▌       | 1/4 [01:09<03:27, 69.07s/it]\u001B[A\n",
      "\n",
      "Team Members:   0%|          | 0/6 [00:00<?, ?it/s]\u001B[A\u001B[A\n",
      "\n",
      "Team Members:  17%|█▋        | 1/6 [00:17<01:27, 17.58s/it]\u001B[A\u001B[A\n",
      "\n",
      "Team Members:  33%|███▎      | 2/6 [00:30<01:00, 15.01s/it]\u001B[A\u001B[A\n",
      "\n",
      "Team Members:  50%|█████     | 3/6 [00:45<00:43, 14.67s/it]\u001B[A\u001B[A\n",
      "\n",
      "Team Members:  67%|██████▋   | 4/6 [00:56<00:26, 13.36s/it]\u001B[A\u001B[A\n",
      "\n",
      "Team Members:  83%|████████▎ | 5/6 [01:08<00:12, 12.79s/it]\u001B[A\u001B[A\n",
      "\n",
      "Team Members: 100%|██████████| 6/6 [01:26<00:00, 14.34s/it]\u001B[A\u001B[A\n",
      "\n",
      "Rounds (+ Summary Round):  50%|█████     | 2/4 [02:35<02:38, 79.04s/it]\u001B[A\n",
      "\n",
      "Team Members:   0%|          | 0/6 [00:00<?, ?it/s]\u001B[A\u001B[A\n",
      "\n",
      "Team Members:  17%|█▋        | 1/6 [00:20<01:43, 20.62s/it]\u001B[A\u001B[A\n",
      "\n",
      "Team Members:  33%|███▎      | 2/6 [00:55<01:55, 28.99s/it]\u001B[A\u001B[A\n",
      "\n",
      "Team Members:  50%|█████     | 3/6 [01:07<01:03, 21.28s/it]\u001B[A\u001B[A\n",
      "\n",
      "Team Members:  67%|██████▋   | 4/6 [01:29<00:43, 21.61s/it]\u001B[A\u001B[A\n",
      "\n",
      "Team Members:  83%|████████▎ | 5/6 [01:47<00:20, 20.37s/it]\u001B[A\u001B[A\n",
      "\n",
      "Team Members: 100%|██████████| 6/6 [02:01<00:00, 20.30s/it]\u001B[A\u001B[A\n",
      "\n",
      "Rounds (+ Summary Round):  75%|███████▌  | 3/4 [04:36<01:38, 98.56s/it]\u001B[A\n",
      "\n",
      "Team Members:   0%|          | 0/6 [00:25<?, ?it/s]\u001B[A\u001B[A\n",
      "\n",
      "Rounds (+ Summary Round): 100%|██████████| 4/4 [05:01<00:00, 75.48s/it]\u001B[A\n",
      "Project Iterations: 100%|██████████| 3/3 [16:00<00:00, 320.12s/it]"
     ]
    },
    {
     "name": "stdout",
     "output_type": "stream",
     "text": [
      "Input token count: 124,079\n",
      "Output token count: 13,819\n",
      "Max token length: 15,000\n",
      "Cost: $0.83\n"
     ]
    },
    {
     "name": "stderr",
     "output_type": "stream",
     "text": [
      "\n"
     ]
    }
   ],
   "execution_count": 5
  },
  {
   "metadata": {},
   "cell_type": "code",
   "outputs": [],
   "execution_count": null,
   "source": "",
   "id": "ad28638c7d65ead5"
  }
 ],
 "metadata": {
  "kernelspec": {
   "display_name": "Python 3",
   "language": "python",
   "name": "python3"
  },
  "language_info": {
   "codemirror_mode": {
    "name": "ipython",
    "version": 2
   },
   "file_extension": ".py",
   "mimetype": "text/x-python",
   "name": "python",
   "nbconvert_exporter": "python",
   "pygments_lexer": "ipython2",
   "version": "2.7.6"
  }
 },
 "nbformat": 4,
 "nbformat_minor": 5
}
