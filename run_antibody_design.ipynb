{
 "cells": [
  {
   "cell_type": "code",
   "execution_count": 1,
   "id": "initial_id",
   "metadata": {
    "ExecuteTime": {
     "end_time": "2024-07-17T13:15:31.793758Z",
     "start_time": "2024-07-17T13:15:30.940359Z"
    }
   },
   "outputs": [],
   "source": [
    "from pathlib import Path\n",
    "\n",
    "from tqdm import trange\n",
    "\n",
    "from agent import Agent\n",
    "from prompts import ANTIBODIES_CONTEXTS, ESM_ANTIBODIES_PAPER, PRINCIPAL_INVESTIGATOR\n",
    "from run_individual_meeting import run_individual_meeting\n",
    "from run_scientific_meeting import run_scientific_meeting\n",
    "from utils import load_summaries"
   ]
  },
  {
   "cell_type": "code",
   "execution_count": 2,
   "id": "cc186057c8dcc3a8",
   "metadata": {
    "ExecuteTime": {
     "end_time": "2024-07-17T13:15:32.665372Z",
     "start_time": "2024-07-17T13:15:32.661542Z"
    }
   },
   "outputs": [],
   "source": [
    "# Set up key parameters\n",
    "team_lead = PRINCIPAL_INVESTIGATOR\n",
    "num_iterations = 3\n",
    "num_rounds = 3\n",
    "save_dir = Path(\"antibody_design\")\n",
    "model = \"gpt-4o\"\n",
    "discussion_paths = []\n",
    "contexts = ANTIBODIES_CONTEXTS"
   ]
  },
  {
   "cell_type": "code",
   "execution_count": 3,
   "id": "c55d79aa92e377b5",
   "metadata": {
    "ExecuteTime": {
     "end_time": "2024-07-17T13:15:33.733201Z",
     "start_time": "2024-07-17T13:15:33.729708Z"
    }
   },
   "outputs": [],
   "source": [
    "# Ask PI to select team members\n",
    "ANTIBODIES_TEAM_PROMPT = \"You are working on a project to develop antibodies for the SARS-CoV-2 spike protein, ideally for the newest variant of the virus and with broad spectrum activity across variants. You need to select a team of scientists to help you with this project. Please select the team members you would like to invite to a discussion to design the antibody discovery approach. For each team member, please specify the following: 1. Title, 2. Expertise, 3. Goal, and 4. Role. Please use your own description as an example.\""
   ]
  },
  {
   "cell_type": "code",
   "execution_count": 4,
   "id": "50722e4dadc135d8",
   "metadata": {
    "ExecuteTime": {
     "end_time": "2024-07-17T12:56:37.486274Z",
     "start_time": "2024-07-17T12:55:56.257319Z"
    }
   },
   "outputs": [
    {
     "name": "stderr",
     "output_type": "stream",
     "text": [
      "Project Iterations:  33%|███▎      | 1/3 [00:16<00:32, 16.43s/it]"
     ]
    },
    {
     "name": "stdout",
     "output_type": "stream",
     "text": [
      "Input token count: 194\n",
      "Output token count: 704\n",
      "Max token length: 898\n",
      "Cost: $0.01\n",
      "Time: 0:16\n"
     ]
    },
    {
     "name": "stderr",
     "output_type": "stream",
     "text": [
      "Project Iterations:  67%|██████▋   | 2/3 [00:29<00:14, 14.23s/it]"
     ]
    },
    {
     "name": "stdout",
     "output_type": "stream",
     "text": [
      "Input token count: 194\n",
      "Output token count: 623\n",
      "Max token length: 817\n",
      "Cost: $0.01\n",
      "Time: 0:12\n"
     ]
    },
    {
     "name": "stderr",
     "output_type": "stream",
     "text": [
      "Project Iterations: 100%|██████████| 3/3 [00:41<00:00, 13.73s/it]"
     ]
    },
    {
     "name": "stdout",
     "output_type": "stream",
     "text": [
      "Input token count: 194\n",
      "Output token count: 622\n",
      "Max token length: 816\n",
      "Cost: $0.01\n",
      "Time: 0:12\n"
     ]
    },
    {
     "name": "stderr",
     "output_type": "stream",
     "text": [
      "\n"
     ]
    }
   ],
   "source": [
    "# Select team members\n",
    "for iteration_num in trange(num_iterations, desc=\"Project Iterations\"):\n",
    "    run_individual_meeting(\n",
    "        team_member=team_lead,\n",
    "        agenda=ANTIBODIES_TEAM_PROMPT,\n",
    "        save_dir=save_dir / \"team_selection\",\n",
    "        save_name=f\"discussion_{iteration_num + 1}\",\n",
    "        contexts=contexts,\n",
    "        model=model,\n",
    "    )"
   ]
  },
  {
   "cell_type": "code",
   "execution_count": 4,
   "id": "7d4459b1b85b1579",
   "metadata": {
    "ExecuteTime": {
     "end_time": "2024-07-17T13:15:39.096370Z",
     "start_time": "2024-07-17T13:15:39.091441Z"
    }
   },
   "outputs": [],
   "source": [
    "# Add team members based on discussion 2\n",
    "COMPUTATIONAL_BIOLOGIST = Agent(\n",
    "    title=\"Computational Biologist\",\n",
    "    expertise=\"bioinformatics, protein structure prediction, and molecular dynamics simulations\",\n",
    "    goal=\"to identify potential antibody candidates using computational methods and predict their binding affinity to the SARS-CoV-2 spike protein\",\n",
    "    role=\"to run in silico screenings of antibody libraries, modeling antibody-spike protein interactions, and providing a shortlist of promising candidates for experimental validation\",\n",
    ")\n",
    "IMMUNOLOGIST = Agent(\n",
    "    title=\"Immunologist\",\n",
    "    expertise=\"immune response mechanisms, antibody generation, and characterization\",\n",
    "    goal=\"to guide the selection of antibody candidates based on immunological principles and ensure the candidates have the potential for broad-spectrum activity\",\n",
    "    role=\"to provide insights into the immune response to SARS-CoV-2, help design the antibody generation strategy, and interpret the results from binding and neutralization assays\",\n",
    ")\n",
    "STRUCTURAL_BIOLOGIST = Agent(\n",
    "    title=\"Structural Biologist\",\n",
    "    expertise=\"X-ray crystallography, cryo-electron microscopy (cryo-EM), and protein structure determination\",\n",
    "    goal=\"to determine the high-resolution structures of antibody-spike protein complexes to understand the binding mechanisms and improve antibody design\",\n",
    "    role=\"to solve the structures of selected antibody-spike protein complexes and providing structural insights to refine antibody candidates\",\n",
    ")\n",
    "VIROLOGIST = Agent(\n",
    "    title=\"Virologist\",\n",
    "    expertise=\"SARS-CoV-2 biology, viral entry mechanisms, and neutralization assays\",\n",
    "    goal=\"to validate the neutralizing activity of antibody candidates against SARS-CoV-2 and its variants\",\n",
    "    role=\"to oversee the design and execution of neutralization assays, interpret the results, and ensure that the selected antibodies are effective against multiple variants of the virus\",\n",
    ")\n",
    "DATA_SCIENTIST = Agent(\n",
    "    title=\"Data Scientist\",\n",
    "    expertise=\"machine learning, data analysis, and predictive modeling\",\n",
    "    goal=\"to develop and apply machine learning models to predict the efficacy and broad-spectrum activity of antibody candidates\",\n",
    "    role=\"to analyze experimental data, develop predictive models, and integrate data from various sources to guide the selection and optimization of antibody candidates\",\n",
    ")\n",
    "EXPERIMENTAL_BIOLOGIST = Agent(\n",
    "    title=\"Experimental Biologist\",\n",
    "    expertise=\"antibody engineering, protein expression, and purification\",\n",
    "    goal=\"to produce and characterize the antibody candidates identified through computational and immunological methods\",\n",
    "    role=\"to express, purify, and initially characterize antibody candidates, as well as to prepare samples for binding and neutralization assays\",\n",
    ")\n",
    "\n",
    "team_members = (\n",
    "    COMPUTATIONAL_BIOLOGIST,\n",
    "    IMMUNOLOGIST,\n",
    "    STRUCTURAL_BIOLOGIST,\n",
    "    VIROLOGIST,\n",
    "    DATA_SCIENTIST,\n",
    "    EXPERIMENTAL_BIOLOGIST,\n",
    ")"
   ]
  },
  {
   "cell_type": "code",
   "execution_count": 5,
   "id": "2bde03a12d5c9332",
   "metadata": {
    "ExecuteTime": {
     "end_time": "2024-07-17T13:15:40.704239Z",
     "start_time": "2024-07-17T13:15:40.700522Z"
    }
   },
   "outputs": [],
   "source": [
    "ANTIBODIES_PROMPT = \"You are working on a project to develop antibodies for the SARS-CoV-2 spike protein, ideally for the newest variant of the virus and with broad spectrum activity across variants. Please design a specific antibody discovery approach for this target that uses machine learning to design antibody candidates. Decide what specific machine learning model to use and precisely how it will be used. If the model needs to be trained, please decide on a specific dataset for training. If the model is pre-trained, please explain exactly how it will be used for identifying or designing antibody candidates.\""
   ]
  },
  {
   "cell_type": "code",
   "execution_count": 6,
   "id": "5bfe77612c2faab5",
   "metadata": {
    "ExecuteTime": {
     "end_time": "2024-07-17T13:15:41.013703Z",
     "start_time": "2024-07-17T13:15:41.010413Z"
    }
   },
   "outputs": [],
   "source": [
    "ANTIBODIES_QUESTIONS = (\n",
    "    \"Will you design the antibodies de novo or will you modify existing antibodies?\",\n",
    "    \"Will you train a model from scratch or use a pre-trained model?\",\n",
    "    \"What specific model architecture will you use?\",\n",
    "    \"If training a model, what dataset will you use for training?\",\n",
    "    \"How exactly will you use your model to design antibodies?\"\n",
    ")"
   ]
  },
  {
   "cell_type": "code",
   "execution_count": 7,
   "id": "9c4078420bdee0c7",
   "metadata": {
    "ExecuteTime": {
     "end_time": "2024-07-17T13:16:00.094621Z",
     "start_time": "2024-07-17T13:15:45.391573Z"
    }
   },
   "outputs": [
    {
     "name": "stderr",
     "output_type": "stream",
     "text": [
      "Project Iterations:   0%|          | 0/3 [00:00<?, ?it/s]\n",
      "Rounds (+ Summary Round):   0%|          | 0/4 [00:00<?, ?it/s]\u001b[A\n",
      "\n",
      "Team:   0%|          | 0/7 [00:00<?, ?it/s]\u001b[A\u001b[A\n",
      "\n",
      "Team:  14%|█▍        | 1/7 [00:13<01:20, 13.42s/it]\u001b[A\u001b[A\n",
      "\n",
      "Team:  29%|██▊       | 2/7 [00:26<01:05, 13.17s/it]\u001b[A\u001b[A\n",
      "\n",
      "Team:  43%|████▎     | 3/7 [00:35<00:45, 11.30s/it]\u001b[A\u001b[A\n",
      "\n",
      "Team:  57%|█████▋    | 4/7 [00:54<00:42, 14.16s/it]\u001b[A\u001b[A\n",
      "\n",
      "Team:  71%|███████▏  | 5/7 [01:08<00:28, 14.39s/it]\u001b[A\u001b[A\n",
      "\n",
      "Team:  86%|████████▌ | 6/7 [01:25<00:15, 15.33s/it]\u001b[A\u001b[A\n",
      "\n",
      "Team: 100%|██████████| 7/7 [01:38<00:00, 14.10s/it]\u001b[A\u001b[A\n",
      "\n",
      "Rounds (+ Summary Round):  25%|██▌       | 1/4 [01:38<04:56, 98.68s/it]\u001b[A\n",
      "\n",
      "Team:   0%|          | 0/7 [00:00<?, ?it/s]\u001b[A\u001b[A\n",
      "\n",
      "Team:  14%|█▍        | 1/7 [00:17<01:45, 17.56s/it]\u001b[A\u001b[A\n",
      "\n",
      "Team:  29%|██▊       | 2/7 [00:29<01:10, 14.00s/it]\u001b[A\u001b[A\n",
      "\n",
      "Team:  43%|████▎     | 3/7 [00:45<01:00, 15.01s/it]\u001b[A\u001b[A\n",
      "\n",
      "Team:  57%|█████▋    | 4/7 [00:57<00:41, 13.75s/it]\u001b[A\u001b[A\n",
      "\n",
      "Team:  71%|███████▏  | 5/7 [01:22<00:36, 18.01s/it]\u001b[A\u001b[A\n",
      "\n",
      "Team:  86%|████████▌ | 6/7 [01:44<00:19, 19.17s/it]\u001b[A\u001b[A\n",
      "\n",
      "Team: 100%|██████████| 7/7 [02:05<00:00, 17.98s/it]\u001b[A\u001b[A\n",
      "\n",
      "Rounds (+ Summary Round):  50%|█████     | 2/4 [03:44<03:49, 114.66s/it]\u001b[A\n",
      "\n",
      "Team:   0%|          | 0/7 [00:00<?, ?it/s]\u001b[A\u001b[A\n",
      "\n",
      "Team:  14%|█▍        | 1/7 [00:15<01:33, 15.66s/it]\u001b[A\u001b[A\n",
      "\n",
      "Team:  29%|██▊       | 2/7 [00:27<01:07, 13.45s/it]\u001b[A\u001b[A\n",
      "\n",
      "Team:  43%|████▎     | 3/7 [00:44<01:00, 15.04s/it]\u001b[A\u001b[A\n",
      "\n",
      "Team:  57%|█████▋    | 4/7 [01:02<00:48, 16.07s/it]\u001b[A\u001b[A\n",
      "\n",
      "Team:  71%|███████▏  | 5/7 [01:40<00:48, 24.21s/it]\u001b[A\u001b[A\n",
      "\n",
      "Team:  86%|████████▌ | 6/7 [02:03<00:23, 23.76s/it]\u001b[A\u001b[A\n",
      "\n",
      "Team: 100%|██████████| 7/7 [02:24<00:00, 20.61s/it]\u001b[A\u001b[A\n",
      "\n",
      "Rounds (+ Summary Round):  75%|███████▌  | 3/4 [06:08<02:08, 128.18s/it]\u001b[A\n",
      "\n",
      "Team:   0%|          | 0/7 [00:25<?, ?it/s]\u001b[A\u001b[A\n",
      "\n",
      "Rounds (+ Summary Round): 100%|██████████| 4/4 [06:34<00:00, 98.66s/it] \u001b[A\n",
      "Project Iterations:  33%|███▎      | 1/3 [06:34<13:09, 394.63s/it]"
     ]
    },
    {
     "name": "stdout",
     "output_type": "stream",
     "text": [
      "Input token count: 188,279\n",
      "Output token count: 15,249\n",
      "Max token length: 18,124\n",
      "Cost: $1.17\n",
      "Time: 6:34\n"
     ]
    },
    {
     "name": "stderr",
     "output_type": "stream",
     "text": [
      "\n",
      "Rounds (+ Summary Round):   0%|          | 0/4 [00:00<?, ?it/s]\u001b[A\n",
      "\n",
      "Team:   0%|          | 0/7 [00:00<?, ?it/s]\u001b[A\u001b[A\n",
      "\n",
      "Team:  14%|█▍        | 1/7 [00:10<01:05, 11.00s/it]\u001b[A\u001b[A\n",
      "\n",
      "Team:  29%|██▊       | 2/7 [00:28<01:13, 14.68s/it]\u001b[A\u001b[A\n",
      "\n",
      "Team:  43%|████▎     | 3/7 [00:39<00:52, 13.01s/it]\u001b[A\u001b[A\n",
      "\n",
      "Team:  57%|█████▋    | 4/7 [00:56<00:43, 14.51s/it]\u001b[A\u001b[A\n",
      "\n",
      "Team:  71%|███████▏  | 5/7 [01:23<00:38, 19.31s/it]\u001b[A\u001b[A\n",
      "\n",
      "Team:  86%|████████▌ | 6/7 [01:38<00:17, 17.79s/it]\u001b[A\u001b[A\n",
      "\n",
      "Team: 100%|██████████| 7/7 [01:50<00:00, 15.85s/it]\u001b[A\u001b[A\n",
      "\n",
      "Rounds (+ Summary Round):  25%|██▌       | 1/4 [01:50<05:32, 110.98s/it]\u001b[A\n",
      "\n",
      "Team:   0%|          | 0/7 [00:00<?, ?it/s]\u001b[A\u001b[A\n",
      "\n",
      "Team:  14%|█▍        | 1/7 [00:18<01:50, 18.41s/it]\u001b[A\u001b[A\n",
      "\n",
      "Team:  29%|██▊       | 2/7 [00:27<01:04, 12.83s/it]\u001b[A\u001b[A\n",
      "\n",
      "Team:  43%|████▎     | 3/7 [00:35<00:43, 10.80s/it]\u001b[A\u001b[A\n",
      "\n",
      "Team:  57%|█████▋    | 4/7 [00:43<00:29,  9.68s/it]\u001b[A\u001b[A\n",
      "\n",
      "Team:  71%|███████▏  | 5/7 [00:51<00:17,  8.90s/it]\u001b[A\u001b[A\n",
      "\n",
      "Team:  86%|████████▌ | 6/7 [00:59<00:08,  8.80s/it]\u001b[A\u001b[A\n",
      "\n",
      "Team: 100%|██████████| 7/7 [01:10<00:00, 10.13s/it]\u001b[A\u001b[A\n",
      "\n",
      "Rounds (+ Summary Round):  50%|█████     | 2/4 [03:01<02:54, 87.42s/it] \u001b[A\n",
      "\n",
      "Team:   0%|          | 0/7 [00:00<?, ?it/s]\u001b[A\u001b[A\n",
      "\n",
      "Team:  14%|█▍        | 1/7 [00:17<01:42, 17.13s/it]\u001b[A\u001b[A\n",
      "\n",
      "Team:  29%|██▊       | 2/7 [00:30<01:14, 14.89s/it]\u001b[A\u001b[A\n",
      "\n",
      "Team:  43%|████▎     | 3/7 [00:42<00:53, 13.44s/it]\u001b[A\u001b[A\n",
      "\n",
      "Team:  57%|█████▋    | 4/7 [00:52<00:36, 12.12s/it]\u001b[A\u001b[A\n",
      "\n",
      "Team:  71%|███████▏  | 5/7 [01:05<00:24, 12.35s/it]\u001b[A\u001b[A\n",
      "\n",
      "Team:  86%|████████▌ | 6/7 [01:15<00:11, 11.87s/it]\u001b[A\u001b[A\n",
      "\n",
      "Team: 100%|██████████| 7/7 [01:26<00:00, 12.32s/it]\u001b[A\u001b[A\n",
      "\n",
      "Rounds (+ Summary Round):  75%|███████▌  | 3/4 [04:28<01:26, 86.89s/it]\u001b[A\n",
      "\n",
      "Team:   0%|          | 0/7 [00:23<?, ?it/s]\u001b[A\u001b[A\n",
      "\n",
      "Rounds (+ Summary Round): 100%|██████████| 4/4 [04:52<00:00, 73.03s/it]\u001b[A\n",
      "Project Iterations:  67%|██████▋   | 2/3 [11:26<05:34, 334.34s/it]"
     ]
    },
    {
     "name": "stdout",
     "output_type": "stream",
     "text": [
      "Input token count: 163,435\n",
      "Output token count: 11,639\n",
      "Max token length: 14,514\n",
      "Cost: $0.99\n",
      "Time: 4:52\n"
     ]
    },
    {
     "name": "stderr",
     "output_type": "stream",
     "text": [
      "\n",
      "Rounds (+ Summary Round):   0%|          | 0/4 [00:00<?, ?it/s]\u001b[A\n",
      "\n",
      "Team:   0%|          | 0/7 [00:00<?, ?it/s]\u001b[A\u001b[A\n",
      "\n",
      "Team:  14%|█▍        | 1/7 [00:14<01:29, 14.84s/it]\u001b[A\u001b[A\n",
      "\n",
      "Team:  29%|██▊       | 2/7 [00:34<01:28, 17.74s/it]\u001b[A\u001b[A\n",
      "\n",
      "Team:  43%|████▎     | 3/7 [00:45<00:58, 14.59s/it]\u001b[A\u001b[A\n",
      "\n",
      "Team:  57%|█████▋    | 4/7 [00:56<00:39, 13.28s/it]\u001b[A\u001b[A\n",
      "\n",
      "Team:  71%|███████▏  | 5/7 [01:13<00:28, 14.46s/it]\u001b[A\u001b[A\n",
      "\n",
      "Team:  86%|████████▌ | 6/7 [01:26<00:14, 14.15s/it]\u001b[A\u001b[A\n",
      "\n",
      "Team: 100%|██████████| 7/7 [01:45<00:00, 15.05s/it]\u001b[A\u001b[A\n",
      "\n",
      "Rounds (+ Summary Round):  25%|██▌       | 1/4 [01:45<05:16, 105.37s/it]\u001b[A\n",
      "\n",
      "Team:   0%|          | 0/7 [00:00<?, ?it/s]\u001b[A\u001b[A\n",
      "\n",
      "Team:  14%|█▍        | 1/7 [00:15<01:35, 15.88s/it]\u001b[A\u001b[A\n",
      "\n",
      "Team:  29%|██▊       | 2/7 [00:27<01:06, 13.22s/it]\u001b[A\u001b[A\n",
      "\n",
      "Team:  43%|████▎     | 3/7 [00:41<00:54, 13.73s/it]\u001b[A\u001b[A\n",
      "\n",
      "Team:  57%|█████▋    | 4/7 [00:58<00:44, 14.90s/it]\u001b[A\u001b[A\n",
      "\n",
      "Team:  71%|███████▏  | 5/7 [01:14<00:30, 15.49s/it]\u001b[A\u001b[A\n",
      "\n",
      "Team:  86%|████████▌ | 6/7 [01:31<00:15, 15.92s/it]\u001b[A\u001b[A\n",
      "\n",
      "Team: 100%|██████████| 7/7 [01:59<00:00, 17.05s/it]\u001b[A\u001b[A\n",
      "\n",
      "Rounds (+ Summary Round):  50%|█████     | 2/4 [03:44<03:47, 113.59s/it]\u001b[A\n",
      "\n",
      "Team:   0%|          | 0/7 [00:00<?, ?it/s]\u001b[A\u001b[A\n",
      "\n",
      "Team:  14%|█▍        | 1/7 [02:13<13:18, 133.03s/it]\u001b[A\u001b[A\n",
      "\n",
      "Team:  29%|██▊       | 2/7 [02:24<05:08, 61.76s/it] \u001b[A\u001b[A\n",
      "\n",
      "Team:  43%|████▎     | 3/7 [02:49<02:58, 44.62s/it]\u001b[A\u001b[A\n",
      "\n",
      "Team:  57%|█████▋    | 4/7 [03:03<01:38, 32.78s/it]\u001b[A\u001b[A\n",
      "\n",
      "Team:  71%|███████▏  | 5/7 [03:26<00:58, 29.21s/it]\u001b[A\u001b[A\n",
      "\n",
      "Team:  86%|████████▌ | 6/7 [03:49<00:27, 27.18s/it]\u001b[A\u001b[A\n",
      "\n",
      "Team: 100%|██████████| 7/7 [04:19<00:00, 37.14s/it]\u001b[A\u001b[A\n",
      "\n",
      "Rounds (+ Summary Round):  75%|███████▌  | 3/4 [08:04<03:00, 180.45s/it]\u001b[A\n",
      "\n",
      "Team:   0%|          | 0/7 [00:26<?, ?it/s]\u001b[A\u001b[A\n",
      "\n",
      "Rounds (+ Summary Round): 100%|██████████| 4/4 [08:30<00:00, 127.72s/it]\u001b[A\n",
      "Project Iterations: 100%|██████████| 3/3 [19:57<00:00, 399.22s/it]"
     ]
    },
    {
     "name": "stdout",
     "output_type": "stream",
     "text": [
      "Input token count: 192,611\n",
      "Output token count: 15,753\n",
      "Max token length: 18,628\n",
      "Cost: $1.20\n",
      "Time: 8:30\n"
     ]
    },
    {
     "name": "stderr",
     "output_type": "stream",
     "text": [
      "\n"
     ]
    }
   ],
   "source": [
    "# Run antibodies project design\n",
    "for iteration_num in trange(num_iterations, desc=\"Project Iterations\"):\n",
    "    run_scientific_meeting(\n",
    "        team_lead=team_lead,\n",
    "        team_members=team_members,\n",
    "        agenda=ANTIBODIES_PROMPT,\n",
    "        agenda_questions=ANTIBODIES_QUESTIONS,\n",
    "        contexts=contexts,\n",
    "        save_dir=save_dir / \"project_design\",\n",
    "        save_name=f\"discussion_{iteration_num + 1}\",\n",
    "        num_rounds=num_rounds,\n",
    "        model=model,\n",
    "    )"
   ]
  },
  {
   "cell_type": "code",
   "execution_count": 7,
   "id": "ad28638c7d65ead5",
   "metadata": {
    "ExecuteTime": {
     "end_time": "2024-07-11T09:57:53.107749Z",
     "start_time": "2024-07-11T09:57:53.103116Z"
    }
   },
   "outputs": [],
   "source": [
    "ESM_PROMPT = \"You are working on a project to develop antibodies for the SARS-CoV-2 spike protein, ideally for the newest variant of the virus and with broad spectrum activity across variants. You will use the ESM family of models for antibody design. Please design a method for applying ESM to this antibody design problem. Specify the exact model you will use and how you will use it to design antibodies.\""
   ]
  },
  {
   "cell_type": "code",
   "execution_count": 8,
   "id": "7d9b0df5e582cd48",
   "metadata": {
    "ExecuteTime": {
     "end_time": "2024-07-11T09:57:53.479094Z",
     "start_time": "2024-07-11T09:57:53.475838Z"
    }
   },
   "outputs": [],
   "source": [
    "ESM_QUESTIONS = (\n",
    "    \"Which ESM model will you use?\"\n",
    "    \"Will you design the antibodies de novo or will you modify existing antibodies?\",\n",
    "    \"If modifying existing antibodies, which precise antibody or antibodies will you modify?\",\n",
    "    \"How exactly will you use your model to design antibodies?\",\n",
    "    \"What is the precise process for designing antibodies and selecting candidates for experimental validation?\",\n",
    "    \"How will you computationally evaluate the quality of the design antibodies?\",\n",
    "    \"What objectives will you optimize for in the design process?\",\n",
    ")"
   ]
  },
  {
   "cell_type": "code",
   "execution_count": 9,
   "id": "18a3763ae6b8f0ac",
   "metadata": {
    "ExecuteTime": {
     "end_time": "2024-07-11T10:11:55.350146Z",
     "start_time": "2024-07-11T09:57:56.714010Z"
    }
   },
   "outputs": [
    {
     "name": "stderr",
     "output_type": "stream",
     "text": [
      "Project Iterations:   0%|          | 0/3 [00:00<?, ?it/s]\n",
      "Rounds (+ Summary Round):   0%|          | 0/4 [00:00<?, ?it/s]\u001b[A\n",
      "\n",
      "Team:   0%|          | 0/7 [00:00<?, ?it/s]\u001b[A\u001b[A\n",
      "\n",
      "Team:  14%|█▍        | 1/7 [00:12<01:17, 12.88s/it]\u001b[A\u001b[A\n",
      "\n",
      "Team:  29%|██▊       | 2/7 [00:30<01:18, 15.66s/it]\u001b[A\u001b[A\n",
      "\n",
      "Team:  43%|████▎     | 3/7 [00:41<00:54, 13.75s/it]\u001b[A\u001b[A\n",
      "\n",
      "Team:  57%|█████▋    | 4/7 [00:56<00:42, 14.14s/it]\u001b[A\u001b[A\n",
      "\n",
      "Team:  71%|███████▏  | 5/7 [01:12<00:29, 14.90s/it]\u001b[A\u001b[A\n",
      "\n",
      "Team:  86%|████████▌ | 6/7 [01:34<00:17, 17.12s/it]\u001b[A\u001b[A\n",
      "\n",
      "Team: 100%|██████████| 7/7 [01:47<00:00, 15.39s/it]\u001b[A\u001b[A\n",
      "\n",
      "Rounds (+ Summary Round):  25%|██▌       | 1/4 [01:47<05:23, 107.70s/it]\u001b[A\n",
      "\n",
      "Team:   0%|          | 0/7 [00:00<?, ?it/s]\u001b[A\u001b[A\n",
      "\n",
      "Team:  14%|█▍        | 1/7 [00:16<01:41, 16.94s/it]\u001b[A\u001b[A\n",
      "\n",
      "Team:  29%|██▊       | 2/7 [00:29<01:10, 14.17s/it]\u001b[A\u001b[A\n",
      "\n",
      "Team:  43%|████▎     | 3/7 [00:41<00:53, 13.39s/it]\u001b[A\u001b[A\n",
      "\n",
      "Team:  57%|█████▋    | 4/7 [00:56<00:42, 14.04s/it]\u001b[A\u001b[A\n",
      "\n",
      "Team:  71%|███████▏  | 5/7 [01:07<00:25, 12.79s/it]\u001b[A\u001b[A\n",
      "\n",
      "Team:  86%|████████▌ | 6/7 [01:21<00:13, 13.41s/it]\u001b[A\u001b[A\n",
      "\n",
      "Team: 100%|██████████| 7/7 [01:34<00:00, 13.45s/it]\u001b[A\u001b[A\n",
      "\n",
      "Rounds (+ Summary Round):  50%|█████     | 2/4 [03:21<03:19, 99.73s/it] \u001b[A\n",
      "\n",
      "Team:   0%|          | 0/7 [00:00<?, ?it/s]\u001b[A\u001b[A\n",
      "\n",
      "Team:  14%|█▍        | 1/7 [00:19<01:55, 19.21s/it]\u001b[A\u001b[A\n",
      "\n",
      "Team:  29%|██▊       | 2/7 [00:32<01:17, 15.55s/it]\u001b[A\u001b[A\n",
      "\n",
      "Team:  43%|████▎     | 3/7 [00:50<01:06, 16.64s/it]\u001b[A\u001b[A\n",
      "\n",
      "Team:  57%|█████▋    | 4/7 [01:09<00:52, 17.57s/it]\u001b[A\u001b[A\n",
      "\n",
      "Team:  71%|███████▏  | 5/7 [01:30<00:37, 18.79s/it]\u001b[A\u001b[A\n",
      "\n",
      "Team:  86%|████████▌ | 6/7 [01:50<00:19, 19.43s/it]\u001b[A\u001b[A\n",
      "\n",
      "Team: 100%|██████████| 7/7 [02:07<00:00, 18.24s/it]\u001b[A\u001b[A\n",
      "\n",
      "Rounds (+ Summary Round):  75%|███████▌  | 3/4 [05:29<01:52, 112.50s/it]\u001b[A\n",
      "\n",
      "Team:   0%|          | 0/7 [00:51<?, ?it/s]\u001b[A\u001b[A\n",
      "\n",
      "Rounds (+ Summary Round): 100%|██████████| 4/4 [06:21<00:00, 95.26s/it] \u001b[A\n",
      "Project Iterations:  33%|███▎      | 1/3 [06:21<12:42, 381.03s/it]"
     ]
    },
    {
     "name": "stdout",
     "output_type": "stream",
     "text": [
      "Input token count: 189,867\n",
      "Output token count: 15,080\n",
      "Max token length: 17,950\n",
      "Cost: $1.18\n",
      "Time: 6:21\n"
     ]
    },
    {
     "name": "stderr",
     "output_type": "stream",
     "text": [
      "\n",
      "Rounds (+ Summary Round):   0%|          | 0/4 [00:00<?, ?it/s]\u001b[A\n",
      "\n",
      "Team:   0%|          | 0/7 [00:00<?, ?it/s]\u001b[A\u001b[A\n",
      "\n",
      "Team:  14%|█▍        | 1/7 [00:22<02:17, 22.90s/it]\u001b[A\u001b[A\n",
      "\n",
      "Team:  29%|██▊       | 2/7 [00:35<01:23, 16.61s/it]\u001b[A\u001b[A\n",
      "\n",
      "Team:  43%|████▎     | 3/7 [00:49<01:03, 15.76s/it]\u001b[A\u001b[A\n",
      "\n",
      "Team:  57%|█████▋    | 4/7 [01:10<00:53, 17.69s/it]\u001b[A\u001b[A\n",
      "\n",
      "Team:  71%|███████▏  | 5/7 [01:21<00:30, 15.38s/it]\u001b[A\u001b[A\n",
      "\n",
      "Team:  86%|████████▌ | 6/7 [01:36<00:15, 15.02s/it]\u001b[A\u001b[A\n",
      "\n",
      "Team: 100%|██████████| 7/7 [01:52<00:00, 16.04s/it]\u001b[A\u001b[A\n",
      "\n",
      "Rounds (+ Summary Round):  25%|██▌       | 1/4 [01:52<05:36, 112.30s/it]\u001b[A\n",
      "\n",
      "Team:   0%|          | 0/7 [00:00<?, ?it/s]\u001b[A\u001b[A\n",
      "\n",
      "Team:  14%|█▍        | 1/7 [00:19<01:54, 19.04s/it]\u001b[A\u001b[A\n",
      "\n",
      "Team:  29%|██▊       | 2/7 [00:27<01:04, 12.96s/it]\u001b[A\u001b[A\n",
      "\n",
      "Team:  43%|████▎     | 3/7 [00:35<00:42, 10.50s/it]\u001b[A\u001b[A\n",
      "\n",
      "Team:  57%|█████▋    | 4/7 [00:47<00:33, 11.12s/it]\u001b[A\u001b[A\n",
      "\n",
      "Team:  71%|███████▏  | 5/7 [00:57<00:21, 10.92s/it]\u001b[A\u001b[A\n",
      "\n",
      "Team:  86%|████████▌ | 6/7 [01:05<00:09,  9.92s/it]\u001b[A\u001b[A\n",
      "\n",
      "Team: 100%|██████████| 7/7 [01:17<00:00, 11.13s/it]\u001b[A\u001b[A\n",
      "\n",
      "Rounds (+ Summary Round):  50%|█████     | 2/4 [03:10<03:04, 92.08s/it] \u001b[A\n",
      "\n",
      "Team:   0%|          | 0/7 [00:00<?, ?it/s]\u001b[A\u001b[A\n",
      "\n",
      "Team:  14%|█▍        | 1/7 [00:18<01:53, 18.83s/it]\u001b[A\u001b[A\n",
      "\n",
      "Team:  29%|██▊       | 2/7 [00:29<01:10, 14.08s/it]\u001b[A\u001b[A\n",
      "\n",
      "Team:  43%|████▎     | 3/7 [00:44<00:57, 14.38s/it]\u001b[A\u001b[A\n",
      "\n",
      "Team:  57%|█████▋    | 4/7 [00:55<00:39, 13.15s/it]\u001b[A\u001b[A\n",
      "\n",
      "Team:  71%|███████▏  | 5/7 [01:10<00:27, 13.84s/it]\u001b[A\u001b[A\n",
      "\n",
      "Team:  86%|████████▌ | 6/7 [01:23<00:13, 13.43s/it]\u001b[A\u001b[A\n",
      "\n",
      "Team: 100%|██████████| 7/7 [01:36<00:00, 13.80s/it]\u001b[A\u001b[A\n",
      "\n",
      "Rounds (+ Summary Round):  75%|███████▌  | 3/4 [04:46<01:34, 94.15s/it]\u001b[A\n",
      "\n",
      "Team:   0%|          | 0/7 [00:30<?, ?it/s]\u001b[A\u001b[A\n",
      "\n",
      "Rounds (+ Summary Round): 100%|██████████| 4/4 [05:17<00:00, 79.32s/it]\u001b[A\n",
      "Project Iterations:  67%|██████▋   | 2/3 [11:38<05:43, 343.55s/it]"
     ]
    },
    {
     "name": "stdout",
     "output_type": "stream",
     "text": [
      "Input token count: 182,640\n",
      "Output token count: 14,052\n",
      "Max token length: 16,922\n",
      "Cost: $1.12\n",
      "Time: 5:17\n"
     ]
    },
    {
     "name": "stderr",
     "output_type": "stream",
     "text": [
      "\n",
      "Rounds (+ Summary Round):   0%|          | 0/4 [00:00<?, ?it/s]\u001b[A\n",
      "\n",
      "Team:   0%|          | 0/7 [00:00<?, ?it/s]\u001b[A\u001b[A\n",
      "\n",
      "Team:  14%|█▍        | 1/7 [00:11<01:08, 11.34s/it]\u001b[A\u001b[A\n",
      "\n",
      "Team:  29%|██▊       | 2/7 [00:26<01:07, 13.54s/it]\u001b[A\u001b[A\n",
      "\n",
      "Team:  43%|████▎     | 3/7 [00:40<00:55, 13.85s/it]\u001b[A\u001b[A\n",
      "\n",
      "Team:  57%|█████▋    | 4/7 [00:57<00:45, 15.01s/it]\u001b[A\u001b[A\n",
      "\n",
      "Team:  71%|███████▏  | 5/7 [01:09<00:28, 14.03s/it]\u001b[A\u001b[A\n",
      "\n",
      "Team:  86%|████████▌ | 6/7 [01:23<00:13, 13.96s/it]\u001b[A\u001b[A\n",
      "\n",
      "Team: 100%|██████████| 7/7 [01:39<00:00, 14.19s/it]\u001b[A\u001b[A\n",
      "\n",
      "Rounds (+ Summary Round):  25%|██▌       | 1/4 [01:39<04:57, 99.31s/it]\u001b[A\n",
      "\n",
      "Team:   0%|          | 0/7 [00:00<?, ?it/s]\u001b[A\u001b[A\n",
      "\n",
      "Team:  14%|█▍        | 1/7 [00:21<02:07, 21.30s/it]\u001b[A\u001b[A\n",
      "\n",
      "Team:  29%|██▊       | 2/7 [00:28<01:06, 13.30s/it]\u001b[A\u001b[A\n",
      "\n",
      "Team:  43%|████▎     | 3/7 [00:44<00:56, 14.23s/it]\u001b[A\u001b[A\n",
      "\n",
      "Team:  57%|█████▋    | 4/7 [00:57<00:41, 13.99s/it]\u001b[A\u001b[A\n",
      "\n",
      "Team:  71%|███████▏  | 5/7 [01:09<00:25, 12.97s/it]\u001b[A\u001b[A\n",
      "\n",
      "Team:  86%|████████▌ | 6/7 [01:23<00:13, 13.54s/it]\u001b[A\u001b[A\n",
      "\n",
      "Team: 100%|██████████| 7/7 [01:37<00:00, 13.98s/it]\u001b[A\u001b[A\n",
      "\n",
      "Rounds (+ Summary Round):  50%|█████     | 2/4 [03:17<03:16, 98.47s/it]\u001b[A\n",
      "\n",
      "Team:   0%|          | 0/7 [00:00<?, ?it/s]\u001b[A\u001b[A\n",
      "\n",
      "Team:  14%|█▍        | 1/7 [00:18<01:49, 18.27s/it]\u001b[A\u001b[A\n",
      "\n",
      "Team:  29%|██▊       | 2/7 [00:32<01:20, 16.03s/it]\u001b[A\u001b[A\n",
      "\n",
      "Team:  43%|████▎     | 3/7 [00:47<01:01, 15.38s/it]\u001b[A\u001b[A\n",
      "\n",
      "Team:  57%|█████▋    | 4/7 [01:10<00:55, 18.45s/it]\u001b[A\u001b[A\n",
      "\n",
      "Team:  71%|███████▏  | 5/7 [01:27<00:35, 17.99s/it]\u001b[A\u001b[A\n",
      "\n",
      "Team:  86%|████████▌ | 6/7 [01:45<00:17, 17.95s/it]\u001b[A\u001b[A\n",
      "\n",
      "Team: 100%|██████████| 7/7 [02:10<00:00, 18.68s/it]\u001b[A\u001b[A\n",
      "\n",
      "Rounds (+ Summary Round):  75%|███████▌  | 3/4 [05:27<01:53, 113.21s/it]\u001b[A\n",
      "\n",
      "Team:   0%|          | 0/7 [00:23<?, ?it/s]\u001b[A\u001b[A\n",
      "\n",
      "Rounds (+ Summary Round): 100%|██████████| 4/4 [05:51<00:00, 87.78s/it] \u001b[A\n",
      "Project Iterations: 100%|██████████| 3/3 [17:29<00:00, 349.83s/it]"
     ]
    },
    {
     "name": "stdout",
     "output_type": "stream",
     "text": [
      "Input token count: 193,402\n",
      "Output token count: 15,651\n",
      "Max token length: 18,521\n",
      "Cost: $1.20\n",
      "Time: 5:51\n"
     ]
    },
    {
     "name": "stderr",
     "output_type": "stream",
     "text": [
      "\n"
     ]
    }
   ],
   "source": [
    "# Run ESM project design\n",
    "for iteration_num in trange(num_iterations, desc=\"Project Iterations\"):\n",
    "    run_scientific_meeting(\n",
    "        team_lead=team_lead,\n",
    "        team_members=team_members,\n",
    "        agenda=ESM_PROMPT,\n",
    "        agenda_questions=ESM_QUESTIONS,\n",
    "        contexts=contexts,\n",
    "        save_dir=save_dir / \"esm\",\n",
    "        save_name=f\"discussion_{iteration_num + 1}\",\n",
    "        num_rounds=num_rounds,\n",
    "        model=model,\n",
    "    )"
   ]
  },
  {
   "cell_type": "code",
   "execution_count": 9,
   "id": "84e9c0a3e0b77b5b",
   "metadata": {
    "ExecuteTime": {
     "end_time": "2024-07-11T11:19:44.925438Z",
     "start_time": "2024-07-11T11:19:44.921857Z"
    }
   },
   "outputs": [],
   "source": [
    "# Select preferred summary\n",
    "discussion_paths.append(save_dir / \"esm\" / \"discussion_2.json\")"
   ]
  },
  {
   "cell_type": "code",
   "execution_count": 10,
   "id": "15cf2d47dca247c",
   "metadata": {
    "ExecuteTime": {
     "end_time": "2024-07-11T11:19:45.859526Z",
     "start_time": "2024-07-11T11:19:45.854401Z"
    }
   },
   "outputs": [],
   "source": [
    "# Load summaries\n",
    "summaries = load_summaries(discussion_paths=discussion_paths)"
   ]
  },
  {
   "cell_type": "code",
   "execution_count": 11,
   "id": "7a0e957eac7b6279",
   "metadata": {
    "ExecuteTime": {
     "end_time": "2024-07-11T11:21:07.846905Z",
     "start_time": "2024-07-11T11:21:07.843240Z"
    }
   },
   "outputs": [],
   "source": [
    "ESM_IMPLEMENT_PROMPT = \"You now need to implement an ESM-based approach for antibody design. Please write code to implement the method you designed in the previous discussion. Your code must be self-contained (with appropriate imports), and you must explain how the code works.\""
   ]
  },
  {
   "cell_type": "code",
   "execution_count": 18,
   "id": "6c9751f2733fdf73",
   "metadata": {
    "ExecuteTime": {
     "end_time": "2024-07-11T11:36:57.602878Z",
     "start_time": "2024-07-11T11:21:19.059408Z"
    }
   },
   "outputs": [
    {
     "name": "stderr",
     "output_type": "stream",
     "text": [
      "Project Iterations:  33%|███▎      | 1/3 [00:33<01:07, 33.87s/it]"
     ]
    },
    {
     "name": "stdout",
     "output_type": "stream",
     "text": [
      "Input token count: 2,520\n",
      "Output token count: 1,487\n",
      "Max token length: 4,007\n",
      "Cost: $0.03\n",
      "Time: 0:33\n"
     ]
    },
    {
     "name": "stderr",
     "output_type": "stream",
     "text": [
      "Project Iterations:  67%|██████▋   | 2/3 [01:01<00:30, 30.32s/it]"
     ]
    },
    {
     "name": "stdout",
     "output_type": "stream",
     "text": [
      "Input token count: 2,520\n",
      "Output token count: 1,265\n",
      "Max token length: 3,785\n",
      "Cost: $0.03\n",
      "Time: 0:27\n"
     ]
    },
    {
     "name": "stderr",
     "output_type": "stream",
     "text": [
      "Project Iterations: 100%|██████████| 3/3 [01:52<00:00, 37.64s/it]"
     ]
    },
    {
     "name": "stdout",
     "output_type": "stream",
     "text": [
      "Input token count: 2,520\n",
      "Output token count: 1,946\n",
      "Max token length: 4,466\n",
      "Cost: $0.04\n",
      "Time: 0:51\n"
     ]
    },
    {
     "name": "stderr",
     "output_type": "stream",
     "text": [
      "\n"
     ]
    }
   ],
   "source": [
    "# Run ESM implement\n",
    "for iteration_num in trange(num_iterations, desc=\"Project Iterations\"):\n",
    "    run_individual_meeting(\n",
    "        team_member=DATA_SCIENTIST,\n",
    "        agenda=ESM_IMPLEMENT_PROMPT,\n",
    "        summaries=summaries,\n",
    "        contexts=contexts,\n",
    "        save_dir=save_dir / \"esm_implement\",\n",
    "        save_name=f\"discussion_{iteration_num + 1}\",\n",
    "        model=model,\n",
    "    )"
   ]
  },
  {
   "cell_type": "code",
   "execution_count": 12,
   "id": "577e75fd8fc3c7ad",
   "metadata": {},
   "outputs": [],
   "source": [
    "ESM_REIMPLEMENT_PROMPT = \"Above is the full text from a recent scientifc paper describing the use of ESM, a pre-trained protein language model, to design antibodies. Please read the paper and then describe in detail how to reproduce the results in the paper and what steps you would take next to build upon this work.\""
   ]
  },
  {
   "cell_type": "code",
   "execution_count": 13,
   "id": "9c2c2399-07bd-48ec-890a-5043feed52f8",
   "metadata": {},
   "outputs": [],
   "source": [
    "ESM_REIMPLEMENT_QUESTIONS = (\n",
    "    \"How would you reproduce the results in the paper? Please provide a detailed, step-by-step set of instructions.\",\n",
    "    \"How would you reimplement the computational parts of the paper? Please provide self-contained Python code that implements the main experiments from the paper.\",\n",
    "    \"What lab experiments would you run to validate the computationally designed antibodies? Please provide a step-by-step lab protocol.\",\n",
    "    \"How would you extend beyond this paper to futher advance the science of protein language models for antibody design?\",\n",
    ")"
   ]
  },
  {
   "cell_type": "code",
   "execution_count": 14,
   "id": "598ef6c8-aa5f-4d00-8995-78aa8bfbd895",
   "metadata": {},
   "outputs": [
    {
     "name": "stderr",
     "output_type": "stream",
     "text": [
      "Project Iterations:   0%|          | 0/3 [00:00<?, ?it/s]\n",
      "Rounds (+ Summary Round):   0%|          | 0/4 [00:00<?, ?it/s]\u001b[A\n",
      "\n",
      "Team:   0%|          | 0/7 [00:00<?, ?it/s]\u001b[A\u001b[A\n",
      "\n",
      "Team:  14%|█▍        | 1/7 [00:15<01:32, 15.49s/it]\u001b[A\u001b[A\n",
      "\n",
      "Team:  29%|██▊       | 2/7 [00:39<01:43, 20.75s/it]\u001b[A\u001b[A\n",
      "\n",
      "Team:  43%|████▎     | 3/7 [00:57<01:16, 19.21s/it]\u001b[A\u001b[A\n",
      "\n",
      "Team:  57%|█████▋    | 4/7 [01:14<00:55, 18.38s/it]\u001b[A\u001b[A\n",
      "\n",
      "Team:  71%|███████▏  | 5/7 [02:01<00:57, 28.78s/it]\u001b[A\u001b[A\n",
      "\n",
      "Team:  86%|████████▌ | 6/7 [02:28<00:28, 28.01s/it]\u001b[A\u001b[A\n",
      "\n",
      "Team: 100%|██████████| 7/7 [02:45<00:00, 23.60s/it]\u001b[A\u001b[A\n",
      "\n",
      "Rounds (+ Summary Round):  25%|██▌       | 1/4 [02:45<08:15, 165.21s/it]\u001b[A\n",
      "\n",
      "Team:   0%|          | 0/7 [00:00<?, ?it/s]\u001b[A\u001b[A\n",
      "\n",
      "Team:  14%|█▍        | 1/7 [01:20<08:01, 80.26s/it]\u001b[A\u001b[A\n",
      "\n",
      "Team:  29%|██▊       | 2/7 [01:43<03:54, 46.94s/it]\u001b[A\u001b[A\n",
      "\n",
      "Team:  43%|████▎     | 3/7 [02:19<02:46, 41.73s/it]\u001b[A\u001b[A\n",
      "\n",
      "Team:  57%|█████▋    | 4/7 [02:45<01:46, 35.64s/it]\u001b[A\u001b[A\n",
      "\n",
      "Team:  71%|███████▏  | 5/7 [03:10<01:03, 31.63s/it]\u001b[A\u001b[A\n",
      "\n",
      "Team:  86%|████████▌ | 6/7 [04:13<00:42, 42.41s/it]\u001b[A\u001b[A\n",
      "\n",
      "Team: 100%|██████████| 7/7 [04:49<00:00, 41.39s/it]\u001b[A\u001b[A\n",
      "\n",
      "Rounds (+ Summary Round):  50%|█████     | 2/4 [07:34<07:56, 238.45s/it]\u001b[A\n",
      "\n",
      "Team:   0%|          | 0/7 [00:00<?, ?it/s]\u001b[A\u001b[A\n",
      "\n",
      "Team:  14%|█▍        | 1/7 [00:27<02:42, 27.14s/it]\u001b[A\u001b[A\n",
      "\n",
      "Team:  29%|██▊       | 2/7 [00:50<02:05, 25.10s/it]\u001b[A\u001b[A\n",
      "\n",
      "Team:  43%|████▎     | 3/7 [01:25<01:57, 29.33s/it]\u001b[A\u001b[A\n",
      "\n",
      "Team:  57%|█████▋    | 4/7 [01:54<01:27, 29.16s/it]\u001b[A\u001b[A\n",
      "\n",
      "Team:  71%|███████▏  | 5/7 [02:17<00:54, 27.18s/it]\u001b[A\u001b[A\n",
      "\n",
      "Team:  86%|████████▌ | 6/7 [02:47<00:28, 28.04s/it]\u001b[A\u001b[A\n",
      "\n",
      "Team: 100%|██████████| 7/7 [03:12<00:00, 27.43s/it]\u001b[A\u001b[A\n",
      "\n",
      "Rounds (+ Summary Round):  75%|███████▌  | 3/4 [10:46<03:37, 217.24s/it]\u001b[A\n",
      "\n",
      "Team:   0%|          | 0/7 [00:28<?, ?it/s]\u001b[A\u001b[A\n",
      "\n",
      "Rounds (+ Summary Round): 100%|██████████| 4/4 [11:15<00:00, 168.88s/it]\u001b[A\n",
      "Project Iterations:  33%|███▎      | 1/3 [11:15<22:31, 675.54s/it]"
     ]
    },
    {
     "name": "stdout",
     "output_type": "stream",
     "text": [
      "Input token count: 802,592\n",
      "Output token count: 19,064\n",
      "Max token length: 48,126\n",
      "Cost: $4.30\n",
      "Time: 11:15\n"
     ]
    },
    {
     "name": "stderr",
     "output_type": "stream",
     "text": [
      "\n",
      "Rounds (+ Summary Round):   0%|          | 0/4 [00:00<?, ?it/s]\u001b[A\n",
      "\n",
      "Team:   0%|          | 0/7 [00:00<?, ?it/s]\u001b[A\u001b[A\n",
      "\n",
      "Team:  14%|█▍        | 1/7 [00:15<01:33, 15.55s/it]\u001b[A\u001b[A\n",
      "\n",
      "Team:  29%|██▊       | 2/7 [00:49<02:13, 26.67s/it]\u001b[A\u001b[A\n",
      "\n",
      "Team:  43%|████▎     | 3/7 [01:04<01:25, 21.33s/it]\u001b[A\u001b[A\n",
      "\n",
      "Team:  57%|█████▋    | 4/7 [01:25<01:03, 21.00s/it]\u001b[A\u001b[A\n",
      "\n",
      "Team:  71%|███████▏  | 5/7 [01:42<00:39, 19.74s/it]\u001b[A\u001b[A\n",
      "\n",
      "Team:  86%|████████▌ | 6/7 [02:07<00:21, 21.29s/it]\u001b[A\u001b[A\n",
      "\n",
      "Team: 100%|██████████| 7/7 [02:31<00:00, 21.65s/it]\u001b[A\u001b[A\n",
      "\n",
      "Rounds (+ Summary Round):  25%|██▌       | 1/4 [02:31<07:34, 151.56s/it]\u001b[A\n",
      "\n",
      "Team:   0%|          | 0/7 [00:00<?, ?it/s]\u001b[A\u001b[A\n",
      "\n",
      "Team:  14%|█▍        | 1/7 [00:43<04:22, 43.69s/it]\u001b[A\u001b[A\n",
      "\n",
      "Team:  29%|██▊       | 2/7 [00:58<02:14, 26.87s/it]\u001b[A\u001b[A\n",
      "\n",
      "Team:  43%|████▎     | 3/7 [01:25<01:48, 27.00s/it]\u001b[A\u001b[A\n",
      "\n",
      "Team:  57%|█████▋    | 4/7 [01:54<01:23, 27.80s/it]\u001b[A\u001b[A\n",
      "\n",
      "Team:  71%|███████▏  | 5/7 [02:28<00:59, 29.94s/it]\u001b[A\u001b[A\n",
      "\n",
      "Team:  86%|████████▌ | 6/7 [02:52<00:27, 27.88s/it]\u001b[A\u001b[A\n",
      "\n",
      "Team: 100%|██████████| 7/7 [03:16<00:00, 28.01s/it]\u001b[A\u001b[A\n",
      "\n",
      "Rounds (+ Summary Round):  50%|█████     | 2/4 [05:47<05:55, 177.76s/it]\u001b[A\n",
      "\n",
      "Team:   0%|          | 0/7 [00:00<?, ?it/s]\u001b[A\u001b[A\n",
      "\n",
      "Team:  14%|█▍        | 1/7 [00:23<02:20, 23.38s/it]\u001b[A\u001b[A\n",
      "\n",
      "Team:  29%|██▊       | 2/7 [00:45<01:52, 22.59s/it]\u001b[A\u001b[A\n",
      "\n",
      "Team:  43%|████▎     | 3/7 [01:26<02:04, 31.24s/it]\u001b[A\u001b[A\n",
      "\n",
      "Team:  57%|█████▋    | 4/7 [01:47<01:21, 27.17s/it]\u001b[A\u001b[A\n",
      "\n",
      "Team:  71%|███████▏  | 5/7 [02:10<00:51, 25.67s/it]\u001b[A\u001b[A\n",
      "\n",
      "Team:  86%|████████▌ | 6/7 [02:44<00:28, 28.41s/it]\u001b[A\u001b[A\n",
      "\n",
      "Team: 100%|██████████| 7/7 [03:29<00:00, 29.87s/it]\u001b[A\u001b[A\n",
      "\n",
      "Rounds (+ Summary Round):  75%|███████▌  | 3/4 [09:16<03:12, 192.06s/it]\u001b[A\n",
      "\n",
      "Team:   0%|          | 0/7 [00:35<?, ?it/s]\u001b[A\u001b[A\n",
      "\n",
      "Rounds (+ Summary Round): 100%|██████████| 4/4 [09:52<00:00, 148.00s/it]\u001b[A\n",
      "Project Iterations:  67%|██████▋   | 2/3 [21:07<10:26, 626.41s/it]"
     ]
    },
    {
     "name": "stdout",
     "output_type": "stream",
     "text": [
      "Input token count: 782,601\n",
      "Output token count: 17,211\n",
      "Max token length: 46,273\n",
      "Cost: $4.17\n",
      "Time: 9:52\n"
     ]
    },
    {
     "name": "stderr",
     "output_type": "stream",
     "text": [
      "\n",
      "Rounds (+ Summary Round):   0%|          | 0/4 [00:00<?, ?it/s]\u001b[A\n",
      "\n",
      "Team:   0%|          | 0/7 [00:00<?, ?it/s]\u001b[A\u001b[A\n",
      "\n",
      "Team:  14%|█▍        | 1/7 [00:22<02:12, 22.13s/it]\u001b[A\u001b[A\n",
      "\n",
      "Team:  29%|██▊       | 2/7 [00:42<01:46, 21.21s/it]\u001b[A\u001b[A\n",
      "\n",
      "Team:  43%|████▎     | 3/7 [01:45<02:40, 40.17s/it]\u001b[A\u001b[A\n",
      "\n",
      "Team:  57%|█████▋    | 4/7 [02:05<01:36, 32.26s/it]\u001b[A\u001b[A\n",
      "\n",
      "Team:  71%|███████▏  | 5/7 [02:22<00:53, 26.66s/it]\u001b[A\u001b[A\n",
      "\n",
      "Team:  86%|████████▌ | 6/7 [02:41<00:24, 24.19s/it]\u001b[A\u001b[A\n",
      "\n",
      "Team: 100%|██████████| 7/7 [03:02<00:00, 26.10s/it]\u001b[A\u001b[A\n",
      "\n",
      "Rounds (+ Summary Round):  25%|██▌       | 1/4 [03:02<09:08, 182.71s/it]\u001b[A\n",
      "\n",
      "Team:   0%|          | 0/7 [00:00<?, ?it/s]\u001b[A\u001b[A\n",
      "\n",
      "Team:  14%|█▍        | 1/7 [00:28<02:48, 28.01s/it]\u001b[A\u001b[A\n",
      "\n",
      "Team:  29%|██▊       | 2/7 [00:49<01:59, 23.97s/it]\u001b[A\u001b[A\n",
      "\n",
      "Team:  43%|████▎     | 3/7 [01:10<01:30, 22.67s/it]\u001b[A\u001b[A\n",
      "\n",
      "Team:  57%|█████▋    | 4/7 [01:29<01:04, 21.48s/it]\u001b[A\u001b[A\n",
      "\n",
      "Team:  71%|███████▏  | 5/7 [01:50<00:42, 21.28s/it]\u001b[A\u001b[A\n",
      "\n",
      "Team:  86%|████████▌ | 6/7 [02:12<00:21, 21.35s/it]\u001b[A\u001b[A\n",
      "\n",
      "Team: 100%|██████████| 7/7 [02:34<00:00, 22.02s/it]\u001b[A\u001b[A\n",
      "\n",
      "Rounds (+ Summary Round):  50%|█████     | 2/4 [05:36<05:31, 165.90s/it]\u001b[A\n",
      "\n",
      "Team:   0%|          | 0/7 [00:00<?, ?it/s]\u001b[A\u001b[A\n",
      "\n",
      "Team:  14%|█▍        | 1/7 [00:30<03:03, 30.58s/it]\u001b[A\u001b[A\n",
      "\n",
      "Team:  29%|██▊       | 2/7 [00:48<01:54, 22.90s/it]\u001b[A\u001b[A\n",
      "\n",
      "Team:  43%|████▎     | 3/7 [01:09<01:29, 22.41s/it]\u001b[A\u001b[A\n",
      "\n",
      "Team:  57%|█████▋    | 4/7 [01:36<01:12, 24.04s/it]\u001b[A\u001b[A\n",
      "\n",
      "Team:  71%|███████▏  | 5/7 [01:57<00:46, 23.07s/it]\u001b[A\u001b[A\n",
      "\n",
      "Team:  86%|████████▌ | 6/7 [02:17<00:21, 21.96s/it]\u001b[A\u001b[A\n",
      "\n",
      "Team: 100%|██████████| 7/7 [02:44<00:00, 23.44s/it]\u001b[A\u001b[A\n",
      "\n",
      "Rounds (+ Summary Round):  75%|███████▌  | 3/4 [08:20<02:45, 165.06s/it]\u001b[A\n",
      "\n",
      "Team:   0%|          | 0/7 [00:36<?, ?it/s]\u001b[A\u001b[A\n",
      "\n",
      "Rounds (+ Summary Round): 100%|██████████| 4/4 [08:57<00:00, 134.43s/it]\u001b[A\n",
      "Project Iterations: 100%|██████████| 3/3 [30:05<00:00, 601.77s/it]"
     ]
    },
    {
     "name": "stdout",
     "output_type": "stream",
     "text": [
      "Input token count: 786,830\n",
      "Output token count: 16,959\n",
      "Max token length: 46,021\n",
      "Cost: $4.19\n",
      "Time: 8:57\n"
     ]
    },
    {
     "name": "stderr",
     "output_type": "stream",
     "text": [
      "\n"
     ]
    }
   ],
   "source": [
    "# Run ESM reimplement\n",
    "for iteration_num in trange(num_iterations, desc=\"Project Iterations\"):\n",
    "    run_scientific_meeting(\n",
    "        team_lead=team_lead,\n",
    "        team_members=team_members,\n",
    "        agenda=ESM_REIMPLEMENT_PROMPT,\n",
    "        agenda_questions=ESM_REIMPLEMENT_QUESTIONS,\n",
    "        contexts=contexts + (ESM_ANTIBODIES_PAPER,),\n",
    "        save_dir=save_dir / \"esm_reimplement\",\n",
    "        save_name=f\"discussion_{iteration_num + 1}\",\n",
    "        num_rounds=num_rounds,\n",
    "        model=model,\n",
    "    )"
   ]
  },
  {
   "cell_type": "code",
   "execution_count": null,
   "id": "f6cfa6e8-684d-4ce6-8ebb-b5e340b75f74",
   "metadata": {},
   "outputs": [],
   "source": []
  }
 ],
 "metadata": {
  "kernelspec": {
   "display_name": "Python 3 (ipykernel)",
   "language": "python",
   "name": "python3"
  },
  "language_info": {
   "codemirror_mode": {
    "name": "ipython",
    "version": 3
   },
   "file_extension": ".py",
   "mimetype": "text/x-python",
   "name": "python",
   "nbconvert_exporter": "python",
   "pygments_lexer": "ipython3",
   "version": "3.12.4"
  }
 },
 "nbformat": 4,
 "nbformat_minor": 5
}
