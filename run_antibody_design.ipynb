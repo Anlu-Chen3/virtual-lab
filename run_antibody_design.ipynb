{
 "cells": [
  {
   "cell_type": "code",
   "execution_count": 1,
   "id": "initial_id",
   "metadata": {
    "ExecuteTime": {
     "end_time": "2024-07-17T17:42:36.810164Z",
     "start_time": "2024-07-17T17:42:36.756617Z"
    }
   },
   "outputs": [],
   "source": [
    "from pathlib import Path\n",
    "\n",
    "from tqdm import trange\n",
    "\n",
    "from agent import Agent\n",
    "from prompts import ANTIBODIES_CONTEXTS, ESM_ANTIBODIES_PAPER, PRINCIPAL_INVESTIGATOR\n",
    "from run_individual_meeting import run_individual_meeting\n",
    "from run_scientific_meeting import run_scientific_meeting\n",
    "from utils import load_summaries"
   ]
  },
  {
   "cell_type": "code",
   "execution_count": 2,
   "id": "cc186057c8dcc3a8",
   "metadata": {
    "ExecuteTime": {
     "end_time": "2024-07-17T17:42:39.306663Z",
     "start_time": "2024-07-17T17:42:39.282418Z"
    }
   },
   "outputs": [],
   "source": [
    "# Set up key parameters\n",
    "team_lead = PRINCIPAL_INVESTIGATOR\n",
    "num_iterations = 3\n",
    "num_rounds = 3\n",
    "save_dir = Path(\"antibody_design\")\n",
    "model = \"gpt-4o\"\n",
    "discussion_paths = []\n",
    "contexts = ANTIBODIES_CONTEXTS"
   ]
  },
  {
   "cell_type": "code",
   "execution_count": 3,
   "id": "c55d79aa92e377b5",
   "metadata": {
    "ExecuteTime": {
     "end_time": "2024-07-17T17:42:39.708463Z",
     "start_time": "2024-07-17T17:42:39.705269Z"
    }
   },
   "outputs": [],
   "source": [
    "# Ask PI to select team members\n",
    "ANTIBODIES_TEAM_PROMPT = \"You are working on a project to develop antibodies for the SARS-CoV-2 spike protein, ideally for the newest variant of the virus and with broad spectrum activity across variants. You need to select a team of scientists to help you with this project. Please select the team members you would like to invite to a discussion to design the antibody discovery approach. For each team member, please specify the following: 1. Title, 2. Expertise, 3. Goal, and 4. Role. Please use your own description as an example.\""
   ]
  },
  {
   "cell_type": "code",
   "execution_count": 4,
   "id": "50722e4dadc135d8",
   "metadata": {
    "ExecuteTime": {
     "end_time": "2024-07-17T12:56:37.486274Z",
     "start_time": "2024-07-17T12:55:56.257319Z"
    }
   },
   "outputs": [
    {
     "name": "stderr",
     "output_type": "stream",
     "text": [
      "Project Iterations:  33%|███▎      | 1/3 [00:16<00:32, 16.43s/it]"
     ]
    },
    {
     "name": "stdout",
     "output_type": "stream",
     "text": [
      "Input token count: 194\n",
      "Output token count: 704\n",
      "Max token length: 898\n",
      "Cost: $0.01\n",
      "Time: 0:16\n"
     ]
    },
    {
     "name": "stderr",
     "output_type": "stream",
     "text": [
      "Project Iterations:  67%|██████▋   | 2/3 [00:29<00:14, 14.23s/it]"
     ]
    },
    {
     "name": "stdout",
     "output_type": "stream",
     "text": [
      "Input token count: 194\n",
      "Output token count: 623\n",
      "Max token length: 817\n",
      "Cost: $0.01\n",
      "Time: 0:12\n"
     ]
    },
    {
     "name": "stderr",
     "output_type": "stream",
     "text": [
      "Project Iterations: 100%|██████████| 3/3 [00:41<00:00, 13.73s/it]"
     ]
    },
    {
     "name": "stdout",
     "output_type": "stream",
     "text": [
      "Input token count: 194\n",
      "Output token count: 622\n",
      "Max token length: 816\n",
      "Cost: $0.01\n",
      "Time: 0:12\n"
     ]
    },
    {
     "name": "stderr",
     "output_type": "stream",
     "text": [
      "\n"
     ]
    }
   ],
   "source": [
    "# Select team members\n",
    "for iteration_num in trange(num_iterations, desc=\"Project Iterations\"):\n",
    "    run_individual_meeting(\n",
    "        team_member=team_lead,\n",
    "        agenda=ANTIBODIES_TEAM_PROMPT,\n",
    "        save_dir=save_dir / \"team_selection\",\n",
    "        save_name=f\"discussion_{iteration_num + 1}\",\n",
    "        contexts=contexts,\n",
    "        model=model,\n",
    "    )"
   ]
  },
  {
   "cell_type": "code",
   "execution_count": 4,
   "id": "3d9186ce198c1b0b",
   "metadata": {
    "ExecuteTime": {
     "end_time": "2024-07-17T17:42:41.774835Z",
     "start_time": "2024-07-17T17:42:41.769420Z"
    }
   },
   "outputs": [],
   "source": [
    "# Add team members based on discussion 2\n",
    "COMPUTATIONAL_BIOLOGIST = Agent(\n",
    "    title=\"Computational Biologist\",\n",
    "    expertise=\"bioinformatics, protein structure prediction, and molecular dynamics simulations\",\n",
    "    goal=\"to identify potential antibody candidates using computational methods and predict their binding affinity to the SARS-CoV-2 spike protein\",\n",
    "    role=\"to run in silico screenings of antibody libraries, modeling antibody-spike protein interactions, and providing a shortlist of promising candidates for experimental validation\",\n",
    ")\n",
    "IMMUNOLOGIST = Agent(\n",
    "    title=\"Immunologist\",\n",
    "    expertise=\"immune response mechanisms, antibody generation, and characterization\",\n",
    "    goal=\"to guide the selection of antibody candidates based on immunological principles and ensure the candidates have the potential for broad-spectrum activity\",\n",
    "    role=\"to provide insights into the immune response to SARS-CoV-2, help design the antibody generation strategy, and interpret the results from binding and neutralization assays\",\n",
    ")\n",
    "STRUCTURAL_BIOLOGIST = Agent(\n",
    "    title=\"Structural Biologist\",\n",
    "    expertise=\"X-ray crystallography, cryo-electron microscopy (cryo-EM), and protein structure determination\",\n",
    "    goal=\"to determine the high-resolution structures of antibody-spike protein complexes to understand the binding mechanisms and improve antibody design\",\n",
    "    role=\"to solve the structures of selected antibody-spike protein complexes and providing structural insights to refine antibody candidates\",\n",
    ")\n",
    "VIROLOGIST = Agent(\n",
    "    title=\"Virologist\",\n",
    "    expertise=\"SARS-CoV-2 biology, viral entry mechanisms, and neutralization assays\",\n",
    "    goal=\"to validate the neutralizing activity of antibody candidates against SARS-CoV-2 and its variants\",\n",
    "    role=\"to oversee the design and execution of neutralization assays, interpret the results, and ensure that the selected antibodies are effective against multiple variants of the virus\",\n",
    ")\n",
    "DATA_SCIENTIST = Agent(\n",
    "    title=\"Data Scientist\",\n",
    "    expertise=\"machine learning, data analysis, and predictive modeling\",\n",
    "    goal=\"to develop and apply machine learning models to predict the efficacy and broad-spectrum activity of antibody candidates\",\n",
    "    role=\"to analyze experimental data, develop predictive models, and integrate data from various sources to guide the selection and optimization of antibody candidates\",\n",
    ")\n",
    "EXPERIMENTAL_BIOLOGIST = Agent(\n",
    "    title=\"Experimental Biologist\",\n",
    "    expertise=\"antibody engineering, protein expression, and purification\",\n",
    "    goal=\"to produce and characterize the antibody candidates identified through computational and immunological methods\",\n",
    "    role=\"to express, purify, and initially characterize antibody candidates, as well as to prepare samples for binding and neutralization assays\",\n",
    ")\n",
    "\n",
    "team_members = (\n",
    "    COMPUTATIONAL_BIOLOGIST,\n",
    "    IMMUNOLOGIST,\n",
    "    STRUCTURAL_BIOLOGIST,\n",
    "    VIROLOGIST,\n",
    "    DATA_SCIENTIST,\n",
    "    EXPERIMENTAL_BIOLOGIST,\n",
    ")"
   ]
  },
  {
   "cell_type": "code",
   "execution_count": 5,
   "id": "9df84a9e45d31bbe",
   "metadata": {
    "ExecuteTime": {
     "end_time": "2024-07-17T17:42:42.473827Z",
     "start_time": "2024-07-17T17:42:42.470326Z"
    }
   },
   "outputs": [],
   "source": [
    "ANTIBODIES_PROMPT = \"You are working on a project to develop antibodies for the SARS-CoV-2 spike protein, ideally for the newest variant of the virus and with broad spectrum activity across variants. Please design a specific antibody discovery approach for this target that uses machine learning to design antibody candidates. Decide what specific machine learning model to use and precisely how it will be used. If the model needs to be trained, please decide on a specific dataset for training. If the model is pre-trained, please explain exactly how it will be used for identifying or designing antibody candidates.\""
   ]
  },
  {
   "cell_type": "code",
   "execution_count": 6,
   "id": "e05becb99e5e609a",
   "metadata": {
    "ExecuteTime": {
     "end_time": "2024-07-17T17:42:42.625252Z",
     "start_time": "2024-07-17T17:42:42.622444Z"
    }
   },
   "outputs": [],
   "source": [
    "ANTIBODIES_QUESTIONS = (\n",
    "    \"Will you design the antibodies de novo or will you modify existing antibodies?\",\n",
    "    \"Will you train a model from scratch or use a pre-trained model?\",\n",
    "    \"What specific model architecture will you use?\",\n",
    "    \"If training a model, what dataset will you use for training?\",\n",
    "    \"How exactly will you use your model to design antibodies?\"\n",
    ")"
   ]
  },
  {
   "cell_type": "code",
   "execution_count": null,
   "id": "9ff509ba8824b8ac",
   "metadata": {},
   "outputs": [],
   "source": [
    "# Run antibodies project design\n",
    "for iteration_num in trange(num_iterations, desc=\"Project Iterations\"):\n",
    "    run_scientific_meeting(\n",
    "        team_lead=team_lead,\n",
    "        team_members=team_members,\n",
    "        agenda=ANTIBODIES_PROMPT,\n",
    "        agenda_questions=ANTIBODIES_QUESTIONS,\n",
    "        contexts=contexts,\n",
    "        save_dir=save_dir / \"project_design\",\n",
    "        save_name=f\"discussion_{iteration_num + 1}\",\n",
    "        num_rounds=num_rounds,\n",
    "        model=model,\n",
    "    )"
   ]
  },
  {
   "cell_type": "code",
   "execution_count": 7,
   "id": "5e92ab15bd805227",
   "metadata": {
    "ExecuteTime": {
     "end_time": "2024-07-17T17:42:45.767361Z",
     "start_time": "2024-07-17T17:42:45.764365Z"
    }
   },
   "outputs": [],
   "source": [
    "ESM_PROMPT = \"You are working on a project to develop antibodies for the SARS-CoV-2 spike protein, ideally for the newest variant of the virus and with broad spectrum activity across variants. You will use the ESM family of models for antibody design. Please design a method for applying ESM to this antibody design problem. Specify the exact model you will use and how you will use it to design antibodies.\""
   ]
  },
  {
   "cell_type": "code",
   "execution_count": 8,
   "id": "60e56ffd99094aa8",
   "metadata": {
    "ExecuteTime": {
     "end_time": "2024-07-17T17:42:45.884196Z",
     "start_time": "2024-07-17T17:42:45.881121Z"
    }
   },
   "outputs": [],
   "source": [
    "ESM_QUESTIONS = (\n",
    "    \"Which ESM model will you use?\"\n",
    "    \"Will you design the antibodies de novo or will you modify existing antibodies?\",\n",
    "    \"If modifying existing antibodies, which precise antibody or antibodies will you modify?\",\n",
    "    \"How exactly will you use your model to design antibodies?\",\n",
    "    \"What is the precise process for designing antibodies and selecting candidates for experimental validation?\",\n",
    "    \"How will you computationally evaluate the quality of the design antibodies?\",\n",
    "    \"What objectives will you optimize for in the design process?\",\n",
    ")"
   ]
  },
  {
   "cell_type": "code",
   "execution_count": null,
   "id": "dae1d0dd152e5d10",
   "metadata": {},
   "outputs": [],
   "source": [
    "# Run ESM project design\n",
    "for iteration_num in trange(num_iterations, desc=\"Project Iterations\"):\n",
    "    run_scientific_meeting(\n",
    "        team_lead=team_lead,\n",
    "        team_members=team_members,\n",
    "        agenda=ESM_PROMPT,\n",
    "        agenda_questions=ESM_QUESTIONS,\n",
    "        contexts=contexts,\n",
    "        save_dir=save_dir / \"esm\",\n",
    "        save_name=f\"discussion_{iteration_num + 1}\",\n",
    "        num_rounds=num_rounds,\n",
    "        model=model,\n",
    "    )"
   ]
  },
  {
   "cell_type": "code",
   "execution_count": 9,
   "id": "6820479c8a799387",
   "metadata": {
    "ExecuteTime": {
     "end_time": "2024-07-17T17:42:49.088378Z",
     "start_time": "2024-07-17T17:42:49.085409Z"
    }
   },
   "outputs": [],
   "source": [
    "# Select preferred summary\n",
    "discussion_paths.append(save_dir / \"esm\" / \"discussion_2.json\")"
   ]
  },
  {
   "cell_type": "code",
   "execution_count": 10,
   "id": "95e1def52435ccde",
   "metadata": {
    "ExecuteTime": {
     "end_time": "2024-07-17T17:42:49.210072Z",
     "start_time": "2024-07-17T17:42:49.205794Z"
    }
   },
   "outputs": [],
   "source": [
    "# Load summaries\n",
    "summaries = load_summaries(discussion_paths=discussion_paths)"
   ]
  },
  {
   "cell_type": "code",
   "execution_count": 11,
   "id": "f2f33a271c2f01b",
   "metadata": {
    "ExecuteTime": {
     "end_time": "2024-07-17T17:42:49.344677Z",
     "start_time": "2024-07-17T17:42:49.341671Z"
    }
   },
   "outputs": [],
   "source": [
    "ESM_IMPLEMENT_PROMPT = \"You now need to implement an ESM-based approach for antibody design. Please write code to implement the method you designed in the previous discussion. Your code must be self-contained (with appropriate imports), and you must explain how the code works.\""
   ]
  },
  {
   "cell_type": "code",
   "execution_count": null,
   "id": "192e881f6b4281f7",
   "metadata": {},
   "outputs": [],
   "source": [
    "# Run ESM implement\n",
    "for iteration_num in trange(num_iterations, desc=\"Project Iterations\"):\n",
    "    run_individual_meeting(\n",
    "        team_member=DATA_SCIENTIST,\n",
    "        agenda=ESM_IMPLEMENT_PROMPT,\n",
    "        summaries=summaries,\n",
    "        contexts=contexts,\n",
    "        save_dir=save_dir / \"esm_implement\",\n",
    "        save_name=f\"discussion_{iteration_num + 1}\",\n",
    "        model=model,\n",
    "    )"
   ]
  },
  {
   "cell_type": "code",
   "execution_count": 12,
   "id": "dddc671ef8afa0ff",
   "metadata": {},
   "outputs": [],
   "source": [
    "ESM_REIMPLEMENT_PROMPT = \"Above is the full text from a recent scientifc paper describing the use of ESM, a pre-trained protein language model, to design antibodies. Please read the paper and then describe in detail how to reproduce the results in the paper and what steps you would take next to build upon this work.\""
   ]
  },
  {
   "cell_type": "code",
   "execution_count": 13,
   "id": "4d37bbb7f907d18c",
   "metadata": {},
   "outputs": [],
   "source": [
    "ESM_REIMPLEMENT_QUESTIONS = (\n",
    "    \"How would you reproduce the results in the paper? Please provide a detailed, step-by-step set of instructions. Please copy as much text/code as needed from the discussion in order to provide a complete, self-contained answer here.\",\n",
    "    \"How would you reimplement the computational parts of the paper? Please provide self-contained Python code that implements the main experiments from the paper. Please copy as much text/code as needed from the discussion in order to provide a complete, self-contained answer here.\",\n",
    "    \"What lab experiments would you run to validate the computationally designed antibodies? Please provide a step-by-step lab protocol. Please copy as much text/code as needed from the discussion in order to provide a complete, self-contained answer here.\",\n",
    "    \"How would you extend beyond this paper to further advance the science of protein language models for antibody design? Please copy as much text/code as needed from the discussion in order to provide a complete, self-contained answer here.\",\n",
    ")"
   ]
  },
  {
   "cell_type": "code",
   "execution_count": null,
   "id": "56200caa2157af69",
   "metadata": {},
   "outputs": [
    {
     "name": "stderr",
     "output_type": "stream",
     "text": [
      "Project Iterations:   0%|          | 0/3 [00:00<?, ?it/s]\n",
      "Rounds (+ Summary Round):   0%|          | 0/4 [00:00<?, ?it/s]\u001b[A\n",
      "\n",
      "Team:   0%|          | 0/7 [00:00<?, ?it/s]\u001b[A\u001b[A\n",
      "\n",
      "Team:  14%|█▍        | 1/7 [00:15<01:33, 15.56s/it]\u001b[A\u001b[A\n",
      "\n",
      "Team:  29%|██▊       | 2/7 [00:46<02:02, 24.48s/it]\u001b[A\u001b[A\n",
      "\n",
      "Team:  43%|████▎     | 3/7 [01:17<01:50, 27.64s/it]\u001b[A\u001b[A\n",
      "\n",
      "Team:  57%|█████▋    | 4/7 [01:37<01:13, 24.57s/it]\u001b[A\u001b[A\n",
      "\n",
      "Team:  71%|███████▏  | 5/7 [01:56<00:44, 22.43s/it]\u001b[A\u001b[A\n",
      "\n",
      "Team:  86%|████████▌ | 6/7 [02:23<00:24, 24.02s/it]\u001b[A\u001b[A\n",
      "\n",
      "Team: 100%|██████████| 7/7 [02:43<00:00, 23.29s/it]\u001b[A\u001b[A\n",
      "\n",
      "Rounds (+ Summary Round):  25%|██▌       | 1/4 [02:43<08:09, 163.04s/it]\u001b[A\n",
      "\n",
      "Team:   0%|          | 0/7 [00:00<?, ?it/s]\u001b[A\u001b[A\n",
      "\n",
      "Team:  14%|█▍        | 1/7 [00:23<02:21, 23.50s/it]\u001b[A\u001b[A\n",
      "\n",
      "Team:  29%|██▊       | 2/7 [01:03<02:45, 33.17s/it]\u001b[A\u001b[A\n",
      "\n",
      "Team:  43%|████▎     | 3/7 [01:21<01:45, 26.45s/it]\u001b[A\u001b[A\n",
      "\n",
      "Team:  57%|█████▋    | 4/7 [01:39<01:08, 22.91s/it]\u001b[A\u001b[A\n",
      "\n",
      "Team:  71%|███████▏  | 5/7 [02:04<00:47, 23.68s/it]\u001b[A\u001b[A\n",
      "\n",
      "Team:  86%|████████▌ | 6/7 [02:34<00:25, 25.92s/it]\u001b[A\u001b[A\n",
      "\n",
      "Team: 100%|██████████| 7/7 [03:01<00:00, 25.92s/it]\u001b[A\u001b[A\n",
      "\n",
      "Rounds (+ Summary Round):  50%|█████     | 2/4 [05:44<05:47, 173.85s/it]\u001b[A\n",
      "\n",
      "Team:   0%|          | 0/7 [00:00<?, ?it/s]\u001b[A\u001b[A\n",
      "\n",
      "Team:  14%|█▍        | 1/7 [00:30<03:03, 30.56s/it]\u001b[A\u001b[A\n",
      "\n",
      "Team:  29%|██▊       | 2/7 [01:18<03:25, 41.04s/it]\u001b[A\u001b[A\n",
      "\n",
      "Team:  43%|████▎     | 3/7 [01:41<02:10, 32.52s/it]\u001b[A\u001b[A\n",
      "\n",
      "Team:  57%|█████▋    | 4/7 [02:05<01:27, 29.08s/it]\u001b[A\u001b[A\n",
      "\n",
      "Team:  71%|███████▏  | 5/7 [02:36<01:00, 30.04s/it]\u001b[A\u001b[A\n",
      "\n",
      "Team:  86%|████████▌ | 6/7 [03:12<00:31, 31.79s/it]\u001b[A\u001b[A\n",
      "\n",
      "Team: 100%|██████████| 7/7 [03:31<00:00, 30.28s/it]\u001b[A\u001b[A\n",
      "\n",
      "Rounds (+ Summary Round):  75%|███████▌  | 3/4 [09:16<03:11, 191.27s/it]\u001b[A\n",
      "\n",
      "Team:   0%|          | 0/7 [00:28<?, ?it/s]\u001b[A\u001b[A\n",
      "\n",
      "Rounds (+ Summary Round): 100%|██████████| 4/4 [09:44<00:00, 146.22s/it]\u001b[A\n",
      "Project Iterations:  33%|███▎      | 1/3 [09:44<19:29, 584.91s/it]"
     ]
    },
    {
     "name": "stdout",
     "output_type": "stream",
     "text": [
      "Input token count: 824,532\n",
      "Output token count: 19,205\n",
      "Max token length: 48,449\n",
      "Cost: $4.41\n",
      "Time: 9:44\n"
     ]
    },
    {
     "name": "stderr",
     "output_type": "stream",
     "text": [
      "\n",
      "Rounds (+ Summary Round):   0%|          | 0/4 [00:00<?, ?it/s]\u001b[A\n",
      "\n",
      "Team:   0%|          | 0/7 [00:00<?, ?it/s]\u001b[A\u001b[A\n",
      "\n",
      "Team:  14%|█▍        | 1/7 [00:40<04:04, 40.71s/it]\u001b[A\u001b[A\n",
      "\n",
      "Team:  29%|██▊       | 2/7 [01:04<02:33, 30.67s/it]\u001b[A\u001b[A\n",
      "\n",
      "Team:  43%|████▎     | 3/7 [1:29:10<2:42:01, 2430.29s/it]\u001b[A\u001b[A\n",
      "\n",
      "Team:  57%|█████▋    | 4/7 [1:29:31<1:13:57, 1479.32s/it]\u001b[A\u001b[A\n",
      "\n",
      "Team:  71%|███████▏  | 5/7 [1:29:56<31:49, 954.65s/it]   \u001b[A\u001b[A\n",
      "\n",
      "Team:  86%|████████▌ | 6/7 [1:30:23<10:39, 639.57s/it]\u001b[A\u001b[A\n",
      "\n",
      "Team: 100%|██████████| 7/7 [1:30:53<00:00, 779.03s/it]\u001b[A\u001b[A\n",
      "\n",
      "Rounds (+ Summary Round):  25%|██▌       | 1/4 [1:30:53<4:32:39, 5453.22s/it]\u001b[A\n",
      "\n",
      "Team:   0%|          | 0/7 [00:00<?, ?it/s]\u001b[A\u001b[A\n",
      "\n",
      "Team:  14%|█▍        | 1/7 [00:24<02:28, 24.79s/it]\u001b[A\u001b[A\n",
      "\n",
      "Team:  29%|██▊       | 2/7 [31:38<1:32:43, 1112.67s/it]\u001b[A\u001b[A\n",
      "\n",
      "Team:  43%|████▎     | 3/7 [31:54<40:46, 611.69s/it]   \u001b[A\u001b[A\n",
      "\n",
      "Team:  57%|█████▋    | 4/7 [32:13<18:53, 377.75s/it]\u001b[A\u001b[A\n",
      "\n",
      "Team:  71%|███████▏  | 5/7 [32:35<08:19, 249.51s/it]\u001b[A\u001b[A\n",
      "\n",
      "Team:  86%|████████▌ | 6/7 [33:06<02:55, 175.22s/it]\u001b[A\u001b[A\n",
      "\n",
      "Team: 100%|██████████| 7/7 [33:37<00:00, 288.15s/it]\u001b[A\u001b[A\n",
      "\n",
      "Rounds (+ Summary Round):  50%|█████     | 2/4 [2:04:30<1:54:23, 3431.94s/it]\u001b[A\n",
      "\n",
      "Team:   0%|          | 0/7 [00:00<?, ?it/s]\u001b[A\u001b[A\n",
      "\n",
      "Team:  14%|█▍        | 1/7 [00:28<02:51, 28.51s/it]\u001b[A\u001b[A\n",
      "\n",
      "Team:  29%|██▊       | 2/7 [01:03<02:41, 32.20s/it]\u001b[A\u001b[A\n",
      "\n",
      "Team:  43%|████▎     | 3/7 [01:29<01:56, 29.24s/it]\u001b[A\u001b[A\n",
      "\n",
      "Team:  57%|█████▋    | 4/7 [01:58<01:27, 29.15s/it]\u001b[A\u001b[A\n",
      "\n",
      "Team:  71%|███████▏  | 5/7 [02:52<01:16, 38.17s/it]\u001b[A\u001b[A\n",
      "\n",
      "Team:  86%|████████▌ | 6/7 [03:27<00:37, 37.15s/it]\u001b[A\u001b[A\n",
      "\n",
      "Team: 100%|██████████| 7/7 [03:57<00:00, 33.87s/it]\u001b[A\u001b[A\n",
      "\n",
      "Rounds (+ Summary Round):  75%|███████▌  | 3/4 [2:08:27<32:53, 1973.11s/it]  \u001b[A\n",
      "\n",
      "Team:   0%|          | 0/7 [00:00<?, ?it/s]\u001b[A\u001b[A"
     ]
    }
   ],
   "source": [
    "# Run ESM reimplement\n",
    "for iteration_num in trange(num_iterations, desc=\"Project Iterations\"):\n",
    "    run_scientific_meeting(\n",
    "        team_lead=team_lead,\n",
    "        team_members=team_members,\n",
    "        agenda=ESM_REIMPLEMENT_PROMPT,\n",
    "        agenda_questions=ESM_REIMPLEMENT_QUESTIONS,\n",
    "        contexts=contexts + (ESM_ANTIBODIES_PAPER,),\n",
    "        save_dir=save_dir / \"esm_reimplement\",\n",
    "        save_name=f\"discussion_{iteration_num + 1}\",\n",
    "        num_rounds=num_rounds,\n",
    "        model=model,\n",
    "    )"
   ]
  },
  {
   "cell_type": "code",
   "execution_count": null,
   "id": "4bd1460aa7ebe386",
   "metadata": {},
   "outputs": [],
   "source": []
  }
 ],
 "metadata": {
  "kernelspec": {
   "display_name": "Python 3 (ipykernel)",
   "language": "python",
   "name": "python3"
  },
  "language_info": {
   "codemirror_mode": {
    "name": "ipython",
    "version": 3
   },
   "file_extension": ".py",
   "mimetype": "text/x-python",
   "name": "python",
   "nbconvert_exporter": "python",
   "pygments_lexer": "ipython3",
   "version": "3.12.4"
  }
 },
 "nbformat": 4,
 "nbformat_minor": 5
}
