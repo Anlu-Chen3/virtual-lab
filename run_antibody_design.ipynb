{
 "cells": [
  {
   "cell_type": "code",
   "id": "initial_id",
   "metadata": {
    "collapsed": true,
    "ExecuteTime": {
     "end_time": "2024-07-11T11:19:41.281346Z",
     "start_time": "2024-07-11T11:19:41.277217Z"
    }
   },
   "source": [
    "from pathlib import Path\n",
    "\n",
    "from tqdm import trange\n",
    "\n",
    "from prompts import ANTIBODIES_CONTEXT_PROMPT, NAME_TO_AGENT\n",
    "from run_scientific_meeting import run_scientific_meeting\n",
    "from utils import load_summaries"
   ],
   "outputs": [],
   "execution_count": 10
  },
  {
   "metadata": {
    "ExecuteTime": {
     "end_time": "2024-07-11T11:18:22.418778Z",
     "start_time": "2024-07-11T11:18:22.406688Z"
    }
   },
   "cell_type": "code",
   "source": [
    "# Set up the team\n",
    "team_lead = \"Principal Investigator\"\n",
    "team_members = tuple(NAME_TO_AGENT.keys())\n",
    "\n",
    "# Set up key parameters\n",
    "num_iterations = 3\n",
    "num_rounds = 3\n",
    "save_dir = Path(\"antibody_design\")\n",
    "model = \"gpt-4o\"\n",
    "discussion_paths = []\n",
    "contexts = (ANTIBODIES_CONTEXT_PROMPT,)"
   ],
   "id": "cc186057c8dcc3a8",
   "outputs": [],
   "execution_count": 9
  },
  {
   "metadata": {
    "ExecuteTime": {
     "end_time": "2024-07-11T09:43:00.079541Z",
     "start_time": "2024-07-11T09:43:00.075859Z"
    }
   },
   "cell_type": "code",
   "source": "ANTIBODIES_PROMPT = \"You are working on a project to develop antibodies for the SARS-CoV-2 spike protein, ideally for the newest variant of the virus and with broad spectrum activity across variants. Please design a specific antibody discovery approach for this target that uses machine learning to design antibody candidates. Decide what specific machine learning model to use and precisely how it will be used. If the model needs to be trained, please decide on a specific dataset for training. If the model is pre-trained, please explain exactly how it will be used for identifying or designing antibody candidates.\"",
   "id": "2bde03a12d5c9332",
   "outputs": [],
   "execution_count": 3
  },
  {
   "metadata": {
    "ExecuteTime": {
     "end_time": "2024-07-11T09:43:00.856142Z",
     "start_time": "2024-07-11T09:43:00.852997Z"
    }
   },
   "cell_type": "code",
   "source": [
    "ANTIBODIES_QUESTIONS = (\n",
    "    \"Will you design the antibodies de novo or will you modify existing antibodies?\",\n",
    "    \"Will you train a model from scratch or use a pre-trained model?\",\n",
    "    \"What specific model architecture will you use?\",\n",
    "    \"If training a model from scratch, what dataset will you use for training?\",\n",
    "    \"How exactly will you use your model to design antibodies?\"\n",
    ")"
   ],
   "id": "5bfe77612c2faab5",
   "outputs": [],
   "execution_count": 4
  },
  {
   "metadata": {
    "ExecuteTime": {
     "end_time": "2024-07-11T09:56:57.448429Z",
     "start_time": "2024-07-11T09:43:01.597769Z"
    }
   },
   "cell_type": "code",
   "source": [
    "# Run antibodies project design\n",
    "for iteration_num in trange(num_iterations, desc=\"Project Iterations\"):\n",
    "    run_scientific_meeting(\n",
    "        team_lead=team_lead,\n",
    "        team_members=team_members,\n",
    "        agenda=ANTIBODIES_PROMPT,\n",
    "        agenda_questions=ANTIBODIES_QUESTIONS,\n",
    "        contexts=contexts,\n",
    "        save_dir=save_dir / \"project_design\",\n",
    "        save_name=f\"discussion_{iteration_num + 1}\",\n",
    "        num_rounds=num_rounds,\n",
    "        model=model,\n",
    "    )"
   ],
   "id": "9c4078420bdee0c7",
   "outputs": [
    {
     "name": "stderr",
     "output_type": "stream",
     "text": [
      "Project Iterations:   0%|          | 0/3 [00:00<?, ?it/s]\n",
      "Rounds (+ Summary Round):   0%|          | 0/4 [00:00<?, ?it/s]\u001B[A\n",
      "\n",
      "Team Members:   0%|          | 0/6 [00:00<?, ?it/s]\u001B[A\u001B[A\n",
      "\n",
      "Team Members:  17%|█▋        | 1/6 [00:07<00:39,  7.96s/it]\u001B[A\u001B[A\n",
      "\n",
      "Team Members:  33%|███▎      | 2/6 [00:15<00:31,  7.86s/it]\u001B[A\u001B[A\n",
      "\n",
      "Team Members:  50%|█████     | 3/6 [00:23<00:23,  7.97s/it]\u001B[A\u001B[A\n",
      "\n",
      "Team Members:  67%|██████▋   | 4/6 [00:29<00:14,  7.25s/it]\u001B[A\u001B[A\n",
      "\n",
      "Team Members:  83%|████████▎ | 5/6 [00:37<00:07,  7.48s/it]\u001B[A\u001B[A\n",
      "\n",
      "Team Members: 100%|██████████| 6/6 [00:47<00:00,  7.87s/it]\u001B[A\u001B[A\n",
      "\n",
      "Rounds (+ Summary Round):  25%|██▌       | 1/4 [00:47<02:21, 47.20s/it]\u001B[A\n",
      "\n",
      "Team Members:   0%|          | 0/6 [00:00<?, ?it/s]\u001B[A\u001B[A\n",
      "\n",
      "Team Members:  17%|█▋        | 1/6 [00:17<01:29, 18.00s/it]\u001B[A\u001B[A\n",
      "\n",
      "Team Members:  33%|███▎      | 2/6 [00:32<01:04, 16.16s/it]\u001B[A\u001B[A\n",
      "\n",
      "Team Members:  50%|█████     | 3/6 [00:42<00:39, 13.21s/it]\u001B[A\u001B[A\n",
      "\n",
      "Team Members:  67%|██████▋   | 4/6 [00:59<00:29, 14.72s/it]\u001B[A\u001B[A\n",
      "\n",
      "Team Members:  83%|████████▎ | 5/6 [01:11<00:13, 13.69s/it]\u001B[A\u001B[A\n",
      "\n",
      "Team Members: 100%|██████████| 6/6 [01:24<00:00, 14.05s/it]\u001B[A\u001B[A\n",
      "\n",
      "Rounds (+ Summary Round):  50%|█████     | 2/4 [02:11<02:18, 69.03s/it]\u001B[A\n",
      "\n",
      "Team Members:   0%|          | 0/6 [00:00<?, ?it/s]\u001B[A\u001B[A\n",
      "\n",
      "Team Members:  17%|█▋        | 1/6 [00:26<02:12, 26.43s/it]\u001B[A\u001B[A\n",
      "\n",
      "Team Members:  33%|███▎      | 2/6 [00:34<01:01, 15.34s/it]\u001B[A\u001B[A\n",
      "\n",
      "Team Members:  50%|█████     | 3/6 [00:43<00:37, 12.66s/it]\u001B[A\u001B[A\n",
      "\n",
      "Team Members:  67%|██████▋   | 4/6 [00:54<00:24, 12.11s/it]\u001B[A\u001B[A\n",
      "\n",
      "Team Members:  83%|████████▎ | 5/6 [01:10<00:13, 13.32s/it]\u001B[A\u001B[A\n",
      "\n",
      "Team Members: 100%|██████████| 6/6 [01:32<00:00, 15.33s/it]\u001B[A\u001B[A\n",
      "\n",
      "Rounds (+ Summary Round):  75%|███████▌  | 3/4 [03:43<01:19, 79.52s/it]\u001B[A\n",
      "\n",
      "Team Members:   0%|          | 0/6 [00:16<?, ?it/s]\u001B[A\u001B[A\n",
      "\n",
      "Rounds (+ Summary Round): 100%|██████████| 4/4 [03:59<00:00, 59.98s/it]\u001B[A\n",
      "Project Iterations:  33%|███▎      | 1/3 [03:59<07:59, 239.94s/it]"
     ]
    },
    {
     "name": "stdout",
     "output_type": "stream",
     "text": [
      "Input token count: 100,102\n",
      "Output token count: 11,113\n",
      "Max token length: 12,294\n",
      "Cost: $0.67\n"
     ]
    },
    {
     "name": "stderr",
     "output_type": "stream",
     "text": [
      "\n",
      "Rounds (+ Summary Round):   0%|          | 0/4 [00:00<?, ?it/s]\u001B[A\n",
      "\n",
      "Team Members:   0%|          | 0/6 [00:00<?, ?it/s]\u001B[A\u001B[A\n",
      "\n",
      "Team Members:  17%|█▋        | 1/6 [00:11<00:56, 11.33s/it]\u001B[A\u001B[A\n",
      "\n",
      "Team Members:  33%|███▎      | 2/6 [00:26<00:53, 13.33s/it]\u001B[A\u001B[A\n",
      "\n",
      "Team Members:  50%|█████     | 3/6 [00:40<00:41, 13.67s/it]\u001B[A\u001B[A\n",
      "\n",
      "Team Members:  67%|██████▋   | 4/6 [00:54<00:27, 13.76s/it]\u001B[A\u001B[A\n",
      "\n",
      "Team Members:  83%|████████▎ | 5/6 [01:08<00:13, 13.85s/it]\u001B[A\u001B[A\n",
      "\n",
      "Team Members: 100%|██████████| 6/6 [01:23<00:00, 13.92s/it]\u001B[A\u001B[A\n",
      "\n",
      "Rounds (+ Summary Round):  25%|██▌       | 1/4 [01:23<04:10, 83.52s/it]\u001B[A\n",
      "\n",
      "Team Members:   0%|          | 0/6 [00:00<?, ?it/s]\u001B[A\u001B[A\n",
      "\n",
      "Team Members:  17%|█▋        | 1/6 [00:17<01:26, 17.24s/it]\u001B[A\u001B[A\n",
      "\n",
      "Team Members:  33%|███▎      | 2/6 [00:28<00:55, 13.83s/it]\u001B[A\u001B[A\n",
      "\n",
      "Team Members:  50%|█████     | 3/6 [00:40<00:38, 12.80s/it]\u001B[A\u001B[A\n",
      "\n",
      "Team Members:  67%|██████▋   | 4/6 [00:55<00:27, 13.65s/it]\u001B[A\u001B[A\n",
      "\n",
      "Team Members:  83%|████████▎ | 5/6 [01:12<00:14, 14.80s/it]\u001B[A\u001B[A\n",
      "\n",
      "Team Members: 100%|██████████| 6/6 [01:35<00:00, 15.98s/it]\u001B[A\u001B[A\n",
      "\n",
      "Rounds (+ Summary Round):  50%|█████     | 2/4 [02:59<03:01, 90.78s/it]\u001B[A\n",
      "\n",
      "Team Members:   0%|          | 0/6 [00:00<?, ?it/s]\u001B[A\u001B[A\n",
      "\n",
      "Team Members:  17%|█▋        | 1/6 [00:19<01:38, 19.66s/it]\u001B[A\u001B[A\n",
      "\n",
      "Team Members:  33%|███▎      | 2/6 [00:36<01:13, 18.28s/it]\u001B[A\u001B[A\n",
      "\n",
      "Team Members:  50%|█████     | 3/6 [00:55<00:55, 18.37s/it]\u001B[A\u001B[A\n",
      "\n",
      "Team Members:  67%|██████▋   | 4/6 [01:21<00:42, 21.29s/it]\u001B[A\u001B[A\n",
      "\n",
      "Team Members:  83%|████████▎ | 5/6 [01:39<00:20, 20.18s/it]\u001B[A\u001B[A\n",
      "\n",
      "Team Members: 100%|██████████| 6/6 [02:01<00:00, 20.19s/it]\u001B[A\u001B[A\n",
      "\n",
      "Rounds (+ Summary Round):  75%|███████▌  | 3/4 [05:00<01:44, 104.65s/it]\u001B[A\n",
      "\n",
      "Team Members:   0%|          | 0/6 [00:17<?, ?it/s]\u001B[A\u001B[A\n",
      "\n",
      "Rounds (+ Summary Round): 100%|██████████| 4/4 [05:18<00:00, 79.59s/it] \u001B[A\n",
      "Project Iterations:  67%|██████▋   | 2/3 [09:18<04:46, 286.08s/it]"
     ]
    },
    {
     "name": "stdout",
     "output_type": "stream",
     "text": [
      "Input token count: 144,381\n",
      "Output token count: 16,264\n",
      "Max token length: 17,445\n",
      "Cost: $0.97\n"
     ]
    },
    {
     "name": "stderr",
     "output_type": "stream",
     "text": [
      "\n",
      "Rounds (+ Summary Round):   0%|          | 0/4 [00:00<?, ?it/s]\u001B[A\n",
      "\n",
      "Team Members:   0%|          | 0/6 [00:00<?, ?it/s]\u001B[A\u001B[A\n",
      "\n",
      "Team Members:  17%|█▋        | 1/6 [00:08<00:43,  8.78s/it]\u001B[A\u001B[A\n",
      "\n",
      "Team Members:  33%|███▎      | 2/6 [00:16<00:31,  7.95s/it]\u001B[A\u001B[A\n",
      "\n",
      "Team Members:  50%|█████     | 3/6 [00:24<00:24,  8.11s/it]\u001B[A\u001B[A\n",
      "\n",
      "Team Members:  67%|██████▋   | 4/6 [00:33<00:17,  8.59s/it]\u001B[A\u001B[A\n",
      "\n",
      "Team Members:  83%|████████▎ | 5/6 [00:46<00:09,  9.96s/it]\u001B[A\u001B[A\n",
      "\n",
      "Team Members: 100%|██████████| 6/6 [00:57<00:00,  9.50s/it]\u001B[A\u001B[A\n",
      "\n",
      "Rounds (+ Summary Round):  25%|██▌       | 1/4 [00:57<02:51, 57.02s/it]\u001B[A\n",
      "\n",
      "Team Members:   0%|          | 0/6 [00:00<?, ?it/s]\u001B[A\u001B[A\n",
      "\n",
      "Team Members:  17%|█▋        | 1/6 [00:12<01:04, 13.00s/it]\u001B[A\u001B[A\n",
      "\n",
      "Team Members:  33%|███▎      | 2/6 [00:25<00:50, 12.52s/it]\u001B[A\u001B[A\n",
      "\n",
      "Team Members:  50%|█████     | 3/6 [00:40<00:41, 13.99s/it]\u001B[A\u001B[A\n",
      "\n",
      "Team Members:  67%|██████▋   | 4/6 [00:54<00:27, 13.83s/it]\u001B[A\u001B[A\n",
      "\n",
      "Team Members:  83%|████████▎ | 5/6 [01:16<00:16, 16.90s/it]\u001B[A\u001B[A\n",
      "\n",
      "Team Members: 100%|██████████| 6/6 [01:33<00:00, 15.60s/it]\u001B[A\u001B[A\n",
      "\n",
      "Rounds (+ Summary Round):  50%|█████     | 2/4 [02:30<02:37, 78.54s/it]\u001B[A\n",
      "\n",
      "Team Members:   0%|          | 0/6 [00:00<?, ?it/s]\u001B[A\u001B[A\n",
      "\n",
      "Team Members:  17%|█▋        | 1/6 [00:17<01:27, 17.40s/it]\u001B[A\u001B[A\n",
      "\n",
      "Team Members:  33%|███▎      | 2/6 [00:30<00:59, 14.88s/it]\u001B[A\u001B[A\n",
      "\n",
      "Team Members:  50%|█████     | 3/6 [00:47<00:48, 16.06s/it]\u001B[A\u001B[A\n",
      "\n",
      "Team Members:  67%|██████▋   | 4/6 [01:08<00:35, 17.70s/it]\u001B[A\u001B[A\n",
      "\n",
      "Team Members:  83%|████████▎ | 5/6 [01:24<00:17, 17.37s/it]\u001B[A\u001B[A\n",
      "\n",
      "Team Members: 100%|██████████| 6/6 [01:44<00:00, 17.48s/it]\u001B[A\u001B[A\n",
      "\n",
      "Rounds (+ Summary Round):  75%|███████▌  | 3/4 [04:15<01:30, 90.56s/it]\u001B[A\n",
      "\n",
      "Team Members:   0%|          | 0/6 [00:22<?, ?it/s]\u001B[A\u001B[A\n",
      "\n",
      "Rounds (+ Summary Round): 100%|██████████| 4/4 [04:37<00:00, 69.38s/it]\u001B[A\n",
      "Project Iterations: 100%|██████████| 3/3 [13:55<00:00, 278.61s/it]"
     ]
    },
    {
     "name": "stdout",
     "output_type": "stream",
     "text": [
      "Input token count: 129,185\n",
      "Output token count: 15,149\n",
      "Max token length: 16,330\n",
      "Cost: $0.87\n"
     ]
    },
    {
     "name": "stderr",
     "output_type": "stream",
     "text": [
      "\n"
     ]
    }
   ],
   "execution_count": 5
  },
  {
   "metadata": {
    "ExecuteTime": {
     "end_time": "2024-07-11T09:57:53.107749Z",
     "start_time": "2024-07-11T09:57:53.103116Z"
    }
   },
   "cell_type": "code",
   "source": "ESM_PROMPT = \"You are working on a project to develop antibodies for the SARS-CoV-2 spike protein, ideally for the newest variant of the virus and with broad spectrum activity across variants. You will use the ESM family of models for antibody design. Please design a method for applying ESM to this antibody design problem. Specify the exact model you will use and how you will use it to design antibodies.\"",
   "id": "ad28638c7d65ead5",
   "outputs": [],
   "execution_count": 6
  },
  {
   "metadata": {
    "ExecuteTime": {
     "end_time": "2024-07-11T09:57:53.479094Z",
     "start_time": "2024-07-11T09:57:53.475838Z"
    }
   },
   "cell_type": "code",
   "source": [
    "ESM_QUESTIONS = (\n",
    "    \"Which ESM model will you use?\"\n",
    "    \"Will you design the antibodies de novo or will you modify existing antibodies?\",\n",
    "    \"How exactly will you use your model to design antibodies?\",\n",
    "    \"What is the precise process for designing antibodies and selecting candidates for experimental validation?\",\n",
    "    \"How will you computationally evaluate the quality of the design antibodies?\",\n",
    "    \"What objectives will you optimize for in the design process?\"\n",
    ")"
   ],
   "id": "7d9b0df5e582cd48",
   "outputs": [],
   "execution_count": 7
  },
  {
   "metadata": {
    "ExecuteTime": {
     "end_time": "2024-07-11T10:11:55.350146Z",
     "start_time": "2024-07-11T09:57:56.714010Z"
    }
   },
   "cell_type": "code",
   "source": [
    "# Run ESM project design\n",
    "for iteration_num in trange(num_iterations, desc=\"Project Iterations\"):\n",
    "    run_scientific_meeting(\n",
    "        team_lead=team_lead,\n",
    "        team_members=team_members,\n",
    "        agenda=ESM_PROMPT,\n",
    "        agenda_questions=ESM_QUESTIONS,\n",
    "        contexts=contexts,\n",
    "        save_dir=save_dir / \"esm\",\n",
    "        save_name=f\"discussion_{iteration_num + 1}\",\n",
    "        num_rounds=num_rounds,\n",
    "        model=model,\n",
    "    )"
   ],
   "id": "18a3763ae6b8f0ac",
   "outputs": [
    {
     "name": "stderr",
     "output_type": "stream",
     "text": [
      "Project Iterations:   0%|          | 0/3 [00:00<?, ?it/s]\n",
      "Rounds (+ Summary Round):   0%|          | 0/4 [00:00<?, ?it/s]\u001B[A\n",
      "\n",
      "Team Members:   0%|          | 0/6 [00:00<?, ?it/s]\u001B[A\u001B[A\n",
      "\n",
      "Team Members:  17%|█▋        | 1/6 [00:07<00:37,  7.43s/it]\u001B[A\u001B[A\n",
      "\n",
      "Team Members:  33%|███▎      | 2/6 [00:15<00:31,  7.90s/it]\u001B[A\u001B[A\n",
      "\n",
      "Team Members:  50%|█████     | 3/6 [00:26<00:27,  9.06s/it]\u001B[A\u001B[A\n",
      "\n",
      "Team Members:  67%|██████▋   | 4/6 [00:39<00:21, 10.58s/it]\u001B[A\u001B[A\n",
      "\n",
      "Team Members:  83%|████████▎ | 5/6 [00:51<00:11, 11.20s/it]\u001B[A\u001B[A\n",
      "\n",
      "Team Members: 100%|██████████| 6/6 [01:02<00:00, 10.48s/it]\u001B[A\u001B[A\n",
      "\n",
      "Rounds (+ Summary Round):  25%|██▌       | 1/4 [01:02<03:08, 62.90s/it]\u001B[A\n",
      "\n",
      "Team Members:   0%|          | 0/6 [00:00<?, ?it/s]\u001B[A\u001B[A\n",
      "\n",
      "Team Members:  17%|█▋        | 1/6 [00:09<00:46,  9.39s/it]\u001B[A\u001B[A\n",
      "\n",
      "Team Members:  33%|███▎      | 2/6 [00:28<01:00, 15.12s/it]\u001B[A\u001B[A\n",
      "\n",
      "Team Members:  50%|█████     | 3/6 [00:41<00:41, 13.93s/it]\u001B[A\u001B[A\n",
      "\n",
      "Team Members:  67%|██████▋   | 4/6 [00:51<00:25, 12.63s/it]\u001B[A\u001B[A\n",
      "\n",
      "Team Members:  83%|████████▎ | 5/6 [01:03<00:12, 12.33s/it]\u001B[A\u001B[A\n",
      "\n",
      "Team Members: 100%|██████████| 6/6 [01:22<00:00, 13.79s/it]\u001B[A\u001B[A\n",
      "\n",
      "Rounds (+ Summary Round):  50%|█████     | 2/4 [02:25<02:29, 74.56s/it]\u001B[A\n",
      "\n",
      "Team Members:   0%|          | 0/6 [00:00<?, ?it/s]\u001B[A\u001B[A\n",
      "\n",
      "Team Members:  17%|█▋        | 1/6 [00:19<01:36, 19.24s/it]\u001B[A\u001B[A\n",
      "\n",
      "Team Members:  33%|███▎      | 2/6 [00:29<00:56, 14.06s/it]\u001B[A\u001B[A\n",
      "\n",
      "Team Members:  50%|█████     | 3/6 [00:43<00:42, 14.10s/it]\u001B[A\u001B[A\n",
      "\n",
      "Team Members:  67%|██████▋   | 4/6 [00:58<00:28, 14.27s/it]\u001B[A\u001B[A\n",
      "\n",
      "Team Members:  83%|████████▎ | 5/6 [01:14<00:14, 14.81s/it]\u001B[A\u001B[A\n",
      "\n",
      "Team Members: 100%|██████████| 6/6 [01:35<00:00, 15.94s/it]\u001B[A\u001B[A\n",
      "\n",
      "Rounds (+ Summary Round):  75%|███████▌  | 3/4 [04:01<01:24, 84.19s/it]\u001B[A\n",
      "\n",
      "Team Members:   0%|          | 0/6 [00:18<?, ?it/s]\u001B[A\u001B[A\n",
      "\n",
      "Rounds (+ Summary Round): 100%|██████████| 4/4 [04:19<00:00, 64.85s/it]\u001B[A\n",
      "Project Iterations:  33%|███▎      | 1/3 [04:19<08:38, 259.39s/it]"
     ]
    },
    {
     "name": "stdout",
     "output_type": "stream",
     "text": [
      "Input token count: 116,197\n",
      "Output token count: 12,655\n",
      "Max token length: 13,796\n",
      "Cost: $0.77\n"
     ]
    },
    {
     "name": "stderr",
     "output_type": "stream",
     "text": [
      "\n",
      "Rounds (+ Summary Round):   0%|          | 0/4 [00:00<?, ?it/s]\u001B[A\n",
      "\n",
      "Team Members:   0%|          | 0/6 [00:00<?, ?it/s]\u001B[A\u001B[A\n",
      "\n",
      "Team Members:  17%|█▋        | 1/6 [00:15<01:19, 15.86s/it]\u001B[A\u001B[A\n",
      "\n",
      "Team Members:  33%|███▎      | 2/6 [00:26<00:51, 12.79s/it]\u001B[A\u001B[A\n",
      "\n",
      "Team Members:  50%|█████     | 3/6 [00:36<00:34, 11.58s/it]\u001B[A\u001B[A\n",
      "\n",
      "Team Members:  67%|██████▋   | 4/6 [00:47<00:22, 11.46s/it]\u001B[A\u001B[A\n",
      "\n",
      "Team Members:  83%|████████▎ | 5/6 [01:13<00:16, 16.37s/it]\u001B[A\u001B[A\n",
      "\n",
      "Team Members: 100%|██████████| 6/6 [01:23<00:00, 13.98s/it]\u001B[A\u001B[A\n",
      "\n",
      "Rounds (+ Summary Round):  25%|██▌       | 1/4 [01:23<04:11, 83.85s/it]\u001B[A\n",
      "\n",
      "Team Members:   0%|          | 0/6 [00:00<?, ?it/s]\u001B[A\u001B[A\n",
      "\n",
      "Team Members:  17%|█▋        | 1/6 [00:23<01:58, 23.66s/it]\u001B[A\u001B[A\n",
      "\n",
      "Team Members:  33%|███▎      | 2/6 [00:31<00:56, 14.13s/it]\u001B[A\u001B[A\n",
      "\n",
      "Team Members:  50%|█████     | 3/6 [00:40<00:35, 11.99s/it]\u001B[A\u001B[A\n",
      "\n",
      "Team Members:  67%|██████▋   | 4/6 [00:52<00:23, 11.90s/it]\u001B[A\u001B[A\n",
      "\n",
      "Team Members:  83%|████████▎ | 5/6 [01:04<00:12, 12.12s/it]\u001B[A\u001B[A\n",
      "\n",
      "Team Members: 100%|██████████| 6/6 [01:21<00:00, 13.57s/it]\u001B[A\u001B[A\n",
      "\n",
      "Rounds (+ Summary Round):  50%|█████     | 2/4 [02:45<02:44, 82.42s/it]\u001B[A\n",
      "\n",
      "Team Members:   0%|          | 0/6 [00:00<?, ?it/s]\u001B[A\u001B[A\n",
      "\n",
      "Team Members:  17%|█▋        | 1/6 [00:20<01:42, 20.58s/it]\u001B[A\u001B[A\n",
      "\n",
      "Team Members:  33%|███▎      | 2/6 [00:27<00:50, 12.63s/it]\u001B[A\u001B[A\n",
      "\n",
      "Team Members:  50%|█████     | 3/6 [00:36<00:33, 11.01s/it]\u001B[A\u001B[A\n",
      "\n",
      "Team Members:  67%|██████▋   | 4/6 [00:48<00:22, 11.39s/it]\u001B[A\u001B[A\n",
      "\n",
      "Team Members:  83%|████████▎ | 5/6 [01:00<00:11, 11.58s/it]\u001B[A\u001B[A\n",
      "\n",
      "Team Members: 100%|██████████| 6/6 [01:18<00:00, 13.15s/it]\u001B[A\u001B[A\n",
      "\n",
      "Rounds (+ Summary Round):  75%|███████▌  | 3/4 [04:04<01:20, 80.81s/it]\u001B[A\n",
      "\n",
      "Team Members:   0%|          | 0/6 [00:18<?, ?it/s]\u001B[A\u001B[A\n",
      "\n",
      "Rounds (+ Summary Round): 100%|██████████| 4/4 [04:22<00:00, 65.64s/it]\u001B[A\n",
      "Project Iterations:  67%|██████▋   | 2/3 [08:41<04:21, 261.27s/it]"
     ]
    },
    {
     "name": "stdout",
     "output_type": "stream",
     "text": [
      "Input token count: 117,639\n",
      "Output token count: 12,087\n",
      "Max token length: 13,228\n",
      "Cost: $0.77\n"
     ]
    },
    {
     "name": "stderr",
     "output_type": "stream",
     "text": [
      "\n",
      "Rounds (+ Summary Round):   0%|          | 0/4 [00:00<?, ?it/s]\u001B[A\n",
      "\n",
      "Team Members:   0%|          | 0/6 [00:00<?, ?it/s]\u001B[A\u001B[A\n",
      "\n",
      "Team Members:  17%|█▋        | 1/6 [00:08<00:43,  8.60s/it]\u001B[A\u001B[A\n",
      "\n",
      "Team Members:  33%|███▎      | 2/6 [00:20<00:41, 10.32s/it]\u001B[A\u001B[A\n",
      "\n",
      "Team Members:  50%|█████     | 3/6 [00:30<00:30, 10.33s/it]\u001B[A\u001B[A\n",
      "\n",
      "Team Members:  67%|██████▋   | 4/6 [01:00<00:36, 18.26s/it]\u001B[A\u001B[A\n",
      "\n",
      "Team Members:  83%|████████▎ | 5/6 [01:12<00:15, 15.87s/it]\u001B[A\u001B[A\n",
      "\n",
      "Team Members: 100%|██████████| 6/6 [01:26<00:00, 14.36s/it]\u001B[A\u001B[A\n",
      "\n",
      "Rounds (+ Summary Round):  25%|██▌       | 1/4 [01:26<04:18, 86.19s/it]\u001B[A\n",
      "\n",
      "Team Members:   0%|          | 0/6 [00:00<?, ?it/s]\u001B[A\u001B[A\n",
      "\n",
      "Team Members:  17%|█▋        | 1/6 [00:14<01:11, 14.33s/it]\u001B[A\u001B[A\n",
      "\n",
      "Team Members:  33%|███▎      | 2/6 [00:22<00:42, 10.66s/it]\u001B[A\u001B[A\n",
      "\n",
      "Team Members:  50%|█████     | 3/6 [00:33<00:32, 10.94s/it]\u001B[A\u001B[A\n",
      "\n",
      "Team Members:  67%|██████▋   | 4/6 [00:41<00:19,  9.84s/it]\u001B[A\u001B[A\n",
      "\n",
      "Team Members:  83%|████████▎ | 5/6 [00:52<00:10, 10.15s/it]\u001B[A\u001B[A\n",
      "\n",
      "Team Members: 100%|██████████| 6/6 [01:04<00:00, 10.69s/it]\u001B[A\u001B[A\n",
      "\n",
      "Rounds (+ Summary Round):  50%|█████     | 2/4 [02:30<02:26, 73.23s/it]\u001B[A\n",
      "\n",
      "Team Members:   0%|          | 0/6 [00:00<?, ?it/s]\u001B[A\u001B[A\n",
      "\n",
      "Team Members:  17%|█▋        | 1/6 [00:17<01:27, 17.55s/it]\u001B[A\u001B[A\n",
      "\n",
      "Team Members:  33%|███▎      | 2/6 [00:35<01:11, 17.79s/it]\u001B[A\u001B[A\n",
      "\n",
      "Team Members:  50%|█████     | 3/6 [00:49<00:48, 16.10s/it]\u001B[A\u001B[A\n",
      "\n",
      "Team Members:  67%|██████▋   | 4/6 [01:04<00:31, 15.77s/it]\u001B[A\u001B[A\n",
      "\n",
      "Team Members:  83%|████████▎ | 5/6 [01:48<00:25, 25.94s/it]\u001B[A\u001B[A\n",
      "\n",
      "Team Members: 100%|██████████| 6/6 [02:28<00:00, 24.76s/it]\u001B[A\u001B[A\n",
      "\n",
      "Rounds (+ Summary Round):  75%|███████▌  | 3/4 [04:58<01:47, 107.62s/it]\u001B[A\n",
      "\n",
      "Team Members:   0%|          | 0/6 [00:17<?, ?it/s]\u001B[A\u001B[A\n",
      "\n",
      "Rounds (+ Summary Round): 100%|██████████| 4/4 [05:16<00:00, 79.16s/it] \u001B[A\n",
      "Project Iterations: 100%|██████████| 3/3 [13:58<00:00, 279.54s/it]"
     ]
    },
    {
     "name": "stdout",
     "output_type": "stream",
     "text": [
      "Input token count: 113,878\n",
      "Output token count: 12,845\n",
      "Max token length: 13,986\n",
      "Cost: $0.76\n"
     ]
    },
    {
     "name": "stderr",
     "output_type": "stream",
     "text": [
      "\n"
     ]
    }
   ],
   "execution_count": 8
  },
  {
   "metadata": {
    "ExecuteTime": {
     "end_time": "2024-07-11T11:19:44.925438Z",
     "start_time": "2024-07-11T11:19:44.921857Z"
    }
   },
   "cell_type": "code",
   "source": [
    "# Select preferred summary\n",
    "discussion_paths.append(save_dir / \"esm\" / \"discussion_3.json\")"
   ],
   "id": "84e9c0a3e0b77b5b",
   "outputs": [],
   "execution_count": 11
  },
  {
   "metadata": {
    "ExecuteTime": {
     "end_time": "2024-07-11T11:19:45.859526Z",
     "start_time": "2024-07-11T11:19:45.854401Z"
    }
   },
   "cell_type": "code",
   "source": [
    "# Load summaries\n",
    "summaries = load_summaries(discussion_paths=discussion_paths)"
   ],
   "id": "15cf2d47dca247c",
   "outputs": [],
   "execution_count": 12
  },
  {
   "metadata": {
    "ExecuteTime": {
     "end_time": "2024-07-11T11:21:07.846905Z",
     "start_time": "2024-07-11T11:21:07.843240Z"
    }
   },
   "cell_type": "code",
   "source": "ESM_IMPLEMENT_PROMPT = \"You now need to implement an ESM-based approach for antibody design. Please write code to implement the method you designed in the previous discussion. You should include the following components: 1. Loading the ESM model, 2. Designing antibodies using the ESM model, 3. Evaluating the designed antibodies computationally, 4. Selecting the best candidates for experimental validation. Please provide a detailed description of each component and the code to implement it.\"",
   "id": "7a0e957eac7b6279",
   "outputs": [],
   "execution_count": 13
  },
  {
   "metadata": {
    "ExecuteTime": {
     "end_time": "2024-07-11T11:21:08.053601Z",
     "start_time": "2024-07-11T11:21:08.050134Z"
    }
   },
   "cell_type": "code",
   "source": [
    "ESM_IMPLEMENT_QUESTIONS = (\n",
    "    \"How will you load the ESM model?\",\n",
    "    \"How will you design antibodies using the ESM model?\",\n",
    "    \"How will you evaluate the designed antibodies computationally?\",\n",
    "    \"How will you select the best candidates for experimental validation?\"\n",
    ")"
   ],
   "id": "83eac5486a31b9ab",
   "outputs": [],
   "execution_count": 14
  },
  {
   "metadata": {
    "ExecuteTime": {
     "end_time": "2024-07-11T11:36:57.602878Z",
     "start_time": "2024-07-11T11:21:19.059408Z"
    }
   },
   "cell_type": "code",
   "source": [
    "# Run ESM implement\n",
    "for iteration_num in trange(num_iterations, desc=\"Project Iterations\"):\n",
    "    run_scientific_meeting(\n",
    "        team_lead=team_lead,\n",
    "        team_members=team_members,\n",
    "        agenda=ESM_IMPLEMENT_PROMPT,\n",
    "        agenda_questions=ESM_IMPLEMENT_QUESTIONS,\n",
    "        summaries=summaries,\n",
    "        contexts=contexts,\n",
    "        save_dir=save_dir / \"esm_implement\",\n",
    "        save_name=f\"discussion_{iteration_num + 1}\",\n",
    "        num_rounds=num_rounds,\n",
    "        model=model,\n",
    "    )"
   ],
   "id": "6c9751f2733fdf73",
   "outputs": [
    {
     "name": "stderr",
     "output_type": "stream",
     "text": [
      "Project Iterations:   0%|          | 0/3 [00:00<?, ?it/s]\n",
      "Rounds (+ Summary Round):   0%|          | 0/4 [00:00<?, ?it/s]\u001B[A\n",
      "\n",
      "Team Members:   0%|          | 0/6 [00:00<?, ?it/s]\u001B[A\u001B[A\n",
      "\n",
      "Team Members:  17%|█▋        | 1/6 [00:29<02:27, 29.51s/it]\u001B[A\u001B[A\n",
      "\n",
      "Team Members:  33%|███▎      | 2/6 [00:41<01:15, 18.99s/it]\u001B[A\u001B[A\n",
      "\n",
      "Team Members:  50%|█████     | 3/6 [00:50<00:44, 14.81s/it]\u001B[A\u001B[A\n",
      "\n",
      "Team Members:  67%|██████▋   | 4/6 [01:04<00:28, 14.25s/it]\u001B[A\u001B[A\n",
      "\n",
      "Team Members:  83%|████████▎ | 5/6 [01:14<00:12, 12.94s/it]\u001B[A\u001B[A\n",
      "\n",
      "Team Members: 100%|██████████| 6/6 [01:27<00:00, 14.66s/it]\u001B[A\u001B[A\n",
      "\n",
      "Rounds (+ Summary Round):  25%|██▌       | 1/4 [01:27<04:23, 87.94s/it]\u001B[A\n",
      "\n",
      "Team Members:   0%|          | 0/6 [00:00<?, ?it/s]\u001B[A\u001B[A\n",
      "\n",
      "Team Members:  17%|█▋        | 1/6 [01:00<05:02, 60.50s/it]\u001B[A\u001B[A\n",
      "\n",
      "Team Members:  33%|███▎      | 2/6 [01:08<01:59, 29.79s/it]\u001B[A\u001B[A\n",
      "\n",
      "Team Members:  50%|█████     | 3/6 [01:18<01:02, 20.69s/it]\u001B[A\u001B[A\n",
      "\n",
      "Team Members:  67%|██████▋   | 4/6 [01:30<00:34, 17.05s/it]\u001B[A\u001B[A\n",
      "\n",
      "Team Members:  83%|████████▎ | 5/6 [01:44<00:16, 16.07s/it]\u001B[A\u001B[A\n",
      "\n",
      "Team Members: 100%|██████████| 6/6 [02:01<00:00, 20.33s/it]\u001B[A\u001B[A\n",
      "\n",
      "Rounds (+ Summary Round):  50%|█████     | 2/4 [03:29<03:35, 107.95s/it]\u001B[A\n",
      "\n",
      "Team Members:   0%|          | 0/6 [00:00<?, ?it/s]\u001B[A\u001B[A\n",
      "\n",
      "Team Members:  17%|█▋        | 1/6 [00:26<02:13, 26.62s/it]\u001B[A\u001B[A\n",
      "\n",
      "Team Members:  33%|███▎      | 2/6 [00:40<01:15, 18.93s/it]\u001B[A\u001B[A\n",
      "\n",
      "Team Members:  50%|█████     | 3/6 [00:51<00:46, 15.52s/it]\u001B[A\u001B[A\n",
      "\n",
      "Team Members:  67%|██████▋   | 4/6 [01:02<00:27, 13.59s/it]\u001B[A\u001B[A\n",
      "\n",
      "Team Members:  83%|████████▎ | 5/6 [01:15<00:13, 13.34s/it]\u001B[A\u001B[A\n",
      "\n",
      "Team Members: 100%|██████████| 6/6 [01:32<00:00, 15.34s/it]\u001B[A\u001B[A\n",
      "\n",
      "Rounds (+ Summary Round):  75%|███████▌  | 3/4 [05:01<01:40, 100.69s/it]\u001B[A\n",
      "\n",
      "Team Members:   0%|          | 0/6 [00:24<?, ?it/s]\u001B[A\u001B[A\n",
      "\n",
      "Rounds (+ Summary Round): 100%|██████████| 4/4 [05:26<00:00, 81.56s/it] \u001B[A\n",
      "Project Iterations:  33%|███▎      | 1/3 [05:26<10:52, 326.24s/it]"
     ]
    },
    {
     "name": "stdout",
     "output_type": "stream",
     "text": [
      "Input token count: 203,258\n",
      "Output token count: 17,910\n",
      "Max token length: 20,067\n",
      "Cost: $1.28\n"
     ]
    },
    {
     "name": "stderr",
     "output_type": "stream",
     "text": [
      "\n",
      "Rounds (+ Summary Round):   0%|          | 0/4 [00:00<?, ?it/s]\u001B[A\n",
      "\n",
      "Team Members:   0%|          | 0/6 [00:00<?, ?it/s]\u001B[A\u001B[A\n",
      "\n",
      "Team Members:  17%|█▋        | 1/6 [00:04<00:23,  4.68s/it]\u001B[A\u001B[A\n",
      "\n",
      "Team Members:  33%|███▎      | 2/6 [00:12<00:26,  6.63s/it]\u001B[A\u001B[A\n",
      "\n",
      "Team Members:  50%|█████     | 3/6 [00:25<00:27,  9.30s/it]\u001B[A\u001B[A\n",
      "\n",
      "Team Members:  67%|██████▋   | 4/6 [00:33<00:18,  9.11s/it]\u001B[A\u001B[A\n",
      "\n",
      "Team Members:  83%|████████▎ | 5/6 [00:42<00:08,  8.87s/it]\u001B[A\u001B[A\n",
      "\n",
      "Team Members: 100%|██████████| 6/6 [00:51<00:00,  8.63s/it]\u001B[A\u001B[A\n",
      "\n",
      "Rounds (+ Summary Round):  25%|██▌       | 1/4 [00:51<02:35, 51.78s/it]\u001B[A\n",
      "\n",
      "Team Members:   0%|          | 0/6 [00:00<?, ?it/s]\u001B[A\u001B[A\n",
      "\n",
      "Team Members:  17%|█▋        | 1/6 [00:12<01:00, 12.05s/it]\u001B[A\u001B[A\n",
      "\n",
      "Team Members:  33%|███▎      | 2/6 [00:21<00:42, 10.53s/it]\u001B[A\u001B[A\n",
      "\n",
      "Team Members:  50%|█████     | 3/6 [00:32<00:31, 10.63s/it]\u001B[A\u001B[A\n",
      "\n",
      "Team Members:  67%|██████▋   | 4/6 [00:49<00:26, 13.27s/it]\u001B[A\u001B[A\n",
      "\n",
      "Team Members:  83%|████████▎ | 5/6 [01:11<00:16, 16.28s/it]\u001B[A\u001B[A\n",
      "\n",
      "Team Members: 100%|██████████| 6/6 [01:20<00:00, 13.49s/it]\u001B[A\u001B[A\n",
      "\n",
      "Rounds (+ Summary Round):  50%|█████     | 2/4 [02:12<02:17, 68.92s/it]\u001B[A\n",
      "\n",
      "Team Members:   0%|          | 0/6 [00:00<?, ?it/s]\u001B[A\u001B[A\n",
      "\n",
      "Team Members:  17%|█▋        | 1/6 [00:23<01:59, 23.93s/it]\u001B[A\u001B[A\n",
      "\n",
      "Team Members:  33%|███▎      | 2/6 [00:38<01:12, 18.24s/it]\u001B[A\u001B[A\n",
      "\n",
      "Team Members:  50%|█████     | 3/6 [00:56<00:54, 18.25s/it]\u001B[A\u001B[A\n",
      "\n",
      "Team Members:  67%|██████▋   | 4/6 [01:12<00:35, 17.56s/it]\u001B[A\u001B[A\n",
      "\n",
      "Team Members:  83%|████████▎ | 5/6 [02:17<00:34, 34.48s/it]\u001B[A\u001B[A\n",
      "\n",
      "Team Members: 100%|██████████| 6/6 [02:30<00:00, 25.11s/it]\u001B[A\u001B[A\n",
      "\n",
      "Rounds (+ Summary Round):  75%|███████▌  | 3/4 [04:43<01:46, 106.23s/it]\u001B[A\n",
      "\n",
      "Team Members:   0%|          | 0/6 [00:20<?, ?it/s]\u001B[A\u001B[A\n",
      "\n",
      "Rounds (+ Summary Round): 100%|██████████| 4/4 [05:03<00:00, 75.84s/it] \u001B[A\n",
      "Project Iterations:  67%|██████▋   | 2/3 [10:29<05:12, 312.78s/it]"
     ]
    },
    {
     "name": "stdout",
     "output_type": "stream",
     "text": [
      "Input token count: 144,603\n",
      "Output token count: 15,113\n",
      "Max token length: 17,270\n",
      "Cost: $0.95\n"
     ]
    },
    {
     "name": "stderr",
     "output_type": "stream",
     "text": [
      "\n",
      "Rounds (+ Summary Round):   0%|          | 0/4 [00:00<?, ?it/s]\u001B[A\n",
      "\n",
      "Team Members:   0%|          | 0/6 [00:00<?, ?it/s]\u001B[A\u001B[A\n",
      "\n",
      "Team Members:  17%|█▋        | 1/6 [00:39<03:18, 39.68s/it]\u001B[A\u001B[A\n",
      "\n",
      "Team Members:  33%|███▎      | 2/6 [00:50<01:31, 22.96s/it]\u001B[A\u001B[A\n",
      "\n",
      "Team Members:  50%|█████     | 3/6 [01:00<00:49, 16.66s/it]\u001B[A\u001B[A\n",
      "\n",
      "Team Members:  67%|██████▋   | 4/6 [01:07<00:26, 13.02s/it]\u001B[A\u001B[A\n",
      "\n",
      "Team Members:  83%|████████▎ | 5/6 [01:17<00:11, 11.85s/it]\u001B[A\u001B[A\n",
      "\n",
      "Team Members: 100%|██████████| 6/6 [01:41<00:00, 16.84s/it]\u001B[A\u001B[A\n",
      "\n",
      "Rounds (+ Summary Round):  25%|██▌       | 1/4 [01:41<05:03, 101.02s/it]\u001B[A\n",
      "\n",
      "Team Members:   0%|          | 0/6 [00:00<?, ?it/s]\u001B[A\u001B[A\n",
      "\n",
      "Team Members:  17%|█▋        | 1/6 [00:14<01:11, 14.28s/it]\u001B[A\u001B[A\n",
      "\n",
      "Team Members:  33%|███▎      | 2/6 [00:20<00:37,  9.46s/it]\u001B[A\u001B[A\n",
      "\n",
      "Team Members:  50%|█████     | 3/6 [00:30<00:29,  9.86s/it]\u001B[A\u001B[A\n",
      "\n",
      "Team Members:  67%|██████▋   | 4/6 [00:43<00:22, 11.14s/it]\u001B[A\u001B[A\n",
      "\n",
      "Team Members:  83%|████████▎ | 5/6 [00:56<00:11, 11.63s/it]\u001B[A\u001B[A\n",
      "\n",
      "Team Members: 100%|██████████| 6/6 [01:13<00:00, 12.32s/it]\u001B[A\u001B[A\n",
      "\n",
      "Rounds (+ Summary Round):  50%|█████     | 2/4 [02:54<02:50, 85.08s/it] \u001B[A\n",
      "\n",
      "Team Members:   0%|          | 0/6 [00:00<?, ?it/s]\u001B[A\u001B[A\n",
      "\n",
      "Team Members:  17%|█▋        | 1/6 [00:20<01:40, 20.07s/it]\u001B[A\u001B[A\n",
      "\n",
      "Team Members:  33%|███▎      | 2/6 [00:41<01:23, 20.85s/it]\u001B[A\u001B[A\n",
      "\n",
      "Team Members:  50%|█████     | 3/6 [01:00<01:00, 20.17s/it]\u001B[A\u001B[A\n",
      "\n",
      "Team Members:  67%|██████▋   | 4/6 [01:17<00:37, 18.84s/it]\u001B[A\u001B[A\n",
      "\n",
      "Team Members:  83%|████████▎ | 5/6 [01:31<00:17, 17.22s/it]\u001B[A\u001B[A\n",
      "\n",
      "Team Members: 100%|██████████| 6/6 [01:53<00:00, 18.87s/it]\u001B[A\u001B[A\n",
      "\n",
      "Rounds (+ Summary Round):  75%|███████▌  | 3/4 [04:48<01:37, 97.92s/it]\u001B[A\n",
      "\n",
      "Team Members:   0%|          | 0/6 [00:20<?, ?it/s]\u001B[A\u001B[A\n",
      "\n",
      "Rounds (+ Summary Round): 100%|██████████| 4/4 [05:08<00:00, 77.23s/it]\u001B[A\n",
      "Project Iterations: 100%|██████████| 3/3 [15:38<00:00, 312.85s/it]"
     ]
    },
    {
     "name": "stdout",
     "output_type": "stream",
     "text": [
      "Input token count: 136,860\n",
      "Output token count: 13,587\n",
      "Max token length: 15,744\n",
      "Cost: $0.89\n"
     ]
    },
    {
     "name": "stderr",
     "output_type": "stream",
     "text": [
      "\n"
     ]
    }
   ],
   "execution_count": 15
  },
  {
   "metadata": {},
   "cell_type": "code",
   "outputs": [],
   "execution_count": null,
   "source": "",
   "id": "577e75fd8fc3c7ad"
  }
 ],
 "metadata": {
  "kernelspec": {
   "display_name": "Python 3",
   "language": "python",
   "name": "python3"
  },
  "language_info": {
   "codemirror_mode": {
    "name": "ipython",
    "version": 2
   },
   "file_extension": ".py",
   "mimetype": "text/x-python",
   "name": "python",
   "nbconvert_exporter": "python",
   "pygments_lexer": "ipython2",
   "version": "2.7.6"
  }
 },
 "nbformat": 4,
 "nbformat_minor": 5
}
