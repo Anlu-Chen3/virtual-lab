{
 "cells": [
  {
   "cell_type": "code",
   "id": "initial_id",
   "metadata": {
    "ExecuteTime": {
     "end_time": "2024-07-18T14:25:11.134258Z",
     "start_time": "2024-07-18T14:25:10.241190Z"
    }
   },
   "source": [
    "from pathlib import Path\n",
    "\n",
    "from tqdm import trange\n",
    "\n",
    "from agent import Agent\n",
    "from prompts import ANTIBODIES_CONTEXTS, ESM_ANTIBODIES_PAPER, PRINCIPAL_INVESTIGATOR\n",
    "from run_individual_meeting import run_individual_meeting\n",
    "from run_scientific_meeting import run_scientific_meeting\n",
    "from utils import load_summaries"
   ],
   "outputs": [],
   "execution_count": 1
  },
  {
   "cell_type": "code",
   "id": "cc186057c8dcc3a8",
   "metadata": {
    "ExecuteTime": {
     "end_time": "2024-07-18T14:25:11.761512Z",
     "start_time": "2024-07-18T14:25:11.758224Z"
    }
   },
   "source": [
    "# Set up key parameters\n",
    "team_lead = PRINCIPAL_INVESTIGATOR\n",
    "num_iterations = 3\n",
    "num_rounds = 3\n",
    "save_dir = Path(\"antibody_design\")\n",
    "model = \"gpt-4o\"\n",
    "discussion_paths = []\n",
    "contexts = ANTIBODIES_CONTEXTS"
   ],
   "outputs": [],
   "execution_count": 2
  },
  {
   "cell_type": "code",
   "id": "c55d79aa92e377b5",
   "metadata": {
    "ExecuteTime": {
     "end_time": "2024-07-18T14:25:12.394005Z",
     "start_time": "2024-07-18T14:25:12.390900Z"
    }
   },
   "source": [
    "# Ask PI to select team members\n",
    "ANTIBODIES_TEAM_PROMPT = \"You are working on a project to develop antibodies for the SARS-CoV-2 spike protein, ideally for the newest variant of the virus and with broad spectrum activity across variants. You need to select a team of scientists to help you with this project. Please select the team members you would like to invite to a discussion to design the antibody discovery approach. For each team member, please specify the following: 1. Title, 2. Expertise, 3. Goal, and 4. Role. Please use your own description as an example.\""
   ],
   "outputs": [],
   "execution_count": 3
  },
  {
   "cell_type": "code",
   "execution_count": 4,
   "id": "50722e4dadc135d8",
   "metadata": {
    "ExecuteTime": {
     "end_time": "2024-07-17T12:56:37.486274Z",
     "start_time": "2024-07-17T12:55:56.257319Z"
    }
   },
   "outputs": [
    {
     "name": "stderr",
     "output_type": "stream",
     "text": [
      "Project Iterations:  33%|███▎      | 1/3 [00:16<00:32, 16.43s/it]"
     ]
    },
    {
     "name": "stdout",
     "output_type": "stream",
     "text": [
      "Input token count: 194\n",
      "Output token count: 704\n",
      "Max token length: 898\n",
      "Cost: $0.01\n",
      "Time: 0:16\n"
     ]
    },
    {
     "name": "stderr",
     "output_type": "stream",
     "text": [
      "Project Iterations:  67%|██████▋   | 2/3 [00:29<00:14, 14.23s/it]"
     ]
    },
    {
     "name": "stdout",
     "output_type": "stream",
     "text": [
      "Input token count: 194\n",
      "Output token count: 623\n",
      "Max token length: 817\n",
      "Cost: $0.01\n",
      "Time: 0:12\n"
     ]
    },
    {
     "name": "stderr",
     "output_type": "stream",
     "text": [
      "Project Iterations: 100%|██████████| 3/3 [00:41<00:00, 13.73s/it]"
     ]
    },
    {
     "name": "stdout",
     "output_type": "stream",
     "text": [
      "Input token count: 194\n",
      "Output token count: 622\n",
      "Max token length: 816\n",
      "Cost: $0.01\n",
      "Time: 0:12\n"
     ]
    },
    {
     "name": "stderr",
     "output_type": "stream",
     "text": [
      "\n"
     ]
    }
   ],
   "source": [
    "# Select team members\n",
    "for iteration_num in trange(num_iterations, desc=\"Project Iterations\"):\n",
    "    run_individual_meeting(\n",
    "        team_member=team_lead,\n",
    "        agenda=ANTIBODIES_TEAM_PROMPT,\n",
    "        save_dir=save_dir / \"team_selection\",\n",
    "        save_name=f\"discussion_{iteration_num + 1}\",\n",
    "        contexts=contexts,\n",
    "        model=model,\n",
    "    )"
   ]
  },
  {
   "cell_type": "code",
   "id": "3d9186ce198c1b0b",
   "metadata": {
    "ExecuteTime": {
     "end_time": "2024-07-18T14:25:14.934923Z",
     "start_time": "2024-07-18T14:25:14.929440Z"
    }
   },
   "source": [
    "# Add team members based on discussion 2\n",
    "COMPUTATIONAL_BIOLOGIST = Agent(\n",
    "    title=\"Computational Biologist\",\n",
    "    expertise=\"bioinformatics, protein structure prediction, and molecular dynamics simulations\",\n",
    "    goal=\"to identify potential antibody candidates using computational methods and predict their binding affinity to the SARS-CoV-2 spike protein\",\n",
    "    role=\"to run in silico screenings of antibody libraries, modeling antibody-spike protein interactions, and providing a shortlist of promising candidates for experimental validation\",\n",
    ")\n",
    "IMMUNOLOGIST = Agent(\n",
    "    title=\"Immunologist\",\n",
    "    expertise=\"immune response mechanisms, antibody generation, and characterization\",\n",
    "    goal=\"to guide the selection of antibody candidates based on immunological principles and ensure the candidates have the potential for broad-spectrum activity\",\n",
    "    role=\"to provide insights into the immune response to SARS-CoV-2, help design the antibody generation strategy, and interpret the results from binding and neutralization assays\",\n",
    ")\n",
    "STRUCTURAL_BIOLOGIST = Agent(\n",
    "    title=\"Structural Biologist\",\n",
    "    expertise=\"X-ray crystallography, cryo-electron microscopy (cryo-EM), and protein structure determination\",\n",
    "    goal=\"to determine the high-resolution structures of antibody-spike protein complexes to understand the binding mechanisms and improve antibody design\",\n",
    "    role=\"to solve the structures of selected antibody-spike protein complexes and providing structural insights to refine antibody candidates\",\n",
    ")\n",
    "VIROLOGIST = Agent(\n",
    "    title=\"Virologist\",\n",
    "    expertise=\"SARS-CoV-2 biology, viral entry mechanisms, and neutralization assays\",\n",
    "    goal=\"to validate the neutralizing activity of antibody candidates against SARS-CoV-2 and its variants\",\n",
    "    role=\"to oversee the design and execution of neutralization assays, interpret the results, and ensure that the selected antibodies are effective against multiple variants of the virus\",\n",
    ")\n",
    "DATA_SCIENTIST = Agent(\n",
    "    title=\"Data Scientist\",\n",
    "    expertise=\"machine learning, data analysis, and predictive modeling\",\n",
    "    goal=\"to develop and apply machine learning models to predict the efficacy and broad-spectrum activity of antibody candidates\",\n",
    "    role=\"to analyze experimental data, develop predictive models, and integrate data from various sources to guide the selection and optimization of antibody candidates\",\n",
    ")\n",
    "EXPERIMENTAL_BIOLOGIST = Agent(\n",
    "    title=\"Experimental Biologist\",\n",
    "    expertise=\"antibody engineering, protein expression, and purification\",\n",
    "    goal=\"to produce and characterize the antibody candidates identified through computational and immunological methods\",\n",
    "    role=\"to express, purify, and initially characterize antibody candidates, as well as to prepare samples for binding and neutralization assays\",\n",
    ")\n",
    "\n",
    "team_members = (\n",
    "    COMPUTATIONAL_BIOLOGIST,\n",
    "    IMMUNOLOGIST,\n",
    "    STRUCTURAL_BIOLOGIST,\n",
    "    VIROLOGIST,\n",
    "    DATA_SCIENTIST,\n",
    "    EXPERIMENTAL_BIOLOGIST,\n",
    ")"
   ],
   "outputs": [],
   "execution_count": 4
  },
  {
   "cell_type": "code",
   "id": "9df84a9e45d31bbe",
   "metadata": {
    "ExecuteTime": {
     "end_time": "2024-07-18T14:25:15.774964Z",
     "start_time": "2024-07-18T14:25:15.771652Z"
    }
   },
   "source": [
    "ANTIBODIES_PROMPT = \"You are working on a project to develop antibodies for the SARS-CoV-2 spike protein, ideally for the newest variant of the virus and with broad spectrum activity across variants. Please design a specific antibody discovery approach for this target that uses machine learning to design antibody candidates. Decide what specific machine learning model to use and precisely how it will be used. If the model needs to be trained, please decide on a specific dataset for training. If the model is pre-trained, please explain exactly how it will be used for identifying or designing antibody candidates.\""
   ],
   "outputs": [],
   "execution_count": 5
  },
  {
   "cell_type": "code",
   "id": "e05becb99e5e609a",
   "metadata": {
    "ExecuteTime": {
     "end_time": "2024-07-18T14:25:15.917202Z",
     "start_time": "2024-07-18T14:25:15.913828Z"
    }
   },
   "source": [
    "ANTIBODIES_QUESTIONS = (\n",
    "    \"Will you design the antibodies de novo or will you modify existing antibodies?\",\n",
    "    \"Will you train a model from scratch or use a pre-trained model?\",\n",
    "    \"What specific model architecture will you use?\",\n",
    "    \"If training a model, what dataset will you use for training?\",\n",
    "    \"How exactly will you use your model to design antibodies?\"\n",
    ")"
   ],
   "outputs": [],
   "execution_count": 6
  },
  {
   "cell_type": "code",
   "execution_count": null,
   "id": "9ff509ba8824b8ac",
   "metadata": {},
   "outputs": [],
   "source": [
    "# Run antibodies project design\n",
    "for iteration_num in trange(num_iterations, desc=\"Project Iterations\"):\n",
    "    run_scientific_meeting(\n",
    "        team_lead=team_lead,\n",
    "        team_members=team_members,\n",
    "        agenda=ANTIBODIES_PROMPT,\n",
    "        agenda_questions=ANTIBODIES_QUESTIONS,\n",
    "        contexts=contexts,\n",
    "        save_dir=save_dir / \"project_design\",\n",
    "        save_name=f\"discussion_{iteration_num + 1}\",\n",
    "        num_rounds=num_rounds,\n",
    "        model=model,\n",
    "    )"
   ]
  },
  {
   "cell_type": "code",
   "id": "5e92ab15bd805227",
   "metadata": {
    "ExecuteTime": {
     "end_time": "2024-07-18T14:25:17.966286Z",
     "start_time": "2024-07-18T14:25:17.963106Z"
    }
   },
   "source": [
    "ESM_PROMPT = \"You are working on a project to develop antibodies for the SARS-CoV-2 spike protein, ideally for the newest variant of the virus and with broad spectrum activity across variants. You will use the ESM family of models for antibody design. Please design a method for applying ESM to this antibody design problem. Specify the exact model you will use and how you will use it to design antibodies.\""
   ],
   "outputs": [],
   "execution_count": 7
  },
  {
   "cell_type": "code",
   "id": "60e56ffd99094aa8",
   "metadata": {
    "ExecuteTime": {
     "end_time": "2024-07-18T14:25:18.330792Z",
     "start_time": "2024-07-18T14:25:18.327589Z"
    }
   },
   "source": [
    "ESM_QUESTIONS = (\n",
    "    \"Which ESM model will you use?\"\n",
    "    \"Will you design the antibodies de novo or will you modify existing antibodies?\",\n",
    "    \"If modifying existing antibodies, which precise antibody or antibodies will you modify?\",\n",
    "    \"How exactly will you use your model to design antibodies?\",\n",
    "    \"What is the precise process for designing antibodies and selecting candidates for experimental validation?\",\n",
    "    \"How will you computationally evaluate the quality of the design antibodies?\",\n",
    "    \"What objectives will you optimize for in the design process?\",\n",
    ")"
   ],
   "outputs": [],
   "execution_count": 8
  },
  {
   "cell_type": "code",
   "execution_count": null,
   "id": "dae1d0dd152e5d10",
   "metadata": {},
   "outputs": [],
   "source": [
    "# Run ESM project design\n",
    "for iteration_num in trange(num_iterations, desc=\"Project Iterations\"):\n",
    "    run_scientific_meeting(\n",
    "        team_lead=team_lead,\n",
    "        team_members=team_members,\n",
    "        agenda=ESM_PROMPT,\n",
    "        agenda_questions=ESM_QUESTIONS,\n",
    "        contexts=contexts,\n",
    "        save_dir=save_dir / \"esm\",\n",
    "        save_name=f\"discussion_{iteration_num + 1}\",\n",
    "        num_rounds=num_rounds,\n",
    "        model=model,\n",
    "    )"
   ]
  },
  {
   "cell_type": "code",
   "id": "6820479c8a799387",
   "metadata": {
    "ExecuteTime": {
     "end_time": "2024-07-18T14:25:20.823106Z",
     "start_time": "2024-07-18T14:25:20.820061Z"
    }
   },
   "source": [
    "# Select preferred summary\n",
    "discussion_paths.append(save_dir / \"esm\" / \"discussion_2.json\")"
   ],
   "outputs": [],
   "execution_count": 9
  },
  {
   "cell_type": "code",
   "id": "95e1def52435ccde",
   "metadata": {
    "ExecuteTime": {
     "end_time": "2024-07-18T14:25:20.978888Z",
     "start_time": "2024-07-18T14:25:20.974842Z"
    }
   },
   "source": [
    "# Load summaries\n",
    "summaries = load_summaries(discussion_paths=discussion_paths)"
   ],
   "outputs": [],
   "execution_count": 10
  },
  {
   "cell_type": "code",
   "id": "f2f33a271c2f01b",
   "metadata": {
    "ExecuteTime": {
     "end_time": "2024-07-18T14:25:21.082157Z",
     "start_time": "2024-07-18T14:25:21.078937Z"
    }
   },
   "source": [
    "ESM_IMPLEMENT_PROMPT = \"You now need to implement an ESM-based approach for antibody design. Please write code to implement the method you designed in the previous discussion. Your code must be self-contained (with appropriate imports), and you must explain how the code works.\""
   ],
   "outputs": [],
   "execution_count": 11
  },
  {
   "cell_type": "code",
   "execution_count": null,
   "id": "192e881f6b4281f7",
   "metadata": {},
   "outputs": [],
   "source": [
    "# Run ESM implement\n",
    "for iteration_num in trange(num_iterations, desc=\"Project Iterations\"):\n",
    "    run_individual_meeting(\n",
    "        team_member=DATA_SCIENTIST,\n",
    "        agenda=ESM_IMPLEMENT_PROMPT,\n",
    "        summaries=summaries,\n",
    "        contexts=contexts,\n",
    "        save_dir=save_dir / \"esm_implement\",\n",
    "        save_name=f\"discussion_{iteration_num + 1}\",\n",
    "        model=model,\n",
    "    )"
   ]
  },
  {
   "cell_type": "code",
   "id": "dddc671ef8afa0ff",
   "metadata": {
    "ExecuteTime": {
     "end_time": "2024-07-18T14:38:08.846423Z",
     "start_time": "2024-07-18T14:38:08.842662Z"
    }
   },
   "source": "ESM_REIMPLEMENT_PROMPT = f\"Above is the full text from a recent scientific paper describing the use of ESM, a pre-trained protein language model, to design antibodies. Please read the paper and then describe how to reproduce the results in the paper. {PRINCIPAL_INVESTIGATOR}, please delegate different aspects of the task to your team members based on their expertise. Team members, please provide complete, specific detail (no missing information) for how to reproduce your assigned portion of the paper. This could be a step-by-step set of instructions or experimental protocol or a complete, fully runnable Python script. Alongside your procedure, you must quote directly from the paper to explain each aspect of your procedure. {PRINCIPAL_INVESTIGATOR}, at the end of the discussion in your summary, please describe how to fully reproduce the paper by combining the procedures outlined by each of your team members.\"",
   "outputs": [],
   "execution_count": 16
  },
  {
   "cell_type": "code",
   "id": "4d37bbb7f907d18c",
   "metadata": {
    "ExecuteTime": {
     "end_time": "2024-07-18T14:38:09.148067Z",
     "start_time": "2024-07-18T14:38:09.144467Z"
    }
   },
   "source": [
    "ESM_REIMPLEMENT_QUESTIONS = (\n",
    "    \"How will you obtain the antibody sequences that were evolved in the paper?\",\n",
    "    \"What portion of these sequences will you evolve in order to match the paper?\",\n",
    "    \"How will you computationally evolve these sequences using the same methods as in the paper?\",\n",
    "    \"How will you experimentally validate the designed antibodies using the same methods as in the paper?\",\n",
    ")"
   ],
   "outputs": [],
   "execution_count": 17
  },
  {
   "cell_type": "code",
   "id": "c18fb1df59bc8fe8",
   "metadata": {
    "ExecuteTime": {
     "end_time": "2024-07-18T14:38:09.456711Z",
     "start_time": "2024-07-18T14:38:09.453719Z"
    }
   },
   "source": [
    "ESM_REIMPLEMENT_TEAM = (\n",
    "    VIROLOGIST,\n",
    "    IMMUNOLOGIST,\n",
    "    DATA_SCIENTIST,\n",
    "    EXPERIMENTAL_BIOLOGIST,\n",
    ")"
   ],
   "outputs": [],
   "execution_count": 18
  },
  {
   "cell_type": "code",
   "id": "56200caa2157af69",
   "metadata": {
    "ExecuteTime": {
     "end_time": "2024-07-18T14:43:27.021579Z",
     "start_time": "2024-07-18T14:38:09.800049Z"
    }
   },
   "source": [
    "# Run ESM reimplement\n",
    "for iteration_num in trange(num_iterations, desc=\"Project Iterations\"):\n",
    "    run_scientific_meeting(\n",
    "        team_lead=team_lead,\n",
    "        team_members=ESM_REIMPLEMENT_TEAM,\n",
    "        agenda=ESM_REIMPLEMENT_PROMPT,\n",
    "        agenda_questions=ESM_REIMPLEMENT_QUESTIONS,\n",
    "        contexts=(ESM_ANTIBODIES_PAPER,),\n",
    "        save_dir=save_dir / \"esm_reimplement\",\n",
    "        save_name=f\"discussion_{iteration_num + 1}\",\n",
    "        num_rounds=1,\n",
    "        model=model,\n",
    "    )"
   ],
   "outputs": [
    {
     "name": "stderr",
     "output_type": "stream",
     "text": [
      "Project Iterations:   0%|          | 0/3 [00:00<?, ?it/s]\n",
      "Rounds (+ Summary Round):   0%|          | 0/2 [00:00<?, ?it/s]\u001B[A\n",
      "\n",
      "Team:   0%|          | 0/5 [00:00<?, ?it/s]\u001B[A\u001B[A\n",
      "\n",
      "Team:  20%|██        | 1/5 [00:10<00:41, 10.30s/it]\u001B[A\u001B[A\n",
      "\n",
      "Team:  40%|████      | 2/5 [00:28<00:44, 14.90s/it]\u001B[A\u001B[A\n",
      "\n",
      "Team:  60%|██████    | 3/5 [00:37<00:24, 12.03s/it]\u001B[A\u001B[A\n",
      "\n",
      "Team:  80%|████████  | 4/5 [00:55<00:14, 14.51s/it]\u001B[A\u001B[A\n",
      "\n",
      "Team: 100%|██████████| 5/5 [01:19<00:00, 15.88s/it]\u001B[A\u001B[A\n",
      "\n",
      "Rounds (+ Summary Round):  50%|█████     | 1/2 [01:19<01:19, 79.43s/it]\u001B[A\n",
      "\n",
      "Team:   0%|          | 0/5 [00:25<?, ?it/s]\u001B[A\u001B[A\n",
      "\n",
      "Rounds (+ Summary Round): 100%|██████████| 2/2 [01:45<00:00, 52.61s/it]\u001B[A\n",
      "Project Iterations:  33%|███▎      | 1/3 [01:45<03:30, 105.23s/it]"
     ]
    },
    {
     "name": "stdout",
     "output_type": "stream",
     "text": [
      "Input token count: 158,223\n",
      "Output token count: 3,951\n",
      "Max token length: 29,706\n",
      "Cost: $0.85\n",
      "Time: 1:45\n"
     ]
    },
    {
     "name": "stderr",
     "output_type": "stream",
     "text": [
      "\n",
      "Rounds (+ Summary Round):   0%|          | 0/2 [00:00<?, ?it/s]\u001B[A\n",
      "\n",
      "Team:   0%|          | 0/5 [00:00<?, ?it/s]\u001B[A\u001B[A\n",
      "\n",
      "Team:  20%|██        | 1/5 [00:10<00:42, 10.65s/it]\u001B[A\u001B[A\n",
      "\n",
      "Team:  40%|████      | 2/5 [00:18<00:27,  9.25s/it]\u001B[A\u001B[A\n",
      "\n",
      "Team:  60%|██████    | 3/5 [00:30<00:20, 10.27s/it]\u001B[A\u001B[A\n",
      "\n",
      "Team:  80%|████████  | 4/5 [00:48<00:13, 13.41s/it]\u001B[A\u001B[A\n",
      "\n",
      "Team: 100%|██████████| 5/5 [01:16<00:00, 15.22s/it]\u001B[A\u001B[A\n",
      "\n",
      "Rounds (+ Summary Round):  50%|█████     | 1/2 [01:16<01:16, 76.09s/it]\u001B[A\n",
      "\n",
      "Team:   0%|          | 0/5 [00:32<?, ?it/s]\u001B[A\u001B[A\n",
      "\n",
      "Rounds (+ Summary Round): 100%|██████████| 2/2 [01:48<00:00, 54.33s/it]\u001B[A\n",
      "Project Iterations:  67%|██████▋   | 2/3 [03:33<01:47, 107.25s/it]"
     ]
    },
    {
     "name": "stdout",
     "output_type": "stream",
     "text": [
      "Input token count: 160,175\n",
      "Output token count: 4,945\n",
      "Max token length: 30,700\n",
      "Cost: $0.88\n",
      "Time: 1:48\n"
     ]
    },
    {
     "name": "stderr",
     "output_type": "stream",
     "text": [
      "\n",
      "Rounds (+ Summary Round):   0%|          | 0/2 [00:00<?, ?it/s]\u001B[A\n",
      "\n",
      "Team:   0%|          | 0/5 [00:00<?, ?it/s]\u001B[A\u001B[A\n",
      "\n",
      "Team:  20%|██        | 1/5 [00:09<00:37,  9.30s/it]\u001B[A\u001B[A\n",
      "\n",
      "Team:  40%|████      | 2/5 [00:23<00:36, 12.02s/it]\u001B[A\u001B[A\n",
      "\n",
      "Team:  60%|██████    | 3/5 [00:36<00:24, 12.42s/it]\u001B[A\u001B[A\n",
      "\n",
      "Team:  80%|████████  | 4/5 [00:52<00:14, 14.03s/it]\u001B[A\u001B[A\n",
      "\n",
      "Team: 100%|██████████| 5/5 [01:19<00:00, 15.97s/it]\u001B[A\u001B[A\n",
      "\n",
      "Rounds (+ Summary Round):  50%|█████     | 1/2 [01:19<01:19, 79.87s/it]\u001B[A\n",
      "\n",
      "Team:   0%|          | 0/5 [00:23<?, ?it/s]\u001B[A\u001B[A\n",
      "\n",
      "Rounds (+ Summary Round): 100%|██████████| 2/2 [01:43<00:00, 51.66s/it]\u001B[A\n",
      "Project Iterations: 100%|██████████| 3/3 [05:17<00:00, 105.74s/it]"
     ]
    },
    {
     "name": "stdout",
     "output_type": "stream",
     "text": [
      "Input token count: 160,730\n",
      "Output token count: 4,627\n",
      "Max token length: 30,382\n",
      "Cost: $0.87\n",
      "Time: 1:43\n"
     ]
    },
    {
     "name": "stderr",
     "output_type": "stream",
     "text": [
      "\n"
     ]
    }
   ],
   "execution_count": 19
  },
  {
   "cell_type": "code",
   "execution_count": null,
   "id": "4bd1460aa7ebe386",
   "metadata": {},
   "outputs": [],
   "source": [
    "# TODO: extend beyond ESM paper after reimplementation is successful"
   ]
  }
 ],
 "metadata": {
  "kernelspec": {
   "display_name": "Python 3 (ipykernel)",
   "language": "python",
   "name": "python3"
  },
  "language_info": {
   "codemirror_mode": {
    "name": "ipython",
    "version": 3
   },
   "file_extension": ".py",
   "mimetype": "text/x-python",
   "name": "python",
   "nbconvert_exporter": "python",
   "pygments_lexer": "ipython3",
   "version": "3.12.4"
  }
 },
 "nbformat": 4,
 "nbformat_minor": 5
}
